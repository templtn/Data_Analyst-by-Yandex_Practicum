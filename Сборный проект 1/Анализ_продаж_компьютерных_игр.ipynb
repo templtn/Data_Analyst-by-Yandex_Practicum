{
 "cells": [
  {
   "cell_type": "markdown",
   "metadata": {},
   "source": [
    "# Анализ продаж компьютерных игр"
   ]
  },
  {
   "cell_type": "markdown",
   "metadata": {
    "toc": true
   },
   "source": [
    "<h1>Содержание:<span class=\"tocSkip\"></span></h1>\n",
    "<div class=\"toc\"><ul class=\"toc-item\"><li><span><a href=\"#Изучение-данных-из-файла\" data-toc-modified-id=\"Изучение-данных-из-файла-1\"><span class=\"toc-item-num\">1&nbsp;&nbsp;</span>Изучение данных из файла</a></span></li><li><span><a href=\"#Предобработка-данных\" data-toc-modified-id=\"Предобработка-данных-2\"><span class=\"toc-item-num\">2&nbsp;&nbsp;</span>Предобработка данных</a></span></li><li><span><a href=\"#Исследовательский-анализ\" data-toc-modified-id=\"Исследовательский-анализ-3\"><span class=\"toc-item-num\">3&nbsp;&nbsp;</span>Исследовательский анализ</a></span><ul class=\"toc-item\"><li><span><a href=\"#Cколько-игр-выпускалось-в-разные-годы?-Важны-ли-данные-за-все-периоды?\" data-toc-modified-id=\"Cколько-игр-выпускалось-в-разные-годы?-Важны-ли-данные-за-все-периоды?-3.1\"><span class=\"toc-item-num\">3.1&nbsp;&nbsp;</span>Cколько игр выпускалось в разные годы? Важны ли данные за все периоды?</a></span></li><li><span><a href=\"#Актуальные-платформы\" data-toc-modified-id=\"Актуальные-платформы-3.2\"><span class=\"toc-item-num\">3.2&nbsp;&nbsp;</span>Актуальные платформы</a></span></li><li><span><a href=\"#Актуальный-период\" data-toc-modified-id=\"Актуальный-период-3.3\"><span class=\"toc-item-num\">3.3&nbsp;&nbsp;</span>Актуальный период</a></span></li><li><span><a href=\"#Потенциально-прибыльные-платформы\" data-toc-modified-id=\"Потенциально-прибыльные-платформы-3.4\"><span class=\"toc-item-num\">3.4&nbsp;&nbsp;</span>Потенциально прибыльные платформы</a></span></li><li><span><a href=\"#Глобальные-продажи-игр-по-платформам\" data-toc-modified-id=\"Глобальные-продажи-игр-по-платформам-3.5\"><span class=\"toc-item-num\">3.5&nbsp;&nbsp;</span>Глобальные продажи игр по платформам</a></span></li><li><span><a href=\"#Влияние-отзывов-пользователей-и-критиков-на-продажи\" data-toc-modified-id=\"Влияние-отзывов-пользователей-и-критиков-на-продажи-3.6\"><span class=\"toc-item-num\">3.6&nbsp;&nbsp;</span>Влияние отзывов пользователей и критиков на продажи</a></span></li><li><span><a href=\"#Самые-прибыльные-жанры-игр\" data-toc-modified-id=\"Самые-прибыльные-жанры-игр-3.7\"><span class=\"toc-item-num\">3.7&nbsp;&nbsp;</span>Самые прибыльные жанры игр</a></span></li></ul></li><li><span><a href=\"#Описание-пользователей-по-регионам\" data-toc-modified-id=\"Описание-пользователей-по-регионам-4\"><span class=\"toc-item-num\">4&nbsp;&nbsp;</span>Описание пользователей по регионам</a></span><ul class=\"toc-item\"><li><span><a href=\"#Самые-популярные-платформы-(топ---5)\" data-toc-modified-id=\"Самые-популярные-платформы-(топ---5)-4.1\"><span class=\"toc-item-num\">4.1&nbsp;&nbsp;</span>Самые популярные платформы (топ - 5)</a></span></li><li><span><a href=\"#Самые-популярные-жанры-(топ-5)\" data-toc-modified-id=\"Самые-популярные-жанры-(топ-5)-4.2\"><span class=\"toc-item-num\">4.2&nbsp;&nbsp;</span>Самые популярные жанры (топ-5)</a></span></li><li><span><a href=\"#Влияние-рейтинга-ESRB-на-продажи\" data-toc-modified-id=\"Влияние-рейтинга-ESRB-на-продажи-4.3\"><span class=\"toc-item-num\">4.3&nbsp;&nbsp;</span>Влияние рейтинга ESRB на продажи</a></span></li></ul></li><li><span><a href=\"#Проверка-гипотез\" data-toc-modified-id=\"Проверка-гипотез-5\"><span class=\"toc-item-num\">5&nbsp;&nbsp;</span>Проверка гипотез</a></span><ul class=\"toc-item\"><li><span><a href=\"#Средние-пользовательские-рейтинги-платформ-Xbox-One-и-PC\" data-toc-modified-id=\"Средние-пользовательские-рейтинги-платформ-Xbox-One-и-PC-5.1\"><span class=\"toc-item-num\">5.1&nbsp;&nbsp;</span>Средние пользовательские рейтинги платформ Xbox One и PC</a></span></li><li><span><a href=\"#Средние-пользовательские-рейтинги-жанров-Action-и-Sports\" data-toc-modified-id=\"Средние-пользовательские-рейтинги-жанров-Action-и-Sports-5.2\"><span class=\"toc-item-num\">5.2&nbsp;&nbsp;</span>Средние пользовательские рейтинги жанров Action и Sports</a></span></li></ul></li><li><span><a href=\"#Общий-вывод\" data-toc-modified-id=\"Общий-вывод-6\"><span class=\"toc-item-num\">6&nbsp;&nbsp;</span>Общий вывод</a></span></li></ul></div>"
   ]
  },
  {
   "cell_type": "markdown",
   "metadata": {},
   "source": [
    "## Изучение данных из файла"
   ]
  },
  {
   "cell_type": "code",
   "execution_count": 1,
   "metadata": {},
   "outputs": [],
   "source": [
    "import pandas as pd\n",
    "import matplotlib.pyplot as plt\n",
    "import seaborn as sns\n",
    "import numpy as np\n",
    "from scipy import stats as st"
   ]
  },
  {
   "cell_type": "code",
   "execution_count": 2,
   "metadata": {},
   "outputs": [],
   "source": [
    "df = pd.read_csv('/datasets/games.csv')"
   ]
  },
  {
   "cell_type": "markdown",
   "metadata": {},
   "source": [
    "Функция для подсчета пропусков в каждом столбце"
   ]
  },
  {
   "cell_type": "code",
   "execution_count": 3,
   "metadata": {},
   "outputs": [],
   "source": [
    "def first_look (df):\n",
    "    \n",
    "  for element in df.columns:\n",
    "    if df[element].isna().sum() > 0: \n",
    "      print(element, ' - ', df[element].isna().sum(), 'пропусков')\n",
    "      count = +1\n",
    "  if count == 0:\n",
    "\n",
    "    print('Дубликатов: ', df.duplicated().sum())\n",
    "  else:\n",
    "    print('Дубликатов НЕТ')"
   ]
  },
  {
   "cell_type": "code",
   "execution_count": 4,
   "metadata": {},
   "outputs": [
    {
     "name": "stdout",
     "output_type": "stream",
     "text": [
      "Name  -  2 пропусков\n",
      "Year_of_Release  -  269 пропусков\n",
      "Genre  -  2 пропусков\n",
      "Critic_Score  -  8578 пропусков\n",
      "User_Score  -  6701 пропусков\n",
      "Rating  -  6766 пропусков\n",
      "Дубликатов НЕТ\n"
     ]
    }
   ],
   "source": [
    "first_look(df)"
   ]
  },
  {
   "cell_type": "markdown",
   "metadata": {},
   "source": [
    "Посмотрим на типы данных"
   ]
  },
  {
   "cell_type": "code",
   "execution_count": 5,
   "metadata": {},
   "outputs": [
    {
     "name": "stdout",
     "output_type": "stream",
     "text": [
      "<class 'pandas.core.frame.DataFrame'>\n",
      "RangeIndex: 16715 entries, 0 to 16714\n",
      "Data columns (total 11 columns):\n",
      " #   Column           Non-Null Count  Dtype  \n",
      "---  ------           --------------  -----  \n",
      " 0   Name             16713 non-null  object \n",
      " 1   Platform         16715 non-null  object \n",
      " 2   Year_of_Release  16446 non-null  float64\n",
      " 3   Genre            16713 non-null  object \n",
      " 4   NA_sales         16715 non-null  float64\n",
      " 5   EU_sales         16715 non-null  float64\n",
      " 6   JP_sales         16715 non-null  float64\n",
      " 7   Other_sales      16715 non-null  float64\n",
      " 8   Critic_Score     8137 non-null   float64\n",
      " 9   User_Score       10014 non-null  object \n",
      " 10  Rating           9949 non-null   object \n",
      "dtypes: float64(6), object(5)\n",
      "memory usage: 1.4+ MB\n"
     ]
    }
   ],
   "source": [
    "df.info()"
   ]
  },
  {
   "cell_type": "code",
   "execution_count": 6,
   "metadata": {},
   "outputs": [
    {
     "data": {
      "text/html": [
       "<div>\n",
       "<style scoped>\n",
       "    .dataframe tbody tr th:only-of-type {\n",
       "        vertical-align: middle;\n",
       "    }\n",
       "\n",
       "    .dataframe tbody tr th {\n",
       "        vertical-align: top;\n",
       "    }\n",
       "\n",
       "    .dataframe thead th {\n",
       "        text-align: right;\n",
       "    }\n",
       "</style>\n",
       "<table border=\"1\" class=\"dataframe\">\n",
       "  <thead>\n",
       "    <tr style=\"text-align: right;\">\n",
       "      <th></th>\n",
       "      <th>Name</th>\n",
       "      <th>Platform</th>\n",
       "      <th>Year_of_Release</th>\n",
       "      <th>Genre</th>\n",
       "      <th>NA_sales</th>\n",
       "      <th>EU_sales</th>\n",
       "      <th>JP_sales</th>\n",
       "      <th>Other_sales</th>\n",
       "      <th>Critic_Score</th>\n",
       "      <th>User_Score</th>\n",
       "      <th>Rating</th>\n",
       "    </tr>\n",
       "  </thead>\n",
       "  <tbody>\n",
       "    <tr>\n",
       "      <th>0</th>\n",
       "      <td>Wii Sports</td>\n",
       "      <td>Wii</td>\n",
       "      <td>2006.0</td>\n",
       "      <td>Sports</td>\n",
       "      <td>41.36</td>\n",
       "      <td>28.96</td>\n",
       "      <td>3.77</td>\n",
       "      <td>8.45</td>\n",
       "      <td>76.0</td>\n",
       "      <td>8</td>\n",
       "      <td>E</td>\n",
       "    </tr>\n",
       "    <tr>\n",
       "      <th>1</th>\n",
       "      <td>Super Mario Bros.</td>\n",
       "      <td>NES</td>\n",
       "      <td>1985.0</td>\n",
       "      <td>Platform</td>\n",
       "      <td>29.08</td>\n",
       "      <td>3.58</td>\n",
       "      <td>6.81</td>\n",
       "      <td>0.77</td>\n",
       "      <td>NaN</td>\n",
       "      <td>NaN</td>\n",
       "      <td>NaN</td>\n",
       "    </tr>\n",
       "    <tr>\n",
       "      <th>2</th>\n",
       "      <td>Mario Kart Wii</td>\n",
       "      <td>Wii</td>\n",
       "      <td>2008.0</td>\n",
       "      <td>Racing</td>\n",
       "      <td>15.68</td>\n",
       "      <td>12.76</td>\n",
       "      <td>3.79</td>\n",
       "      <td>3.29</td>\n",
       "      <td>82.0</td>\n",
       "      <td>8.3</td>\n",
       "      <td>E</td>\n",
       "    </tr>\n",
       "    <tr>\n",
       "      <th>3</th>\n",
       "      <td>Wii Sports Resort</td>\n",
       "      <td>Wii</td>\n",
       "      <td>2009.0</td>\n",
       "      <td>Sports</td>\n",
       "      <td>15.61</td>\n",
       "      <td>10.93</td>\n",
       "      <td>3.28</td>\n",
       "      <td>2.95</td>\n",
       "      <td>80.0</td>\n",
       "      <td>8</td>\n",
       "      <td>E</td>\n",
       "    </tr>\n",
       "    <tr>\n",
       "      <th>4</th>\n",
       "      <td>Pokemon Red/Pokemon Blue</td>\n",
       "      <td>GB</td>\n",
       "      <td>1996.0</td>\n",
       "      <td>Role-Playing</td>\n",
       "      <td>11.27</td>\n",
       "      <td>8.89</td>\n",
       "      <td>10.22</td>\n",
       "      <td>1.00</td>\n",
       "      <td>NaN</td>\n",
       "      <td>NaN</td>\n",
       "      <td>NaN</td>\n",
       "    </tr>\n",
       "    <tr>\n",
       "      <th>5</th>\n",
       "      <td>Tetris</td>\n",
       "      <td>GB</td>\n",
       "      <td>1989.0</td>\n",
       "      <td>Puzzle</td>\n",
       "      <td>23.20</td>\n",
       "      <td>2.26</td>\n",
       "      <td>4.22</td>\n",
       "      <td>0.58</td>\n",
       "      <td>NaN</td>\n",
       "      <td>NaN</td>\n",
       "      <td>NaN</td>\n",
       "    </tr>\n",
       "    <tr>\n",
       "      <th>6</th>\n",
       "      <td>New Super Mario Bros.</td>\n",
       "      <td>DS</td>\n",
       "      <td>2006.0</td>\n",
       "      <td>Platform</td>\n",
       "      <td>11.28</td>\n",
       "      <td>9.14</td>\n",
       "      <td>6.50</td>\n",
       "      <td>2.88</td>\n",
       "      <td>89.0</td>\n",
       "      <td>8.5</td>\n",
       "      <td>E</td>\n",
       "    </tr>\n",
       "    <tr>\n",
       "      <th>7</th>\n",
       "      <td>Wii Play</td>\n",
       "      <td>Wii</td>\n",
       "      <td>2006.0</td>\n",
       "      <td>Misc</td>\n",
       "      <td>13.96</td>\n",
       "      <td>9.18</td>\n",
       "      <td>2.93</td>\n",
       "      <td>2.84</td>\n",
       "      <td>58.0</td>\n",
       "      <td>6.6</td>\n",
       "      <td>E</td>\n",
       "    </tr>\n",
       "    <tr>\n",
       "      <th>8</th>\n",
       "      <td>New Super Mario Bros. Wii</td>\n",
       "      <td>Wii</td>\n",
       "      <td>2009.0</td>\n",
       "      <td>Platform</td>\n",
       "      <td>14.44</td>\n",
       "      <td>6.94</td>\n",
       "      <td>4.70</td>\n",
       "      <td>2.24</td>\n",
       "      <td>87.0</td>\n",
       "      <td>8.4</td>\n",
       "      <td>E</td>\n",
       "    </tr>\n",
       "    <tr>\n",
       "      <th>9</th>\n",
       "      <td>Duck Hunt</td>\n",
       "      <td>NES</td>\n",
       "      <td>1984.0</td>\n",
       "      <td>Shooter</td>\n",
       "      <td>26.93</td>\n",
       "      <td>0.63</td>\n",
       "      <td>0.28</td>\n",
       "      <td>0.47</td>\n",
       "      <td>NaN</td>\n",
       "      <td>NaN</td>\n",
       "      <td>NaN</td>\n",
       "    </tr>\n",
       "  </tbody>\n",
       "</table>\n",
       "</div>"
      ],
      "text/plain": [
       "                        Name Platform  Year_of_Release         Genre  \\\n",
       "0                 Wii Sports      Wii           2006.0        Sports   \n",
       "1          Super Mario Bros.      NES           1985.0      Platform   \n",
       "2             Mario Kart Wii      Wii           2008.0        Racing   \n",
       "3          Wii Sports Resort      Wii           2009.0        Sports   \n",
       "4   Pokemon Red/Pokemon Blue       GB           1996.0  Role-Playing   \n",
       "5                     Tetris       GB           1989.0        Puzzle   \n",
       "6      New Super Mario Bros.       DS           2006.0      Platform   \n",
       "7                   Wii Play      Wii           2006.0          Misc   \n",
       "8  New Super Mario Bros. Wii      Wii           2009.0      Platform   \n",
       "9                  Duck Hunt      NES           1984.0       Shooter   \n",
       "\n",
       "   NA_sales  EU_sales  JP_sales  Other_sales  Critic_Score User_Score Rating  \n",
       "0     41.36     28.96      3.77         8.45          76.0          8      E  \n",
       "1     29.08      3.58      6.81         0.77           NaN        NaN    NaN  \n",
       "2     15.68     12.76      3.79         3.29          82.0        8.3      E  \n",
       "3     15.61     10.93      3.28         2.95          80.0          8      E  \n",
       "4     11.27      8.89     10.22         1.00           NaN        NaN    NaN  \n",
       "5     23.20      2.26      4.22         0.58           NaN        NaN    NaN  \n",
       "6     11.28      9.14      6.50         2.88          89.0        8.5      E  \n",
       "7     13.96      9.18      2.93         2.84          58.0        6.6      E  \n",
       "8     14.44      6.94      4.70         2.24          87.0        8.4      E  \n",
       "9     26.93      0.63      0.28         0.47           NaN        NaN    NaN  "
      ]
     },
     "execution_count": 6,
     "metadata": {},
     "output_type": "execute_result"
    }
   ],
   "source": [
    "df.head(10)"
   ]
  },
  {
   "cell_type": "markdown",
   "metadata": {},
   "source": [
    "Согласно документации и данным:\n",
    "    \n",
    "   * `Name` — название игры\n",
    "   * `Platform` — платформа\n",
    "   * `Year_of_Release` — год выпуска\n",
    "   * `Genre` — жанр игры\n",
    "   * `NA_sales` — продажи в Северной Америке (миллионы долларов)\n",
    "   * `EU_sales` — продажи в Европе (миллионы долларов)\n",
    "   * `JP_sales` — продажи в Японии (миллионы долларов)\n",
    "   * `Other_sales` — продажи в других странах (миллионы долларов)\n",
    "   * `Critic_Score` — оценка критиков (от 0 до 100)\n",
    "   * `User_Score` — оценка пользователей (от 0 до 10)\n",
    "   * `Rating` — рейтинг от организации *ESRB* (англ. *Entertainment Software Rating Board).* Эта ассоциация определяет рейтинг компьютерных игр и присваивает им подходящую возрастную категорию.\n",
    "    \n",
    "    Данные за 2016 год могут быть неполными."
   ]
  },
  {
   "cell_type": "code",
   "execution_count": 7,
   "metadata": {},
   "outputs": [
    {
     "data": {
      "text/html": [
       "<div>\n",
       "<style scoped>\n",
       "    .dataframe tbody tr th:only-of-type {\n",
       "        vertical-align: middle;\n",
       "    }\n",
       "\n",
       "    .dataframe tbody tr th {\n",
       "        vertical-align: top;\n",
       "    }\n",
       "\n",
       "    .dataframe thead th {\n",
       "        text-align: right;\n",
       "    }\n",
       "</style>\n",
       "<table border=\"1\" class=\"dataframe\">\n",
       "  <thead>\n",
       "    <tr style=\"text-align: right;\">\n",
       "      <th></th>\n",
       "      <th>Year_of_Release</th>\n",
       "      <th>NA_sales</th>\n",
       "      <th>EU_sales</th>\n",
       "      <th>JP_sales</th>\n",
       "      <th>Other_sales</th>\n",
       "      <th>Critic_Score</th>\n",
       "    </tr>\n",
       "  </thead>\n",
       "  <tbody>\n",
       "    <tr>\n",
       "      <th>count</th>\n",
       "      <td>16446.000000</td>\n",
       "      <td>16715.000000</td>\n",
       "      <td>16715.000000</td>\n",
       "      <td>16715.000000</td>\n",
       "      <td>16715.000000</td>\n",
       "      <td>8137.000000</td>\n",
       "    </tr>\n",
       "    <tr>\n",
       "      <th>mean</th>\n",
       "      <td>2006.484616</td>\n",
       "      <td>0.263377</td>\n",
       "      <td>0.145060</td>\n",
       "      <td>0.077617</td>\n",
       "      <td>0.047342</td>\n",
       "      <td>68.967679</td>\n",
       "    </tr>\n",
       "    <tr>\n",
       "      <th>std</th>\n",
       "      <td>5.877050</td>\n",
       "      <td>0.813604</td>\n",
       "      <td>0.503339</td>\n",
       "      <td>0.308853</td>\n",
       "      <td>0.186731</td>\n",
       "      <td>13.938165</td>\n",
       "    </tr>\n",
       "    <tr>\n",
       "      <th>min</th>\n",
       "      <td>1980.000000</td>\n",
       "      <td>0.000000</td>\n",
       "      <td>0.000000</td>\n",
       "      <td>0.000000</td>\n",
       "      <td>0.000000</td>\n",
       "      <td>13.000000</td>\n",
       "    </tr>\n",
       "    <tr>\n",
       "      <th>25%</th>\n",
       "      <td>2003.000000</td>\n",
       "      <td>0.000000</td>\n",
       "      <td>0.000000</td>\n",
       "      <td>0.000000</td>\n",
       "      <td>0.000000</td>\n",
       "      <td>60.000000</td>\n",
       "    </tr>\n",
       "    <tr>\n",
       "      <th>50%</th>\n",
       "      <td>2007.000000</td>\n",
       "      <td>0.080000</td>\n",
       "      <td>0.020000</td>\n",
       "      <td>0.000000</td>\n",
       "      <td>0.010000</td>\n",
       "      <td>71.000000</td>\n",
       "    </tr>\n",
       "    <tr>\n",
       "      <th>75%</th>\n",
       "      <td>2010.000000</td>\n",
       "      <td>0.240000</td>\n",
       "      <td>0.110000</td>\n",
       "      <td>0.040000</td>\n",
       "      <td>0.030000</td>\n",
       "      <td>79.000000</td>\n",
       "    </tr>\n",
       "    <tr>\n",
       "      <th>max</th>\n",
       "      <td>2016.000000</td>\n",
       "      <td>41.360000</td>\n",
       "      <td>28.960000</td>\n",
       "      <td>10.220000</td>\n",
       "      <td>10.570000</td>\n",
       "      <td>98.000000</td>\n",
       "    </tr>\n",
       "  </tbody>\n",
       "</table>\n",
       "</div>"
      ],
      "text/plain": [
       "       Year_of_Release      NA_sales      EU_sales      JP_sales  \\\n",
       "count     16446.000000  16715.000000  16715.000000  16715.000000   \n",
       "mean       2006.484616      0.263377      0.145060      0.077617   \n",
       "std           5.877050      0.813604      0.503339      0.308853   \n",
       "min        1980.000000      0.000000      0.000000      0.000000   \n",
       "25%        2003.000000      0.000000      0.000000      0.000000   \n",
       "50%        2007.000000      0.080000      0.020000      0.000000   \n",
       "75%        2010.000000      0.240000      0.110000      0.040000   \n",
       "max        2016.000000     41.360000     28.960000     10.220000   \n",
       "\n",
       "        Other_sales  Critic_Score  \n",
       "count  16715.000000   8137.000000  \n",
       "mean       0.047342     68.967679  \n",
       "std        0.186731     13.938165  \n",
       "min        0.000000     13.000000  \n",
       "25%        0.000000     60.000000  \n",
       "50%        0.010000     71.000000  \n",
       "75%        0.030000     79.000000  \n",
       "max       10.570000     98.000000  "
      ]
     },
     "execution_count": 7,
     "metadata": {},
     "output_type": "execute_result"
    }
   ],
   "source": [
    "df.describe()"
   ]
  },
  {
   "cell_type": "markdown",
   "metadata": {},
   "source": [
    "**Вывод**"
   ]
  },
  {
   "cell_type": "markdown",
   "metadata": {},
   "source": [
    "Имеется большое количество пропусков.\n",
    "\n",
    "В следующем разделе \"Предобработка данных\" постараемся обработать эти столбцы, как с точки зрения пропусков, так и с точки зрения изменения типа данных.\n",
    "\n",
    "Название столбцов нужно привести к удобному виду"
   ]
  },
  {
   "cell_type": "markdown",
   "metadata": {},
   "source": [
    "## Предобработка данных"
   ]
  },
  {
   "cell_type": "markdown",
   "metadata": {},
   "source": [
    "**Название столбцов**"
   ]
  },
  {
   "cell_type": "markdown",
   "metadata": {},
   "source": [
    "Приведем названия столбцов к нижнему регистру"
   ]
  },
  {
   "cell_type": "code",
   "execution_count": 8,
   "metadata": {},
   "outputs": [],
   "source": [
    "df.columns = df.columns.str.lower()"
   ]
  },
  {
   "cell_type": "markdown",
   "metadata": {},
   "source": [
    "**Работа с пропусками**"
   ]
  },
  {
   "cell_type": "markdown",
   "metadata": {},
   "source": [
    "*`name`*"
   ]
  },
  {
   "cell_type": "code",
   "execution_count": 9,
   "metadata": {},
   "outputs": [
    {
     "data": {
      "text/html": [
       "<div>\n",
       "<style scoped>\n",
       "    .dataframe tbody tr th:only-of-type {\n",
       "        vertical-align: middle;\n",
       "    }\n",
       "\n",
       "    .dataframe tbody tr th {\n",
       "        vertical-align: top;\n",
       "    }\n",
       "\n",
       "    .dataframe thead th {\n",
       "        text-align: right;\n",
       "    }\n",
       "</style>\n",
       "<table border=\"1\" class=\"dataframe\">\n",
       "  <thead>\n",
       "    <tr style=\"text-align: right;\">\n",
       "      <th></th>\n",
       "      <th>name</th>\n",
       "      <th>platform</th>\n",
       "      <th>year_of_release</th>\n",
       "      <th>genre</th>\n",
       "      <th>na_sales</th>\n",
       "      <th>eu_sales</th>\n",
       "      <th>jp_sales</th>\n",
       "      <th>other_sales</th>\n",
       "      <th>critic_score</th>\n",
       "      <th>user_score</th>\n",
       "      <th>rating</th>\n",
       "    </tr>\n",
       "  </thead>\n",
       "  <tbody>\n",
       "    <tr>\n",
       "      <th>659</th>\n",
       "      <td>NaN</td>\n",
       "      <td>GEN</td>\n",
       "      <td>1993.0</td>\n",
       "      <td>NaN</td>\n",
       "      <td>1.78</td>\n",
       "      <td>0.53</td>\n",
       "      <td>0.00</td>\n",
       "      <td>0.08</td>\n",
       "      <td>NaN</td>\n",
       "      <td>NaN</td>\n",
       "      <td>NaN</td>\n",
       "    </tr>\n",
       "    <tr>\n",
       "      <th>14244</th>\n",
       "      <td>NaN</td>\n",
       "      <td>GEN</td>\n",
       "      <td>1993.0</td>\n",
       "      <td>NaN</td>\n",
       "      <td>0.00</td>\n",
       "      <td>0.00</td>\n",
       "      <td>0.03</td>\n",
       "      <td>0.00</td>\n",
       "      <td>NaN</td>\n",
       "      <td>NaN</td>\n",
       "      <td>NaN</td>\n",
       "    </tr>\n",
       "  </tbody>\n",
       "</table>\n",
       "</div>"
      ],
      "text/plain": [
       "      name platform  year_of_release genre  na_sales  eu_sales  jp_sales  \\\n",
       "659    NaN      GEN           1993.0   NaN      1.78      0.53      0.00   \n",
       "14244  NaN      GEN           1993.0   NaN      0.00      0.00      0.03   \n",
       "\n",
       "       other_sales  critic_score user_score rating  \n",
       "659           0.08           NaN        NaN    NaN  \n",
       "14244         0.00           NaN        NaN    NaN  "
      ]
     },
     "execution_count": 9,
     "metadata": {},
     "output_type": "execute_result"
    }
   ],
   "source": [
    "df[df['name'].isnull()]"
   ]
  },
  {
   "cell_type": "markdown",
   "metadata": {},
   "source": [
    "Строки в этих данных практически пустые - прнимаем решение их удалить."
   ]
  },
  {
   "cell_type": "code",
   "execution_count": 10,
   "metadata": {},
   "outputs": [],
   "source": [
    "df = df.dropna(subset = ['name'])"
   ]
  },
  {
   "cell_type": "markdown",
   "metadata": {},
   "source": [
    "*`year_of_release`*"
   ]
  },
  {
   "cell_type": "code",
   "execution_count": 11,
   "metadata": {},
   "outputs": [
    {
     "data": {
      "text/html": [
       "<div>\n",
       "<style scoped>\n",
       "    .dataframe tbody tr th:only-of-type {\n",
       "        vertical-align: middle;\n",
       "    }\n",
       "\n",
       "    .dataframe tbody tr th {\n",
       "        vertical-align: top;\n",
       "    }\n",
       "\n",
       "    .dataframe thead th {\n",
       "        text-align: right;\n",
       "    }\n",
       "</style>\n",
       "<table border=\"1\" class=\"dataframe\">\n",
       "  <thead>\n",
       "    <tr style=\"text-align: right;\">\n",
       "      <th></th>\n",
       "      <th>name</th>\n",
       "      <th>platform</th>\n",
       "      <th>year_of_release</th>\n",
       "      <th>genre</th>\n",
       "      <th>na_sales</th>\n",
       "      <th>eu_sales</th>\n",
       "      <th>jp_sales</th>\n",
       "      <th>other_sales</th>\n",
       "      <th>critic_score</th>\n",
       "      <th>user_score</th>\n",
       "      <th>rating</th>\n",
       "    </tr>\n",
       "  </thead>\n",
       "  <tbody>\n",
       "    <tr>\n",
       "      <th>183</th>\n",
       "      <td>Madden NFL 2004</td>\n",
       "      <td>PS2</td>\n",
       "      <td>NaN</td>\n",
       "      <td>Sports</td>\n",
       "      <td>4.26</td>\n",
       "      <td>0.26</td>\n",
       "      <td>0.01</td>\n",
       "      <td>0.71</td>\n",
       "      <td>94.0</td>\n",
       "      <td>8.5</td>\n",
       "      <td>E</td>\n",
       "    </tr>\n",
       "    <tr>\n",
       "      <th>377</th>\n",
       "      <td>FIFA Soccer 2004</td>\n",
       "      <td>PS2</td>\n",
       "      <td>NaN</td>\n",
       "      <td>Sports</td>\n",
       "      <td>0.59</td>\n",
       "      <td>2.36</td>\n",
       "      <td>0.04</td>\n",
       "      <td>0.51</td>\n",
       "      <td>84.0</td>\n",
       "      <td>6.4</td>\n",
       "      <td>E</td>\n",
       "    </tr>\n",
       "    <tr>\n",
       "      <th>456</th>\n",
       "      <td>LEGO Batman: The Videogame</td>\n",
       "      <td>Wii</td>\n",
       "      <td>NaN</td>\n",
       "      <td>Action</td>\n",
       "      <td>1.80</td>\n",
       "      <td>0.97</td>\n",
       "      <td>0.00</td>\n",
       "      <td>0.29</td>\n",
       "      <td>74.0</td>\n",
       "      <td>7.9</td>\n",
       "      <td>E10+</td>\n",
       "    </tr>\n",
       "    <tr>\n",
       "      <th>475</th>\n",
       "      <td>wwe Smackdown vs. Raw 2006</td>\n",
       "      <td>PS2</td>\n",
       "      <td>NaN</td>\n",
       "      <td>Fighting</td>\n",
       "      <td>1.57</td>\n",
       "      <td>1.02</td>\n",
       "      <td>0.00</td>\n",
       "      <td>0.41</td>\n",
       "      <td>NaN</td>\n",
       "      <td>NaN</td>\n",
       "      <td>NaN</td>\n",
       "    </tr>\n",
       "    <tr>\n",
       "      <th>609</th>\n",
       "      <td>Space Invaders</td>\n",
       "      <td>2600</td>\n",
       "      <td>NaN</td>\n",
       "      <td>Shooter</td>\n",
       "      <td>2.36</td>\n",
       "      <td>0.14</td>\n",
       "      <td>0.00</td>\n",
       "      <td>0.03</td>\n",
       "      <td>NaN</td>\n",
       "      <td>NaN</td>\n",
       "      <td>NaN</td>\n",
       "    </tr>\n",
       "    <tr>\n",
       "      <th>...</th>\n",
       "      <td>...</td>\n",
       "      <td>...</td>\n",
       "      <td>...</td>\n",
       "      <td>...</td>\n",
       "      <td>...</td>\n",
       "      <td>...</td>\n",
       "      <td>...</td>\n",
       "      <td>...</td>\n",
       "      <td>...</td>\n",
       "      <td>...</td>\n",
       "      <td>...</td>\n",
       "    </tr>\n",
       "    <tr>\n",
       "      <th>16373</th>\n",
       "      <td>PDC World Championship Darts 2008</td>\n",
       "      <td>PSP</td>\n",
       "      <td>NaN</td>\n",
       "      <td>Sports</td>\n",
       "      <td>0.01</td>\n",
       "      <td>0.00</td>\n",
       "      <td>0.00</td>\n",
       "      <td>0.00</td>\n",
       "      <td>43.0</td>\n",
       "      <td>tbd</td>\n",
       "      <td>E10+</td>\n",
       "    </tr>\n",
       "    <tr>\n",
       "      <th>16405</th>\n",
       "      <td>Freaky Flyers</td>\n",
       "      <td>GC</td>\n",
       "      <td>NaN</td>\n",
       "      <td>Racing</td>\n",
       "      <td>0.01</td>\n",
       "      <td>0.00</td>\n",
       "      <td>0.00</td>\n",
       "      <td>0.00</td>\n",
       "      <td>69.0</td>\n",
       "      <td>6.5</td>\n",
       "      <td>T</td>\n",
       "    </tr>\n",
       "    <tr>\n",
       "      <th>16448</th>\n",
       "      <td>Inversion</td>\n",
       "      <td>PC</td>\n",
       "      <td>NaN</td>\n",
       "      <td>Shooter</td>\n",
       "      <td>0.01</td>\n",
       "      <td>0.00</td>\n",
       "      <td>0.00</td>\n",
       "      <td>0.00</td>\n",
       "      <td>59.0</td>\n",
       "      <td>6.7</td>\n",
       "      <td>M</td>\n",
       "    </tr>\n",
       "    <tr>\n",
       "      <th>16458</th>\n",
       "      <td>Hakuouki: Shinsengumi Kitan</td>\n",
       "      <td>PS3</td>\n",
       "      <td>NaN</td>\n",
       "      <td>Adventure</td>\n",
       "      <td>0.01</td>\n",
       "      <td>0.00</td>\n",
       "      <td>0.00</td>\n",
       "      <td>0.00</td>\n",
       "      <td>NaN</td>\n",
       "      <td>NaN</td>\n",
       "      <td>NaN</td>\n",
       "    </tr>\n",
       "    <tr>\n",
       "      <th>16522</th>\n",
       "      <td>Virtua Quest</td>\n",
       "      <td>GC</td>\n",
       "      <td>NaN</td>\n",
       "      <td>Role-Playing</td>\n",
       "      <td>0.01</td>\n",
       "      <td>0.00</td>\n",
       "      <td>0.00</td>\n",
       "      <td>0.00</td>\n",
       "      <td>55.0</td>\n",
       "      <td>5.5</td>\n",
       "      <td>T</td>\n",
       "    </tr>\n",
       "  </tbody>\n",
       "</table>\n",
       "<p>269 rows × 11 columns</p>\n",
       "</div>"
      ],
      "text/plain": [
       "                                    name platform  year_of_release  \\\n",
       "183                      Madden NFL 2004      PS2              NaN   \n",
       "377                     FIFA Soccer 2004      PS2              NaN   \n",
       "456           LEGO Batman: The Videogame      Wii              NaN   \n",
       "475           wwe Smackdown vs. Raw 2006      PS2              NaN   \n",
       "609                       Space Invaders     2600              NaN   \n",
       "...                                  ...      ...              ...   \n",
       "16373  PDC World Championship Darts 2008      PSP              NaN   \n",
       "16405                      Freaky Flyers       GC              NaN   \n",
       "16448                          Inversion       PC              NaN   \n",
       "16458        Hakuouki: Shinsengumi Kitan      PS3              NaN   \n",
       "16522                       Virtua Quest       GC              NaN   \n",
       "\n",
       "              genre  na_sales  eu_sales  jp_sales  other_sales  critic_score  \\\n",
       "183          Sports      4.26      0.26      0.01         0.71          94.0   \n",
       "377          Sports      0.59      2.36      0.04         0.51          84.0   \n",
       "456          Action      1.80      0.97      0.00         0.29          74.0   \n",
       "475        Fighting      1.57      1.02      0.00         0.41           NaN   \n",
       "609         Shooter      2.36      0.14      0.00         0.03           NaN   \n",
       "...             ...       ...       ...       ...          ...           ...   \n",
       "16373        Sports      0.01      0.00      0.00         0.00          43.0   \n",
       "16405        Racing      0.01      0.00      0.00         0.00          69.0   \n",
       "16448       Shooter      0.01      0.00      0.00         0.00          59.0   \n",
       "16458     Adventure      0.01      0.00      0.00         0.00           NaN   \n",
       "16522  Role-Playing      0.01      0.00      0.00         0.00          55.0   \n",
       "\n",
       "      user_score rating  \n",
       "183          8.5      E  \n",
       "377          6.4      E  \n",
       "456          7.9   E10+  \n",
       "475          NaN    NaN  \n",
       "609          NaN    NaN  \n",
       "...          ...    ...  \n",
       "16373        tbd   E10+  \n",
       "16405        6.5      T  \n",
       "16448        6.7      M  \n",
       "16458        NaN    NaN  \n",
       "16522        5.5      T  \n",
       "\n",
       "[269 rows x 11 columns]"
      ]
     },
     "execution_count": 11,
     "metadata": {},
     "output_type": "execute_result"
    }
   ],
   "source": [
    "df[df['year_of_release'].isnull()]"
   ]
  },
  {
   "cell_type": "code",
   "execution_count": 12,
   "metadata": {},
   "outputs": [
    {
     "data": {
      "text/plain": [
       "0.016095255190570215"
      ]
     },
     "execution_count": 12,
     "metadata": {},
     "output_type": "execute_result"
    }
   ],
   "source": [
    "len(df[df['year_of_release'].isnull()]) / len(df)"
   ]
  },
  {
   "cell_type": "markdown",
   "metadata": {},
   "source": [
    "Для экономии времени разрешим себе удалить 1,6% данных. "
   ]
  },
  {
   "cell_type": "code",
   "execution_count": 13,
   "metadata": {},
   "outputs": [],
   "source": [
    "df = df.dropna(subset = ['year_of_release'])"
   ]
  },
  {
   "cell_type": "markdown",
   "metadata": {},
   "source": [
    "*`rating`*"
   ]
  },
  {
   "cell_type": "code",
   "execution_count": 14,
   "metadata": {},
   "outputs": [
    {
     "data": {
      "text/html": [
       "<div>\n",
       "<style scoped>\n",
       "    .dataframe tbody tr th:only-of-type {\n",
       "        vertical-align: middle;\n",
       "    }\n",
       "\n",
       "    .dataframe tbody tr th {\n",
       "        vertical-align: top;\n",
       "    }\n",
       "\n",
       "    .dataframe thead th {\n",
       "        text-align: right;\n",
       "    }\n",
       "</style>\n",
       "<table border=\"1\" class=\"dataframe\">\n",
       "  <thead>\n",
       "    <tr style=\"text-align: right;\">\n",
       "      <th></th>\n",
       "      <th>name</th>\n",
       "      <th>platform</th>\n",
       "      <th>year_of_release</th>\n",
       "      <th>genre</th>\n",
       "      <th>na_sales</th>\n",
       "      <th>eu_sales</th>\n",
       "      <th>jp_sales</th>\n",
       "      <th>other_sales</th>\n",
       "      <th>critic_score</th>\n",
       "      <th>user_score</th>\n",
       "      <th>rating</th>\n",
       "    </tr>\n",
       "  </thead>\n",
       "  <tbody>\n",
       "    <tr>\n",
       "      <th>1</th>\n",
       "      <td>Super Mario Bros.</td>\n",
       "      <td>NES</td>\n",
       "      <td>1985.0</td>\n",
       "      <td>Platform</td>\n",
       "      <td>29.08</td>\n",
       "      <td>3.58</td>\n",
       "      <td>6.81</td>\n",
       "      <td>0.77</td>\n",
       "      <td>NaN</td>\n",
       "      <td>NaN</td>\n",
       "      <td>NaN</td>\n",
       "    </tr>\n",
       "    <tr>\n",
       "      <th>4</th>\n",
       "      <td>Pokemon Red/Pokemon Blue</td>\n",
       "      <td>GB</td>\n",
       "      <td>1996.0</td>\n",
       "      <td>Role-Playing</td>\n",
       "      <td>11.27</td>\n",
       "      <td>8.89</td>\n",
       "      <td>10.22</td>\n",
       "      <td>1.00</td>\n",
       "      <td>NaN</td>\n",
       "      <td>NaN</td>\n",
       "      <td>NaN</td>\n",
       "    </tr>\n",
       "    <tr>\n",
       "      <th>5</th>\n",
       "      <td>Tetris</td>\n",
       "      <td>GB</td>\n",
       "      <td>1989.0</td>\n",
       "      <td>Puzzle</td>\n",
       "      <td>23.20</td>\n",
       "      <td>2.26</td>\n",
       "      <td>4.22</td>\n",
       "      <td>0.58</td>\n",
       "      <td>NaN</td>\n",
       "      <td>NaN</td>\n",
       "      <td>NaN</td>\n",
       "    </tr>\n",
       "    <tr>\n",
       "      <th>9</th>\n",
       "      <td>Duck Hunt</td>\n",
       "      <td>NES</td>\n",
       "      <td>1984.0</td>\n",
       "      <td>Shooter</td>\n",
       "      <td>26.93</td>\n",
       "      <td>0.63</td>\n",
       "      <td>0.28</td>\n",
       "      <td>0.47</td>\n",
       "      <td>NaN</td>\n",
       "      <td>NaN</td>\n",
       "      <td>NaN</td>\n",
       "    </tr>\n",
       "    <tr>\n",
       "      <th>10</th>\n",
       "      <td>Nintendogs</td>\n",
       "      <td>DS</td>\n",
       "      <td>2005.0</td>\n",
       "      <td>Simulation</td>\n",
       "      <td>9.05</td>\n",
       "      <td>10.95</td>\n",
       "      <td>1.93</td>\n",
       "      <td>2.74</td>\n",
       "      <td>NaN</td>\n",
       "      <td>NaN</td>\n",
       "      <td>NaN</td>\n",
       "    </tr>\n",
       "    <tr>\n",
       "      <th>...</th>\n",
       "      <td>...</td>\n",
       "      <td>...</td>\n",
       "      <td>...</td>\n",
       "      <td>...</td>\n",
       "      <td>...</td>\n",
       "      <td>...</td>\n",
       "      <td>...</td>\n",
       "      <td>...</td>\n",
       "      <td>...</td>\n",
       "      <td>...</td>\n",
       "      <td>...</td>\n",
       "    </tr>\n",
       "    <tr>\n",
       "      <th>16710</th>\n",
       "      <td>Samurai Warriors: Sanada Maru</td>\n",
       "      <td>PS3</td>\n",
       "      <td>2016.0</td>\n",
       "      <td>Action</td>\n",
       "      <td>0.00</td>\n",
       "      <td>0.00</td>\n",
       "      <td>0.01</td>\n",
       "      <td>0.00</td>\n",
       "      <td>NaN</td>\n",
       "      <td>NaN</td>\n",
       "      <td>NaN</td>\n",
       "    </tr>\n",
       "    <tr>\n",
       "      <th>16711</th>\n",
       "      <td>LMA Manager 2007</td>\n",
       "      <td>X360</td>\n",
       "      <td>2006.0</td>\n",
       "      <td>Sports</td>\n",
       "      <td>0.00</td>\n",
       "      <td>0.01</td>\n",
       "      <td>0.00</td>\n",
       "      <td>0.00</td>\n",
       "      <td>NaN</td>\n",
       "      <td>NaN</td>\n",
       "      <td>NaN</td>\n",
       "    </tr>\n",
       "    <tr>\n",
       "      <th>16712</th>\n",
       "      <td>Haitaka no Psychedelica</td>\n",
       "      <td>PSV</td>\n",
       "      <td>2016.0</td>\n",
       "      <td>Adventure</td>\n",
       "      <td>0.00</td>\n",
       "      <td>0.00</td>\n",
       "      <td>0.01</td>\n",
       "      <td>0.00</td>\n",
       "      <td>NaN</td>\n",
       "      <td>NaN</td>\n",
       "      <td>NaN</td>\n",
       "    </tr>\n",
       "    <tr>\n",
       "      <th>16713</th>\n",
       "      <td>Spirits &amp; Spells</td>\n",
       "      <td>GBA</td>\n",
       "      <td>2003.0</td>\n",
       "      <td>Platform</td>\n",
       "      <td>0.01</td>\n",
       "      <td>0.00</td>\n",
       "      <td>0.00</td>\n",
       "      <td>0.00</td>\n",
       "      <td>NaN</td>\n",
       "      <td>NaN</td>\n",
       "      <td>NaN</td>\n",
       "    </tr>\n",
       "    <tr>\n",
       "      <th>16714</th>\n",
       "      <td>Winning Post 8 2016</td>\n",
       "      <td>PSV</td>\n",
       "      <td>2016.0</td>\n",
       "      <td>Simulation</td>\n",
       "      <td>0.00</td>\n",
       "      <td>0.00</td>\n",
       "      <td>0.01</td>\n",
       "      <td>0.00</td>\n",
       "      <td>NaN</td>\n",
       "      <td>NaN</td>\n",
       "      <td>NaN</td>\n",
       "    </tr>\n",
       "  </tbody>\n",
       "</table>\n",
       "<p>6676 rows × 11 columns</p>\n",
       "</div>"
      ],
      "text/plain": [
       "                                name platform  year_of_release         genre  \\\n",
       "1                  Super Mario Bros.      NES           1985.0      Platform   \n",
       "4           Pokemon Red/Pokemon Blue       GB           1996.0  Role-Playing   \n",
       "5                             Tetris       GB           1989.0        Puzzle   \n",
       "9                          Duck Hunt      NES           1984.0       Shooter   \n",
       "10                        Nintendogs       DS           2005.0    Simulation   \n",
       "...                              ...      ...              ...           ...   \n",
       "16710  Samurai Warriors: Sanada Maru      PS3           2016.0        Action   \n",
       "16711               LMA Manager 2007     X360           2006.0        Sports   \n",
       "16712        Haitaka no Psychedelica      PSV           2016.0     Adventure   \n",
       "16713               Spirits & Spells      GBA           2003.0      Platform   \n",
       "16714            Winning Post 8 2016      PSV           2016.0    Simulation   \n",
       "\n",
       "       na_sales  eu_sales  jp_sales  other_sales  critic_score user_score  \\\n",
       "1         29.08      3.58      6.81         0.77           NaN        NaN   \n",
       "4         11.27      8.89     10.22         1.00           NaN        NaN   \n",
       "5         23.20      2.26      4.22         0.58           NaN        NaN   \n",
       "9         26.93      0.63      0.28         0.47           NaN        NaN   \n",
       "10         9.05     10.95      1.93         2.74           NaN        NaN   \n",
       "...         ...       ...       ...          ...           ...        ...   \n",
       "16710      0.00      0.00      0.01         0.00           NaN        NaN   \n",
       "16711      0.00      0.01      0.00         0.00           NaN        NaN   \n",
       "16712      0.00      0.00      0.01         0.00           NaN        NaN   \n",
       "16713      0.01      0.00      0.00         0.00           NaN        NaN   \n",
       "16714      0.00      0.00      0.01         0.00           NaN        NaN   \n",
       "\n",
       "      rating  \n",
       "1        NaN  \n",
       "4        NaN  \n",
       "5        NaN  \n",
       "9        NaN  \n",
       "10       NaN  \n",
       "...      ...  \n",
       "16710    NaN  \n",
       "16711    NaN  \n",
       "16712    NaN  \n",
       "16713    NaN  \n",
       "16714    NaN  \n",
       "\n",
       "[6676 rows x 11 columns]"
      ]
     },
     "execution_count": 14,
     "metadata": {},
     "output_type": "execute_result"
    }
   ],
   "source": [
    "df[df['rating'].isnull()]"
   ]
  },
  {
   "cell_type": "code",
   "execution_count": 15,
   "metadata": {},
   "outputs": [
    {
     "data": {
      "text/plain": [
       "Unknown    6676\n",
       "E          3921\n",
       "T          2905\n",
       "M          1536\n",
       "E10+       1393\n",
       "EC            8\n",
       "K-A           3\n",
       "AO            1\n",
       "RP            1\n",
       "Name: rating, dtype: int64"
      ]
     },
     "execution_count": 15,
     "metadata": {},
     "output_type": "execute_result"
    }
   ],
   "source": [
    "df['rating'] = df['rating'].fillna('Unknown')\n",
    "df['rating'].value_counts()"
   ]
  },
  {
   "cell_type": "markdown",
   "metadata": {},
   "source": [
    "4 вида рейтинга встречаются часто: Е, Т, М и Е10+. Еще 4 почти НЕ встречаются. Их можно заменить:\n",
    "\n",
    "* АО - на М;\n",
    "* RP - фактически, рейтинг не известен. Можно заменить на Unknown;\n",
    "* ЕС - на Е;\n",
    "* К-А - на Е."
   ]
  },
  {
   "cell_type": "code",
   "execution_count": 16,
   "metadata": {},
   "outputs": [],
   "source": [
    "df.loc[df['rating'] == 'AO', 'rating'] = 'M'\n",
    "df.loc[df['rating'] == 'RP', 'rating'] = 'Unknown'\n",
    "df.loc[df['rating'].isin(['EC', 'K-A']), 'rating'] = 'E'"
   ]
  },
  {
   "cell_type": "code",
   "execution_count": 17,
   "metadata": {},
   "outputs": [
    {
     "data": {
      "text/plain": [
       "Unknown    6677\n",
       "E          3932\n",
       "T          2905\n",
       "M          1537\n",
       "E10+       1393\n",
       "Name: rating, dtype: int64"
      ]
     },
     "execution_count": 17,
     "metadata": {},
     "output_type": "execute_result"
    }
   ],
   "source": [
    "df['rating'].value_counts()"
   ]
  },
  {
   "cell_type": "markdown",
   "metadata": {},
   "source": [
    "Принимаем решение оставить пропуски в рейтинге как группу Unknown."
   ]
  },
  {
   "cell_type": "markdown",
   "metadata": {},
   "source": [
    "*`critic_score`*"
   ]
  },
  {
   "cell_type": "code",
   "execution_count": 18,
   "metadata": {},
   "outputs": [
    {
     "data": {
      "text/html": [
       "<div>\n",
       "<style scoped>\n",
       "    .dataframe tbody tr th:only-of-type {\n",
       "        vertical-align: middle;\n",
       "    }\n",
       "\n",
       "    .dataframe tbody tr th {\n",
       "        vertical-align: top;\n",
       "    }\n",
       "\n",
       "    .dataframe thead th {\n",
       "        text-align: right;\n",
       "    }\n",
       "</style>\n",
       "<table border=\"1\" class=\"dataframe\">\n",
       "  <thead>\n",
       "    <tr style=\"text-align: right;\">\n",
       "      <th></th>\n",
       "      <th>name</th>\n",
       "      <th>platform</th>\n",
       "      <th>year_of_release</th>\n",
       "      <th>genre</th>\n",
       "      <th>na_sales</th>\n",
       "      <th>eu_sales</th>\n",
       "      <th>jp_sales</th>\n",
       "      <th>other_sales</th>\n",
       "      <th>critic_score</th>\n",
       "      <th>user_score</th>\n",
       "      <th>rating</th>\n",
       "    </tr>\n",
       "  </thead>\n",
       "  <tbody>\n",
       "    <tr>\n",
       "      <th>1</th>\n",
       "      <td>Super Mario Bros.</td>\n",
       "      <td>NES</td>\n",
       "      <td>1985.0</td>\n",
       "      <td>Platform</td>\n",
       "      <td>29.08</td>\n",
       "      <td>3.58</td>\n",
       "      <td>6.81</td>\n",
       "      <td>0.77</td>\n",
       "      <td>NaN</td>\n",
       "      <td>NaN</td>\n",
       "      <td>Unknown</td>\n",
       "    </tr>\n",
       "    <tr>\n",
       "      <th>4</th>\n",
       "      <td>Pokemon Red/Pokemon Blue</td>\n",
       "      <td>GB</td>\n",
       "      <td>1996.0</td>\n",
       "      <td>Role-Playing</td>\n",
       "      <td>11.27</td>\n",
       "      <td>8.89</td>\n",
       "      <td>10.22</td>\n",
       "      <td>1.00</td>\n",
       "      <td>NaN</td>\n",
       "      <td>NaN</td>\n",
       "      <td>Unknown</td>\n",
       "    </tr>\n",
       "    <tr>\n",
       "      <th>5</th>\n",
       "      <td>Tetris</td>\n",
       "      <td>GB</td>\n",
       "      <td>1989.0</td>\n",
       "      <td>Puzzle</td>\n",
       "      <td>23.20</td>\n",
       "      <td>2.26</td>\n",
       "      <td>4.22</td>\n",
       "      <td>0.58</td>\n",
       "      <td>NaN</td>\n",
       "      <td>NaN</td>\n",
       "      <td>Unknown</td>\n",
       "    </tr>\n",
       "    <tr>\n",
       "      <th>9</th>\n",
       "      <td>Duck Hunt</td>\n",
       "      <td>NES</td>\n",
       "      <td>1984.0</td>\n",
       "      <td>Shooter</td>\n",
       "      <td>26.93</td>\n",
       "      <td>0.63</td>\n",
       "      <td>0.28</td>\n",
       "      <td>0.47</td>\n",
       "      <td>NaN</td>\n",
       "      <td>NaN</td>\n",
       "      <td>Unknown</td>\n",
       "    </tr>\n",
       "    <tr>\n",
       "      <th>10</th>\n",
       "      <td>Nintendogs</td>\n",
       "      <td>DS</td>\n",
       "      <td>2005.0</td>\n",
       "      <td>Simulation</td>\n",
       "      <td>9.05</td>\n",
       "      <td>10.95</td>\n",
       "      <td>1.93</td>\n",
       "      <td>2.74</td>\n",
       "      <td>NaN</td>\n",
       "      <td>NaN</td>\n",
       "      <td>Unknown</td>\n",
       "    </tr>\n",
       "    <tr>\n",
       "      <th>...</th>\n",
       "      <td>...</td>\n",
       "      <td>...</td>\n",
       "      <td>...</td>\n",
       "      <td>...</td>\n",
       "      <td>...</td>\n",
       "      <td>...</td>\n",
       "      <td>...</td>\n",
       "      <td>...</td>\n",
       "      <td>...</td>\n",
       "      <td>...</td>\n",
       "      <td>...</td>\n",
       "    </tr>\n",
       "    <tr>\n",
       "      <th>16710</th>\n",
       "      <td>Samurai Warriors: Sanada Maru</td>\n",
       "      <td>PS3</td>\n",
       "      <td>2016.0</td>\n",
       "      <td>Action</td>\n",
       "      <td>0.00</td>\n",
       "      <td>0.00</td>\n",
       "      <td>0.01</td>\n",
       "      <td>0.00</td>\n",
       "      <td>NaN</td>\n",
       "      <td>NaN</td>\n",
       "      <td>Unknown</td>\n",
       "    </tr>\n",
       "    <tr>\n",
       "      <th>16711</th>\n",
       "      <td>LMA Manager 2007</td>\n",
       "      <td>X360</td>\n",
       "      <td>2006.0</td>\n",
       "      <td>Sports</td>\n",
       "      <td>0.00</td>\n",
       "      <td>0.01</td>\n",
       "      <td>0.00</td>\n",
       "      <td>0.00</td>\n",
       "      <td>NaN</td>\n",
       "      <td>NaN</td>\n",
       "      <td>Unknown</td>\n",
       "    </tr>\n",
       "    <tr>\n",
       "      <th>16712</th>\n",
       "      <td>Haitaka no Psychedelica</td>\n",
       "      <td>PSV</td>\n",
       "      <td>2016.0</td>\n",
       "      <td>Adventure</td>\n",
       "      <td>0.00</td>\n",
       "      <td>0.00</td>\n",
       "      <td>0.01</td>\n",
       "      <td>0.00</td>\n",
       "      <td>NaN</td>\n",
       "      <td>NaN</td>\n",
       "      <td>Unknown</td>\n",
       "    </tr>\n",
       "    <tr>\n",
       "      <th>16713</th>\n",
       "      <td>Spirits &amp; Spells</td>\n",
       "      <td>GBA</td>\n",
       "      <td>2003.0</td>\n",
       "      <td>Platform</td>\n",
       "      <td>0.01</td>\n",
       "      <td>0.00</td>\n",
       "      <td>0.00</td>\n",
       "      <td>0.00</td>\n",
       "      <td>NaN</td>\n",
       "      <td>NaN</td>\n",
       "      <td>Unknown</td>\n",
       "    </tr>\n",
       "    <tr>\n",
       "      <th>16714</th>\n",
       "      <td>Winning Post 8 2016</td>\n",
       "      <td>PSV</td>\n",
       "      <td>2016.0</td>\n",
       "      <td>Simulation</td>\n",
       "      <td>0.00</td>\n",
       "      <td>0.00</td>\n",
       "      <td>0.01</td>\n",
       "      <td>0.00</td>\n",
       "      <td>NaN</td>\n",
       "      <td>NaN</td>\n",
       "      <td>Unknown</td>\n",
       "    </tr>\n",
       "  </tbody>\n",
       "</table>\n",
       "<p>8461 rows × 11 columns</p>\n",
       "</div>"
      ],
      "text/plain": [
       "                                name platform  year_of_release         genre  \\\n",
       "1                  Super Mario Bros.      NES           1985.0      Platform   \n",
       "4           Pokemon Red/Pokemon Blue       GB           1996.0  Role-Playing   \n",
       "5                             Tetris       GB           1989.0        Puzzle   \n",
       "9                          Duck Hunt      NES           1984.0       Shooter   \n",
       "10                        Nintendogs       DS           2005.0    Simulation   \n",
       "...                              ...      ...              ...           ...   \n",
       "16710  Samurai Warriors: Sanada Maru      PS3           2016.0        Action   \n",
       "16711               LMA Manager 2007     X360           2006.0        Sports   \n",
       "16712        Haitaka no Psychedelica      PSV           2016.0     Adventure   \n",
       "16713               Spirits & Spells      GBA           2003.0      Platform   \n",
       "16714            Winning Post 8 2016      PSV           2016.0    Simulation   \n",
       "\n",
       "       na_sales  eu_sales  jp_sales  other_sales  critic_score user_score  \\\n",
       "1         29.08      3.58      6.81         0.77           NaN        NaN   \n",
       "4         11.27      8.89     10.22         1.00           NaN        NaN   \n",
       "5         23.20      2.26      4.22         0.58           NaN        NaN   \n",
       "9         26.93      0.63      0.28         0.47           NaN        NaN   \n",
       "10         9.05     10.95      1.93         2.74           NaN        NaN   \n",
       "...         ...       ...       ...          ...           ...        ...   \n",
       "16710      0.00      0.00      0.01         0.00           NaN        NaN   \n",
       "16711      0.00      0.01      0.00         0.00           NaN        NaN   \n",
       "16712      0.00      0.00      0.01         0.00           NaN        NaN   \n",
       "16713      0.01      0.00      0.00         0.00           NaN        NaN   \n",
       "16714      0.00      0.00      0.01         0.00           NaN        NaN   \n",
       "\n",
       "        rating  \n",
       "1      Unknown  \n",
       "4      Unknown  \n",
       "5      Unknown  \n",
       "9      Unknown  \n",
       "10     Unknown  \n",
       "...        ...  \n",
       "16710  Unknown  \n",
       "16711  Unknown  \n",
       "16712  Unknown  \n",
       "16713  Unknown  \n",
       "16714  Unknown  \n",
       "\n",
       "[8461 rows x 11 columns]"
      ]
     },
     "execution_count": 18,
     "metadata": {},
     "output_type": "execute_result"
    }
   ],
   "source": [
    "df[df['critic_score'].isnull()]"
   ]
  },
  {
   "cell_type": "markdown",
   "metadata": {},
   "source": [
    "На данном этапе оставим пропуски без изменений."
   ]
  },
  {
   "cell_type": "markdown",
   "metadata": {},
   "source": [
    "*`user_score`*"
   ]
  },
  {
   "cell_type": "code",
   "execution_count": 19,
   "metadata": {},
   "outputs": [
    {
     "data": {
      "text/html": [
       "<div>\n",
       "<style scoped>\n",
       "    .dataframe tbody tr th:only-of-type {\n",
       "        vertical-align: middle;\n",
       "    }\n",
       "\n",
       "    .dataframe tbody tr th {\n",
       "        vertical-align: top;\n",
       "    }\n",
       "\n",
       "    .dataframe thead th {\n",
       "        text-align: right;\n",
       "    }\n",
       "</style>\n",
       "<table border=\"1\" class=\"dataframe\">\n",
       "  <thead>\n",
       "    <tr style=\"text-align: right;\">\n",
       "      <th></th>\n",
       "      <th>name</th>\n",
       "      <th>platform</th>\n",
       "      <th>year_of_release</th>\n",
       "      <th>genre</th>\n",
       "      <th>na_sales</th>\n",
       "      <th>eu_sales</th>\n",
       "      <th>jp_sales</th>\n",
       "      <th>other_sales</th>\n",
       "      <th>critic_score</th>\n",
       "      <th>user_score</th>\n",
       "      <th>rating</th>\n",
       "    </tr>\n",
       "  </thead>\n",
       "  <tbody>\n",
       "    <tr>\n",
       "      <th>1</th>\n",
       "      <td>Super Mario Bros.</td>\n",
       "      <td>NES</td>\n",
       "      <td>1985.0</td>\n",
       "      <td>Platform</td>\n",
       "      <td>29.08</td>\n",
       "      <td>3.58</td>\n",
       "      <td>6.81</td>\n",
       "      <td>0.77</td>\n",
       "      <td>NaN</td>\n",
       "      <td>NaN</td>\n",
       "      <td>Unknown</td>\n",
       "    </tr>\n",
       "    <tr>\n",
       "      <th>4</th>\n",
       "      <td>Pokemon Red/Pokemon Blue</td>\n",
       "      <td>GB</td>\n",
       "      <td>1996.0</td>\n",
       "      <td>Role-Playing</td>\n",
       "      <td>11.27</td>\n",
       "      <td>8.89</td>\n",
       "      <td>10.22</td>\n",
       "      <td>1.00</td>\n",
       "      <td>NaN</td>\n",
       "      <td>NaN</td>\n",
       "      <td>Unknown</td>\n",
       "    </tr>\n",
       "    <tr>\n",
       "      <th>5</th>\n",
       "      <td>Tetris</td>\n",
       "      <td>GB</td>\n",
       "      <td>1989.0</td>\n",
       "      <td>Puzzle</td>\n",
       "      <td>23.20</td>\n",
       "      <td>2.26</td>\n",
       "      <td>4.22</td>\n",
       "      <td>0.58</td>\n",
       "      <td>NaN</td>\n",
       "      <td>NaN</td>\n",
       "      <td>Unknown</td>\n",
       "    </tr>\n",
       "    <tr>\n",
       "      <th>9</th>\n",
       "      <td>Duck Hunt</td>\n",
       "      <td>NES</td>\n",
       "      <td>1984.0</td>\n",
       "      <td>Shooter</td>\n",
       "      <td>26.93</td>\n",
       "      <td>0.63</td>\n",
       "      <td>0.28</td>\n",
       "      <td>0.47</td>\n",
       "      <td>NaN</td>\n",
       "      <td>NaN</td>\n",
       "      <td>Unknown</td>\n",
       "    </tr>\n",
       "    <tr>\n",
       "      <th>10</th>\n",
       "      <td>Nintendogs</td>\n",
       "      <td>DS</td>\n",
       "      <td>2005.0</td>\n",
       "      <td>Simulation</td>\n",
       "      <td>9.05</td>\n",
       "      <td>10.95</td>\n",
       "      <td>1.93</td>\n",
       "      <td>2.74</td>\n",
       "      <td>NaN</td>\n",
       "      <td>NaN</td>\n",
       "      <td>Unknown</td>\n",
       "    </tr>\n",
       "    <tr>\n",
       "      <th>...</th>\n",
       "      <td>...</td>\n",
       "      <td>...</td>\n",
       "      <td>...</td>\n",
       "      <td>...</td>\n",
       "      <td>...</td>\n",
       "      <td>...</td>\n",
       "      <td>...</td>\n",
       "      <td>...</td>\n",
       "      <td>...</td>\n",
       "      <td>...</td>\n",
       "      <td>...</td>\n",
       "    </tr>\n",
       "    <tr>\n",
       "      <th>16710</th>\n",
       "      <td>Samurai Warriors: Sanada Maru</td>\n",
       "      <td>PS3</td>\n",
       "      <td>2016.0</td>\n",
       "      <td>Action</td>\n",
       "      <td>0.00</td>\n",
       "      <td>0.00</td>\n",
       "      <td>0.01</td>\n",
       "      <td>0.00</td>\n",
       "      <td>NaN</td>\n",
       "      <td>NaN</td>\n",
       "      <td>Unknown</td>\n",
       "    </tr>\n",
       "    <tr>\n",
       "      <th>16711</th>\n",
       "      <td>LMA Manager 2007</td>\n",
       "      <td>X360</td>\n",
       "      <td>2006.0</td>\n",
       "      <td>Sports</td>\n",
       "      <td>0.00</td>\n",
       "      <td>0.01</td>\n",
       "      <td>0.00</td>\n",
       "      <td>0.00</td>\n",
       "      <td>NaN</td>\n",
       "      <td>NaN</td>\n",
       "      <td>Unknown</td>\n",
       "    </tr>\n",
       "    <tr>\n",
       "      <th>16712</th>\n",
       "      <td>Haitaka no Psychedelica</td>\n",
       "      <td>PSV</td>\n",
       "      <td>2016.0</td>\n",
       "      <td>Adventure</td>\n",
       "      <td>0.00</td>\n",
       "      <td>0.00</td>\n",
       "      <td>0.01</td>\n",
       "      <td>0.00</td>\n",
       "      <td>NaN</td>\n",
       "      <td>NaN</td>\n",
       "      <td>Unknown</td>\n",
       "    </tr>\n",
       "    <tr>\n",
       "      <th>16713</th>\n",
       "      <td>Spirits &amp; Spells</td>\n",
       "      <td>GBA</td>\n",
       "      <td>2003.0</td>\n",
       "      <td>Platform</td>\n",
       "      <td>0.01</td>\n",
       "      <td>0.00</td>\n",
       "      <td>0.00</td>\n",
       "      <td>0.00</td>\n",
       "      <td>NaN</td>\n",
       "      <td>NaN</td>\n",
       "      <td>Unknown</td>\n",
       "    </tr>\n",
       "    <tr>\n",
       "      <th>16714</th>\n",
       "      <td>Winning Post 8 2016</td>\n",
       "      <td>PSV</td>\n",
       "      <td>2016.0</td>\n",
       "      <td>Simulation</td>\n",
       "      <td>0.00</td>\n",
       "      <td>0.00</td>\n",
       "      <td>0.01</td>\n",
       "      <td>0.00</td>\n",
       "      <td>NaN</td>\n",
       "      <td>NaN</td>\n",
       "      <td>Unknown</td>\n",
       "    </tr>\n",
       "  </tbody>\n",
       "</table>\n",
       "<p>6605 rows × 11 columns</p>\n",
       "</div>"
      ],
      "text/plain": [
       "                                name platform  year_of_release         genre  \\\n",
       "1                  Super Mario Bros.      NES           1985.0      Platform   \n",
       "4           Pokemon Red/Pokemon Blue       GB           1996.0  Role-Playing   \n",
       "5                             Tetris       GB           1989.0        Puzzle   \n",
       "9                          Duck Hunt      NES           1984.0       Shooter   \n",
       "10                        Nintendogs       DS           2005.0    Simulation   \n",
       "...                              ...      ...              ...           ...   \n",
       "16710  Samurai Warriors: Sanada Maru      PS3           2016.0        Action   \n",
       "16711               LMA Manager 2007     X360           2006.0        Sports   \n",
       "16712        Haitaka no Psychedelica      PSV           2016.0     Adventure   \n",
       "16713               Spirits & Spells      GBA           2003.0      Platform   \n",
       "16714            Winning Post 8 2016      PSV           2016.0    Simulation   \n",
       "\n",
       "       na_sales  eu_sales  jp_sales  other_sales  critic_score user_score  \\\n",
       "1         29.08      3.58      6.81         0.77           NaN        NaN   \n",
       "4         11.27      8.89     10.22         1.00           NaN        NaN   \n",
       "5         23.20      2.26      4.22         0.58           NaN        NaN   \n",
       "9         26.93      0.63      0.28         0.47           NaN        NaN   \n",
       "10         9.05     10.95      1.93         2.74           NaN        NaN   \n",
       "...         ...       ...       ...          ...           ...        ...   \n",
       "16710      0.00      0.00      0.01         0.00           NaN        NaN   \n",
       "16711      0.00      0.01      0.00         0.00           NaN        NaN   \n",
       "16712      0.00      0.00      0.01         0.00           NaN        NaN   \n",
       "16713      0.01      0.00      0.00         0.00           NaN        NaN   \n",
       "16714      0.00      0.00      0.01         0.00           NaN        NaN   \n",
       "\n",
       "        rating  \n",
       "1      Unknown  \n",
       "4      Unknown  \n",
       "5      Unknown  \n",
       "9      Unknown  \n",
       "10     Unknown  \n",
       "...        ...  \n",
       "16710  Unknown  \n",
       "16711  Unknown  \n",
       "16712  Unknown  \n",
       "16713  Unknown  \n",
       "16714  Unknown  \n",
       "\n",
       "[6605 rows x 11 columns]"
      ]
     },
     "execution_count": 19,
     "metadata": {},
     "output_type": "execute_result"
    }
   ],
   "source": [
    "df[df['user_score'].isnull()]"
   ]
  },
  {
   "cell_type": "code",
   "execution_count": 20,
   "metadata": {},
   "outputs": [
    {
     "data": {
      "text/plain": [
       "array(['8', nan, '8.3', '8.5', '6.6', '8.4', '8.6', '7.7', '6.3', '7.4',\n",
       "       '8.2', '9', '7.9', '8.1', '8.7', '7.1', '3.4', '5.3', '4.8', '3.2',\n",
       "       '8.9', '6.4', '7.8', '7.5', '2.6', '7.2', '9.2', '7', '7.3', '4.3',\n",
       "       '7.6', '5.7', '5', '9.1', '6.5', 'tbd', '8.8', '6.9', '9.4', '6.8',\n",
       "       '6.1', '6.7', '5.4', '4', '4.9', '4.5', '9.3', '6.2', '4.2', '6',\n",
       "       '3.7', '4.1', '5.8', '5.6', '5.5', '4.4', '4.6', '5.9', '3.9',\n",
       "       '3.1', '2.9', '5.2', '3.3', '4.7', '5.1', '3.5', '2.5', '1.9', '3',\n",
       "       '2.7', '2.2', '2', '9.5', '2.1', '3.6', '2.8', '1.8', '3.8', '0',\n",
       "       '1.6', '9.6', '2.4', '1.7', '1.1', '0.3', '1.5', '0.7', '1.2',\n",
       "       '2.3', '0.5', '1.3', '0.2', '0.6', '1.4', '0.9', '1', '9.7'],\n",
       "      dtype=object)"
      ]
     },
     "execution_count": 20,
     "metadata": {},
     "output_type": "execute_result"
    }
   ],
   "source": [
    "df['user_score'].unique()"
   ]
  },
  {
   "cell_type": "code",
   "execution_count": 21,
   "metadata": {},
   "outputs": [
    {
     "data": {
      "text/plain": [
       "2376"
      ]
     },
     "execution_count": 21,
     "metadata": {},
     "output_type": "execute_result"
    }
   ],
   "source": [
    "len(df[df['user_score'] == 'tbd'])"
   ]
  },
  {
   "cell_type": "markdown",
   "metadata": {},
   "source": [
    "Также на данном этапе пока оставим пропуски без изменений."
   ]
  },
  {
   "cell_type": "markdown",
   "metadata": {},
   "source": [
    "**Изменение типов данных**"
   ]
  },
  {
   "cell_type": "code",
   "execution_count": 22,
   "metadata": {},
   "outputs": [],
   "source": [
    "df['year_of_release'] = df['year_of_release'].astype('int')"
   ]
  },
  {
   "cell_type": "markdown",
   "metadata": {},
   "source": [
    "**Суммарные продажи по регионам**"
   ]
  },
  {
   "cell_type": "code",
   "execution_count": 23,
   "metadata": {},
   "outputs": [
    {
     "data": {
      "text/html": [
       "<div>\n",
       "<style scoped>\n",
       "    .dataframe tbody tr th:only-of-type {\n",
       "        vertical-align: middle;\n",
       "    }\n",
       "\n",
       "    .dataframe tbody tr th {\n",
       "        vertical-align: top;\n",
       "    }\n",
       "\n",
       "    .dataframe thead th {\n",
       "        text-align: right;\n",
       "    }\n",
       "</style>\n",
       "<table border=\"1\" class=\"dataframe\">\n",
       "  <thead>\n",
       "    <tr style=\"text-align: right;\">\n",
       "      <th></th>\n",
       "      <th>name</th>\n",
       "      <th>platform</th>\n",
       "      <th>year_of_release</th>\n",
       "      <th>genre</th>\n",
       "      <th>na_sales</th>\n",
       "      <th>eu_sales</th>\n",
       "      <th>jp_sales</th>\n",
       "      <th>other_sales</th>\n",
       "      <th>critic_score</th>\n",
       "      <th>user_score</th>\n",
       "      <th>rating</th>\n",
       "      <th>total_sales</th>\n",
       "    </tr>\n",
       "  </thead>\n",
       "  <tbody>\n",
       "    <tr>\n",
       "      <th>0</th>\n",
       "      <td>Wii Sports</td>\n",
       "      <td>Wii</td>\n",
       "      <td>2006</td>\n",
       "      <td>Sports</td>\n",
       "      <td>41.36</td>\n",
       "      <td>28.96</td>\n",
       "      <td>3.77</td>\n",
       "      <td>8.45</td>\n",
       "      <td>76.0</td>\n",
       "      <td>8</td>\n",
       "      <td>E</td>\n",
       "      <td>82.54</td>\n",
       "    </tr>\n",
       "    <tr>\n",
       "      <th>1</th>\n",
       "      <td>Super Mario Bros.</td>\n",
       "      <td>NES</td>\n",
       "      <td>1985</td>\n",
       "      <td>Platform</td>\n",
       "      <td>29.08</td>\n",
       "      <td>3.58</td>\n",
       "      <td>6.81</td>\n",
       "      <td>0.77</td>\n",
       "      <td>NaN</td>\n",
       "      <td>NaN</td>\n",
       "      <td>Unknown</td>\n",
       "      <td>40.24</td>\n",
       "    </tr>\n",
       "    <tr>\n",
       "      <th>2</th>\n",
       "      <td>Mario Kart Wii</td>\n",
       "      <td>Wii</td>\n",
       "      <td>2008</td>\n",
       "      <td>Racing</td>\n",
       "      <td>15.68</td>\n",
       "      <td>12.76</td>\n",
       "      <td>3.79</td>\n",
       "      <td>3.29</td>\n",
       "      <td>82.0</td>\n",
       "      <td>8.3</td>\n",
       "      <td>E</td>\n",
       "      <td>35.52</td>\n",
       "    </tr>\n",
       "    <tr>\n",
       "      <th>3</th>\n",
       "      <td>Wii Sports Resort</td>\n",
       "      <td>Wii</td>\n",
       "      <td>2009</td>\n",
       "      <td>Sports</td>\n",
       "      <td>15.61</td>\n",
       "      <td>10.93</td>\n",
       "      <td>3.28</td>\n",
       "      <td>2.95</td>\n",
       "      <td>80.0</td>\n",
       "      <td>8</td>\n",
       "      <td>E</td>\n",
       "      <td>32.77</td>\n",
       "    </tr>\n",
       "    <tr>\n",
       "      <th>4</th>\n",
       "      <td>Pokemon Red/Pokemon Blue</td>\n",
       "      <td>GB</td>\n",
       "      <td>1996</td>\n",
       "      <td>Role-Playing</td>\n",
       "      <td>11.27</td>\n",
       "      <td>8.89</td>\n",
       "      <td>10.22</td>\n",
       "      <td>1.00</td>\n",
       "      <td>NaN</td>\n",
       "      <td>NaN</td>\n",
       "      <td>Unknown</td>\n",
       "      <td>31.38</td>\n",
       "    </tr>\n",
       "    <tr>\n",
       "      <th>...</th>\n",
       "      <td>...</td>\n",
       "      <td>...</td>\n",
       "      <td>...</td>\n",
       "      <td>...</td>\n",
       "      <td>...</td>\n",
       "      <td>...</td>\n",
       "      <td>...</td>\n",
       "      <td>...</td>\n",
       "      <td>...</td>\n",
       "      <td>...</td>\n",
       "      <td>...</td>\n",
       "      <td>...</td>\n",
       "    </tr>\n",
       "    <tr>\n",
       "      <th>16710</th>\n",
       "      <td>Samurai Warriors: Sanada Maru</td>\n",
       "      <td>PS3</td>\n",
       "      <td>2016</td>\n",
       "      <td>Action</td>\n",
       "      <td>0.00</td>\n",
       "      <td>0.00</td>\n",
       "      <td>0.01</td>\n",
       "      <td>0.00</td>\n",
       "      <td>NaN</td>\n",
       "      <td>NaN</td>\n",
       "      <td>Unknown</td>\n",
       "      <td>0.01</td>\n",
       "    </tr>\n",
       "    <tr>\n",
       "      <th>16711</th>\n",
       "      <td>LMA Manager 2007</td>\n",
       "      <td>X360</td>\n",
       "      <td>2006</td>\n",
       "      <td>Sports</td>\n",
       "      <td>0.00</td>\n",
       "      <td>0.01</td>\n",
       "      <td>0.00</td>\n",
       "      <td>0.00</td>\n",
       "      <td>NaN</td>\n",
       "      <td>NaN</td>\n",
       "      <td>Unknown</td>\n",
       "      <td>0.01</td>\n",
       "    </tr>\n",
       "    <tr>\n",
       "      <th>16712</th>\n",
       "      <td>Haitaka no Psychedelica</td>\n",
       "      <td>PSV</td>\n",
       "      <td>2016</td>\n",
       "      <td>Adventure</td>\n",
       "      <td>0.00</td>\n",
       "      <td>0.00</td>\n",
       "      <td>0.01</td>\n",
       "      <td>0.00</td>\n",
       "      <td>NaN</td>\n",
       "      <td>NaN</td>\n",
       "      <td>Unknown</td>\n",
       "      <td>0.01</td>\n",
       "    </tr>\n",
       "    <tr>\n",
       "      <th>16713</th>\n",
       "      <td>Spirits &amp; Spells</td>\n",
       "      <td>GBA</td>\n",
       "      <td>2003</td>\n",
       "      <td>Platform</td>\n",
       "      <td>0.01</td>\n",
       "      <td>0.00</td>\n",
       "      <td>0.00</td>\n",
       "      <td>0.00</td>\n",
       "      <td>NaN</td>\n",
       "      <td>NaN</td>\n",
       "      <td>Unknown</td>\n",
       "      <td>0.01</td>\n",
       "    </tr>\n",
       "    <tr>\n",
       "      <th>16714</th>\n",
       "      <td>Winning Post 8 2016</td>\n",
       "      <td>PSV</td>\n",
       "      <td>2016</td>\n",
       "      <td>Simulation</td>\n",
       "      <td>0.00</td>\n",
       "      <td>0.00</td>\n",
       "      <td>0.01</td>\n",
       "      <td>0.00</td>\n",
       "      <td>NaN</td>\n",
       "      <td>NaN</td>\n",
       "      <td>Unknown</td>\n",
       "      <td>0.01</td>\n",
       "    </tr>\n",
       "  </tbody>\n",
       "</table>\n",
       "<p>16444 rows × 12 columns</p>\n",
       "</div>"
      ],
      "text/plain": [
       "                                name platform  year_of_release         genre  \\\n",
       "0                         Wii Sports      Wii             2006        Sports   \n",
       "1                  Super Mario Bros.      NES             1985      Platform   \n",
       "2                     Mario Kart Wii      Wii             2008        Racing   \n",
       "3                  Wii Sports Resort      Wii             2009        Sports   \n",
       "4           Pokemon Red/Pokemon Blue       GB             1996  Role-Playing   \n",
       "...                              ...      ...              ...           ...   \n",
       "16710  Samurai Warriors: Sanada Maru      PS3             2016        Action   \n",
       "16711               LMA Manager 2007     X360             2006        Sports   \n",
       "16712        Haitaka no Psychedelica      PSV             2016     Adventure   \n",
       "16713               Spirits & Spells      GBA             2003      Platform   \n",
       "16714            Winning Post 8 2016      PSV             2016    Simulation   \n",
       "\n",
       "       na_sales  eu_sales  jp_sales  other_sales  critic_score user_score  \\\n",
       "0         41.36     28.96      3.77         8.45          76.0          8   \n",
       "1         29.08      3.58      6.81         0.77           NaN        NaN   \n",
       "2         15.68     12.76      3.79         3.29          82.0        8.3   \n",
       "3         15.61     10.93      3.28         2.95          80.0          8   \n",
       "4         11.27      8.89     10.22         1.00           NaN        NaN   \n",
       "...         ...       ...       ...          ...           ...        ...   \n",
       "16710      0.00      0.00      0.01         0.00           NaN        NaN   \n",
       "16711      0.00      0.01      0.00         0.00           NaN        NaN   \n",
       "16712      0.00      0.00      0.01         0.00           NaN        NaN   \n",
       "16713      0.01      0.00      0.00         0.00           NaN        NaN   \n",
       "16714      0.00      0.00      0.01         0.00           NaN        NaN   \n",
       "\n",
       "        rating  total_sales  \n",
       "0            E        82.54  \n",
       "1      Unknown        40.24  \n",
       "2            E        35.52  \n",
       "3            E        32.77  \n",
       "4      Unknown        31.38  \n",
       "...        ...          ...  \n",
       "16710  Unknown         0.01  \n",
       "16711  Unknown         0.01  \n",
       "16712  Unknown         0.01  \n",
       "16713  Unknown         0.01  \n",
       "16714  Unknown         0.01  \n",
       "\n",
       "[16444 rows x 12 columns]"
      ]
     },
     "execution_count": 23,
     "metadata": {},
     "output_type": "execute_result"
    }
   ],
   "source": [
    "df['total_sales'] = df[['na_sales','eu_sales','jp_sales', 'other_sales']].sum(axis = 1)\n",
    "df"
   ]
  },
  {
   "cell_type": "markdown",
   "metadata": {},
   "source": [
    "## Исследовательский анализ"
   ]
  },
  {
   "cell_type": "markdown",
   "metadata": {},
   "source": [
    "### Cколько игр выпускалось в разные годы? Важны ли данные за все периоды?"
   ]
  },
  {
   "cell_type": "code",
   "execution_count": 24,
   "metadata": {},
   "outputs": [
    {
     "data": {
      "image/png": "[encoded data removed]",
      "text/plain": [
       "<Figure size 1080x576 with 1 Axes>"
      ]
     },
     "metadata": {
      "needs_background": "light"
     },
     "output_type": "display_data"
    }
   ],
   "source": [
    "platform_sales = df.pivot_table(index='year_of_release', values='total_sales', aggfunc='count')\n",
    "plt.figure(figsize=(15, 8))\n",
    "(sns.lineplot(data = platform_sales, x = platform_sales.index, y = 'total_sales')\n",
    "    .set(title = 'Динамика выпуска игр по годам', xlabel = 'Год', ylabel = 'Количество выпущенных игр'))\n",
    "plt.show()"
   ]
  },
  {
   "cell_type": "markdown",
   "metadata": {},
   "source": [
    "**Вывод:**\n",
    "\n",
    "Видно постепенное развитие индустрии компьютерных игр начиная с 1990 года, а после 2010 наоборот имеет падающий характер.\n",
    "\n",
    "Предлагаю рассматривать данные за последние 10 лет, т.к. в более ранних годах индустрия компьютерных игр была совсем другой."
   ]
  },
  {
   "cell_type": "markdown",
   "metadata": {},
   "source": [
    "### Актуальные платформы"
   ]
  },
  {
   "cell_type": "code",
   "execution_count": 25,
   "metadata": {},
   "outputs": [
    {
     "data": {
      "image/png": "[encoded data removed]",
      "text/plain": [
       "<Figure size 936x576 with 1 Axes>"
      ]
     },
     "metadata": {
      "needs_background": "light"
     },
     "output_type": "display_data"
    }
   ],
   "source": [
    "platform_sales = (\n",
    "    df\n",
    "    .pivot_table(index='platform', values='total_sales', aggfunc='sum')\n",
    "    .sort_values('total_sales', ascending=False)\n",
    ")\n",
    "plt.figure(figsize=(13, 8))\n",
    "(sns.barplot(data = platform_sales, x = platform_sales.index, y = 'total_sales', color = 'green')\n",
    "    .set(title = 'Продажи по платформам', xlabel = 'Платформы', ylabel = 'Общие продажи'))\n",
    "plt.show()"
   ]
  },
  {
   "cell_type": "markdown",
   "metadata": {},
   "source": [
    "Посмотрим на топ-6 игровых платформ:"
   ]
  },
  {
   "cell_type": "code",
   "execution_count": 26,
   "metadata": {
    "scrolled": false
   },
   "outputs": [
    {
     "name": "stdout",
     "output_type": "stream",
     "text": [
      "PS2\n"
     ]
    },
    {
     "data": {
      "image/png": "[encoded data removed]",
      "text/plain": [
       "<Figure size 432x288 with 1 Axes>"
      ]
     },
     "metadata": {
      "needs_background": "light"
     },
     "output_type": "display_data"
    },
    {
     "name": "stdout",
     "output_type": "stream",
     "text": [
      "X360\n"
     ]
    },
    {
     "data": {
      "image/png": "[encoded data removed]",
      "text/plain": [
       "<Figure size 432x288 with 1 Axes>"
      ]
     },
     "metadata": {
      "needs_background": "light"
     },
     "output_type": "display_data"
    },
    {
     "name": "stdout",
     "output_type": "stream",
     "text": [
      "PS3\n"
     ]
    },
    {
     "data": {
      "image/png": "[encoded data removed]",
      "text/plain": [
       "<Figure size 432x288 with 1 Axes>"
      ]
     },
     "metadata": {
      "needs_background": "light"
     },
     "output_type": "display_data"
    },
    {
     "name": "stdout",
     "output_type": "stream",
     "text": [
      "Wii\n"
     ]
    },
    {
     "data": {
      "image/png": "[encoded data removed]",
      "text/plain": [
       "<Figure size 432x288 with 1 Axes>"
      ]
     },
     "metadata": {
      "needs_background": "light"
     },
     "output_type": "display_data"
    },
    {
     "name": "stdout",
     "output_type": "stream",
     "text": [
      "DS\n"
     ]
    },
    {
     "data": {
      "image/png": "[encoded data removed]",
      "text/plain": [
       "<Figure size 432x288 with 1 Axes>"
      ]
     },
     "metadata": {
      "needs_background": "light"
     },
     "output_type": "display_data"
    },
    {
     "name": "stdout",
     "output_type": "stream",
     "text": [
      "PS\n"
     ]
    },
    {
     "data": {
      "image/png": "[encoded data removed]",
      "text/plain": [
       "<Figure size 432x288 with 1 Axes>"
      ]
     },
     "metadata": {
      "needs_background": "light"
     },
     "output_type": "display_data"
    }
   ],
   "source": [
    "for platform in platform_sales.index[:6]:\n",
    "    print(platform)\n",
    "    (df\n",
    "     .query('platform == @platform')\n",
    "     .pivot_table(index='year_of_release', values='total_sales', aggfunc='sum')\n",
    "     .plot(kind='bar')\n",
    "    )\n",
    "    plt.show()"
   ]
  },
  {
   "cell_type": "markdown",
   "metadata": {},
   "source": [
    "**Вывод:**\n",
    "    \n",
    "Среднее время актуальности платформы - 10 лет\n",
    "\n",
    "Распеределия продаж каждой из топ-6 плафторм похожи на нормальные (большинство скошены влево). Т.е платформа набирает свою популярность постепенно, и к середине достигает своего пика, потом идет на спад."
   ]
  },
  {
   "cell_type": "markdown",
   "metadata": {},
   "source": [
    "### Актуальный период"
   ]
  },
  {
   "cell_type": "markdown",
   "metadata": {},
   "source": [
    "Для построения прогнозов на 2017 год актуальными данными будем считать данные хранящиеся с 2014 года включительно"
   ]
  },
  {
   "cell_type": "code",
   "execution_count": 27,
   "metadata": {},
   "outputs": [
    {
     "data": {
      "text/html": [
       "<div>\n",
       "<style scoped>\n",
       "    .dataframe tbody tr th:only-of-type {\n",
       "        vertical-align: middle;\n",
       "    }\n",
       "\n",
       "    .dataframe tbody tr th {\n",
       "        vertical-align: top;\n",
       "    }\n",
       "\n",
       "    .dataframe thead th {\n",
       "        text-align: right;\n",
       "    }\n",
       "</style>\n",
       "<table border=\"1\" class=\"dataframe\">\n",
       "  <thead>\n",
       "    <tr style=\"text-align: right;\">\n",
       "      <th></th>\n",
       "      <th>name</th>\n",
       "      <th>platform</th>\n",
       "      <th>year_of_release</th>\n",
       "      <th>genre</th>\n",
       "      <th>na_sales</th>\n",
       "      <th>eu_sales</th>\n",
       "      <th>jp_sales</th>\n",
       "      <th>other_sales</th>\n",
       "      <th>critic_score</th>\n",
       "      <th>user_score</th>\n",
       "      <th>rating</th>\n",
       "      <th>total_sales</th>\n",
       "    </tr>\n",
       "  </thead>\n",
       "  <tbody>\n",
       "    <tr>\n",
       "      <th>31</th>\n",
       "      <td>Call of Duty: Black Ops 3</td>\n",
       "      <td>PS4</td>\n",
       "      <td>2015</td>\n",
       "      <td>Shooter</td>\n",
       "      <td>6.03</td>\n",
       "      <td>5.86</td>\n",
       "      <td>0.36</td>\n",
       "      <td>2.38</td>\n",
       "      <td>NaN</td>\n",
       "      <td>NaN</td>\n",
       "      <td>Unknown</td>\n",
       "      <td>14.63</td>\n",
       "    </tr>\n",
       "    <tr>\n",
       "      <th>42</th>\n",
       "      <td>Grand Theft Auto V</td>\n",
       "      <td>PS4</td>\n",
       "      <td>2014</td>\n",
       "      <td>Action</td>\n",
       "      <td>3.96</td>\n",
       "      <td>6.31</td>\n",
       "      <td>0.38</td>\n",
       "      <td>1.97</td>\n",
       "      <td>97.0</td>\n",
       "      <td>8.3</td>\n",
       "      <td>M</td>\n",
       "      <td>12.62</td>\n",
       "    </tr>\n",
       "    <tr>\n",
       "      <th>47</th>\n",
       "      <td>Pokemon Omega Ruby/Pokemon Alpha Sapphire</td>\n",
       "      <td>3DS</td>\n",
       "      <td>2014</td>\n",
       "      <td>Role-Playing</td>\n",
       "      <td>4.35</td>\n",
       "      <td>3.49</td>\n",
       "      <td>3.10</td>\n",
       "      <td>0.74</td>\n",
       "      <td>NaN</td>\n",
       "      <td>NaN</td>\n",
       "      <td>Unknown</td>\n",
       "      <td>11.68</td>\n",
       "    </tr>\n",
       "    <tr>\n",
       "      <th>77</th>\n",
       "      <td>FIFA 16</td>\n",
       "      <td>PS4</td>\n",
       "      <td>2015</td>\n",
       "      <td>Sports</td>\n",
       "      <td>1.12</td>\n",
       "      <td>6.12</td>\n",
       "      <td>0.06</td>\n",
       "      <td>1.28</td>\n",
       "      <td>82.0</td>\n",
       "      <td>4.3</td>\n",
       "      <td>E</td>\n",
       "      <td>8.58</td>\n",
       "    </tr>\n",
       "    <tr>\n",
       "      <th>87</th>\n",
       "      <td>Star Wars Battlefront (2015)</td>\n",
       "      <td>PS4</td>\n",
       "      <td>2015</td>\n",
       "      <td>Shooter</td>\n",
       "      <td>2.99</td>\n",
       "      <td>3.49</td>\n",
       "      <td>0.22</td>\n",
       "      <td>1.28</td>\n",
       "      <td>NaN</td>\n",
       "      <td>NaN</td>\n",
       "      <td>Unknown</td>\n",
       "      <td>7.98</td>\n",
       "    </tr>\n",
       "    <tr>\n",
       "      <th>...</th>\n",
       "      <td>...</td>\n",
       "      <td>...</td>\n",
       "      <td>...</td>\n",
       "      <td>...</td>\n",
       "      <td>...</td>\n",
       "      <td>...</td>\n",
       "      <td>...</td>\n",
       "      <td>...</td>\n",
       "      <td>...</td>\n",
       "      <td>...</td>\n",
       "      <td>...</td>\n",
       "      <td>...</td>\n",
       "    </tr>\n",
       "    <tr>\n",
       "      <th>16703</th>\n",
       "      <td>Strawberry Nauts</td>\n",
       "      <td>PSV</td>\n",
       "      <td>2016</td>\n",
       "      <td>Adventure</td>\n",
       "      <td>0.00</td>\n",
       "      <td>0.00</td>\n",
       "      <td>0.01</td>\n",
       "      <td>0.00</td>\n",
       "      <td>NaN</td>\n",
       "      <td>NaN</td>\n",
       "      <td>Unknown</td>\n",
       "      <td>0.01</td>\n",
       "    </tr>\n",
       "    <tr>\n",
       "      <th>16707</th>\n",
       "      <td>Aiyoku no Eustia</td>\n",
       "      <td>PSV</td>\n",
       "      <td>2014</td>\n",
       "      <td>Misc</td>\n",
       "      <td>0.00</td>\n",
       "      <td>0.00</td>\n",
       "      <td>0.01</td>\n",
       "      <td>0.00</td>\n",
       "      <td>NaN</td>\n",
       "      <td>NaN</td>\n",
       "      <td>Unknown</td>\n",
       "      <td>0.01</td>\n",
       "    </tr>\n",
       "    <tr>\n",
       "      <th>16710</th>\n",
       "      <td>Samurai Warriors: Sanada Maru</td>\n",
       "      <td>PS3</td>\n",
       "      <td>2016</td>\n",
       "      <td>Action</td>\n",
       "      <td>0.00</td>\n",
       "      <td>0.00</td>\n",
       "      <td>0.01</td>\n",
       "      <td>0.00</td>\n",
       "      <td>NaN</td>\n",
       "      <td>NaN</td>\n",
       "      <td>Unknown</td>\n",
       "      <td>0.01</td>\n",
       "    </tr>\n",
       "    <tr>\n",
       "      <th>16712</th>\n",
       "      <td>Haitaka no Psychedelica</td>\n",
       "      <td>PSV</td>\n",
       "      <td>2016</td>\n",
       "      <td>Adventure</td>\n",
       "      <td>0.00</td>\n",
       "      <td>0.00</td>\n",
       "      <td>0.01</td>\n",
       "      <td>0.00</td>\n",
       "      <td>NaN</td>\n",
       "      <td>NaN</td>\n",
       "      <td>Unknown</td>\n",
       "      <td>0.01</td>\n",
       "    </tr>\n",
       "    <tr>\n",
       "      <th>16714</th>\n",
       "      <td>Winning Post 8 2016</td>\n",
       "      <td>PSV</td>\n",
       "      <td>2016</td>\n",
       "      <td>Simulation</td>\n",
       "      <td>0.00</td>\n",
       "      <td>0.00</td>\n",
       "      <td>0.01</td>\n",
       "      <td>0.00</td>\n",
       "      <td>NaN</td>\n",
       "      <td>NaN</td>\n",
       "      <td>Unknown</td>\n",
       "      <td>0.01</td>\n",
       "    </tr>\n",
       "  </tbody>\n",
       "</table>\n",
       "<p>1689 rows × 12 columns</p>\n",
       "</div>"
      ],
      "text/plain": [
       "                                            name platform  year_of_release  \\\n",
       "31                     Call of Duty: Black Ops 3      PS4             2015   \n",
       "42                            Grand Theft Auto V      PS4             2014   \n",
       "47     Pokemon Omega Ruby/Pokemon Alpha Sapphire      3DS             2014   \n",
       "77                                       FIFA 16      PS4             2015   \n",
       "87                  Star Wars Battlefront (2015)      PS4             2015   \n",
       "...                                          ...      ...              ...   \n",
       "16703                           Strawberry Nauts      PSV             2016   \n",
       "16707                           Aiyoku no Eustia      PSV             2014   \n",
       "16710              Samurai Warriors: Sanada Maru      PS3             2016   \n",
       "16712                    Haitaka no Psychedelica      PSV             2016   \n",
       "16714                        Winning Post 8 2016      PSV             2016   \n",
       "\n",
       "              genre  na_sales  eu_sales  jp_sales  other_sales  critic_score  \\\n",
       "31          Shooter      6.03      5.86      0.36         2.38           NaN   \n",
       "42           Action      3.96      6.31      0.38         1.97          97.0   \n",
       "47     Role-Playing      4.35      3.49      3.10         0.74           NaN   \n",
       "77           Sports      1.12      6.12      0.06         1.28          82.0   \n",
       "87          Shooter      2.99      3.49      0.22         1.28           NaN   \n",
       "...             ...       ...       ...       ...          ...           ...   \n",
       "16703     Adventure      0.00      0.00      0.01         0.00           NaN   \n",
       "16707          Misc      0.00      0.00      0.01         0.00           NaN   \n",
       "16710        Action      0.00      0.00      0.01         0.00           NaN   \n",
       "16712     Adventure      0.00      0.00      0.01         0.00           NaN   \n",
       "16714    Simulation      0.00      0.00      0.01         0.00           NaN   \n",
       "\n",
       "      user_score   rating  total_sales  \n",
       "31           NaN  Unknown        14.63  \n",
       "42           8.3        M        12.62  \n",
       "47           NaN  Unknown        11.68  \n",
       "77           4.3        E         8.58  \n",
       "87           NaN  Unknown         7.98  \n",
       "...          ...      ...          ...  \n",
       "16703        NaN  Unknown         0.01  \n",
       "16707        NaN  Unknown         0.01  \n",
       "16710        NaN  Unknown         0.01  \n",
       "16712        NaN  Unknown         0.01  \n",
       "16714        NaN  Unknown         0.01  \n",
       "\n",
       "[1689 rows x 12 columns]"
      ]
     },
     "execution_count": 27,
     "metadata": {},
     "output_type": "execute_result"
    }
   ],
   "source": [
    "act_df = df.query('year_of_release >= 2014').copy()\n",
    "act_df"
   ]
  },
  {
   "cell_type": "markdown",
   "metadata": {},
   "source": [
    "### Потенциально прибыльные платформы"
   ]
  },
  {
   "cell_type": "code",
   "execution_count": 28,
   "metadata": {},
   "outputs": [
    {
     "data": {
      "image/png": "[encoded data removed]",
      "text/plain": [
       "<Figure size 936x576 with 1 Axes>"
      ]
     },
     "metadata": {
      "needs_background": "light"
     },
     "output_type": "display_data"
    }
   ],
   "source": [
    "act_platform = (\n",
    "    act_df\n",
    "    .pivot_table(index='platform', values='total_sales', aggfunc='sum')\n",
    "    .sort_values('total_sales', ascending=False)\n",
    ")\n",
    "plt.figure(figsize=(13, 8))\n",
    "(sns.barplot(data = act_platform, x = act_platform.index, y = 'total_sales', color = 'green')\n",
    "    .set(title = 'Продажи по платформам за 2014-2016 гг', xlabel = 'Платформы', ylabel = 'Общие продажи'))\n",
    "plt.show()"
   ]
  },
  {
   "cell_type": "markdown",
   "metadata": {},
   "source": [
    "Оставим очевидных лидеров: Wii и PSP исключим."
   ]
  },
  {
   "cell_type": "code",
   "execution_count": 29,
   "metadata": {},
   "outputs": [],
   "source": [
    "act_df = act_df[act_df['platform'] != 'Wii']\n",
    "act_df = act_df[act_df['platform'] != 'PSP']"
   ]
  },
  {
   "cell_type": "markdown",
   "metadata": {},
   "source": [
    "### Глобальные продажи игр по платформам"
   ]
  },
  {
   "cell_type": "code",
   "execution_count": 30,
   "metadata": {},
   "outputs": [
    {
     "data": {
      "image/png": "[encoded data removed]",
      "text/plain": [
       "<Figure size 936x576 with 1 Axes>"
      ]
     },
     "metadata": {
      "needs_background": "light"
     },
     "output_type": "display_data"
    }
   ],
   "source": [
    "plt.figure(figsize=(13, 8))\n",
    "(sns.boxplot(data = act_df, y = 'total_sales', x='platform')\n",
    "    .set(title = 'Продажи по перспективным платформам за 2014-2016 гг', xlabel = 'Платформы', ylabel = 'Общие продажи', ylim=(0, 3)))\n",
    "plt.show()"
   ]
  },
  {
   "cell_type": "code",
   "execution_count": 31,
   "metadata": {},
   "outputs": [
    {
     "data": {
      "image/png": "[encoded data removed]",
      "text/plain": [
       "<Figure size 936x576 with 1 Axes>"
      ]
     },
     "metadata": {
      "needs_background": "light"
     },
     "output_type": "display_data"
    }
   ],
   "source": [
    "plt.figure(figsize=(13, 8))\n",
    "(sns.boxplot(data = act_df, y = 'total_sales', x='platform')\n",
    "    .set(title = 'Продажи по перспективным платформам за 2014-2016 гг', xlabel = 'Платформы', ylabel = 'Общие продажи'))\n",
    "plt.show()"
   ]
  },
  {
   "cell_type": "markdown",
   "metadata": {},
   "source": [
    "**Вывод:** \n",
    "Очевидной зависимости спроса на цену не прослеживается, т.е. продажи на платформе PS4 практически больше в два раза, чем у следующего конкурента XOne, но средняя цена за игру XOne чуть выше средней цены на PS4.\n",
    "\n",
    "PC и PSV - очевидные остающие."
   ]
  },
  {
   "cell_type": "markdown",
   "metadata": {},
   "source": [
    "### Влияние отзывов пользователей и критиков на продажи"
   ]
  },
  {
   "cell_type": "markdown",
   "metadata": {},
   "source": [
    "Заполним пропуски в столбцах critic_score и user_score значением заглушкой \"-5\"."
   ]
  },
  {
   "cell_type": "code",
   "execution_count": 32,
   "metadata": {},
   "outputs": [],
   "source": [
    "act_df['user_score'] = act_df['user_score'].replace('tbd', np.NaN)\n",
    "act_df['user_score'] = act_df['user_score'].replace(np.NaN, -5)\n",
    "act_df['user_score'] = act_df['user_score'].astype('float')"
   ]
  },
  {
   "cell_type": "code",
   "execution_count": 33,
   "metadata": {},
   "outputs": [],
   "source": [
    "act_df['critic_score'] = act_df['critic_score'].replace(np.NaN, -5)\n",
    "act_df['critic_score'] = act_df['critic_score'].astype('float')"
   ]
  },
  {
   "cell_type": "markdown",
   "metadata": {},
   "source": [
    "**PS4**"
   ]
  },
  {
   "cell_type": "code",
   "execution_count": 34,
   "metadata": {},
   "outputs": [
    {
     "data": {
      "image/png": "[encoded data removed]",
      "text/plain": [
       "<Figure size 432x288 with 1 Axes>"
      ]
     },
     "metadata": {
      "needs_background": "light"
     },
     "output_type": "display_data"
    },
    {
     "data": {
      "image/png": "[encoded data removed]",
      "text/plain": [
       "<Figure size 432x288 with 1 Axes>"
      ]
     },
     "metadata": {
      "needs_background": "light"
     },
     "output_type": "display_data"
    },
    {
     "name": "stdout",
     "output_type": "stream",
     "text": [
      "critic_score    0.401903\n",
      "user_score     -0.043186\n",
      "total_sales     1.000000\n",
      "Name: total_sales, dtype: float64\n"
     ]
    }
   ],
   "source": [
    "games_on_platform = act_df.query('platform == \"PS4\"')\n",
    "games_on_platform[games_on_platform['critic_score'] != -5].plot(kind='scatter', x='critic_score', y='total_sales')\n",
    "games_on_platform[games_on_platform['user_score'] != -5].plot(kind='scatter', x='user_score', y='total_sales')\n",
    "plt.show()\n",
    "print(games_on_platform[(games_on_platform['critic_score'] != -5) \n",
    "                        & (games_on_platform['user_score'] != -5)]\n",
    "                       [['critic_score', 'user_score', 'total_sales']].corr()['total_sales'])"
   ]
  },
  {
   "cell_type": "markdown",
   "metadata": {},
   "source": [
    "**Вывод:** по коэфициенту корреляции и диаграмме рассеивания видна зависимость между оценкой критиков и количеством продаж. Оценка пользователей никак не влияет на количество продаж."
   ]
  },
  {
   "cell_type": "markdown",
   "metadata": {},
   "source": [
    "**3DS**"
   ]
  },
  {
   "cell_type": "code",
   "execution_count": 35,
   "metadata": {},
   "outputs": [
    {
     "data": {
      "image/png": "[encoded data removed]",
      "text/plain": [
       "<Figure size 432x288 with 1 Axes>"
      ]
     },
     "metadata": {
      "needs_background": "light"
     },
     "output_type": "display_data"
    },
    {
     "data": {
      "image/png": "[encoded data removed]",
      "text/plain": [
       "<Figure size 432x288 with 1 Axes>"
      ]
     },
     "metadata": {
      "needs_background": "light"
     },
     "output_type": "display_data"
    },
    {
     "name": "stdout",
     "output_type": "stream",
     "text": [
      "critic_score    0.284686\n",
      "user_score      0.279850\n",
      "total_sales     1.000000\n",
      "Name: total_sales, dtype: float64\n"
     ]
    }
   ],
   "source": [
    "games_on_platform = act_df.query('platform == \"3DS\"')\n",
    "games_on_platform[games_on_platform['critic_score'] != -5].plot(kind='scatter', x='critic_score', y='total_sales')\n",
    "games_on_platform[games_on_platform['user_score'] != -5].plot(kind='scatter', x='user_score', y='total_sales')\n",
    "plt.show()\n",
    "print(games_on_platform[(games_on_platform['critic_score'] != -5) \n",
    "                        & (games_on_platform['user_score'] != -5)]\n",
    "                       [['critic_score', 'user_score', 'total_sales']].corr()['total_sales'])"
   ]
  },
  {
   "cell_type": "markdown",
   "metadata": {},
   "source": [
    "**Вывод:** оценки критиков и оценки пользователей практически одинаково очень слабо связаны с количеством продаж. Коэфициент корреляции - 0.28."
   ]
  },
  {
   "cell_type": "markdown",
   "metadata": {},
   "source": [
    "**XOne**"
   ]
  },
  {
   "cell_type": "code",
   "execution_count": 36,
   "metadata": {},
   "outputs": [
    {
     "data": {
      "image/png": "[encoded data removed]",
      "text/plain": [
       "<Figure size 432x288 with 1 Axes>"
      ]
     },
     "metadata": {
      "needs_background": "light"
     },
     "output_type": "display_data"
    },
    {
     "data": {
      "image/png": "[encoded data removed]",
      "text/plain": [
       "<Figure size 432x288 with 1 Axes>"
      ]
     },
     "metadata": {
      "needs_background": "light"
     },
     "output_type": "display_data"
    },
    {
     "name": "stdout",
     "output_type": "stream",
     "text": [
      "critic_score    0.422112\n",
      "user_score     -0.091734\n",
      "total_sales     1.000000\n",
      "Name: total_sales, dtype: float64\n"
     ]
    }
   ],
   "source": [
    "games_on_platform = act_df.query('platform == \"XOne\"')\n",
    "games_on_platform[games_on_platform['critic_score'] != -5].plot(kind='scatter', x='critic_score', y='total_sales')\n",
    "games_on_platform[games_on_platform['user_score'] != -5].plot(kind='scatter', x='user_score', y='total_sales')\n",
    "plt.show()\n",
    "print(games_on_platform[(games_on_platform['critic_score'] != -5) \n",
    "                        & (games_on_platform['user_score'] != -5)]\n",
    "                       [['critic_score', 'user_score', 'total_sales']].corr()['total_sales'])"
   ]
  },
  {
   "cell_type": "markdown",
   "metadata": {},
   "source": [
    "**Вывод:** результаты практически идентичны с платформой PS4."
   ]
  },
  {
   "cell_type": "markdown",
   "metadata": {},
   "source": [
    "**WiiU**"
   ]
  },
  {
   "cell_type": "code",
   "execution_count": 37,
   "metadata": {},
   "outputs": [
    {
     "data": {
      "image/png": "[encoded data removed]",
      "text/plain": [
       "<Figure size 432x288 with 1 Axes>"
      ]
     },
     "metadata": {
      "needs_background": "light"
     },
     "output_type": "display_data"
    },
    {
     "data": {
      "image/png": "[encoded data removed]",
      "text/plain": [
       "<Figure size 432x288 with 1 Axes>"
      ]
     },
     "metadata": {
      "needs_background": "light"
     },
     "output_type": "display_data"
    },
    {
     "name": "stdout",
     "output_type": "stream",
     "text": [
      "critic_score    0.375640\n",
      "user_score      0.411451\n",
      "total_sales     1.000000\n",
      "Name: total_sales, dtype: float64\n"
     ]
    }
   ],
   "source": [
    "games_on_platform = act_df.query('platform == \"WiiU\"')\n",
    "games_on_platform[games_on_platform['critic_score'] != -5].plot(kind='scatter', x='critic_score', y='total_sales')\n",
    "games_on_platform[games_on_platform['user_score'] != -5].plot(kind='scatter', x='user_score', y='total_sales')\n",
    "plt.show()\n",
    "print(games_on_platform[(games_on_platform['critic_score'] != -5) \n",
    "                        & (games_on_platform['user_score'] != -5)]\n",
    "                       [['critic_score', 'user_score', 'total_sales']].corr()['total_sales'])"
   ]
  },
  {
   "cell_type": "markdown",
   "metadata": {},
   "source": [
    "**Вывод:** связис количеством продаж оценки критиков и оценки пользователей практически одинаковые и коэфициент составляет около 0.4."
   ]
  },
  {
   "cell_type": "markdown",
   "metadata": {},
   "source": [
    "**PS3**"
   ]
  },
  {
   "cell_type": "code",
   "execution_count": 38,
   "metadata": {},
   "outputs": [
    {
     "data": {
      "image/png": "[encoded data removed]",
      "text/plain": [
       "<Figure size 432x288 with 1 Axes>"
      ]
     },
     "metadata": {
      "needs_background": "light"
     },
     "output_type": "display_data"
    },
    {
     "data": {
      "image/png": "[encoded data removed]",
      "text/plain": [
       "<Figure size 432x288 with 1 Axes>"
      ]
     },
     "metadata": {
      "needs_background": "light"
     },
     "output_type": "display_data"
    },
    {
     "name": "stdout",
     "output_type": "stream",
     "text": [
      "critic_score    0.446575\n",
      "user_score      0.156595\n",
      "total_sales     1.000000\n",
      "Name: total_sales, dtype: float64\n"
     ]
    }
   ],
   "source": [
    "games_on_platform = act_df.query('platform == \"PS3\"')\n",
    "games_on_platform[games_on_platform['critic_score'] != -5].plot(kind='scatter', x='critic_score', y='total_sales')\n",
    "games_on_platform[games_on_platform['user_score'] != -5].plot(kind='scatter', x='user_score', y='total_sales')\n",
    "plt.show()\n",
    "print(games_on_platform[(games_on_platform['critic_score'] != -5) \n",
    "                        & (games_on_platform['user_score'] != -5)]\n",
    "                       [['critic_score', 'user_score', 'total_sales']].corr()['total_sales'])"
   ]
  },
  {
   "cell_type": "markdown",
   "metadata": {},
   "source": [
    "**Вывод:** коэффициент оценки критиков - 0.44, оценки пользователей - 0.15."
   ]
  },
  {
   "cell_type": "markdown",
   "metadata": {},
   "source": [
    "**X360**"
   ]
  },
  {
   "cell_type": "code",
   "execution_count": 39,
   "metadata": {},
   "outputs": [
    {
     "data": {
      "image/png": "[encoded data removed]",
      "text/plain": [
       "<Figure size 432x288 with 1 Axes>"
      ]
     },
     "metadata": {
      "needs_background": "light"
     },
     "output_type": "display_data"
    },
    {
     "data": {
      "image/png": "[encoded data removed]",
      "text/plain": [
       "<Figure size 432x288 with 1 Axes>"
      ]
     },
     "metadata": {
      "needs_background": "light"
     },
     "output_type": "display_data"
    },
    {
     "name": "stdout",
     "output_type": "stream",
     "text": [
      "critic_score    0.525723\n",
      "user_score      0.336514\n",
      "total_sales     1.000000\n",
      "Name: total_sales, dtype: float64\n"
     ]
    }
   ],
   "source": [
    "games_on_platform = act_df.query('platform == \"X360\"')\n",
    "games_on_platform[games_on_platform['critic_score'] != -5].plot(kind='scatter', x='critic_score', y='total_sales')\n",
    "games_on_platform[games_on_platform['user_score'] != -5].plot(kind='scatter', x='user_score', y='total_sales')\n",
    "plt.show()\n",
    "print(games_on_platform[(games_on_platform['critic_score'] != -5) \n",
    "                        & (games_on_platform['user_score'] != -5)]\n",
    "                       [['critic_score', 'user_score', 'total_sales']].corr()['total_sales'])"
   ]
  },
  {
   "cell_type": "markdown",
   "metadata": {},
   "source": [
    "**Вывод:** связь оценки критиков самая значимая среди других платформ - 0.52, значимость оценки пользователей тоже достаточно велика - 0.33."
   ]
  },
  {
   "cell_type": "markdown",
   "metadata": {},
   "source": [
    "**PC**"
   ]
  },
  {
   "cell_type": "code",
   "execution_count": 40,
   "metadata": {},
   "outputs": [
    {
     "data": {
      "image/png": "[encoded data removed]",
      "text/plain": [
       "<Figure size 432x288 with 1 Axes>"
      ]
     },
     "metadata": {
      "needs_background": "light"
     },
     "output_type": "display_data"
    },
    {
     "data": {
      "image/png": "[encoded data removed]",
      "text/plain": [
       "<Figure size 432x288 with 1 Axes>"
      ]
     },
     "metadata": {
      "needs_background": "light"
     },
     "output_type": "display_data"
    },
    {
     "name": "stdout",
     "output_type": "stream",
     "text": [
      "critic_score    0.172061\n",
      "user_score     -0.089974\n",
      "total_sales     1.000000\n",
      "Name: total_sales, dtype: float64\n"
     ]
    }
   ],
   "source": [
    "games_on_platform = act_df.query('platform == \"PC\"')\n",
    "games_on_platform[games_on_platform['critic_score'] != -5].plot(kind='scatter', x='critic_score', y='total_sales')\n",
    "games_on_platform[games_on_platform['user_score'] != -5].plot(kind='scatter', x='user_score', y='total_sales')\n",
    "plt.show()\n",
    "print(games_on_platform[(games_on_platform['critic_score'] != -5) \n",
    "                        & (games_on_platform['user_score'] != -5)]\n",
    "                       [['critic_score', 'user_score', 'total_sales']].corr()['total_sales'])"
   ]
  },
  {
   "cell_type": "markdown",
   "metadata": {},
   "source": [
    "**Вывод:** коэффициента корреляции Пирсона для оценки критиков - 0.17, для оценки пользователей можно сказать равна 0."
   ]
  },
  {
   "cell_type": "markdown",
   "metadata": {},
   "source": [
    "**PSV**"
   ]
  },
  {
   "cell_type": "code",
   "execution_count": 41,
   "metadata": {},
   "outputs": [
    {
     "data": {
      "image/png": "[encoded data removed]",
      "text/plain": [
       "<Figure size 432x288 with 1 Axes>"
      ]
     },
     "metadata": {
      "needs_background": "light"
     },
     "output_type": "display_data"
    },
    {
     "data": {
      "image/png": "[encoded data removed]",
      "text/plain": [
       "<Figure size 432x288 with 1 Axes>"
      ]
     },
     "metadata": {
      "needs_background": "light"
     },
     "output_type": "display_data"
    },
    {
     "name": "stdout",
     "output_type": "stream",
     "text": [
      "critic_score    0.041029\n",
      "user_score      0.023528\n",
      "total_sales     1.000000\n",
      "Name: total_sales, dtype: float64\n"
     ]
    }
   ],
   "source": [
    "games_on_platform = act_df.query('platform == \"PSV\"')\n",
    "games_on_platform[games_on_platform['critic_score'] != -5].plot(kind='scatter', x='critic_score', y='total_sales')\n",
    "games_on_platform[games_on_platform['user_score'] != -5].plot(kind='scatter', x='user_score', y='total_sales')\n",
    "plt.show()\n",
    "print(games_on_platform[(games_on_platform['critic_score'] != -5) \n",
    "                        & (games_on_platform['user_score'] != -5)]\n",
    "                       [['critic_score', 'user_score', 'total_sales']].corr()['total_sales'])"
   ]
  },
  {
   "cell_type": "markdown",
   "metadata": {},
   "source": [
    "**Вывод:** звязи оценки критиков или оценок пользователей на количество проданных копий практически нет."
   ]
  },
  {
   "cell_type": "markdown",
   "metadata": {},
   "source": [
    "**Общий вывод** о влиянии отзывов пользователей и критиков на продажи:"
   ]
  },
  {
   "cell_type": "markdown",
   "metadata": {},
   "source": [
    "Из общей тенденции прослеживается только то, что оценки критиков больше связанны с продажами, чем оценки пользователей (исключение - платформа WiiU). В остальном результаты индивидуальны и описанны для каждой платформы."
   ]
  },
  {
   "cell_type": "markdown",
   "metadata": {},
   "source": [
    "### Самые прибыльные жанры игр"
   ]
  },
  {
   "cell_type": "markdown",
   "metadata": {},
   "source": [
    "Построим распределение количества проданных копий игр по жанрам."
   ]
  },
  {
   "cell_type": "code",
   "execution_count": 42,
   "metadata": {},
   "outputs": [
    {
     "data": {
      "image/png": "[encoded data removed]",
      "text/plain": [
       "<Figure size 936x576 with 1 Axes>"
      ]
     },
     "metadata": {
      "needs_background": "light"
     },
     "output_type": "display_data"
    }
   ],
   "source": [
    "platform_sales_fresh = (\n",
    "    act_df\n",
    "    .pivot_table(index='genre', values='total_sales', aggfunc='sum')\n",
    "    .sort_values('total_sales', ascending=False)\n",
    ")\n",
    "\n",
    "plt.figure(figsize=(13, 8))\n",
    "(sns.barplot(data = platform_sales_fresh, x = platform_sales_fresh.index, y = 'total_sales', color = 'green')\n",
    "    .set(title = 'Продажи по жанрам за 2014-2016 гг', xlabel = 'Жанры', ylabel = 'Общие продажи'))\n",
    "\n",
    "plt.show()"
   ]
  },
  {
   "cell_type": "code",
   "execution_count": 43,
   "metadata": {},
   "outputs": [
    {
     "data": {
      "image/png": "[encoded data removed]",
      "text/plain": [
       "<Figure size 936x576 with 1 Axes>"
      ]
     },
     "metadata": {
      "needs_background": "light"
     },
     "output_type": "display_data"
    }
   ],
   "source": [
    "plt.figure(figsize=(13, 8))\n",
    "(sns.boxplot(data = act_df, y = 'total_sales', x='genre')\n",
    "    .set(title = 'Продажи по жанрам за 2014-2016 гг', xlabel = 'Жанры', ylabel = 'Общие продажи', ylim=(0, 3)))\n",
    "\n",
    "plt.show()"
   ]
  },
  {
   "cell_type": "markdown",
   "metadata": {},
   "source": [
    "**Вывод:**"
   ]
  },
  {
   "cell_type": "markdown",
   "metadata": {},
   "source": [
    "По своей прибыльности и популярности выделяются 4 основные жанра: Action, Shooter, Sports и Role-Playing."
   ]
  },
  {
   "cell_type": "markdown",
   "metadata": {},
   "source": [
    "## Описание пользователей по регионам"
   ]
  },
  {
   "cell_type": "markdown",
   "metadata": {},
   "source": [
    "### Самые популярные платформы (топ - 5)"
   ]
  },
  {
   "cell_type": "markdown",
   "metadata": {},
   "source": [
    "Т.к. выводы нужно селать о долях продаж, то посмотрим на круговые диаграммы"
   ]
  },
  {
   "cell_type": "code",
   "execution_count": 44,
   "metadata": {},
   "outputs": [
    {
     "data": {
      "image/png": "[encoded data removed]",
      "text/plain": [
       "<Figure size 1080x360 with 3 Axes>"
      ]
     },
     "metadata": {},
     "output_type": "display_data"
    }
   ],
   "source": [
    "# задаем список регионов\n",
    "countries = act_df.columns[4:7]\n",
    "# начертим круговую диаграмму для каждого региона\n",
    "fig, axs = plt.subplots(1, 3, figsize=(15, 5))\n",
    "fig.suptitle('ТОП-5 платформ в регионах')\n",
    "for i in range(3):\n",
    "  # выберем 5 самых продающих платформ\n",
    "  df_i = (act_df.groupby('platform')[countries[i]].sum().\n",
    "             reset_index().\n",
    "             sort_values(countries[i], ascending = False, ignore_index = True).\n",
    "             head(5))\n",
    "  # занесем все остальыне продажи в Other_platforms\n",
    "  df_i = df_i.append({'platform': 'Other_platforms', countries[i]: act_df[countries[i]].sum() - df_i[countries[i]].sum()}, ignore_index= True)\n",
    "  axs[i].pie(df_i[countries[i]], labels = df_i['platform'])\n",
    "\n",
    "  # Зададим название региона.\n",
    "  axs[i].set_title(df_i.columns[1].split('_')[0].upper())\n",
    "plt.show()"
   ]
  },
  {
   "cell_type": "markdown",
   "metadata": {},
   "source": [
    "**Вывод:** \n",
    "\n",
    "В каждом регионе свои фавориты. В Северной Америке PS4 и XOne занимают примерно равные части рынка и лидируют по продажам. В Европе очевидный лидер - PS4 и его доля по продажам составляет примерно 50%. В Японии примерно с таким же результатом в 50% лидирует 3DS, также можно выделить, что значительную часть занимает платформа WiiU, а XOne даже не в топе, и игры не из топ-5 вообще практически не пользуются спросом. "
   ]
  },
  {
   "cell_type": "markdown",
   "metadata": {},
   "source": [
    "### Самые популярные жанры (топ-5)"
   ]
  },
  {
   "cell_type": "code",
   "execution_count": 45,
   "metadata": {},
   "outputs": [
    {
     "data": {
      "image/png": "[encoded data removed]",
      "text/plain": [
       "<Figure size 1080x360 with 3 Axes>"
      ]
     },
     "metadata": {},
     "output_type": "display_data"
    }
   ],
   "source": [
    "# начертим круговую диаграмму для каждого региона\n",
    "fig, axs = plt.subplots(1, 3, figsize=(15, 5))\n",
    "fig.suptitle('ТОП-5 жанров в регионах')\n",
    "for i in range(3):\n",
    "  # выберем 5 самых продаваемых жанра\n",
    "  df_i = (act_df.groupby('genre')[countries[i]].sum().\n",
    "             reset_index().\n",
    "             sort_values(countries[i], ascending = False, ignore_index = True).\n",
    "             head(5))\n",
    "  # занесем все остальыне продажи в Other_genres\n",
    "  df_i = df_i.append({'genre': 'Other_genres', countries[i]: act_df[countries[i]].sum() - df_i[countries[i]].sum()}, ignore_index= True)\n",
    "  axs[i].pie(df_i[countries[i]], labels = df_i['genre'])\n",
    "\n",
    "  # Зададим название региона.\n",
    "  axs[i].set_title(df_i.columns[1].split('_')[0].upper())\n",
    "plt.show()"
   ]
  },
  {
   "cell_type": "markdown",
   "metadata": {},
   "source": [
    "**Вывод:**\n",
    "\n",
    "Распределения популярности жанров в Северной Америке и в Европе примерно похожи: Action, Shooter -самые популярные, Sports - чуть менее. В Японии Role-Playing занимает значимую часть и примерно равен доли рынка, занимающей жанром Action, на пару они составляют около семидесяти процентов рынка."
   ]
  },
  {
   "cell_type": "markdown",
   "metadata": {},
   "source": [
    "### Влияние рейтинга ESRB на продажи"
   ]
  },
  {
   "cell_type": "code",
   "execution_count": 46,
   "metadata": {},
   "outputs": [],
   "source": [
    "countries_2=['Северной Америке','Европе', 'Японии','Других странах']"
   ]
  },
  {
   "cell_type": "code",
   "execution_count": 47,
   "metadata": {},
   "outputs": [
    {
     "data": {
      "image/png": "[encoded data removed]",
      "text/plain": [
       "<Figure size 360x360 with 1 Axes>"
      ]
     },
     "metadata": {
      "needs_background": "light"
     },
     "output_type": "display_data"
    },
    {
     "data": {
      "image/png": "[encoded data removed]",
      "text/plain": [
       "<Figure size 360x360 with 1 Axes>"
      ]
     },
     "metadata": {
      "needs_background": "light"
     },
     "output_type": "display_data"
    },
    {
     "data": {
      "image/png": "[encoded data removed]",
      "text/plain": [
       "<Figure size 360x360 with 1 Axes>"
      ]
     },
     "metadata": {
      "needs_background": "light"
     },
     "output_type": "display_data"
    },
    {
     "data": {
      "image/png": "[encoded data removed]",
      "text/plain": [
       "<Figure size 360x360 with 1 Axes>"
      ]
     },
     "metadata": {
      "needs_background": "light"
     },
     "output_type": "display_data"
    }
   ],
   "source": [
    "for i, y in zip(act_df.columns[4:8], countries_2):\n",
    "    ax=sns.catplot(kind='box', data=act_df, x='rating', y=i).set(ylim=(0,0.5))\n",
    "    ax.set(xlabel='Rating', ylabel='Sales', title='Влияние рейтинга ESRB на продажи в '+ y)"
   ]
  },
  {
   "cell_type": "markdown",
   "metadata": {},
   "source": [
    "**Вывод**"
   ]
  },
  {
   "cell_type": "markdown",
   "metadata": {},
   "source": [
    "Опять в Северной Америке и Европе похожие картины. В Японии и других странах влияние рейтинга ESRB практически не ощущается. "
   ]
  },
  {
   "cell_type": "markdown",
   "metadata": {},
   "source": [
    "## Проверка гипотез"
   ]
  },
  {
   "cell_type": "markdown",
   "metadata": {},
   "source": [
    "### Средние пользовательские рейтинги платформ Xbox One и PC"
   ]
  },
  {
   "cell_type": "markdown",
   "metadata": {},
   "source": [
    "H0: Средние пользовательские рейтинги платформ Xbox One и PC одинаковые.\n",
    "\n",
    "H1: Средние пользовательские рейтинги платформ Xbox One и PC различаются."
   ]
  },
  {
   "cell_type": "code",
   "execution_count": 48,
   "metadata": {},
   "outputs": [],
   "source": [
    "pc_user_score=act_df[(act_df['platform']==\"PC\")&(act_df['user_score']!= -5)]['user_score']\n",
    "x_one_user_score=act_df[(act_df['platform']==\"XOne\")&(act_df['user_score']!= -5)]['user_score']\n",
    "alpha=0.05"
   ]
  },
  {
   "cell_type": "code",
   "execution_count": 49,
   "metadata": {},
   "outputs": [
    {
     "name": "stdout",
     "output_type": "stream",
     "text": [
      "p_value равно  0.10450507919348415\n",
      "Среднее значение пользовательского рейтинга платформы PC: 6.8\n",
      "Среднее значение пользовательского рейтинга платформы XOne: 6.8\n",
      "Не получилось отвергнуть нулевую гипотезу\n"
     ]
    }
   ],
   "source": [
    "results=st.ttest_ind(pc_user_score, x_one_user_score)\n",
    "print('p_value равно ', results.pvalue)\n",
    "print('Среднее значение пользовательского рейтинга платформы PC:', pc_user_score.median())\n",
    "print('Среднее значение пользовательского рейтинга платформы XOne:', x_one_user_score.median())\n",
    "\n",
    "if(results.pvalue<alpha):\n",
    "    print('Отвергаем нулевую гипотезу')\n",
    "else:\n",
    "    print('Не получилось отвергнуть нулевую гипотезу')"
   ]
  },
  {
   "cell_type": "markdown",
   "metadata": {},
   "source": [
    "**Вывод:** не получилось отвергнуть нулевую гипотезу о равенстве пользовательских рейтингов игр на платформах PC и XOne."
   ]
  },
  {
   "cell_type": "markdown",
   "metadata": {},
   "source": [
    "### Средние пользовательские рейтинги жанров Action и Sports"
   ]
  },
  {
   "cell_type": "markdown",
   "metadata": {},
   "source": [
    "H0: Cредние пользовательские рейтинги жанров Action и Sports одинаковые.\n",
    "\n",
    "H1: Cредние пользовательские рейтинги жанров Action и Sports разные."
   ]
  },
  {
   "cell_type": "code",
   "execution_count": 50,
   "metadata": {},
   "outputs": [
    {
     "name": "stdout",
     "output_type": "stream",
     "text": [
      "p_value равно  3.970192933456565e-06\n",
      "Среднее значение пользовательского рейтинга игр в жанре Action: -5.0\n",
      "Среднее значение пользовательского рейтинга игр в жанре Sport: 4.5\n",
      "Отвергаем нулевую гипотезу\n"
     ]
    }
   ],
   "source": [
    "action_user_score=act_df.query('genre==\"Action\"')['user_score'].dropna()\n",
    "sport_user_score=act_df.query('genre==\"Sports\"')['user_score'].dropna()\n",
    "\n",
    "results=st.ttest_ind(action_user_score, sport_user_score)\n",
    "print('p_value равно ', results.pvalue)\n",
    "print('Среднее значение пользовательского рейтинга игр в жанре Action:', action_user_score.median())\n",
    "print('Среднее значение пользовательского рейтинга игр в жанре Sport:', sport_user_score.median())\n",
    "\n",
    "if(results.pvalue<alpha):\n",
    "    print('Отвергаем нулевую гипотезу')\n",
    "else:\n",
    "    print('Не получилось отвергнуть нулевую гипотезу')"
   ]
  },
  {
   "cell_type": "markdown",
   "metadata": {},
   "source": [
    "**Вывод:** отвергаем нулевую гипотезу о равенсте средних пользовательских рейтингах жанров Action и Sports"
   ]
  },
  {
   "cell_type": "markdown",
   "metadata": {},
   "source": [
    "## Общий вывод"
   ]
  },
  {
   "cell_type": "markdown",
   "metadata": {},
   "source": [
    "Наиболее перспективные и активно развивающиеся платформы на конец 2016 года - PS4, XOne и 3DS.\n",
    "\n",
    "Популярность платформы практически не влияет на среднюю стоимость игр на ней.\n",
    "\n",
    "На продажи игр в большей степени влияют отзывы критиков.\n",
    "\n",
    "Игры на платформе PS4 наиболее популярны в Европе, в Штатах большую популярность имеет PS4 и XOne, в Японии 3DS.\n",
    "\n",
    "В Штатах и Европе самыми популярными и прибыльными являются шутеры и экшн, в Японии - ролевые и экшн.\n",
    "\n",
    "В результате проверки гипотез пришли к выводу, что не получается отвергнуть гипотезу о равенстве пользовательских рейтингов игр на платформах PC и XOne. Также эмпипрически полученные данные противоречат гипотезе о равенсте средних пользовательских рейтингах жанров Action и Sports."
   ]
  }
 ],
 "metadata": {
  "ExecuteTimeLog": [
   {
    "duration": 791,
    "start_time": "2022-05-31T15:11:17.891Z"
   },
   {
    "duration": 63,
    "start_time": "2022-05-31T15:20:55.471Z"
   },
   {
    "duration": 101,
    "start_time": "2022-05-31T15:23:02.969Z"
   },
   {
    "duration": 81,
    "start_time": "2022-05-31T15:23:06.673Z"
   },
   {
    "duration": 53,
    "start_time": "2022-05-31T15:24:23.200Z"
   },
   {
    "duration": 57,
    "start_time": "2022-05-31T15:27:01.036Z"
   },
   {
    "duration": 4,
    "start_time": "2022-05-31T16:38:27.409Z"
   },
   {
    "duration": 17,
    "start_time": "2022-05-31T16:38:49.612Z"
   },
   {
    "duration": 5,
    "start_time": "2022-05-31T16:59:28.406Z"
   },
   {
    "duration": 17,
    "start_time": "2022-05-31T16:59:29.131Z"
   },
   {
    "duration": 4,
    "start_time": "2022-05-31T16:59:43.883Z"
   },
   {
    "duration": 24,
    "start_time": "2022-05-31T16:59:44.531Z"
   },
   {
    "duration": 14,
    "start_time": "2022-05-31T17:04:53.245Z"
   },
   {
    "duration": 16,
    "start_time": "2022-05-31T17:10:51.985Z"
   },
   {
    "duration": 31,
    "start_time": "2022-05-31T17:14:58.113Z"
   },
   {
    "duration": 4,
    "start_time": "2022-05-31T18:04:38.046Z"
   },
   {
    "duration": 412,
    "start_time": "2022-05-31T18:14:02.672Z"
   },
   {
    "duration": 56,
    "start_time": "2022-05-31T18:14:03.086Z"
   },
   {
    "duration": 6,
    "start_time": "2022-05-31T18:14:03.144Z"
   },
   {
    "duration": 46,
    "start_time": "2022-05-31T18:14:03.152Z"
   },
   {
    "duration": 35,
    "start_time": "2022-05-31T18:14:03.200Z"
   },
   {
    "duration": 32,
    "start_time": "2022-05-31T18:14:03.237Z"
   },
   {
    "duration": 70,
    "start_time": "2022-05-31T18:14:03.270Z"
   },
   {
    "duration": 22,
    "start_time": "2022-05-31T18:14:03.342Z"
   },
   {
    "duration": 15,
    "start_time": "2022-05-31T18:18:54.400Z"
   },
   {
    "duration": 30,
    "start_time": "2022-05-31T18:28:35.789Z"
   },
   {
    "duration": 8,
    "start_time": "2022-05-31T18:29:35.604Z"
   },
   {
    "duration": 22,
    "start_time": "2022-05-31T18:33:07.336Z"
   },
   {
    "duration": 6,
    "start_time": "2022-05-31T19:02:29.030Z"
   },
   {
    "duration": 8,
    "start_time": "2022-05-31T19:13:34.137Z"
   },
   {
    "duration": 16,
    "start_time": "2022-05-31T19:15:38.311Z"
   },
   {
    "duration": 21,
    "start_time": "2022-05-31T19:15:58.055Z"
   },
   {
    "duration": 12,
    "start_time": "2022-05-31T19:25:42.174Z"
   },
   {
    "duration": 56,
    "start_time": "2022-06-01T07:32:24.320Z"
   },
   {
    "duration": 7,
    "start_time": "2022-06-01T07:32:51.670Z"
   },
   {
    "duration": 400,
    "start_time": "2022-06-01T07:33:15.354Z"
   },
   {
    "duration": 92,
    "start_time": "2022-06-01T07:33:15.755Z"
   },
   {
    "duration": 4,
    "start_time": "2022-06-01T07:33:15.848Z"
   },
   {
    "duration": 38,
    "start_time": "2022-06-01T07:33:15.854Z"
   },
   {
    "duration": 31,
    "start_time": "2022-06-01T07:33:15.894Z"
   },
   {
    "duration": 27,
    "start_time": "2022-06-01T07:33:15.927Z"
   },
   {
    "duration": 40,
    "start_time": "2022-06-01T07:33:15.955Z"
   },
   {
    "duration": 3,
    "start_time": "2022-06-01T07:33:15.997Z"
   },
   {
    "duration": 42,
    "start_time": "2022-06-01T07:33:16.002Z"
   },
   {
    "duration": 41,
    "start_time": "2022-06-01T07:33:16.046Z"
   },
   {
    "duration": 39,
    "start_time": "2022-06-01T07:33:16.089Z"
   },
   {
    "duration": 32,
    "start_time": "2022-06-01T07:33:16.130Z"
   },
   {
    "duration": 25,
    "start_time": "2022-06-01T07:33:16.163Z"
   },
   {
    "duration": 49,
    "start_time": "2022-06-01T07:33:16.189Z"
   },
   {
    "duration": 11,
    "start_time": "2022-06-01T07:33:16.240Z"
   },
   {
    "duration": 26,
    "start_time": "2022-06-01T07:33:16.253Z"
   },
   {
    "duration": 6,
    "start_time": "2022-06-01T07:38:52.064Z"
   },
   {
    "duration": 19,
    "start_time": "2022-06-01T08:04:00.958Z"
   },
   {
    "duration": 5,
    "start_time": "2022-06-01T08:48:08.837Z"
   },
   {
    "duration": 23,
    "start_time": "2022-06-01T08:48:55.006Z"
   },
   {
    "duration": 5,
    "start_time": "2022-06-01T08:51:16.354Z"
   },
   {
    "duration": 69,
    "start_time": "2022-06-01T08:52:45.777Z"
   },
   {
    "duration": 10,
    "start_time": "2022-06-01T08:52:51.648Z"
   },
   {
    "duration": 8,
    "start_time": "2022-06-01T08:55:28.877Z"
   },
   {
    "duration": 6,
    "start_time": "2022-06-01T08:55:44.669Z"
   },
   {
    "duration": 9,
    "start_time": "2022-06-01T08:56:05.364Z"
   },
   {
    "duration": 7,
    "start_time": "2022-06-01T08:56:38.691Z"
   },
   {
    "duration": 6,
    "start_time": "2022-06-01T08:56:46.851Z"
   },
   {
    "duration": 6,
    "start_time": "2022-06-01T08:57:15.008Z"
   },
   {
    "duration": 6,
    "start_time": "2022-06-01T08:57:17.962Z"
   },
   {
    "duration": 5,
    "start_time": "2022-06-01T09:42:17.269Z"
   },
   {
    "duration": 5,
    "start_time": "2022-06-01T09:46:12.715Z"
   },
   {
    "duration": 53,
    "start_time": "2022-06-02T08:38:36.055Z"
   },
   {
    "duration": 427,
    "start_time": "2022-06-02T08:38:45.293Z"
   },
   {
    "duration": 93,
    "start_time": "2022-06-02T08:38:45.724Z"
   },
   {
    "duration": 4,
    "start_time": "2022-06-02T08:38:45.818Z"
   },
   {
    "duration": 30,
    "start_time": "2022-06-02T08:38:45.825Z"
   },
   {
    "duration": 14,
    "start_time": "2022-06-02T08:38:45.856Z"
   },
   {
    "duration": 22,
    "start_time": "2022-06-02T08:38:45.872Z"
   },
   {
    "duration": 52,
    "start_time": "2022-06-02T08:38:45.896Z"
   },
   {
    "duration": 4,
    "start_time": "2022-06-02T08:38:45.950Z"
   },
   {
    "duration": 22,
    "start_time": "2022-06-02T08:38:45.956Z"
   },
   {
    "duration": 11,
    "start_time": "2022-06-02T08:38:45.980Z"
   },
   {
    "duration": 34,
    "start_time": "2022-06-02T08:38:45.992Z"
   },
   {
    "duration": 7,
    "start_time": "2022-06-02T08:38:46.030Z"
   },
   {
    "duration": 12,
    "start_time": "2022-06-02T08:38:46.039Z"
   },
   {
    "duration": 20,
    "start_time": "2022-06-02T08:38:46.053Z"
   },
   {
    "duration": 7,
    "start_time": "2022-06-02T08:38:46.075Z"
   },
   {
    "duration": 9,
    "start_time": "2022-06-02T08:38:46.083Z"
   },
   {
    "duration": 10,
    "start_time": "2022-06-02T08:38:46.128Z"
   },
   {
    "duration": 30,
    "start_time": "2022-06-02T08:38:46.140Z"
   },
   {
    "duration": 20,
    "start_time": "2022-06-02T08:38:46.171Z"
   },
   {
    "duration": 5,
    "start_time": "2022-06-02T08:38:46.193Z"
   },
   {
    "duration": 28,
    "start_time": "2022-06-02T08:38:46.200Z"
   },
   {
    "duration": 9,
    "start_time": "2022-06-02T08:38:46.230Z"
   },
   {
    "duration": 7,
    "start_time": "2022-06-02T08:38:46.242Z"
   },
   {
    "duration": 99,
    "start_time": "2022-06-02T08:38:46.250Z"
   },
   {
    "duration": 458,
    "start_time": "2022-06-02T08:39:42.603Z"
   },
   {
    "duration": 435,
    "start_time": "2022-06-02T08:39:53.247Z"
   },
   {
    "duration": 286,
    "start_time": "2022-06-02T08:39:53.684Z"
   },
   {
    "duration": 52,
    "start_time": "2022-06-02T08:39:53.972Z"
   },
   {
    "duration": 4,
    "start_time": "2022-06-02T08:39:54.027Z"
   },
   {
    "duration": 29,
    "start_time": "2022-06-02T08:39:54.033Z"
   },
   {
    "duration": 14,
    "start_time": "2022-06-02T08:39:54.064Z"
   },
   {
    "duration": 22,
    "start_time": "2022-06-02T08:39:54.080Z"
   },
   {
    "duration": 48,
    "start_time": "2022-06-02T08:39:54.104Z"
   },
   {
    "duration": 3,
    "start_time": "2022-06-02T08:39:54.154Z"
   },
   {
    "duration": 21,
    "start_time": "2022-06-02T08:39:54.159Z"
   },
   {
    "duration": 11,
    "start_time": "2022-06-02T08:39:54.181Z"
   },
   {
    "duration": 37,
    "start_time": "2022-06-02T08:39:54.193Z"
   },
   {
    "duration": 10,
    "start_time": "2022-06-02T08:39:54.232Z"
   },
   {
    "duration": 15,
    "start_time": "2022-06-02T08:39:54.244Z"
   },
   {
    "duration": 24,
    "start_time": "2022-06-02T08:39:54.260Z"
   },
   {
    "duration": 10,
    "start_time": "2022-06-02T08:39:54.286Z"
   },
   {
    "duration": 26,
    "start_time": "2022-06-02T08:39:54.297Z"
   },
   {
    "duration": 7,
    "start_time": "2022-06-02T08:39:54.325Z"
   },
   {
    "duration": 33,
    "start_time": "2022-06-02T08:39:54.335Z"
   },
   {
    "duration": 20,
    "start_time": "2022-06-02T08:39:54.369Z"
   },
   {
    "duration": 4,
    "start_time": "2022-06-02T08:39:54.390Z"
   },
   {
    "duration": 11,
    "start_time": "2022-06-02T08:39:54.395Z"
   },
   {
    "duration": 5,
    "start_time": "2022-06-02T08:39:54.426Z"
   },
   {
    "duration": 10,
    "start_time": "2022-06-02T08:39:54.433Z"
   },
   {
    "duration": 93,
    "start_time": "2022-06-02T08:39:54.445Z"
   },
   {
    "duration": 387,
    "start_time": "2022-06-02T08:40:52.783Z"
   },
   {
    "duration": 273,
    "start_time": "2022-06-02T08:40:53.172Z"
   },
   {
    "duration": 434,
    "start_time": "2022-06-02T08:40:53.447Z"
   },
   {
    "duration": 54,
    "start_time": "2022-06-02T08:40:53.884Z"
   },
   {
    "duration": 6,
    "start_time": "2022-06-02T08:40:53.941Z"
   },
   {
    "duration": 23,
    "start_time": "2022-06-02T08:40:53.948Z"
   },
   {
    "duration": 14,
    "start_time": "2022-06-02T08:40:53.973Z"
   },
   {
    "duration": 36,
    "start_time": "2022-06-02T08:40:53.989Z"
   },
   {
    "duration": 30,
    "start_time": "2022-06-02T08:40:54.027Z"
   },
   {
    "duration": 3,
    "start_time": "2022-06-02T08:40:54.059Z"
   },
   {
    "duration": 17,
    "start_time": "2022-06-02T08:40:54.064Z"
   },
   {
    "duration": 9,
    "start_time": "2022-06-02T08:40:54.082Z"
   },
   {
    "duration": 49,
    "start_time": "2022-06-02T08:40:54.092Z"
   },
   {
    "duration": 6,
    "start_time": "2022-06-02T08:40:54.143Z"
   },
   {
    "duration": 11,
    "start_time": "2022-06-02T08:40:54.151Z"
   },
   {
    "duration": 22,
    "start_time": "2022-06-02T08:40:54.163Z"
   },
   {
    "duration": 8,
    "start_time": "2022-06-02T08:40:54.187Z"
   },
   {
    "duration": 34,
    "start_time": "2022-06-02T08:40:54.196Z"
   },
   {
    "duration": 12,
    "start_time": "2022-06-02T08:40:54.233Z"
   },
   {
    "duration": 25,
    "start_time": "2022-06-02T08:40:54.246Z"
   },
   {
    "duration": 20,
    "start_time": "2022-06-02T08:40:54.272Z"
   },
   {
    "duration": 31,
    "start_time": "2022-06-02T08:40:54.294Z"
   },
   {
    "duration": 11,
    "start_time": "2022-06-02T08:40:54.327Z"
   },
   {
    "duration": 8,
    "start_time": "2022-06-02T08:40:54.340Z"
   },
   {
    "duration": 7,
    "start_time": "2022-06-02T08:40:54.349Z"
   },
   {
    "duration": 219,
    "start_time": "2022-06-02T08:40:54.358Z"
   },
   {
    "duration": 432,
    "start_time": "2022-06-02T09:09:22.269Z"
   },
   {
    "duration": 207,
    "start_time": "2022-06-02T09:10:06.260Z"
   },
   {
    "duration": 282,
    "start_time": "2022-06-02T09:10:26.203Z"
   },
   {
    "duration": 322,
    "start_time": "2022-06-02T16:06:06.647Z"
   },
   {
    "duration": 337,
    "start_time": "2022-06-02T16:20:26.473Z"
   },
   {
    "duration": 1299,
    "start_time": "2022-06-02T17:38:42.358Z"
   },
   {
    "duration": 21,
    "start_time": "2022-06-02T17:45:11.843Z"
   },
   {
    "duration": 55,
    "start_time": "2022-06-03T07:12:30.494Z"
   },
   {
    "duration": 387,
    "start_time": "2022-06-03T07:12:39.704Z"
   },
   {
    "duration": 411,
    "start_time": "2022-06-03T07:12:40.093Z"
   },
   {
    "duration": 426,
    "start_time": "2022-06-03T07:12:40.506Z"
   },
   {
    "duration": 99,
    "start_time": "2022-06-03T07:12:40.933Z"
   },
   {
    "duration": 4,
    "start_time": "2022-06-03T07:12:41.034Z"
   },
   {
    "duration": 30,
    "start_time": "2022-06-03T07:12:41.039Z"
   },
   {
    "duration": 19,
    "start_time": "2022-06-03T07:12:41.071Z"
   },
   {
    "duration": 26,
    "start_time": "2022-06-03T07:12:41.092Z"
   },
   {
    "duration": 30,
    "start_time": "2022-06-03T07:12:41.119Z"
   },
   {
    "duration": 4,
    "start_time": "2022-06-03T07:12:41.164Z"
   },
   {
    "duration": 21,
    "start_time": "2022-06-03T07:12:41.169Z"
   },
   {
    "duration": 26,
    "start_time": "2022-06-03T07:12:41.192Z"
   },
   {
    "duration": 30,
    "start_time": "2022-06-03T07:12:41.220Z"
   },
   {
    "duration": 33,
    "start_time": "2022-06-03T07:12:41.252Z"
   },
   {
    "duration": 8,
    "start_time": "2022-06-03T07:12:41.287Z"
   },
   {
    "duration": 25,
    "start_time": "2022-06-03T07:12:41.297Z"
   },
   {
    "duration": 7,
    "start_time": "2022-06-03T07:12:41.324Z"
   },
   {
    "duration": 18,
    "start_time": "2022-06-03T07:12:41.332Z"
   },
   {
    "duration": 15,
    "start_time": "2022-06-03T07:12:41.352Z"
   },
   {
    "duration": 25,
    "start_time": "2022-06-03T07:12:41.368Z"
   },
   {
    "duration": 21,
    "start_time": "2022-06-03T07:12:41.394Z"
   },
   {
    "duration": 12,
    "start_time": "2022-06-03T07:12:41.416Z"
   },
   {
    "duration": 15,
    "start_time": "2022-06-03T07:12:41.429Z"
   },
   {
    "duration": 11,
    "start_time": "2022-06-03T07:12:41.445Z"
   },
   {
    "duration": 22,
    "start_time": "2022-06-03T07:12:41.465Z"
   },
   {
    "duration": 214,
    "start_time": "2022-06-03T07:12:41.489Z"
   },
   {
    "duration": 401,
    "start_time": "2022-06-03T07:12:41.705Z"
   },
   {
    "duration": 1050,
    "start_time": "2022-06-03T07:12:42.110Z"
   },
   {
    "duration": 6,
    "start_time": "2022-06-03T07:12:43.164Z"
   },
   {
    "duration": 6,
    "start_time": "2022-06-03T07:22:44.218Z"
   },
   {
    "duration": 124,
    "start_time": "2022-06-03T07:23:13.889Z"
   },
   {
    "duration": 19,
    "start_time": "2022-06-03T07:23:35.810Z"
   },
   {
    "duration": 198,
    "start_time": "2022-06-03T07:23:48.105Z"
   },
   {
    "duration": 27,
    "start_time": "2022-06-03T07:45:41.152Z"
   },
   {
    "duration": 11,
    "start_time": "2022-06-03T07:47:35.288Z"
   },
   {
    "duration": 10,
    "start_time": "2022-06-03T07:47:39.599Z"
   },
   {
    "duration": 23,
    "start_time": "2022-06-03T07:50:19.124Z"
   },
   {
    "duration": 30,
    "start_time": "2022-06-03T07:53:20.867Z"
   },
   {
    "duration": 118,
    "start_time": "2022-06-03T07:53:37.889Z"
   },
   {
    "duration": 425,
    "start_time": "2022-06-03T07:53:54.273Z"
   },
   {
    "duration": 268,
    "start_time": "2022-06-03T07:53:54.700Z"
   },
   {
    "duration": 445,
    "start_time": "2022-06-03T07:53:54.969Z"
   },
   {
    "duration": 58,
    "start_time": "2022-06-03T07:53:55.417Z"
   },
   {
    "duration": 3,
    "start_time": "2022-06-03T07:53:55.477Z"
   },
   {
    "duration": 23,
    "start_time": "2022-06-03T07:53:55.482Z"
   },
   {
    "duration": 15,
    "start_time": "2022-06-03T07:53:55.507Z"
   },
   {
    "duration": 20,
    "start_time": "2022-06-03T07:53:55.524Z"
   },
   {
    "duration": 45,
    "start_time": "2022-06-03T07:53:55.545Z"
   },
   {
    "duration": 3,
    "start_time": "2022-06-03T07:53:55.592Z"
   },
   {
    "duration": 17,
    "start_time": "2022-06-03T07:53:55.597Z"
   },
   {
    "duration": 14,
    "start_time": "2022-06-03T07:53:55.616Z"
   },
   {
    "duration": 40,
    "start_time": "2022-06-03T07:53:55.631Z"
   },
   {
    "duration": 4,
    "start_time": "2022-06-03T07:53:55.673Z"
   },
   {
    "duration": 11,
    "start_time": "2022-06-03T07:53:55.679Z"
   },
   {
    "duration": 21,
    "start_time": "2022-06-03T07:53:55.691Z"
   },
   {
    "duration": 7,
    "start_time": "2022-06-03T07:53:55.714Z"
   },
   {
    "duration": 11,
    "start_time": "2022-06-03T07:53:55.723Z"
   },
   {
    "duration": 29,
    "start_time": "2022-06-03T07:53:55.736Z"
   },
   {
    "duration": 21,
    "start_time": "2022-06-03T07:53:55.767Z"
   },
   {
    "duration": 21,
    "start_time": "2022-06-03T07:53:55.790Z"
   },
   {
    "duration": 5,
    "start_time": "2022-06-03T07:53:55.813Z"
   },
   {
    "duration": 11,
    "start_time": "2022-06-03T07:53:55.820Z"
   },
   {
    "duration": 4,
    "start_time": "2022-06-03T07:53:55.864Z"
   },
   {
    "duration": 25,
    "start_time": "2022-06-03T07:53:55.870Z"
   },
   {
    "duration": 227,
    "start_time": "2022-06-03T07:53:55.897Z"
   },
   {
    "duration": 402,
    "start_time": "2022-06-03T07:53:56.126Z"
   },
   {
    "duration": 1117,
    "start_time": "2022-06-03T07:53:56.532Z"
   },
   {
    "duration": 13,
    "start_time": "2022-06-03T07:53:57.651Z"
   },
   {
    "duration": 201,
    "start_time": "2022-06-03T07:53:57.666Z"
   },
   {
    "duration": 134,
    "start_time": "2022-06-03T07:53:57.869Z"
   },
   {
    "duration": 24,
    "start_time": "2022-06-03T07:54:43.520Z"
   },
   {
    "duration": 26,
    "start_time": "2022-06-03T07:54:52.507Z"
   },
   {
    "duration": 71,
    "start_time": "2022-06-06T17:02:28.728Z"
   },
   {
    "duration": 403,
    "start_time": "2022-06-06T17:02:39.678Z"
   },
   {
    "duration": 514,
    "start_time": "2022-06-06T17:02:40.083Z"
   },
   {
    "duration": 473,
    "start_time": "2022-06-06T17:02:40.599Z"
   },
   {
    "duration": 544,
    "start_time": "2022-06-06T17:02:41.074Z"
   },
   {
    "duration": 5,
    "start_time": "2022-06-06T17:02:41.620Z"
   },
   {
    "duration": 67,
    "start_time": "2022-06-06T17:02:41.627Z"
   },
   {
    "duration": 19,
    "start_time": "2022-06-06T17:02:41.696Z"
   },
   {
    "duration": 75,
    "start_time": "2022-06-06T17:02:41.718Z"
   },
   {
    "duration": 49,
    "start_time": "2022-06-06T17:02:41.795Z"
   },
   {
    "duration": 3,
    "start_time": "2022-06-06T17:02:41.853Z"
   },
   {
    "duration": 16,
    "start_time": "2022-06-06T17:02:41.858Z"
   },
   {
    "duration": 8,
    "start_time": "2022-06-06T17:02:41.875Z"
   },
   {
    "duration": 32,
    "start_time": "2022-06-06T17:02:41.885Z"
   },
   {
    "duration": 33,
    "start_time": "2022-06-06T17:02:41.918Z"
   },
   {
    "duration": 17,
    "start_time": "2022-06-06T17:02:41.957Z"
   },
   {
    "duration": 26,
    "start_time": "2022-06-06T17:02:41.976Z"
   },
   {
    "duration": 9,
    "start_time": "2022-06-06T17:02:42.004Z"
   },
   {
    "duration": 9,
    "start_time": "2022-06-06T17:02:42.015Z"
   },
   {
    "duration": 43,
    "start_time": "2022-06-06T17:02:42.026Z"
   },
   {
    "duration": 30,
    "start_time": "2022-06-06T17:02:42.071Z"
   },
   {
    "duration": 21,
    "start_time": "2022-06-06T17:02:42.103Z"
   },
   {
    "duration": 42,
    "start_time": "2022-06-06T17:02:42.126Z"
   },
   {
    "duration": 8,
    "start_time": "2022-06-06T17:02:42.171Z"
   },
   {
    "duration": 6,
    "start_time": "2022-06-06T17:02:42.181Z"
   },
   {
    "duration": 24,
    "start_time": "2022-06-06T17:02:42.188Z"
   },
   {
    "duration": 292,
    "start_time": "2022-06-06T17:02:42.214Z"
   },
   {
    "duration": 385,
    "start_time": "2022-06-06T17:02:42.507Z"
   },
   {
    "duration": 1157,
    "start_time": "2022-06-06T17:02:42.895Z"
   },
   {
    "duration": 29,
    "start_time": "2022-06-06T17:02:44.054Z"
   },
   {
    "duration": 222,
    "start_time": "2022-06-06T17:02:44.085Z"
   },
   {
    "duration": 186,
    "start_time": "2022-06-06T17:02:44.309Z"
   },
   {
    "duration": 405,
    "start_time": "2022-06-06T17:03:21.168Z"
   },
   {
    "duration": 296,
    "start_time": "2022-06-06T17:03:21.575Z"
   },
   {
    "duration": 454,
    "start_time": "2022-06-06T17:03:21.872Z"
   },
   {
    "duration": 75,
    "start_time": "2022-06-06T17:03:22.328Z"
   },
   {
    "duration": 4,
    "start_time": "2022-06-06T17:03:22.405Z"
   },
   {
    "duration": 24,
    "start_time": "2022-06-06T17:03:22.411Z"
   },
   {
    "duration": 43,
    "start_time": "2022-06-06T17:03:22.437Z"
   },
   {
    "duration": 25,
    "start_time": "2022-06-06T17:03:22.482Z"
   },
   {
    "duration": 42,
    "start_time": "2022-06-06T17:03:22.509Z"
   },
   {
    "duration": 12,
    "start_time": "2022-06-06T17:03:22.554Z"
   },
   {
    "duration": 37,
    "start_time": "2022-06-06T17:03:22.573Z"
   },
   {
    "duration": 22,
    "start_time": "2022-06-06T17:03:22.612Z"
   },
   {
    "duration": 50,
    "start_time": "2022-06-06T17:03:22.639Z"
   },
   {
    "duration": 21,
    "start_time": "2022-06-06T17:03:22.690Z"
   },
   {
    "duration": 45,
    "start_time": "2022-06-06T17:03:22.712Z"
   },
   {
    "duration": 30,
    "start_time": "2022-06-06T17:03:22.758Z"
   },
   {
    "duration": 8,
    "start_time": "2022-06-06T17:03:22.790Z"
   },
   {
    "duration": 15,
    "start_time": "2022-06-06T17:03:22.800Z"
   },
   {
    "duration": 10,
    "start_time": "2022-06-06T17:03:22.816Z"
   },
   {
    "duration": 61,
    "start_time": "2022-06-06T17:03:22.827Z"
   },
   {
    "duration": 21,
    "start_time": "2022-06-06T17:03:22.890Z"
   },
   {
    "duration": 6,
    "start_time": "2022-06-06T17:03:22.912Z"
   },
   {
    "duration": 8,
    "start_time": "2022-06-06T17:03:22.920Z"
   },
   {
    "duration": 44,
    "start_time": "2022-06-06T17:03:22.930Z"
   },
   {
    "duration": 28,
    "start_time": "2022-06-06T17:03:22.977Z"
   },
   {
    "duration": 215,
    "start_time": "2022-06-06T17:03:23.007Z"
   },
   {
    "duration": 433,
    "start_time": "2022-06-06T17:03:23.224Z"
   },
   {
    "duration": 1260,
    "start_time": "2022-06-06T17:03:23.660Z"
   },
   {
    "duration": 49,
    "start_time": "2022-06-06T17:03:24.922Z"
   },
   {
    "duration": 274,
    "start_time": "2022-06-06T17:03:24.973Z"
   },
   {
    "duration": 11,
    "start_time": "2022-06-06T17:03:25.252Z"
   },
   {
    "duration": 29,
    "start_time": "2022-06-06T17:48:19.856Z"
   },
   {
    "duration": 440,
    "start_time": "2022-06-06T17:49:40.627Z"
   },
   {
    "duration": 297,
    "start_time": "2022-06-06T17:49:41.069Z"
   },
   {
    "duration": 475,
    "start_time": "2022-06-06T17:49:41.367Z"
   },
   {
    "duration": 58,
    "start_time": "2022-06-06T17:49:41.850Z"
   },
   {
    "duration": 4,
    "start_time": "2022-06-06T17:49:41.910Z"
   },
   {
    "duration": 30,
    "start_time": "2022-06-06T17:49:41.916Z"
   },
   {
    "duration": 29,
    "start_time": "2022-06-06T17:49:41.949Z"
   },
   {
    "duration": 19,
    "start_time": "2022-06-06T17:49:41.980Z"
   },
   {
    "duration": 44,
    "start_time": "2022-06-06T17:49:42.001Z"
   },
   {
    "duration": 12,
    "start_time": "2022-06-06T17:49:42.049Z"
   },
   {
    "duration": 27,
    "start_time": "2022-06-06T17:49:42.064Z"
   },
   {
    "duration": 10,
    "start_time": "2022-06-06T17:49:42.092Z"
   },
   {
    "duration": 38,
    "start_time": "2022-06-06T17:49:42.103Z"
   },
   {
    "duration": 9,
    "start_time": "2022-06-06T17:49:42.142Z"
   },
   {
    "duration": 25,
    "start_time": "2022-06-06T17:49:42.153Z"
   },
   {
    "duration": 27,
    "start_time": "2022-06-06T17:49:42.180Z"
   },
   {
    "duration": 11,
    "start_time": "2022-06-06T17:49:42.209Z"
   },
   {
    "duration": 17,
    "start_time": "2022-06-06T17:49:42.222Z"
   },
   {
    "duration": 36,
    "start_time": "2022-06-06T17:49:42.240Z"
   },
   {
    "duration": 24,
    "start_time": "2022-06-06T17:49:42.278Z"
   },
   {
    "duration": 39,
    "start_time": "2022-06-06T17:49:42.304Z"
   },
   {
    "duration": 9,
    "start_time": "2022-06-06T17:49:42.347Z"
   },
   {
    "duration": 21,
    "start_time": "2022-06-06T17:49:42.361Z"
   },
   {
    "duration": 16,
    "start_time": "2022-06-06T17:49:42.384Z"
   },
   {
    "duration": 47,
    "start_time": "2022-06-06T17:49:42.402Z"
   },
   {
    "duration": 252,
    "start_time": "2022-06-06T17:49:42.458Z"
   },
   {
    "duration": 461,
    "start_time": "2022-06-06T17:49:42.712Z"
   },
   {
    "duration": 1265,
    "start_time": "2022-06-06T17:49:43.176Z"
   },
   {
    "duration": 35,
    "start_time": "2022-06-06T17:49:44.444Z"
   },
   {
    "duration": 254,
    "start_time": "2022-06-06T17:49:44.483Z"
   },
   {
    "duration": 32,
    "start_time": "2022-06-06T17:49:44.745Z"
   },
   {
    "duration": 6,
    "start_time": "2022-06-06T17:53:30.960Z"
   },
   {
    "duration": 6,
    "start_time": "2022-06-06T17:54:08.705Z"
   },
   {
    "duration": 37,
    "start_time": "2022-06-06T17:54:16.740Z"
   },
   {
    "duration": 6,
    "start_time": "2022-06-06T17:55:15.701Z"
   },
   {
    "duration": 36,
    "start_time": "2022-06-06T18:05:47.560Z"
   },
   {
    "duration": 12,
    "start_time": "2022-06-06T18:05:56.125Z"
   },
   {
    "duration": 9,
    "start_time": "2022-06-06T18:06:06.821Z"
   },
   {
    "duration": 251,
    "start_time": "2022-06-06T18:06:20.661Z"
   },
   {
    "duration": 272,
    "start_time": "2022-06-06T18:07:51.390Z"
   },
   {
    "duration": 140,
    "start_time": "2022-06-06T18:38:37.919Z"
   },
   {
    "duration": 304,
    "start_time": "2022-06-06T18:38:57.241Z"
   },
   {
    "duration": 57,
    "start_time": "2022-06-07T06:35:57.992Z"
   },
   {
    "duration": 419,
    "start_time": "2022-06-07T06:36:05.587Z"
   },
   {
    "duration": 416,
    "start_time": "2022-06-07T06:36:06.008Z"
   },
   {
    "duration": 436,
    "start_time": "2022-06-07T06:36:06.426Z"
   },
   {
    "duration": 91,
    "start_time": "2022-06-07T06:36:06.864Z"
   },
   {
    "duration": 4,
    "start_time": "2022-06-07T06:36:06.957Z"
   },
   {
    "duration": 21,
    "start_time": "2022-06-07T06:36:06.962Z"
   },
   {
    "duration": 14,
    "start_time": "2022-06-07T06:36:06.985Z"
   },
   {
    "duration": 23,
    "start_time": "2022-06-07T06:36:07.000Z"
   },
   {
    "duration": 28,
    "start_time": "2022-06-07T06:36:07.024Z"
   },
   {
    "duration": 3,
    "start_time": "2022-06-07T06:36:07.054Z"
   },
   {
    "duration": 15,
    "start_time": "2022-06-07T06:36:07.059Z"
   },
   {
    "duration": 9,
    "start_time": "2022-06-07T06:36:07.076Z"
   },
   {
    "duration": 40,
    "start_time": "2022-06-07T06:36:07.087Z"
   },
   {
    "duration": 4,
    "start_time": "2022-06-07T06:36:07.129Z"
   },
   {
    "duration": 11,
    "start_time": "2022-06-07T06:36:07.135Z"
   },
   {
    "duration": 20,
    "start_time": "2022-06-07T06:36:07.148Z"
   },
   {
    "duration": 7,
    "start_time": "2022-06-07T06:36:07.170Z"
   },
   {
    "duration": 9,
    "start_time": "2022-06-07T06:36:07.179Z"
   },
   {
    "duration": 8,
    "start_time": "2022-06-07T06:36:07.190Z"
   },
   {
    "duration": 42,
    "start_time": "2022-06-07T06:36:07.200Z"
   },
   {
    "duration": 20,
    "start_time": "2022-06-07T06:36:07.243Z"
   },
   {
    "duration": 5,
    "start_time": "2022-06-07T06:36:07.264Z"
   },
   {
    "duration": 8,
    "start_time": "2022-06-07T06:36:07.270Z"
   },
   {
    "duration": 5,
    "start_time": "2022-06-07T06:36:07.279Z"
   },
   {
    "duration": 51,
    "start_time": "2022-06-07T06:36:07.286Z"
   },
   {
    "duration": 192,
    "start_time": "2022-06-07T06:36:07.339Z"
   },
   {
    "duration": 396,
    "start_time": "2022-06-07T06:36:07.533Z"
   },
   {
    "duration": 1042,
    "start_time": "2022-06-07T06:36:07.934Z"
   },
   {
    "duration": 24,
    "start_time": "2022-06-07T06:36:08.978Z"
   },
   {
    "duration": 199,
    "start_time": "2022-06-07T06:36:09.004Z"
   },
   {
    "duration": 146,
    "start_time": "2022-06-07T06:36:09.205Z"
   },
   {
    "duration": 0,
    "start_time": "2022-06-07T06:36:09.353Z"
   },
   {
    "duration": 0,
    "start_time": "2022-06-07T06:36:09.354Z"
   },
   {
    "duration": 390,
    "start_time": "2022-06-07T06:36:47.056Z"
   },
   {
    "duration": 281,
    "start_time": "2022-06-07T06:36:47.448Z"
   },
   {
    "duration": 449,
    "start_time": "2022-06-07T06:36:47.731Z"
   },
   {
    "duration": 51,
    "start_time": "2022-06-07T06:36:48.182Z"
   },
   {
    "duration": 5,
    "start_time": "2022-06-07T06:36:48.235Z"
   },
   {
    "duration": 23,
    "start_time": "2022-06-07T06:36:48.241Z"
   },
   {
    "duration": 20,
    "start_time": "2022-06-07T06:36:48.266Z"
   },
   {
    "duration": 40,
    "start_time": "2022-06-07T06:36:48.288Z"
   },
   {
    "duration": 27,
    "start_time": "2022-06-07T06:36:48.330Z"
   },
   {
    "duration": 3,
    "start_time": "2022-06-07T06:36:48.359Z"
   },
   {
    "duration": 17,
    "start_time": "2022-06-07T06:36:48.364Z"
   },
   {
    "duration": 12,
    "start_time": "2022-06-07T06:36:48.383Z"
   },
   {
    "duration": 50,
    "start_time": "2022-06-07T06:36:48.396Z"
   },
   {
    "duration": 6,
    "start_time": "2022-06-07T06:36:48.449Z"
   },
   {
    "duration": 14,
    "start_time": "2022-06-07T06:36:48.456Z"
   },
   {
    "duration": 20,
    "start_time": "2022-06-07T06:36:48.471Z"
   },
   {
    "duration": 30,
    "start_time": "2022-06-07T06:36:48.493Z"
   },
   {
    "duration": 9,
    "start_time": "2022-06-07T06:36:48.525Z"
   },
   {
    "duration": 8,
    "start_time": "2022-06-07T06:36:48.536Z"
   },
   {
    "duration": 21,
    "start_time": "2022-06-07T06:36:48.546Z"
   },
   {
    "duration": 18,
    "start_time": "2022-06-07T06:36:48.568Z"
   },
   {
    "duration": 5,
    "start_time": "2022-06-07T06:36:48.587Z"
   },
   {
    "duration": 6,
    "start_time": "2022-06-07T06:36:48.622Z"
   },
   {
    "duration": 8,
    "start_time": "2022-06-07T06:36:48.630Z"
   },
   {
    "duration": 24,
    "start_time": "2022-06-07T06:36:48.639Z"
   },
   {
    "duration": 207,
    "start_time": "2022-06-07T06:36:48.664Z"
   },
   {
    "duration": 402,
    "start_time": "2022-06-07T06:36:48.873Z"
   },
   {
    "duration": 1045,
    "start_time": "2022-06-07T06:36:49.278Z"
   },
   {
    "duration": 21,
    "start_time": "2022-06-07T06:36:50.325Z"
   },
   {
    "duration": 200,
    "start_time": "2022-06-07T06:36:50.348Z"
   },
   {
    "duration": 6,
    "start_time": "2022-06-07T06:36:50.550Z"
   },
   {
    "duration": 223,
    "start_time": "2022-06-07T06:36:50.557Z"
   },
   {
    "duration": 458,
    "start_time": "2022-06-07T06:39:25.223Z"
   },
   {
    "duration": 10,
    "start_time": "2022-06-07T06:53:06.590Z"
   },
   {
    "duration": 447,
    "start_time": "2022-06-07T06:53:17.618Z"
   },
   {
    "duration": 291,
    "start_time": "2022-06-07T06:53:18.067Z"
   },
   {
    "duration": 416,
    "start_time": "2022-06-07T06:53:18.360Z"
   },
   {
    "duration": 56,
    "start_time": "2022-06-07T06:53:18.778Z"
   },
   {
    "duration": 6,
    "start_time": "2022-06-07T06:53:18.835Z"
   },
   {
    "duration": 17,
    "start_time": "2022-06-07T06:53:18.842Z"
   },
   {
    "duration": 14,
    "start_time": "2022-06-07T06:53:18.861Z"
   },
   {
    "duration": 18,
    "start_time": "2022-06-07T06:53:18.876Z"
   },
   {
    "duration": 52,
    "start_time": "2022-06-07T06:53:18.895Z"
   },
   {
    "duration": 2,
    "start_time": "2022-06-07T06:53:18.950Z"
   },
   {
    "duration": 19,
    "start_time": "2022-06-07T06:53:18.954Z"
   },
   {
    "duration": 12,
    "start_time": "2022-06-07T06:53:18.975Z"
   },
   {
    "duration": 36,
    "start_time": "2022-06-07T06:53:18.988Z"
   },
   {
    "duration": 5,
    "start_time": "2022-06-07T06:53:19.026Z"
   },
   {
    "duration": 10,
    "start_time": "2022-06-07T06:53:19.033Z"
   },
   {
    "duration": 22,
    "start_time": "2022-06-07T06:53:19.044Z"
   },
   {
    "duration": 8,
    "start_time": "2022-06-07T06:53:19.067Z"
   },
   {
    "duration": 10,
    "start_time": "2022-06-07T06:53:19.076Z"
   },
   {
    "duration": 9,
    "start_time": "2022-06-07T06:53:19.087Z"
   },
   {
    "duration": 43,
    "start_time": "2022-06-07T06:53:19.097Z"
   },
   {
    "duration": 20,
    "start_time": "2022-06-07T06:53:19.141Z"
   },
   {
    "duration": 6,
    "start_time": "2022-06-07T06:53:19.163Z"
   },
   {
    "duration": 9,
    "start_time": "2022-06-07T06:53:19.171Z"
   },
   {
    "duration": 6,
    "start_time": "2022-06-07T06:53:19.181Z"
   },
   {
    "duration": 53,
    "start_time": "2022-06-07T06:53:19.188Z"
   },
   {
    "duration": 201,
    "start_time": "2022-06-07T06:53:19.242Z"
   },
   {
    "duration": 387,
    "start_time": "2022-06-07T06:53:19.444Z"
   },
   {
    "duration": 1004,
    "start_time": "2022-06-07T06:53:19.834Z"
   },
   {
    "duration": 23,
    "start_time": "2022-06-07T06:53:20.840Z"
   },
   {
    "duration": 189,
    "start_time": "2022-06-07T06:53:20.864Z"
   },
   {
    "duration": 5,
    "start_time": "2022-06-07T06:53:21.055Z"
   },
   {
    "duration": 232,
    "start_time": "2022-06-07T06:53:21.061Z"
   },
   {
    "duration": 112,
    "start_time": "2022-06-07T06:53:21.295Z"
   },
   {
    "duration": 0,
    "start_time": "2022-06-07T06:53:21.409Z"
   },
   {
    "duration": 14,
    "start_time": "2022-06-07T06:53:55.669Z"
   },
   {
    "duration": 10,
    "start_time": "2022-06-07T06:54:31.864Z"
   },
   {
    "duration": 6,
    "start_time": "2022-06-07T06:54:45.087Z"
   },
   {
    "duration": 5,
    "start_time": "2022-06-07T06:55:42.214Z"
   },
   {
    "duration": 14,
    "start_time": "2022-06-07T06:55:59.448Z"
   },
   {
    "duration": 12,
    "start_time": "2022-06-07T06:56:21.717Z"
   },
   {
    "duration": 412,
    "start_time": "2022-06-07T06:56:28.560Z"
   },
   {
    "duration": 292,
    "start_time": "2022-06-07T06:56:28.973Z"
   },
   {
    "duration": 461,
    "start_time": "2022-06-07T06:56:29.267Z"
   },
   {
    "duration": 52,
    "start_time": "2022-06-07T06:56:29.730Z"
   },
   {
    "duration": 4,
    "start_time": "2022-06-07T06:56:29.784Z"
   },
   {
    "duration": 19,
    "start_time": "2022-06-07T06:56:29.789Z"
   },
   {
    "duration": 13,
    "start_time": "2022-06-07T06:56:29.810Z"
   },
   {
    "duration": 19,
    "start_time": "2022-06-07T06:56:29.825Z"
   },
   {
    "duration": 27,
    "start_time": "2022-06-07T06:56:29.845Z"
   },
   {
    "duration": 3,
    "start_time": "2022-06-07T06:56:29.874Z"
   },
   {
    "duration": 16,
    "start_time": "2022-06-07T06:56:29.879Z"
   },
   {
    "duration": 30,
    "start_time": "2022-06-07T06:56:29.896Z"
   },
   {
    "duration": 20,
    "start_time": "2022-06-07T06:56:29.927Z"
   },
   {
    "duration": 7,
    "start_time": "2022-06-07T06:56:29.950Z"
   },
   {
    "duration": 10,
    "start_time": "2022-06-07T06:56:29.959Z"
   },
   {
    "duration": 25,
    "start_time": "2022-06-07T06:56:29.970Z"
   },
   {
    "duration": 30,
    "start_time": "2022-06-07T06:56:29.997Z"
   },
   {
    "duration": 40,
    "start_time": "2022-06-07T06:56:30.028Z"
   },
   {
    "duration": 33,
    "start_time": "2022-06-07T06:56:30.070Z"
   },
   {
    "duration": 28,
    "start_time": "2022-06-07T06:56:30.105Z"
   },
   {
    "duration": 44,
    "start_time": "2022-06-07T06:56:30.134Z"
   },
   {
    "duration": 5,
    "start_time": "2022-06-07T06:56:30.180Z"
   },
   {
    "duration": 45,
    "start_time": "2022-06-07T06:56:30.187Z"
   },
   {
    "duration": 24,
    "start_time": "2022-06-07T06:56:30.233Z"
   },
   {
    "duration": 32,
    "start_time": "2022-06-07T06:56:30.258Z"
   },
   {
    "duration": 189,
    "start_time": "2022-06-07T06:56:30.292Z"
   },
   {
    "duration": 394,
    "start_time": "2022-06-07T06:56:30.483Z"
   },
   {
    "duration": 1117,
    "start_time": "2022-06-07T06:56:30.879Z"
   },
   {
    "duration": 28,
    "start_time": "2022-06-07T06:56:31.997Z"
   },
   {
    "duration": 202,
    "start_time": "2022-06-07T06:56:32.027Z"
   },
   {
    "duration": 5,
    "start_time": "2022-06-07T06:56:32.231Z"
   },
   {
    "duration": 256,
    "start_time": "2022-06-07T06:56:32.237Z"
   },
   {
    "duration": 11,
    "start_time": "2022-06-07T06:56:32.495Z"
   },
   {
    "duration": 26,
    "start_time": "2022-06-07T06:56:32.507Z"
   },
   {
    "duration": 419,
    "start_time": "2022-06-07T06:56:32.535Z"
   },
   {
    "duration": 14,
    "start_time": "2022-06-07T06:56:52.200Z"
   },
   {
    "duration": 103,
    "start_time": "2022-06-07T06:57:26.852Z"
   },
   {
    "duration": 2,
    "start_time": "2022-06-07T06:59:18.509Z"
   },
   {
    "duration": 429,
    "start_time": "2022-06-07T06:59:29.211Z"
   },
   {
    "duration": 279,
    "start_time": "2022-06-07T06:59:29.642Z"
   },
   {
    "duration": 419,
    "start_time": "2022-06-07T06:59:29.923Z"
   },
   {
    "duration": 3,
    "start_time": "2022-06-07T06:59:30.343Z"
   },
   {
    "duration": 63,
    "start_time": "2022-06-07T06:59:30.348Z"
   },
   {
    "duration": 3,
    "start_time": "2022-06-07T06:59:30.413Z"
   },
   {
    "duration": 22,
    "start_time": "2022-06-07T06:59:30.418Z"
   },
   {
    "duration": 14,
    "start_time": "2022-06-07T06:59:30.442Z"
   },
   {
    "duration": 31,
    "start_time": "2022-06-07T06:59:30.458Z"
   },
   {
    "duration": 37,
    "start_time": "2022-06-07T06:59:30.491Z"
   },
   {
    "duration": 3,
    "start_time": "2022-06-07T06:59:30.530Z"
   },
   {
    "duration": 32,
    "start_time": "2022-06-07T06:59:30.534Z"
   },
   {
    "duration": 20,
    "start_time": "2022-06-07T06:59:30.568Z"
   },
   {
    "duration": 31,
    "start_time": "2022-06-07T06:59:30.590Z"
   },
   {
    "duration": 24,
    "start_time": "2022-06-07T06:59:30.623Z"
   },
   {
    "duration": 27,
    "start_time": "2022-06-07T06:59:30.649Z"
   },
   {
    "duration": 40,
    "start_time": "2022-06-07T06:59:30.678Z"
   },
   {
    "duration": 7,
    "start_time": "2022-06-07T06:59:30.720Z"
   },
   {
    "duration": 15,
    "start_time": "2022-06-07T06:59:30.729Z"
   },
   {
    "duration": 19,
    "start_time": "2022-06-07T06:59:30.746Z"
   },
   {
    "duration": 36,
    "start_time": "2022-06-07T06:59:30.767Z"
   },
   {
    "duration": 20,
    "start_time": "2022-06-07T06:59:30.805Z"
   },
   {
    "duration": 5,
    "start_time": "2022-06-07T06:59:30.827Z"
   },
   {
    "duration": 24,
    "start_time": "2022-06-07T06:59:30.834Z"
   },
   {
    "duration": 15,
    "start_time": "2022-06-07T06:59:30.860Z"
   },
   {
    "duration": 30,
    "start_time": "2022-06-07T06:59:30.877Z"
   },
   {
    "duration": 227,
    "start_time": "2022-06-07T06:59:30.908Z"
   },
   {
    "duration": 407,
    "start_time": "2022-06-07T06:59:31.137Z"
   },
   {
    "duration": 1071,
    "start_time": "2022-06-07T06:59:31.546Z"
   },
   {
    "duration": 31,
    "start_time": "2022-06-07T06:59:32.619Z"
   },
   {
    "duration": 237,
    "start_time": "2022-06-07T06:59:32.652Z"
   },
   {
    "duration": 5,
    "start_time": "2022-06-07T06:59:32.891Z"
   },
   {
    "duration": 235,
    "start_time": "2022-06-07T06:59:32.898Z"
   },
   {
    "duration": 11,
    "start_time": "2022-06-07T06:59:33.134Z"
   },
   {
    "duration": 16,
    "start_time": "2022-06-07T06:59:33.147Z"
   },
   {
    "duration": 416,
    "start_time": "2022-06-07T06:59:33.164Z"
   },
   {
    "duration": 6,
    "start_time": "2022-06-07T07:13:23.669Z"
   },
   {
    "duration": 394,
    "start_time": "2022-06-07T07:15:06.463Z"
   },
   {
    "duration": 279,
    "start_time": "2022-06-07T07:15:06.859Z"
   },
   {
    "duration": 438,
    "start_time": "2022-06-07T07:15:07.140Z"
   },
   {
    "duration": 3,
    "start_time": "2022-06-07T07:15:07.580Z"
   },
   {
    "duration": 73,
    "start_time": "2022-06-07T07:15:07.584Z"
   },
   {
    "duration": 3,
    "start_time": "2022-06-07T07:15:07.659Z"
   },
   {
    "duration": 39,
    "start_time": "2022-06-07T07:15:07.664Z"
   },
   {
    "duration": 20,
    "start_time": "2022-06-07T07:15:07.704Z"
   },
   {
    "duration": 29,
    "start_time": "2022-06-07T07:15:07.726Z"
   },
   {
    "duration": 33,
    "start_time": "2022-06-07T07:15:07.759Z"
   },
   {
    "duration": 3,
    "start_time": "2022-06-07T07:15:07.794Z"
   },
   {
    "duration": 35,
    "start_time": "2022-06-07T07:15:07.798Z"
   },
   {
    "duration": 27,
    "start_time": "2022-06-07T07:15:07.835Z"
   },
   {
    "duration": 27,
    "start_time": "2022-06-07T07:15:07.864Z"
   },
   {
    "duration": 15,
    "start_time": "2022-06-07T07:15:07.894Z"
   },
   {
    "duration": 18,
    "start_time": "2022-06-07T07:15:07.911Z"
   },
   {
    "duration": 40,
    "start_time": "2022-06-07T07:15:07.931Z"
   },
   {
    "duration": 8,
    "start_time": "2022-06-07T07:15:07.973Z"
   },
   {
    "duration": 28,
    "start_time": "2022-06-07T07:15:07.983Z"
   },
   {
    "duration": 26,
    "start_time": "2022-06-07T07:15:08.013Z"
   },
   {
    "duration": 33,
    "start_time": "2022-06-07T07:15:08.040Z"
   },
   {
    "duration": 23,
    "start_time": "2022-06-07T07:15:08.074Z"
   },
   {
    "duration": 5,
    "start_time": "2022-06-07T07:15:08.099Z"
   },
   {
    "duration": 19,
    "start_time": "2022-06-07T07:15:08.105Z"
   },
   {
    "duration": 22,
    "start_time": "2022-06-07T07:15:08.126Z"
   },
   {
    "duration": 48,
    "start_time": "2022-06-07T07:15:08.150Z"
   },
   {
    "duration": 207,
    "start_time": "2022-06-07T07:15:08.200Z"
   },
   {
    "duration": 399,
    "start_time": "2022-06-07T07:15:08.410Z"
   },
   {
    "duration": 1066,
    "start_time": "2022-06-07T07:15:08.811Z"
   },
   {
    "duration": 23,
    "start_time": "2022-06-07T07:15:09.878Z"
   },
   {
    "duration": 209,
    "start_time": "2022-06-07T07:15:09.903Z"
   },
   {
    "duration": 12,
    "start_time": "2022-06-07T07:15:10.114Z"
   },
   {
    "duration": 231,
    "start_time": "2022-06-07T07:15:10.128Z"
   },
   {
    "duration": 15,
    "start_time": "2022-06-07T07:15:10.361Z"
   },
   {
    "duration": 4,
    "start_time": "2022-06-07T07:15:10.378Z"
   },
   {
    "duration": 384,
    "start_time": "2022-06-07T07:15:10.384Z"
   },
   {
    "duration": 58,
    "start_time": "2022-06-07T17:13:23.401Z"
   },
   {
    "duration": 388,
    "start_time": "2022-06-07T17:13:44.681Z"
   },
   {
    "duration": 405,
    "start_time": "2022-06-07T17:13:45.071Z"
   },
   {
    "duration": 406,
    "start_time": "2022-06-07T17:13:45.478Z"
   },
   {
    "duration": 2,
    "start_time": "2022-06-07T17:13:45.886Z"
   },
   {
    "duration": 191,
    "start_time": "2022-06-07T17:13:45.889Z"
   },
   {
    "duration": 4,
    "start_time": "2022-06-07T17:13:46.082Z"
   },
   {
    "duration": 18,
    "start_time": "2022-06-07T17:13:46.087Z"
   },
   {
    "duration": 13,
    "start_time": "2022-06-07T17:13:46.106Z"
   },
   {
    "duration": 19,
    "start_time": "2022-06-07T17:13:46.121Z"
   },
   {
    "duration": 30,
    "start_time": "2022-06-07T17:13:46.142Z"
   },
   {
    "duration": 9,
    "start_time": "2022-06-07T17:13:46.173Z"
   },
   {
    "duration": 28,
    "start_time": "2022-06-07T17:13:46.184Z"
   },
   {
    "duration": 14,
    "start_time": "2022-06-07T17:13:46.213Z"
   },
   {
    "duration": 20,
    "start_time": "2022-06-07T17:13:46.229Z"
   },
   {
    "duration": 4,
    "start_time": "2022-06-07T17:13:46.251Z"
   },
   {
    "duration": 8,
    "start_time": "2022-06-07T17:13:46.257Z"
   },
   {
    "duration": 24,
    "start_time": "2022-06-07T17:13:46.267Z"
   },
   {
    "duration": 8,
    "start_time": "2022-06-07T17:13:46.292Z"
   },
   {
    "duration": 11,
    "start_time": "2022-06-07T17:13:46.301Z"
   },
   {
    "duration": 9,
    "start_time": "2022-06-07T17:13:46.314Z"
   },
   {
    "duration": 24,
    "start_time": "2022-06-07T17:13:46.342Z"
   },
   {
    "duration": 19,
    "start_time": "2022-06-07T17:13:46.367Z"
   },
   {
    "duration": 4,
    "start_time": "2022-06-07T17:13:46.388Z"
   },
   {
    "duration": 6,
    "start_time": "2022-06-07T17:13:46.394Z"
   },
   {
    "duration": 4,
    "start_time": "2022-06-07T17:13:46.402Z"
   },
   {
    "duration": 44,
    "start_time": "2022-06-07T17:13:46.407Z"
   },
   {
    "duration": 204,
    "start_time": "2022-06-07T17:13:46.453Z"
   },
   {
    "duration": 450,
    "start_time": "2022-06-07T17:13:46.660Z"
   },
   {
    "duration": 1059,
    "start_time": "2022-06-07T17:13:47.112Z"
   },
   {
    "duration": 22,
    "start_time": "2022-06-07T17:13:48.172Z"
   },
   {
    "duration": 203,
    "start_time": "2022-06-07T17:13:48.196Z"
   },
   {
    "duration": 5,
    "start_time": "2022-06-07T17:13:48.400Z"
   },
   {
    "duration": 227,
    "start_time": "2022-06-07T17:13:48.407Z"
   },
   {
    "duration": 16,
    "start_time": "2022-06-07T17:13:48.636Z"
   },
   {
    "duration": 4,
    "start_time": "2022-06-07T17:13:48.653Z"
   },
   {
    "duration": 367,
    "start_time": "2022-06-07T17:13:48.659Z"
   },
   {
    "duration": 289,
    "start_time": "2022-06-07T17:13:49.027Z"
   },
   {
    "duration": 259,
    "start_time": "2022-06-07T17:14:58.083Z"
   },
   {
    "duration": 276,
    "start_time": "2022-06-07T17:19:34.525Z"
   },
   {
    "duration": 242,
    "start_time": "2022-06-07T17:20:31.238Z"
   },
   {
    "duration": 270,
    "start_time": "2022-06-07T17:21:30.286Z"
   },
   {
    "duration": 272,
    "start_time": "2022-06-07T17:22:21.899Z"
   },
   {
    "duration": 248,
    "start_time": "2022-06-07T17:22:51.258Z"
   },
   {
    "duration": 5,
    "start_time": "2022-06-07T17:29:15.099Z"
   },
   {
    "duration": 415,
    "start_time": "2022-06-07T17:29:24.583Z"
   },
   {
    "duration": 282,
    "start_time": "2022-06-07T17:29:25.000Z"
   },
   {
    "duration": 439,
    "start_time": "2022-06-07T17:29:25.283Z"
   },
   {
    "duration": 2,
    "start_time": "2022-06-07T17:29:25.724Z"
   },
   {
    "duration": 81,
    "start_time": "2022-06-07T17:29:25.728Z"
   },
   {
    "duration": 4,
    "start_time": "2022-06-07T17:29:25.810Z"
   },
   {
    "duration": 17,
    "start_time": "2022-06-07T17:29:25.816Z"
   },
   {
    "duration": 16,
    "start_time": "2022-06-07T17:29:25.835Z"
   },
   {
    "duration": 37,
    "start_time": "2022-06-07T17:29:25.853Z"
   },
   {
    "duration": 35,
    "start_time": "2022-06-07T17:29:25.892Z"
   },
   {
    "duration": 3,
    "start_time": "2022-06-07T17:29:25.929Z"
   },
   {
    "duration": 20,
    "start_time": "2022-06-07T17:29:25.933Z"
   },
   {
    "duration": 25,
    "start_time": "2022-06-07T17:29:25.955Z"
   },
   {
    "duration": 20,
    "start_time": "2022-06-07T17:29:25.981Z"
   },
   {
    "duration": 5,
    "start_time": "2022-06-07T17:29:26.002Z"
   },
   {
    "duration": 9,
    "start_time": "2022-06-07T17:29:26.009Z"
   },
   {
    "duration": 33,
    "start_time": "2022-06-07T17:29:26.020Z"
   },
   {
    "duration": 18,
    "start_time": "2022-06-07T17:29:26.055Z"
   },
   {
    "duration": 12,
    "start_time": "2022-06-07T17:29:26.075Z"
   },
   {
    "duration": 8,
    "start_time": "2022-06-07T17:29:26.089Z"
   },
   {
    "duration": 26,
    "start_time": "2022-06-07T17:29:26.099Z"
   },
   {
    "duration": 29,
    "start_time": "2022-06-07T17:29:26.126Z"
   },
   {
    "duration": 6,
    "start_time": "2022-06-07T17:29:26.157Z"
   },
   {
    "duration": 20,
    "start_time": "2022-06-07T17:29:26.164Z"
   },
   {
    "duration": 5,
    "start_time": "2022-06-07T17:29:26.186Z"
   },
   {
    "duration": 32,
    "start_time": "2022-06-07T17:29:26.192Z"
   },
   {
    "duration": 247,
    "start_time": "2022-06-07T17:29:26.226Z"
   },
   {
    "duration": 439,
    "start_time": "2022-06-07T17:29:26.476Z"
   },
   {
    "duration": 1235,
    "start_time": "2022-06-07T17:29:26.917Z"
   },
   {
    "duration": 27,
    "start_time": "2022-06-07T17:29:28.161Z"
   },
   {
    "duration": 217,
    "start_time": "2022-06-07T17:29:28.190Z"
   },
   {
    "duration": 5,
    "start_time": "2022-06-07T17:29:28.409Z"
   },
   {
    "duration": 265,
    "start_time": "2022-06-07T17:29:28.416Z"
   },
   {
    "duration": 6,
    "start_time": "2022-06-07T17:29:28.682Z"
   },
   {
    "duration": 8,
    "start_time": "2022-06-07T17:29:28.689Z"
   },
   {
    "duration": 422,
    "start_time": "2022-06-07T17:29:28.698Z"
   },
   {
    "duration": 338,
    "start_time": "2022-06-07T17:29:29.122Z"
   },
   {
    "duration": 323,
    "start_time": "2022-06-07T17:29:29.462Z"
   },
   {
    "duration": 322,
    "start_time": "2022-06-07T17:29:29.787Z"
   },
   {
    "duration": 295,
    "start_time": "2022-06-07T17:29:30.111Z"
   },
   {
    "duration": 302,
    "start_time": "2022-06-07T17:29:30.408Z"
   },
   {
    "duration": 300,
    "start_time": "2022-06-07T17:29:30.712Z"
   },
   {
    "duration": 284,
    "start_time": "2022-06-07T17:29:31.013Z"
   },
   {
    "duration": 34,
    "start_time": "2022-06-08T05:22:48.177Z"
   },
   {
    "duration": 252,
    "start_time": "2022-06-08T08:31:04.802Z"
   },
   {
    "duration": 326,
    "start_time": "2022-06-08T08:35:20.740Z"
   },
   {
    "duration": 45,
    "start_time": "2022-06-08T16:44:58.507Z"
   },
   {
    "duration": 374,
    "start_time": "2022-06-08T16:45:10.772Z"
   },
   {
    "duration": 361,
    "start_time": "2022-06-08T16:45:11.148Z"
   },
   {
    "duration": 447,
    "start_time": "2022-06-08T16:45:11.512Z"
   },
   {
    "duration": 2,
    "start_time": "2022-06-08T16:45:11.961Z"
   },
   {
    "duration": 241,
    "start_time": "2022-06-08T16:45:11.965Z"
   },
   {
    "duration": 4,
    "start_time": "2022-06-08T16:45:12.208Z"
   },
   {
    "duration": 26,
    "start_time": "2022-06-08T16:45:12.213Z"
   },
   {
    "duration": 11,
    "start_time": "2022-06-08T16:45:12.240Z"
   },
   {
    "duration": 21,
    "start_time": "2022-06-08T16:45:12.253Z"
   },
   {
    "duration": 32,
    "start_time": "2022-06-08T16:45:12.276Z"
   },
   {
    "duration": 10,
    "start_time": "2022-06-08T16:45:12.310Z"
   },
   {
    "duration": 21,
    "start_time": "2022-06-08T16:45:12.321Z"
   },
   {
    "duration": 8,
    "start_time": "2022-06-08T16:45:12.344Z"
   },
   {
    "duration": 17,
    "start_time": "2022-06-08T16:45:12.354Z"
   },
   {
    "duration": 26,
    "start_time": "2022-06-08T16:45:12.373Z"
   },
   {
    "duration": 8,
    "start_time": "2022-06-08T16:45:12.408Z"
   },
   {
    "duration": 23,
    "start_time": "2022-06-08T16:45:12.417Z"
   },
   {
    "duration": 7,
    "start_time": "2022-06-08T16:45:12.441Z"
   },
   {
    "duration": 11,
    "start_time": "2022-06-08T16:45:12.450Z"
   },
   {
    "duration": 7,
    "start_time": "2022-06-08T16:45:12.462Z"
   },
   {
    "duration": 54,
    "start_time": "2022-06-08T16:45:12.470Z"
   },
   {
    "duration": 17,
    "start_time": "2022-06-08T16:45:12.526Z"
   },
   {
    "duration": 5,
    "start_time": "2022-06-08T16:45:12.545Z"
   },
   {
    "duration": 22,
    "start_time": "2022-06-08T16:45:12.551Z"
   },
   {
    "duration": 67,
    "start_time": "2022-06-08T16:45:12.575Z"
   },
   {
    "duration": 29,
    "start_time": "2022-06-08T16:45:12.643Z"
   },
   {
    "duration": 196,
    "start_time": "2022-06-08T16:45:12.673Z"
   },
   {
    "duration": 329,
    "start_time": "2022-06-08T16:45:12.872Z"
   },
   {
    "duration": 1018,
    "start_time": "2022-06-08T16:45:13.209Z"
   },
   {
    "duration": 18,
    "start_time": "2022-06-08T16:45:14.229Z"
   },
   {
    "duration": 187,
    "start_time": "2022-06-08T16:45:14.248Z"
   },
   {
    "duration": 6,
    "start_time": "2022-06-08T16:45:14.437Z"
   },
   {
    "duration": 260,
    "start_time": "2022-06-08T16:45:14.445Z"
   },
   {
    "duration": 11,
    "start_time": "2022-06-08T16:45:14.706Z"
   },
   {
    "duration": 9,
    "start_time": "2022-06-08T16:45:14.718Z"
   },
   {
    "duration": 283,
    "start_time": "2022-06-08T16:45:14.728Z"
   },
   {
    "duration": 252,
    "start_time": "2022-06-08T16:45:15.012Z"
   },
   {
    "duration": 262,
    "start_time": "2022-06-08T16:45:15.266Z"
   },
   {
    "duration": 315,
    "start_time": "2022-06-08T16:45:15.530Z"
   },
   {
    "duration": 244,
    "start_time": "2022-06-08T16:45:15.847Z"
   },
   {
    "duration": 257,
    "start_time": "2022-06-08T16:45:16.092Z"
   },
   {
    "duration": 278,
    "start_time": "2022-06-08T16:45:16.350Z"
   },
   {
    "duration": 330,
    "start_time": "2022-06-08T16:45:16.629Z"
   },
   {
    "duration": 208,
    "start_time": "2022-06-08T16:45:16.960Z"
   },
   {
    "duration": 284,
    "start_time": "2022-06-08T16:45:17.170Z"
   },
   {
    "duration": 406,
    "start_time": "2022-06-08T16:45:17.455Z"
   },
   {
    "duration": 300,
    "start_time": "2022-06-08T16:45:50.314Z"
   },
   {
    "duration": 268,
    "start_time": "2022-06-08T16:46:07.157Z"
   },
   {
    "duration": 229,
    "start_time": "2022-06-08T17:16:19.762Z"
   },
   {
    "duration": 333,
    "start_time": "2022-06-08T17:17:34.943Z"
   },
   {
    "duration": 230,
    "start_time": "2022-06-08T17:17:50.792Z"
   },
   {
    "duration": 4,
    "start_time": "2022-06-08T17:46:25.590Z"
   },
   {
    "duration": 242,
    "start_time": "2022-06-08T17:57:24.228Z"
   },
   {
    "duration": 255,
    "start_time": "2022-06-08T17:58:13.173Z"
   },
   {
    "duration": 265,
    "start_time": "2022-06-08T17:58:21.852Z"
   },
   {
    "duration": 11,
    "start_time": "2022-06-08T18:02:24.016Z"
   },
   {
    "duration": 271,
    "start_time": "2022-06-08T18:02:43.376Z"
   },
   {
    "duration": 419,
    "start_time": "2022-06-08T18:03:08.975Z"
   },
   {
    "duration": 260,
    "start_time": "2022-06-08T18:04:28.871Z"
   },
   {
    "duration": 346,
    "start_time": "2022-06-08T18:04:39.641Z"
   },
   {
    "duration": 228,
    "start_time": "2022-06-08T18:05:12.220Z"
   },
   {
    "duration": 244,
    "start_time": "2022-06-08T18:05:16.009Z"
   },
   {
    "duration": 8,
    "start_time": "2022-06-08T18:18:35.006Z"
   },
   {
    "duration": 1068,
    "start_time": "2022-06-08T18:19:31.040Z"
   },
   {
    "duration": 963,
    "start_time": "2022-06-08T18:21:27.865Z"
   },
   {
    "duration": 909,
    "start_time": "2022-06-08T18:22:30.701Z"
   },
   {
    "duration": 935,
    "start_time": "2022-06-08T18:32:31.651Z"
   },
   {
    "duration": 27,
    "start_time": "2022-06-08T18:32:58.666Z"
   },
   {
    "duration": 1188,
    "start_time": "2022-06-08T18:35:15.569Z"
   },
   {
    "duration": 11,
    "start_time": "2022-06-08T18:37:51.125Z"
   },
   {
    "duration": 353,
    "start_time": "2022-06-08T18:38:05.830Z"
   },
   {
    "duration": 247,
    "start_time": "2022-06-08T18:38:06.189Z"
   },
   {
    "duration": 486,
    "start_time": "2022-06-08T18:38:06.437Z"
   },
   {
    "duration": 2,
    "start_time": "2022-06-08T18:38:06.925Z"
   },
   {
    "duration": 197,
    "start_time": "2022-06-08T18:38:06.929Z"
   },
   {
    "duration": 3,
    "start_time": "2022-06-08T18:38:07.128Z"
   },
   {
    "duration": 23,
    "start_time": "2022-06-08T18:38:07.133Z"
   },
   {
    "duration": 15,
    "start_time": "2022-06-08T18:38:07.158Z"
   },
   {
    "duration": 23,
    "start_time": "2022-06-08T18:38:07.174Z"
   },
   {
    "duration": 56,
    "start_time": "2022-06-08T18:38:07.199Z"
   },
   {
    "duration": 4,
    "start_time": "2022-06-08T18:38:07.257Z"
   },
   {
    "duration": 29,
    "start_time": "2022-06-08T18:38:07.262Z"
   },
   {
    "duration": 39,
    "start_time": "2022-06-08T18:38:07.292Z"
   },
   {
    "duration": 25,
    "start_time": "2022-06-08T18:38:07.333Z"
   },
   {
    "duration": 5,
    "start_time": "2022-06-08T18:38:07.361Z"
   },
   {
    "duration": 10,
    "start_time": "2022-06-08T18:38:07.368Z"
   },
   {
    "duration": 62,
    "start_time": "2022-06-08T18:38:07.380Z"
   },
   {
    "duration": 9,
    "start_time": "2022-06-08T18:38:07.444Z"
   },
   {
    "duration": 7,
    "start_time": "2022-06-08T18:38:07.454Z"
   },
   {
    "duration": 8,
    "start_time": "2022-06-08T18:38:07.463Z"
   },
   {
    "duration": 35,
    "start_time": "2022-06-08T18:38:07.473Z"
   },
   {
    "duration": 27,
    "start_time": "2022-06-08T18:38:07.513Z"
   },
   {
    "duration": 5,
    "start_time": "2022-06-08T18:38:07.541Z"
   },
   {
    "duration": 9,
    "start_time": "2022-06-08T18:38:07.547Z"
   },
   {
    "duration": 11,
    "start_time": "2022-06-08T18:38:07.557Z"
   },
   {
    "duration": 42,
    "start_time": "2022-06-08T18:38:07.569Z"
   },
   {
    "duration": 236,
    "start_time": "2022-06-08T18:38:07.613Z"
   },
   {
    "duration": 368,
    "start_time": "2022-06-08T18:38:07.853Z"
   },
   {
    "duration": 1141,
    "start_time": "2022-06-08T18:38:08.223Z"
   },
   {
    "duration": 45,
    "start_time": "2022-06-08T18:38:09.365Z"
   },
   {
    "duration": 209,
    "start_time": "2022-06-08T18:38:09.412Z"
   },
   {
    "duration": 5,
    "start_time": "2022-06-08T18:38:09.623Z"
   },
   {
    "duration": 221,
    "start_time": "2022-06-08T18:38:09.629Z"
   },
   {
    "duration": 6,
    "start_time": "2022-06-08T18:38:09.851Z"
   },
   {
    "duration": 11,
    "start_time": "2022-06-08T18:38:09.859Z"
   },
   {
    "duration": 288,
    "start_time": "2022-06-08T18:38:09.871Z"
   },
   {
    "duration": 291,
    "start_time": "2022-06-08T18:38:10.160Z"
   },
   {
    "duration": 339,
    "start_time": "2022-06-08T18:38:10.453Z"
   },
   {
    "duration": 312,
    "start_time": "2022-06-08T18:38:10.795Z"
   },
   {
    "duration": 250,
    "start_time": "2022-06-08T18:38:11.113Z"
   },
   {
    "duration": 291,
    "start_time": "2022-06-08T18:38:11.365Z"
   },
   {
    "duration": 263,
    "start_time": "2022-06-08T18:38:11.658Z"
   },
   {
    "duration": 412,
    "start_time": "2022-06-08T18:38:11.923Z"
   },
   {
    "duration": 286,
    "start_time": "2022-06-08T18:38:12.337Z"
   },
   {
    "duration": 325,
    "start_time": "2022-06-08T18:38:12.626Z"
   },
   {
    "duration": 266,
    "start_time": "2022-06-08T18:38:12.953Z"
   },
   {
    "duration": 322,
    "start_time": "2022-06-08T18:38:13.221Z"
   },
   {
    "duration": 3,
    "start_time": "2022-06-08T18:38:13.545Z"
   },
   {
    "duration": 1256,
    "start_time": "2022-06-08T18:38:13.550Z"
   },
   {
    "duration": 3,
    "start_time": "2022-06-08T18:39:14.923Z"
   },
   {
    "duration": 1441,
    "start_time": "2022-06-08T18:39:20.206Z"
   },
   {
    "duration": 33,
    "start_time": "2022-06-08T18:47:00.516Z"
   },
   {
    "duration": 142,
    "start_time": "2022-06-08T18:57:36.079Z"
   },
   {
    "duration": 43,
    "start_time": "2022-06-08T19:02:45.317Z"
   },
   {
    "duration": 26,
    "start_time": "2022-06-08T19:08:25.505Z"
   },
   {
    "duration": 25,
    "start_time": "2022-06-08T19:09:18.393Z"
   },
   {
    "duration": 25,
    "start_time": "2022-06-08T19:11:38.555Z"
   },
   {
    "duration": 17,
    "start_time": "2022-06-08T19:12:51.409Z"
   },
   {
    "duration": 3,
    "start_time": "2022-06-08T19:13:27.263Z"
   },
   {
    "duration": 336,
    "start_time": "2022-06-08T19:13:36.320Z"
   },
   {
    "duration": 178,
    "start_time": "2022-06-08T19:13:36.657Z"
   },
   {
    "duration": 467,
    "start_time": "2022-06-08T19:13:36.836Z"
   },
   {
    "duration": 3,
    "start_time": "2022-06-08T19:13:37.305Z"
   },
   {
    "duration": 6,
    "start_time": "2022-06-08T19:13:37.310Z"
   },
   {
    "duration": 167,
    "start_time": "2022-06-08T19:13:37.317Z"
   },
   {
    "duration": 4,
    "start_time": "2022-06-08T19:13:37.485Z"
   },
   {
    "duration": 18,
    "start_time": "2022-06-08T19:13:37.491Z"
   },
   {
    "duration": 13,
    "start_time": "2022-06-08T19:13:37.511Z"
   },
   {
    "duration": 16,
    "start_time": "2022-06-08T19:13:37.526Z"
   },
   {
    "duration": 35,
    "start_time": "2022-06-08T19:13:37.544Z"
   },
   {
    "duration": 3,
    "start_time": "2022-06-08T19:13:37.582Z"
   },
   {
    "duration": 24,
    "start_time": "2022-06-08T19:13:37.586Z"
   },
   {
    "duration": 29,
    "start_time": "2022-06-08T19:13:37.611Z"
   },
   {
    "duration": 25,
    "start_time": "2022-06-08T19:13:37.642Z"
   },
   {
    "duration": 5,
    "start_time": "2022-06-08T19:13:37.669Z"
   },
   {
    "duration": 13,
    "start_time": "2022-06-08T19:13:37.676Z"
   },
   {
    "duration": 28,
    "start_time": "2022-06-08T19:13:37.690Z"
   },
   {
    "duration": 9,
    "start_time": "2022-06-08T19:13:37.719Z"
   },
   {
    "duration": 15,
    "start_time": "2022-06-08T19:13:37.729Z"
   },
   {
    "duration": 8,
    "start_time": "2022-06-08T19:13:37.746Z"
   },
   {
    "duration": 31,
    "start_time": "2022-06-08T19:13:37.755Z"
   },
   {
    "duration": 22,
    "start_time": "2022-06-08T19:13:37.790Z"
   },
   {
    "duration": 4,
    "start_time": "2022-06-08T19:13:37.814Z"
   },
   {
    "duration": 7,
    "start_time": "2022-06-08T19:13:37.820Z"
   },
   {
    "duration": 7,
    "start_time": "2022-06-08T19:13:37.829Z"
   },
   {
    "duration": 48,
    "start_time": "2022-06-08T19:13:37.837Z"
   },
   {
    "duration": 174,
    "start_time": "2022-06-08T19:13:37.887Z"
   },
   {
    "duration": 295,
    "start_time": "2022-06-08T19:13:38.063Z"
   },
   {
    "duration": 962,
    "start_time": "2022-06-08T19:13:38.360Z"
   },
   {
    "duration": 22,
    "start_time": "2022-06-08T19:13:39.324Z"
   },
   {
    "duration": 182,
    "start_time": "2022-06-08T19:13:39.347Z"
   },
   {
    "duration": 5,
    "start_time": "2022-06-08T19:13:39.531Z"
   },
   {
    "duration": 199,
    "start_time": "2022-06-08T19:13:39.538Z"
   },
   {
    "duration": 5,
    "start_time": "2022-06-08T19:13:39.739Z"
   },
   {
    "duration": 8,
    "start_time": "2022-06-08T19:13:39.745Z"
   },
   {
    "duration": 254,
    "start_time": "2022-06-08T19:13:39.754Z"
   },
   {
    "duration": 297,
    "start_time": "2022-06-08T19:13:40.009Z"
   },
   {
    "duration": 256,
    "start_time": "2022-06-08T19:13:40.307Z"
   },
   {
    "duration": 261,
    "start_time": "2022-06-08T19:13:40.565Z"
   },
   {
    "duration": 216,
    "start_time": "2022-06-08T19:13:40.827Z"
   },
   {
    "duration": 236,
    "start_time": "2022-06-08T19:13:41.045Z"
   },
   {
    "duration": 241,
    "start_time": "2022-06-08T19:13:41.283Z"
   },
   {
    "duration": 299,
    "start_time": "2022-06-08T19:13:41.526Z"
   },
   {
    "duration": 187,
    "start_time": "2022-06-08T19:13:41.826Z"
   },
   {
    "duration": 250,
    "start_time": "2022-06-08T19:13:42.015Z"
   },
   {
    "duration": 225,
    "start_time": "2022-06-08T19:13:42.266Z"
   },
   {
    "duration": 227,
    "start_time": "2022-06-08T19:13:42.493Z"
   },
   {
    "duration": 3,
    "start_time": "2022-06-08T19:13:42.721Z"
   },
   {
    "duration": 1089,
    "start_time": "2022-06-08T19:13:42.725Z"
   },
   {
    "duration": 15,
    "start_time": "2022-06-08T19:13:43.816Z"
   },
   {
    "duration": 59,
    "start_time": "2022-06-08T19:52:52.001Z"
   },
   {
    "duration": 517,
    "start_time": "2022-06-08T19:53:00.660Z"
   },
   {
    "duration": 437,
    "start_time": "2022-06-08T19:53:01.180Z"
   },
   {
    "duration": 617,
    "start_time": "2022-06-08T19:53:01.619Z"
   },
   {
    "duration": 2,
    "start_time": "2022-06-08T19:53:02.239Z"
   },
   {
    "duration": 9,
    "start_time": "2022-06-08T19:53:02.243Z"
   },
   {
    "duration": 137,
    "start_time": "2022-06-08T19:53:02.254Z"
   },
   {
    "duration": 5,
    "start_time": "2022-06-08T19:53:02.393Z"
   },
   {
    "duration": 27,
    "start_time": "2022-06-08T19:53:02.400Z"
   },
   {
    "duration": 17,
    "start_time": "2022-06-08T19:53:02.429Z"
   },
   {
    "duration": 30,
    "start_time": "2022-06-08T19:53:02.449Z"
   },
   {
    "duration": 29,
    "start_time": "2022-06-08T19:53:02.481Z"
   },
   {
    "duration": 3,
    "start_time": "2022-06-08T19:53:02.512Z"
   },
   {
    "duration": 16,
    "start_time": "2022-06-08T19:53:02.517Z"
   },
   {
    "duration": 34,
    "start_time": "2022-06-08T19:53:02.535Z"
   },
   {
    "duration": 56,
    "start_time": "2022-06-08T19:53:02.571Z"
   },
   {
    "duration": 5,
    "start_time": "2022-06-08T19:53:02.629Z"
   },
   {
    "duration": 9,
    "start_time": "2022-06-08T19:53:02.636Z"
   },
   {
    "duration": 27,
    "start_time": "2022-06-08T19:53:02.646Z"
   },
   {
    "duration": 15,
    "start_time": "2022-06-08T19:53:02.676Z"
   },
   {
    "duration": 10,
    "start_time": "2022-06-08T19:53:02.693Z"
   },
   {
    "duration": 9,
    "start_time": "2022-06-08T19:53:02.706Z"
   },
   {
    "duration": 53,
    "start_time": "2022-06-08T19:53:02.716Z"
   },
   {
    "duration": 33,
    "start_time": "2022-06-08T19:53:02.771Z"
   },
   {
    "duration": 7,
    "start_time": "2022-06-08T19:53:02.806Z"
   },
   {
    "duration": 12,
    "start_time": "2022-06-08T19:53:02.815Z"
   },
   {
    "duration": 18,
    "start_time": "2022-06-08T19:53:02.828Z"
   },
   {
    "duration": 50,
    "start_time": "2022-06-08T19:53:02.848Z"
   },
   {
    "duration": 258,
    "start_time": "2022-06-08T19:53:02.902Z"
   },
   {
    "duration": 429,
    "start_time": "2022-06-08T19:53:03.164Z"
   },
   {
    "duration": 1301,
    "start_time": "2022-06-08T19:53:03.595Z"
   },
   {
    "duration": 25,
    "start_time": "2022-06-08T19:53:04.898Z"
   },
   {
    "duration": 236,
    "start_time": "2022-06-08T19:53:04.925Z"
   },
   {
    "duration": 7,
    "start_time": "2022-06-08T19:53:05.165Z"
   },
   {
    "duration": 290,
    "start_time": "2022-06-08T19:53:05.174Z"
   },
   {
    "duration": 12,
    "start_time": "2022-06-08T19:53:05.466Z"
   },
   {
    "duration": 33,
    "start_time": "2022-06-08T19:53:05.479Z"
   },
   {
    "duration": 356,
    "start_time": "2022-06-08T19:53:05.514Z"
   },
   {
    "duration": 389,
    "start_time": "2022-06-08T19:53:05.873Z"
   },
   {
    "duration": 353,
    "start_time": "2022-06-08T19:53:06.266Z"
   },
   {
    "duration": 348,
    "start_time": "2022-06-08T19:53:06.621Z"
   },
   {
    "duration": 303,
    "start_time": "2022-06-08T19:53:06.976Z"
   },
   {
    "duration": 339,
    "start_time": "2022-06-08T19:53:07.290Z"
   },
   {
    "duration": 343,
    "start_time": "2022-06-08T19:53:07.630Z"
   },
   {
    "duration": 427,
    "start_time": "2022-06-08T19:53:07.976Z"
   },
   {
    "duration": 295,
    "start_time": "2022-06-08T19:53:08.405Z"
   },
   {
    "duration": 396,
    "start_time": "2022-06-08T19:53:08.702Z"
   },
   {
    "duration": 363,
    "start_time": "2022-06-08T19:53:09.100Z"
   },
   {
    "duration": 322,
    "start_time": "2022-06-08T19:53:09.467Z"
   },
   {
    "duration": 3,
    "start_time": "2022-06-08T19:53:09.791Z"
   },
   {
    "duration": 1540,
    "start_time": "2022-06-08T19:53:09.796Z"
   },
   {
    "duration": 7,
    "start_time": "2022-06-08T19:53:11.338Z"
   },
   {
    "duration": 9,
    "start_time": "2022-06-08T19:53:39.904Z"
   },
   {
    "duration": 12,
    "start_time": "2022-06-08T19:57:40.944Z"
   },
   {
    "duration": 545,
    "start_time": "2022-06-08T20:25:11.099Z"
   },
   {
    "duration": 303,
    "start_time": "2022-06-08T20:25:11.647Z"
   },
   {
    "duration": 807,
    "start_time": "2022-06-08T20:25:11.952Z"
   },
   {
    "duration": 30,
    "start_time": "2022-06-08T20:25:12.763Z"
   },
   {
    "duration": 16,
    "start_time": "2022-06-08T20:25:12.809Z"
   },
   {
    "duration": 88,
    "start_time": "2022-06-08T20:25:12.828Z"
   },
   {
    "duration": 6,
    "start_time": "2022-06-08T20:25:12.918Z"
   },
   {
    "duration": 43,
    "start_time": "2022-06-08T20:25:12.926Z"
   },
   {
    "duration": 23,
    "start_time": "2022-06-08T20:25:12.975Z"
   },
   {
    "duration": 34,
    "start_time": "2022-06-08T20:25:13.002Z"
   },
   {
    "duration": 58,
    "start_time": "2022-06-08T20:25:13.038Z"
   },
   {
    "duration": 5,
    "start_time": "2022-06-08T20:25:13.099Z"
   },
   {
    "duration": 22,
    "start_time": "2022-06-08T20:25:13.105Z"
   },
   {
    "duration": 12,
    "start_time": "2022-06-08T20:25:13.129Z"
   },
   {
    "duration": 49,
    "start_time": "2022-06-08T20:25:13.143Z"
   },
   {
    "duration": 7,
    "start_time": "2022-06-08T20:25:13.195Z"
   },
   {
    "duration": 29,
    "start_time": "2022-06-08T20:25:13.204Z"
   },
   {
    "duration": 44,
    "start_time": "2022-06-08T20:25:13.235Z"
   },
   {
    "duration": 12,
    "start_time": "2022-06-08T20:25:13.282Z"
   },
   {
    "duration": 21,
    "start_time": "2022-06-08T20:25:13.297Z"
   },
   {
    "duration": 10,
    "start_time": "2022-06-08T20:25:13.322Z"
   },
   {
    "duration": 55,
    "start_time": "2022-06-08T20:25:13.334Z"
   },
   {
    "duration": 42,
    "start_time": "2022-06-08T20:25:13.392Z"
   },
   {
    "duration": 9,
    "start_time": "2022-06-08T20:25:13.437Z"
   },
   {
    "duration": 16,
    "start_time": "2022-06-08T20:25:13.448Z"
   },
   {
    "duration": 19,
    "start_time": "2022-06-08T20:25:13.467Z"
   },
   {
    "duration": 44,
    "start_time": "2022-06-08T20:25:13.488Z"
   },
   {
    "duration": 289,
    "start_time": "2022-06-08T20:25:13.538Z"
   },
   {
    "duration": 468,
    "start_time": "2022-06-08T20:25:13.830Z"
   },
   {
    "duration": 1583,
    "start_time": "2022-06-08T20:25:14.300Z"
   },
   {
    "duration": 35,
    "start_time": "2022-06-08T20:25:15.886Z"
   },
   {
    "duration": 289,
    "start_time": "2022-06-08T20:25:15.923Z"
   },
   {
    "duration": 7,
    "start_time": "2022-06-08T20:25:16.215Z"
   },
   {
    "duration": 320,
    "start_time": "2022-06-08T20:25:16.225Z"
   },
   {
    "duration": 7,
    "start_time": "2022-06-08T20:25:16.547Z"
   },
   {
    "duration": 46,
    "start_time": "2022-06-08T20:25:16.556Z"
   },
   {
    "duration": 433,
    "start_time": "2022-06-08T20:25:16.604Z"
   },
   {
    "duration": 448,
    "start_time": "2022-06-08T20:25:17.040Z"
   },
   {
    "duration": 621,
    "start_time": "2022-06-08T20:25:17.492Z"
   },
   {
    "duration": 437,
    "start_time": "2022-06-08T20:25:18.124Z"
   },
   {
    "duration": 436,
    "start_time": "2022-06-08T20:25:18.563Z"
   },
   {
    "duration": 458,
    "start_time": "2022-06-08T20:25:19.001Z"
   },
   {
    "duration": 405,
    "start_time": "2022-06-08T20:25:19.465Z"
   },
   {
    "duration": 408,
    "start_time": "2022-06-08T20:25:19.883Z"
   },
   {
    "duration": 307,
    "start_time": "2022-06-08T20:25:20.294Z"
   },
   {
    "duration": 437,
    "start_time": "2022-06-08T20:25:20.607Z"
   },
   {
    "duration": 312,
    "start_time": "2022-06-08T20:25:21.046Z"
   },
   {
    "duration": 323,
    "start_time": "2022-06-08T20:25:21.370Z"
   },
   {
    "duration": 3,
    "start_time": "2022-06-08T20:25:21.697Z"
   },
   {
    "duration": 1623,
    "start_time": "2022-06-08T20:25:21.704Z"
   },
   {
    "duration": 9,
    "start_time": "2022-06-08T20:25:23.329Z"
   },
   {
    "duration": 29,
    "start_time": "2022-06-08T20:25:23.340Z"
   },
   {
    "duration": 18,
    "start_time": "2022-06-08T20:25:23.380Z"
   },
   {
    "duration": 332,
    "start_time": "2022-06-10T13:02:16.231Z"
   },
   {
    "duration": 177,
    "start_time": "2022-06-10T13:02:16.564Z"
   },
   {
    "duration": 463,
    "start_time": "2022-06-10T13:02:16.742Z"
   },
   {
    "duration": 2,
    "start_time": "2022-06-10T13:02:17.207Z"
   },
   {
    "duration": 5,
    "start_time": "2022-06-10T13:02:17.211Z"
   },
   {
    "duration": 50,
    "start_time": "2022-06-10T13:02:17.218Z"
   },
   {
    "duration": 3,
    "start_time": "2022-06-10T13:02:17.270Z"
   },
   {
    "duration": 28,
    "start_time": "2022-06-10T13:02:17.275Z"
   },
   {
    "duration": 11,
    "start_time": "2022-06-10T13:02:17.305Z"
   },
   {
    "duration": 17,
    "start_time": "2022-06-10T13:02:17.318Z"
   },
   {
    "duration": 25,
    "start_time": "2022-06-10T13:02:17.336Z"
   },
   {
    "duration": 3,
    "start_time": "2022-06-10T13:02:17.362Z"
   },
   {
    "duration": 34,
    "start_time": "2022-06-10T13:02:17.367Z"
   },
   {
    "duration": 12,
    "start_time": "2022-06-10T13:02:17.403Z"
   },
   {
    "duration": 19,
    "start_time": "2022-06-10T13:02:17.416Z"
   },
   {
    "duration": 5,
    "start_time": "2022-06-10T13:02:17.437Z"
   },
   {
    "duration": 9,
    "start_time": "2022-06-10T13:02:17.443Z"
   },
   {
    "duration": 18,
    "start_time": "2022-06-10T13:02:17.453Z"
   },
   {
    "duration": 10,
    "start_time": "2022-06-10T13:02:17.495Z"
   },
   {
    "duration": 12,
    "start_time": "2022-06-10T13:02:17.507Z"
   },
   {
    "duration": 13,
    "start_time": "2022-06-10T13:02:17.520Z"
   },
   {
    "duration": 29,
    "start_time": "2022-06-10T13:02:17.535Z"
   },
   {
    "duration": 34,
    "start_time": "2022-06-10T13:02:17.567Z"
   },
   {
    "duration": 6,
    "start_time": "2022-06-10T13:02:17.603Z"
   },
   {
    "duration": 10,
    "start_time": "2022-06-10T13:02:17.611Z"
   },
   {
    "duration": 5,
    "start_time": "2022-06-10T13:02:17.623Z"
   },
   {
    "duration": 30,
    "start_time": "2022-06-10T13:02:17.629Z"
   },
   {
    "duration": 219,
    "start_time": "2022-06-10T13:02:17.662Z"
   },
   {
    "duration": 300,
    "start_time": "2022-06-10T13:02:17.883Z"
   },
   {
    "duration": 970,
    "start_time": "2022-06-10T13:02:18.184Z"
   },
   {
    "duration": 20,
    "start_time": "2022-06-10T13:02:19.155Z"
   },
   {
    "duration": 171,
    "start_time": "2022-06-10T13:02:19.176Z"
   },
   {
    "duration": 5,
    "start_time": "2022-06-10T13:02:19.349Z"
   },
   {
    "duration": 207,
    "start_time": "2022-06-10T13:02:19.356Z"
   },
   {
    "duration": 5,
    "start_time": "2022-06-10T13:02:19.565Z"
   },
   {
    "duration": 7,
    "start_time": "2022-06-10T13:02:19.571Z"
   },
   {
    "duration": 254,
    "start_time": "2022-06-10T13:02:19.579Z"
   },
   {
    "duration": 262,
    "start_time": "2022-06-10T13:02:19.834Z"
   },
   {
    "duration": 237,
    "start_time": "2022-06-10T13:02:20.097Z"
   },
   {
    "duration": 235,
    "start_time": "2022-06-10T13:02:20.335Z"
   },
   {
    "duration": 217,
    "start_time": "2022-06-10T13:02:20.571Z"
   },
   {
    "duration": 258,
    "start_time": "2022-06-10T13:02:20.789Z"
   },
   {
    "duration": 245,
    "start_time": "2022-06-10T13:02:21.049Z"
   },
   {
    "duration": 305,
    "start_time": "2022-06-10T13:02:21.296Z"
   },
   {
    "duration": 209,
    "start_time": "2022-06-10T13:02:21.602Z"
   },
   {
    "duration": 323,
    "start_time": "2022-06-10T13:02:21.813Z"
   },
   {
    "duration": 274,
    "start_time": "2022-06-10T13:02:22.137Z"
   },
   {
    "duration": 262,
    "start_time": "2022-06-10T13:02:22.413Z"
   },
   {
    "duration": 3,
    "start_time": "2022-06-10T13:02:22.677Z"
   },
   {
    "duration": 1185,
    "start_time": "2022-06-10T13:02:22.682Z"
   },
   {
    "duration": 7,
    "start_time": "2022-06-10T13:02:23.869Z"
   },
   {
    "duration": 19,
    "start_time": "2022-06-10T13:02:23.877Z"
   },
   {
    "duration": 11,
    "start_time": "2022-06-10T13:02:23.897Z"
   },
   {
    "duration": 21,
    "start_time": "2022-06-10T13:24:44.209Z"
   },
   {
    "duration": 5,
    "start_time": "2022-06-10T13:36:33.094Z"
   },
   {
    "duration": 51,
    "start_time": "2022-06-12T11:53:08.435Z"
   },
   {
    "duration": 1249,
    "start_time": "2022-06-12T11:53:16.891Z"
   },
   {
    "duration": 96,
    "start_time": "2022-06-12T11:53:18.144Z"
   },
   {
    "duration": 6,
    "start_time": "2022-06-12T11:53:18.242Z"
   },
   {
    "duration": 31,
    "start_time": "2022-06-12T11:53:18.250Z"
   },
   {
    "duration": 23,
    "start_time": "2022-06-12T11:53:18.283Z"
   },
   {
    "duration": 33,
    "start_time": "2022-06-12T11:53:18.308Z"
   },
   {
    "duration": 32,
    "start_time": "2022-06-12T11:53:18.343Z"
   },
   {
    "duration": 3,
    "start_time": "2022-06-12T11:53:18.377Z"
   },
   {
    "duration": 16,
    "start_time": "2022-06-12T11:53:18.382Z"
   },
   {
    "duration": 27,
    "start_time": "2022-06-12T11:53:18.400Z"
   },
   {
    "duration": 25,
    "start_time": "2022-06-12T11:53:18.429Z"
   },
   {
    "duration": 5,
    "start_time": "2022-06-12T11:53:18.455Z"
   },
   {
    "duration": 8,
    "start_time": "2022-06-12T11:53:18.462Z"
   },
   {
    "duration": 20,
    "start_time": "2022-06-12T11:53:18.472Z"
   },
   {
    "duration": 33,
    "start_time": "2022-06-12T11:53:18.494Z"
   },
   {
    "duration": 10,
    "start_time": "2022-06-12T11:53:18.530Z"
   },
   {
    "duration": 19,
    "start_time": "2022-06-12T11:53:18.542Z"
   },
   {
    "duration": 24,
    "start_time": "2022-06-12T11:53:18.562Z"
   },
   {
    "duration": 20,
    "start_time": "2022-06-12T11:53:18.588Z"
   },
   {
    "duration": 27,
    "start_time": "2022-06-12T11:53:18.609Z"
   },
   {
    "duration": 14,
    "start_time": "2022-06-12T11:53:18.638Z"
   },
   {
    "duration": 5,
    "start_time": "2022-06-12T11:53:18.654Z"
   },
   {
    "duration": 22,
    "start_time": "2022-06-12T11:53:18.660Z"
   },
   {
    "duration": 206,
    "start_time": "2022-06-12T11:53:18.683Z"
   },
   {
    "duration": 347,
    "start_time": "2022-06-12T11:53:18.890Z"
   },
   {
    "duration": 1141,
    "start_time": "2022-06-12T11:53:19.239Z"
   },
   {
    "duration": 22,
    "start_time": "2022-06-12T11:53:20.381Z"
   },
   {
    "duration": 197,
    "start_time": "2022-06-12T11:53:20.406Z"
   },
   {
    "duration": 6,
    "start_time": "2022-06-12T11:53:20.604Z"
   },
   {
    "duration": 245,
    "start_time": "2022-06-12T11:53:20.611Z"
   },
   {
    "duration": 243,
    "start_time": "2022-06-12T11:53:20.858Z"
   },
   {
    "duration": 5,
    "start_time": "2022-06-12T11:53:21.102Z"
   },
   {
    "duration": 8,
    "start_time": "2022-06-12T11:53:21.109Z"
   },
   {
    "duration": 279,
    "start_time": "2022-06-12T11:53:21.118Z"
   },
   {
    "duration": 292,
    "start_time": "2022-06-12T11:53:21.399Z"
   },
   {
    "duration": 273,
    "start_time": "2022-06-12T11:53:21.693Z"
   },
   {
    "duration": 293,
    "start_time": "2022-06-12T11:53:21.967Z"
   },
   {
    "duration": 268,
    "start_time": "2022-06-12T11:53:22.262Z"
   },
   {
    "duration": 361,
    "start_time": "2022-06-12T11:53:22.532Z"
   },
   {
    "duration": 268,
    "start_time": "2022-06-12T11:53:22.894Z"
   },
   {
    "duration": 293,
    "start_time": "2022-06-12T11:53:23.163Z"
   },
   {
    "duration": 218,
    "start_time": "2022-06-12T11:53:23.457Z"
   },
   {
    "duration": 299,
    "start_time": "2022-06-12T11:53:23.677Z"
   },
   {
    "duration": 255,
    "start_time": "2022-06-12T11:53:23.978Z"
   },
   {
    "duration": 305,
    "start_time": "2022-06-12T11:53:24.236Z"
   },
   {
    "duration": 3,
    "start_time": "2022-06-12T11:53:24.543Z"
   },
   {
    "duration": 1407,
    "start_time": "2022-06-12T11:53:24.548Z"
   },
   {
    "duration": 7,
    "start_time": "2022-06-12T11:53:25.957Z"
   },
   {
    "duration": 11,
    "start_time": "2022-06-12T11:53:25.965Z"
   },
   {
    "duration": 12,
    "start_time": "2022-06-12T11:53:25.977Z"
   },
   {
    "duration": 340,
    "start_time": "2022-06-12T12:23:50.161Z"
   },
   {
    "duration": 1124,
    "start_time": "2022-06-12T12:24:04.622Z"
   },
   {
    "duration": 53,
    "start_time": "2022-06-12T12:24:05.748Z"
   },
   {
    "duration": 4,
    "start_time": "2022-06-12T12:24:05.802Z"
   },
   {
    "duration": 19,
    "start_time": "2022-06-12T12:24:05.807Z"
   },
   {
    "duration": 14,
    "start_time": "2022-06-12T12:24:05.828Z"
   },
   {
    "duration": 19,
    "start_time": "2022-06-12T12:24:05.843Z"
   },
   {
    "duration": 27,
    "start_time": "2022-06-12T12:24:05.863Z"
   },
   {
    "duration": 2,
    "start_time": "2022-06-12T12:24:05.892Z"
   },
   {
    "duration": 40,
    "start_time": "2022-06-12T12:24:05.896Z"
   },
   {
    "duration": 8,
    "start_time": "2022-06-12T12:24:05.938Z"
   },
   {
    "duration": 21,
    "start_time": "2022-06-12T12:24:05.947Z"
   },
   {
    "duration": 4,
    "start_time": "2022-06-12T12:24:05.970Z"
   },
   {
    "duration": 9,
    "start_time": "2022-06-12T12:24:05.975Z"
   },
   {
    "duration": 56,
    "start_time": "2022-06-12T12:24:05.985Z"
   },
   {
    "duration": 8,
    "start_time": "2022-06-12T12:24:06.043Z"
   },
   {
    "duration": 10,
    "start_time": "2022-06-12T12:24:06.052Z"
   },
   {
    "duration": 8,
    "start_time": "2022-06-12T12:24:06.064Z"
   },
   {
    "duration": 21,
    "start_time": "2022-06-12T12:24:06.073Z"
   },
   {
    "duration": 44,
    "start_time": "2022-06-12T12:24:06.096Z"
   },
   {
    "duration": 6,
    "start_time": "2022-06-12T12:24:06.141Z"
   },
   {
    "duration": 8,
    "start_time": "2022-06-12T12:24:06.149Z"
   },
   {
    "duration": 5,
    "start_time": "2022-06-12T12:24:06.158Z"
   },
   {
    "duration": 35,
    "start_time": "2022-06-12T12:24:06.165Z"
   },
   {
    "duration": 274,
    "start_time": "2022-06-12T12:24:06.202Z"
   },
   {
    "duration": 309,
    "start_time": "2022-06-12T12:24:06.478Z"
   },
   {
    "duration": 1130,
    "start_time": "2022-06-12T12:24:06.789Z"
   },
   {
    "duration": 25,
    "start_time": "2022-06-12T12:24:07.920Z"
   },
   {
    "duration": 200,
    "start_time": "2022-06-12T12:24:07.949Z"
   },
   {
    "duration": 8,
    "start_time": "2022-06-12T12:24:08.151Z"
   },
   {
    "duration": 238,
    "start_time": "2022-06-12T12:24:08.161Z"
   },
   {
    "duration": 238,
    "start_time": "2022-06-12T12:24:08.400Z"
   },
   {
    "duration": 6,
    "start_time": "2022-06-12T12:24:08.640Z"
   },
   {
    "duration": 6,
    "start_time": "2022-06-12T12:24:08.648Z"
   },
   {
    "duration": 274,
    "start_time": "2022-06-12T12:24:08.655Z"
   },
   {
    "duration": 271,
    "start_time": "2022-06-12T12:24:08.931Z"
   },
   {
    "duration": 297,
    "start_time": "2022-06-12T12:24:09.204Z"
   },
   {
    "duration": 271,
    "start_time": "2022-06-12T12:24:09.502Z"
   },
   {
    "duration": 242,
    "start_time": "2022-06-12T12:24:09.774Z"
   },
   {
    "duration": 345,
    "start_time": "2022-06-12T12:24:10.018Z"
   },
   {
    "duration": 248,
    "start_time": "2022-06-12T12:24:10.365Z"
   },
   {
    "duration": 257,
    "start_time": "2022-06-12T12:24:10.615Z"
   },
   {
    "duration": 207,
    "start_time": "2022-06-12T12:24:10.874Z"
   },
   {
    "duration": 278,
    "start_time": "2022-06-12T12:24:11.083Z"
   },
   {
    "duration": 242,
    "start_time": "2022-06-12T12:24:11.362Z"
   },
   {
    "duration": 255,
    "start_time": "2022-06-12T12:24:11.605Z"
   },
   {
    "duration": 3,
    "start_time": "2022-06-12T12:24:11.862Z"
   },
   {
    "duration": 1243,
    "start_time": "2022-06-12T12:24:11.866Z"
   },
   {
    "duration": 116,
    "start_time": "2022-06-12T12:24:13.110Z"
   },
   {
    "duration": 0,
    "start_time": "2022-06-12T12:24:13.227Z"
   },
   {
    "duration": 0,
    "start_time": "2022-06-12T12:24:13.228Z"
   },
   {
    "duration": 26,
    "start_time": "2022-06-12T12:24:51.821Z"
   },
   {
    "duration": 232,
    "start_time": "2022-06-12T12:26:26.392Z"
   },
   {
    "duration": 245,
    "start_time": "2022-06-12T12:26:47.451Z"
   },
   {
    "duration": 232,
    "start_time": "2022-06-12T12:27:00.887Z"
   },
   {
    "duration": 10,
    "start_time": "2022-06-12T12:27:16.211Z"
   },
   {
    "duration": 8,
    "start_time": "2022-06-12T12:27:20.298Z"
   },
   {
    "duration": 4,
    "start_time": "2022-06-12T12:28:03.995Z"
   },
   {
    "duration": 301,
    "start_time": "2022-06-12T12:28:24.352Z"
   },
   {
    "duration": 7,
    "start_time": "2022-06-12T12:29:22.136Z"
   },
   {
    "duration": 8,
    "start_time": "2022-06-12T12:29:36.663Z"
   },
   {
    "duration": 48,
    "start_time": "2022-06-12T12:29:40.542Z"
   },
   {
    "duration": 9,
    "start_time": "2022-06-12T12:30:07.277Z"
   },
   {
    "duration": 37,
    "start_time": "2022-06-12T12:31:01.310Z"
   },
   {
    "duration": 1093,
    "start_time": "2022-06-12T12:31:17.909Z"
   },
   {
    "duration": 64,
    "start_time": "2022-06-12T12:31:19.003Z"
   },
   {
    "duration": 4,
    "start_time": "2022-06-12T12:31:19.068Z"
   },
   {
    "duration": 19,
    "start_time": "2022-06-12T12:31:19.074Z"
   },
   {
    "duration": 13,
    "start_time": "2022-06-12T12:31:19.094Z"
   },
   {
    "duration": 35,
    "start_time": "2022-06-12T12:31:19.109Z"
   },
   {
    "duration": 27,
    "start_time": "2022-06-12T12:31:19.146Z"
   },
   {
    "duration": 4,
    "start_time": "2022-06-12T12:31:19.175Z"
   },
   {
    "duration": 18,
    "start_time": "2022-06-12T12:31:19.180Z"
   },
   {
    "duration": 12,
    "start_time": "2022-06-12T12:31:19.201Z"
   },
   {
    "duration": 30,
    "start_time": "2022-06-12T12:31:19.215Z"
   },
   {
    "duration": 8,
    "start_time": "2022-06-12T12:31:19.247Z"
   },
   {
    "duration": 9,
    "start_time": "2022-06-12T12:31:19.257Z"
   },
   {
    "duration": 20,
    "start_time": "2022-06-12T12:31:19.268Z"
   },
   {
    "duration": 40,
    "start_time": "2022-06-12T12:31:19.290Z"
   },
   {
    "duration": 10,
    "start_time": "2022-06-12T12:31:19.338Z"
   },
   {
    "duration": 5,
    "start_time": "2022-06-12T12:31:19.350Z"
   },
   {
    "duration": 22,
    "start_time": "2022-06-12T12:31:19.357Z"
   },
   {
    "duration": 19,
    "start_time": "2022-06-12T12:31:19.380Z"
   },
   {
    "duration": 4,
    "start_time": "2022-06-12T12:31:19.401Z"
   },
   {
    "duration": 13,
    "start_time": "2022-06-12T12:31:19.427Z"
   },
   {
    "duration": 9,
    "start_time": "2022-06-12T12:31:19.446Z"
   },
   {
    "duration": 31,
    "start_time": "2022-06-12T12:31:19.456Z"
   },
   {
    "duration": 203,
    "start_time": "2022-06-12T12:31:19.489Z"
   },
   {
    "duration": 316,
    "start_time": "2022-06-12T12:31:19.693Z"
   },
   {
    "duration": 1116,
    "start_time": "2022-06-12T12:31:20.011Z"
   },
   {
    "duration": 30,
    "start_time": "2022-06-12T12:31:21.128Z"
   },
   {
    "duration": 191,
    "start_time": "2022-06-12T12:31:21.162Z"
   },
   {
    "duration": 6,
    "start_time": "2022-06-12T12:31:21.355Z"
   },
   {
    "duration": 238,
    "start_time": "2022-06-12T12:31:21.362Z"
   },
   {
    "duration": 223,
    "start_time": "2022-06-12T12:31:21.602Z"
   },
   {
    "duration": 12,
    "start_time": "2022-06-12T12:31:21.827Z"
   },
   {
    "duration": 7,
    "start_time": "2022-06-12T12:31:21.845Z"
   },
   {
    "duration": 276,
    "start_time": "2022-06-12T12:31:21.853Z"
   },
   {
    "duration": 289,
    "start_time": "2022-06-12T12:31:22.131Z"
   },
   {
    "duration": 305,
    "start_time": "2022-06-12T12:31:22.428Z"
   },
   {
    "duration": 281,
    "start_time": "2022-06-12T12:31:22.739Z"
   },
   {
    "duration": 312,
    "start_time": "2022-06-12T12:31:23.022Z"
   },
   {
    "duration": 350,
    "start_time": "2022-06-12T12:31:23.336Z"
   },
   {
    "duration": 335,
    "start_time": "2022-06-12T12:31:23.688Z"
   },
   {
    "duration": 287,
    "start_time": "2022-06-12T12:31:24.024Z"
   },
   {
    "duration": 247,
    "start_time": "2022-06-12T12:31:24.315Z"
   },
   {
    "duration": 327,
    "start_time": "2022-06-12T12:31:24.564Z"
   },
   {
    "duration": 249,
    "start_time": "2022-06-12T12:31:24.893Z"
   },
   {
    "duration": 242,
    "start_time": "2022-06-12T12:31:25.144Z"
   },
   {
    "duration": 3,
    "start_time": "2022-06-12T12:31:25.388Z"
   },
   {
    "duration": 1377,
    "start_time": "2022-06-12T12:31:25.393Z"
   },
   {
    "duration": 346,
    "start_time": "2022-06-12T12:31:26.771Z"
   },
   {
    "duration": 0,
    "start_time": "2022-06-12T12:31:27.119Z"
   },
   {
    "duration": 0,
    "start_time": "2022-06-12T12:31:27.120Z"
   },
   {
    "duration": 13,
    "start_time": "2022-06-12T12:36:30.584Z"
   },
   {
    "duration": 11,
    "start_time": "2022-06-12T12:37:20.546Z"
   },
   {
    "duration": 7,
    "start_time": "2022-06-12T12:37:32.538Z"
   },
   {
    "duration": 11,
    "start_time": "2022-06-12T12:37:33.777Z"
   },
   {
    "duration": 6,
    "start_time": "2022-06-12T12:37:46.719Z"
   },
   {
    "duration": 314,
    "start_time": "2022-06-12T12:38:22.464Z"
   },
   {
    "duration": 8,
    "start_time": "2022-06-12T12:38:34.902Z"
   },
   {
    "duration": 58,
    "start_time": "2022-06-12T12:38:43.218Z"
   },
   {
    "duration": 8,
    "start_time": "2022-06-12T12:39:03.145Z"
   },
   {
    "duration": 60,
    "start_time": "2022-06-12T12:39:05.887Z"
   },
   {
    "duration": 7,
    "start_time": "2022-06-12T12:39:25.383Z"
   },
   {
    "duration": 37,
    "start_time": "2022-06-12T12:39:28.142Z"
   },
   {
    "duration": 11,
    "start_time": "2022-06-12T12:40:03.434Z"
   },
   {
    "duration": 42,
    "start_time": "2022-06-12T12:40:07.877Z"
   },
   {
    "duration": 17,
    "start_time": "2022-06-12T12:41:23.100Z"
   },
   {
    "duration": 1143,
    "start_time": "2022-06-12T12:41:39.616Z"
   },
   {
    "duration": 74,
    "start_time": "2022-06-12T12:41:40.761Z"
   },
   {
    "duration": 10,
    "start_time": "2022-06-12T12:41:40.837Z"
   },
   {
    "duration": 45,
    "start_time": "2022-06-12T12:41:40.852Z"
   },
   {
    "duration": 15,
    "start_time": "2022-06-12T12:41:40.900Z"
   },
   {
    "duration": 23,
    "start_time": "2022-06-12T12:41:40.917Z"
   },
   {
    "duration": 31,
    "start_time": "2022-06-12T12:41:40.942Z"
   },
   {
    "duration": 4,
    "start_time": "2022-06-12T12:41:40.975Z"
   },
   {
    "duration": 19,
    "start_time": "2022-06-12T12:41:40.981Z"
   },
   {
    "duration": 8,
    "start_time": "2022-06-12T12:41:41.003Z"
   },
   {
    "duration": 36,
    "start_time": "2022-06-12T12:41:41.013Z"
   },
   {
    "duration": 13,
    "start_time": "2022-06-12T12:41:41.051Z"
   },
   {
    "duration": 12,
    "start_time": "2022-06-12T12:41:41.066Z"
   },
   {
    "duration": 23,
    "start_time": "2022-06-12T12:41:41.080Z"
   },
   {
    "duration": 27,
    "start_time": "2022-06-12T12:41:41.105Z"
   },
   {
    "duration": 11,
    "start_time": "2022-06-12T12:41:41.137Z"
   },
   {
    "duration": 10,
    "start_time": "2022-06-12T12:41:41.150Z"
   },
   {
    "duration": 25,
    "start_time": "2022-06-12T12:41:41.162Z"
   },
   {
    "duration": 21,
    "start_time": "2022-06-12T12:41:41.189Z"
   },
   {
    "duration": 31,
    "start_time": "2022-06-12T12:41:41.211Z"
   },
   {
    "duration": 11,
    "start_time": "2022-06-12T12:41:41.243Z"
   },
   {
    "duration": 20,
    "start_time": "2022-06-12T12:41:41.255Z"
   },
   {
    "duration": 35,
    "start_time": "2022-06-12T12:41:41.276Z"
   },
   {
    "duration": 238,
    "start_time": "2022-06-12T12:41:41.313Z"
   },
   {
    "duration": 319,
    "start_time": "2022-06-12T12:41:41.553Z"
   },
   {
    "duration": 1095,
    "start_time": "2022-06-12T12:41:41.875Z"
   },
   {
    "duration": 23,
    "start_time": "2022-06-12T12:41:42.972Z"
   },
   {
    "duration": 194,
    "start_time": "2022-06-12T12:41:42.999Z"
   },
   {
    "duration": 5,
    "start_time": "2022-06-12T12:41:43.195Z"
   },
   {
    "duration": 252,
    "start_time": "2022-06-12T12:41:43.201Z"
   },
   {
    "duration": 224,
    "start_time": "2022-06-12T12:41:43.455Z"
   },
   {
    "duration": 5,
    "start_time": "2022-06-12T12:41:43.681Z"
   },
   {
    "duration": 7,
    "start_time": "2022-06-12T12:41:43.688Z"
   },
   {
    "duration": 288,
    "start_time": "2022-06-12T12:41:43.697Z"
   },
   {
    "duration": 284,
    "start_time": "2022-06-12T12:41:43.987Z"
   },
   {
    "duration": 277,
    "start_time": "2022-06-12T12:41:44.273Z"
   },
   {
    "duration": 267,
    "start_time": "2022-06-12T12:41:44.552Z"
   },
   {
    "duration": 261,
    "start_time": "2022-06-12T12:41:44.821Z"
   },
   {
    "duration": 402,
    "start_time": "2022-06-12T12:41:45.084Z"
   },
   {
    "duration": 269,
    "start_time": "2022-06-12T12:41:45.488Z"
   },
   {
    "duration": 271,
    "start_time": "2022-06-12T12:41:45.759Z"
   },
   {
    "duration": 258,
    "start_time": "2022-06-12T12:41:46.033Z"
   },
   {
    "duration": 363,
    "start_time": "2022-06-12T12:41:46.293Z"
   },
   {
    "duration": 241,
    "start_time": "2022-06-12T12:41:46.658Z"
   },
   {
    "duration": 255,
    "start_time": "2022-06-12T12:41:46.900Z"
   },
   {
    "duration": 2,
    "start_time": "2022-06-12T12:41:47.157Z"
   },
   {
    "duration": 1392,
    "start_time": "2022-06-12T12:41:47.161Z"
   },
   {
    "duration": 9,
    "start_time": "2022-06-12T12:41:48.554Z"
   },
   {
    "duration": 116,
    "start_time": "2022-06-12T12:41:48.564Z"
   },
   {
    "duration": 0,
    "start_time": "2022-06-12T12:41:48.682Z"
   },
   {
    "duration": 65,
    "start_time": "2022-06-12T19:26:06.637Z"
   },
   {
    "duration": 1257,
    "start_time": "2022-06-12T19:26:13.640Z"
   },
   {
    "duration": 80,
    "start_time": "2022-06-12T19:26:14.899Z"
   },
   {
    "duration": 16,
    "start_time": "2022-06-12T19:26:14.982Z"
   },
   {
    "duration": 31,
    "start_time": "2022-06-12T19:26:15.000Z"
   },
   {
    "duration": 14,
    "start_time": "2022-06-12T19:26:15.033Z"
   },
   {
    "duration": 30,
    "start_time": "2022-06-12T19:26:15.049Z"
   },
   {
    "duration": 43,
    "start_time": "2022-06-12T19:26:15.080Z"
   },
   {
    "duration": 4,
    "start_time": "2022-06-12T19:26:15.125Z"
   },
   {
    "duration": 16,
    "start_time": "2022-06-12T19:26:15.131Z"
   },
   {
    "duration": 17,
    "start_time": "2022-06-12T19:26:15.149Z"
   },
   {
    "duration": 38,
    "start_time": "2022-06-12T19:26:15.173Z"
   },
   {
    "duration": 7,
    "start_time": "2022-06-12T19:26:15.213Z"
   },
   {
    "duration": 7,
    "start_time": "2022-06-12T19:26:15.221Z"
   },
   {
    "duration": 22,
    "start_time": "2022-06-12T19:26:15.232Z"
   },
   {
    "duration": 24,
    "start_time": "2022-06-12T19:26:15.265Z"
   },
   {
    "duration": 14,
    "start_time": "2022-06-12T19:26:15.291Z"
   },
   {
    "duration": 13,
    "start_time": "2022-06-12T19:26:15.307Z"
   },
   {
    "duration": 24,
    "start_time": "2022-06-12T19:26:15.321Z"
   },
   {
    "duration": 40,
    "start_time": "2022-06-12T19:26:15.347Z"
   },
   {
    "duration": 8,
    "start_time": "2022-06-12T19:26:15.391Z"
   },
   {
    "duration": 7,
    "start_time": "2022-06-12T19:26:15.402Z"
   },
   {
    "duration": 6,
    "start_time": "2022-06-12T19:26:15.411Z"
   },
   {
    "duration": 57,
    "start_time": "2022-06-12T19:26:15.419Z"
   },
   {
    "duration": 239,
    "start_time": "2022-06-12T19:26:15.480Z"
   },
   {
    "duration": 379,
    "start_time": "2022-06-12T19:26:15.721Z"
   },
   {
    "duration": 1339,
    "start_time": "2022-06-12T19:26:16.102Z"
   },
   {
    "duration": 36,
    "start_time": "2022-06-12T19:26:17.443Z"
   },
   {
    "duration": 225,
    "start_time": "2022-06-12T19:26:17.481Z"
   },
   {
    "duration": 6,
    "start_time": "2022-06-12T19:26:17.708Z"
   },
   {
    "duration": 281,
    "start_time": "2022-06-12T19:26:17.715Z"
   },
   {
    "duration": 292,
    "start_time": "2022-06-12T19:26:17.998Z"
   },
   {
    "duration": 6,
    "start_time": "2022-06-12T19:26:18.293Z"
   },
   {
    "duration": 7,
    "start_time": "2022-06-12T19:26:18.300Z"
   },
   {
    "duration": 326,
    "start_time": "2022-06-12T19:26:18.309Z"
   },
   {
    "duration": 314,
    "start_time": "2022-06-12T19:26:18.637Z"
   },
   {
    "duration": 336,
    "start_time": "2022-06-12T19:26:18.953Z"
   },
   {
    "duration": 310,
    "start_time": "2022-06-12T19:26:19.292Z"
   },
   {
    "duration": 484,
    "start_time": "2022-06-12T19:26:19.603Z"
   },
   {
    "duration": 779,
    "start_time": "2022-06-12T19:26:20.089Z"
   },
   {
    "duration": 631,
    "start_time": "2022-06-12T19:26:20.870Z"
   },
   {
    "duration": 754,
    "start_time": "2022-06-12T19:26:21.505Z"
   },
   {
    "duration": 500,
    "start_time": "2022-06-12T19:26:22.264Z"
   },
   {
    "duration": 333,
    "start_time": "2022-06-12T19:26:22.780Z"
   },
   {
    "duration": 315,
    "start_time": "2022-06-12T19:26:23.115Z"
   },
   {
    "duration": 345,
    "start_time": "2022-06-12T19:26:23.432Z"
   },
   {
    "duration": 7,
    "start_time": "2022-06-12T19:26:23.785Z"
   },
   {
    "duration": 1630,
    "start_time": "2022-06-12T19:26:23.796Z"
   },
   {
    "duration": 9,
    "start_time": "2022-06-12T19:26:25.428Z"
   },
   {
    "duration": 173,
    "start_time": "2022-06-12T19:26:25.439Z"
   },
   {
    "duration": 0,
    "start_time": "2022-06-12T19:26:25.613Z"
   },
   {
    "duration": 9,
    "start_time": "2022-06-12T19:27:35.693Z"
   },
   {
    "duration": 51,
    "start_time": "2022-06-12T19:27:42.518Z"
   },
   {
    "duration": 22,
    "start_time": "2022-06-12T19:28:04.697Z"
   },
   {
    "duration": 24,
    "start_time": "2022-06-12T19:28:09.398Z"
   },
   {
    "duration": 50,
    "start_time": "2022-06-12T19:28:15.738Z"
   },
   {
    "duration": 7,
    "start_time": "2022-06-12T19:37:36.777Z"
   },
   {
    "duration": 7,
    "start_time": "2022-06-12T19:37:40.014Z"
   },
   {
    "duration": 7,
    "start_time": "2022-06-12T19:37:56.410Z"
   },
   {
    "duration": 9,
    "start_time": "2022-06-12T19:38:10.049Z"
   },
   {
    "duration": 1252,
    "start_time": "2022-09-22T17:20:10.030Z"
   },
   {
    "duration": 96,
    "start_time": "2022-09-22T17:20:11.284Z"
   },
   {
    "duration": 4,
    "start_time": "2022-09-22T17:20:11.381Z"
   },
   {
    "duration": 63,
    "start_time": "2022-09-22T17:20:11.386Z"
   },
   {
    "duration": 16,
    "start_time": "2022-09-22T17:20:11.451Z"
   },
   {
    "duration": 18,
    "start_time": "2022-09-22T17:20:11.469Z"
   },
   {
    "duration": 30,
    "start_time": "2022-09-22T17:20:11.489Z"
   },
   {
    "duration": 3,
    "start_time": "2022-09-22T17:20:11.520Z"
   },
   {
    "duration": 18,
    "start_time": "2022-09-22T17:20:11.525Z"
   },
   {
    "duration": 11,
    "start_time": "2022-09-22T17:20:11.544Z"
   },
   {
    "duration": 23,
    "start_time": "2022-09-22T17:20:11.557Z"
   },
   {
    "duration": 40,
    "start_time": "2022-09-22T17:20:11.581Z"
   },
   {
    "duration": 37,
    "start_time": "2022-09-22T17:20:11.623Z"
   },
   {
    "duration": 27,
    "start_time": "2022-09-22T17:20:11.663Z"
   },
   {
    "duration": 11,
    "start_time": "2022-09-22T17:20:11.692Z"
   },
   {
    "duration": 32,
    "start_time": "2022-09-22T17:20:11.705Z"
   },
   {
    "duration": 28,
    "start_time": "2022-09-22T17:20:11.738Z"
   },
   {
    "duration": 36,
    "start_time": "2022-09-22T17:20:11.768Z"
   },
   {
    "duration": 21,
    "start_time": "2022-09-22T17:20:11.815Z"
   },
   {
    "duration": 8,
    "start_time": "2022-09-22T17:20:11.838Z"
   },
   {
    "duration": 9,
    "start_time": "2022-09-22T17:20:11.848Z"
   },
   {
    "duration": 15,
    "start_time": "2022-09-22T17:20:11.860Z"
   },
   {
    "duration": 30,
    "start_time": "2022-09-22T17:20:11.876Z"
   },
   {
    "duration": 216,
    "start_time": "2022-09-22T17:20:11.908Z"
   },
   {
    "duration": 336,
    "start_time": "2022-09-22T17:20:12.126Z"
   },
   {
    "duration": 1112,
    "start_time": "2022-09-22T17:20:12.463Z"
   },
   {
    "duration": 24,
    "start_time": "2022-09-22T17:20:13.576Z"
   },
   {
    "duration": 188,
    "start_time": "2022-09-22T17:20:13.601Z"
   },
   {
    "duration": 21,
    "start_time": "2022-09-22T17:20:13.790Z"
   },
   {
    "duration": 224,
    "start_time": "2022-09-22T17:20:13.812Z"
   },
   {
    "duration": 274,
    "start_time": "2022-09-22T17:20:14.038Z"
   },
   {
    "duration": 6,
    "start_time": "2022-09-22T17:20:14.314Z"
   },
   {
    "duration": 8,
    "start_time": "2022-09-22T17:20:14.321Z"
   },
   {
    "duration": 317,
    "start_time": "2022-09-22T17:20:14.330Z"
   },
   {
    "duration": 295,
    "start_time": "2022-09-22T17:20:14.649Z"
   },
   {
    "duration": 258,
    "start_time": "2022-09-22T17:20:14.945Z"
   },
   {
    "duration": 271,
    "start_time": "2022-09-22T17:20:15.205Z"
   },
   {
    "duration": 342,
    "start_time": "2022-09-22T17:20:15.478Z"
   },
   {
    "duration": 262,
    "start_time": "2022-09-22T17:20:15.821Z"
   },
   {
    "duration": 302,
    "start_time": "2022-09-22T17:20:16.085Z"
   },
   {
    "duration": 282,
    "start_time": "2022-09-22T17:20:16.391Z"
   },
   {
    "duration": 207,
    "start_time": "2022-09-22T17:20:16.675Z"
   },
   {
    "duration": 307,
    "start_time": "2022-09-22T17:20:16.883Z"
   },
   {
    "duration": 247,
    "start_time": "2022-09-22T17:20:17.191Z"
   },
   {
    "duration": 249,
    "start_time": "2022-09-22T17:20:17.440Z"
   },
   {
    "duration": 2,
    "start_time": "2022-09-22T17:20:17.690Z"
   },
   {
    "duration": 1324,
    "start_time": "2022-09-22T17:20:17.699Z"
   },
   {
    "duration": 7,
    "start_time": "2022-09-22T17:20:19.025Z"
   },
   {
    "duration": 7,
    "start_time": "2022-09-22T17:20:19.034Z"
   },
   {
    "duration": 10,
    "start_time": "2022-09-22T17:20:19.042Z"
   },
   {
    "duration": 7,
    "start_time": "2022-09-22T17:20:19.054Z"
   },
   {
    "duration": 14,
    "start_time": "2022-09-22T17:20:19.062Z"
   },
   {
    "duration": 1303,
    "start_time": "2022-09-23T16:07:55.382Z"
   },
   {
    "duration": 52,
    "start_time": "2022-09-23T16:07:56.689Z"
   },
   {
    "duration": 3,
    "start_time": "2022-09-23T16:07:56.742Z"
   },
   {
    "duration": 20,
    "start_time": "2022-09-23T16:07:56.747Z"
   },
   {
    "duration": 14,
    "start_time": "2022-09-23T16:07:56.769Z"
   },
   {
    "duration": 18,
    "start_time": "2022-09-23T16:07:56.785Z"
   },
   {
    "duration": 27,
    "start_time": "2022-09-23T16:07:56.805Z"
   },
   {
    "duration": 3,
    "start_time": "2022-09-23T16:07:56.834Z"
   },
   {
    "duration": 38,
    "start_time": "2022-09-23T16:07:56.838Z"
   },
   {
    "duration": 8,
    "start_time": "2022-09-23T16:07:56.879Z"
   },
   {
    "duration": 22,
    "start_time": "2022-09-23T16:07:56.888Z"
   },
   {
    "duration": 6,
    "start_time": "2022-09-23T16:07:56.911Z"
   },
   {
    "duration": 13,
    "start_time": "2022-09-23T16:07:56.919Z"
   },
   {
    "duration": 47,
    "start_time": "2022-09-23T16:07:56.934Z"
   },
   {
    "duration": 8,
    "start_time": "2022-09-23T16:07:56.983Z"
   },
   {
    "duration": 14,
    "start_time": "2022-09-23T16:07:56.994Z"
   },
   {
    "duration": 10,
    "start_time": "2022-09-23T16:07:57.009Z"
   },
   {
    "duration": 23,
    "start_time": "2022-09-23T16:07:57.021Z"
   },
   {
    "duration": 45,
    "start_time": "2022-09-23T16:07:57.046Z"
   },
   {
    "duration": 6,
    "start_time": "2022-09-23T16:07:57.093Z"
   },
   {
    "duration": 8,
    "start_time": "2022-09-23T16:07:57.100Z"
   },
   {
    "duration": 10,
    "start_time": "2022-09-23T16:07:57.110Z"
   },
   {
    "duration": 24,
    "start_time": "2022-09-23T16:07:57.122Z"
   },
   {
    "duration": 216,
    "start_time": "2022-09-23T16:07:57.147Z"
   },
   {
    "duration": 333,
    "start_time": "2022-09-23T16:07:57.364Z"
   },
   {
    "duration": 1127,
    "start_time": "2022-09-23T16:07:57.699Z"
   },
   {
    "duration": 23,
    "start_time": "2022-09-23T16:07:58.828Z"
   },
   {
    "duration": 218,
    "start_time": "2022-09-23T16:07:58.854Z"
   },
   {
    "duration": 7,
    "start_time": "2022-09-23T16:07:59.073Z"
   },
   {
    "duration": 240,
    "start_time": "2022-09-23T16:07:59.081Z"
   },
   {
    "duration": 235,
    "start_time": "2022-09-23T16:07:59.323Z"
   },
   {
    "duration": 6,
    "start_time": "2022-09-23T16:07:59.560Z"
   },
   {
    "duration": 4,
    "start_time": "2022-09-23T16:07:59.576Z"
   },
   {
    "duration": 283,
    "start_time": "2022-09-23T16:07:59.582Z"
   },
   {
    "duration": 289,
    "start_time": "2022-09-23T16:07:59.867Z"
   },
   {
    "duration": 288,
    "start_time": "2022-09-23T16:08:00.157Z"
   },
   {
    "duration": 290,
    "start_time": "2022-09-23T16:08:00.446Z"
   },
   {
    "duration": 251,
    "start_time": "2022-09-23T16:08:00.737Z"
   },
   {
    "duration": 374,
    "start_time": "2022-09-23T16:08:00.990Z"
   },
   {
    "duration": 307,
    "start_time": "2022-09-23T16:08:01.366Z"
   },
   {
    "duration": 274,
    "start_time": "2022-09-23T16:08:01.676Z"
   },
   {
    "duration": 218,
    "start_time": "2022-09-23T16:08:01.952Z"
   },
   {
    "duration": 279,
    "start_time": "2022-09-23T16:08:02.176Z"
   },
   {
    "duration": 257,
    "start_time": "2022-09-23T16:08:02.456Z"
   },
   {
    "duration": 267,
    "start_time": "2022-09-23T16:08:02.715Z"
   },
   {
    "duration": 2,
    "start_time": "2022-09-23T16:08:02.984Z"
   },
   {
    "duration": 1317,
    "start_time": "2022-09-23T16:08:02.988Z"
   },
   {
    "duration": 7,
    "start_time": "2022-09-23T16:08:04.307Z"
   },
   {
    "duration": 9,
    "start_time": "2022-09-23T16:08:04.316Z"
   },
   {
    "duration": 22,
    "start_time": "2022-09-23T16:08:04.326Z"
   },
   {
    "duration": 6,
    "start_time": "2022-09-23T16:08:04.350Z"
   },
   {
    "duration": 24,
    "start_time": "2022-09-23T16:08:04.357Z"
   },
   {
    "duration": 1254,
    "start_time": "2022-09-24T08:17:33.635Z"
   },
   {
    "duration": 87,
    "start_time": "2022-09-24T08:17:34.891Z"
   },
   {
    "duration": 3,
    "start_time": "2022-09-24T08:17:34.980Z"
   },
   {
    "duration": 19,
    "start_time": "2022-09-24T08:17:34.985Z"
   },
   {
    "duration": 12,
    "start_time": "2022-09-24T08:17:35.005Z"
   },
   {
    "duration": 18,
    "start_time": "2022-09-24T08:17:35.018Z"
   },
   {
    "duration": 27,
    "start_time": "2022-09-24T08:17:35.037Z"
   },
   {
    "duration": 3,
    "start_time": "2022-09-24T08:17:35.066Z"
   },
   {
    "duration": 38,
    "start_time": "2022-09-24T08:17:35.071Z"
   },
   {
    "duration": 7,
    "start_time": "2022-09-24T08:17:35.112Z"
   },
   {
    "duration": 24,
    "start_time": "2022-09-24T08:17:35.121Z"
   },
   {
    "duration": 5,
    "start_time": "2022-09-24T08:17:35.147Z"
   },
   {
    "duration": 20,
    "start_time": "2022-09-24T08:17:35.153Z"
   },
   {
    "duration": 27,
    "start_time": "2022-09-24T08:17:35.175Z"
   },
   {
    "duration": 8,
    "start_time": "2022-09-24T08:17:35.204Z"
   },
   {
    "duration": 8,
    "start_time": "2022-09-24T08:17:35.213Z"
   },
   {
    "duration": 7,
    "start_time": "2022-09-24T08:17:35.222Z"
   },
   {
    "duration": 19,
    "start_time": "2022-09-24T08:17:35.230Z"
   },
   {
    "duration": 18,
    "start_time": "2022-09-24T08:17:35.250Z"
   },
   {
    "duration": 32,
    "start_time": "2022-09-24T08:17:35.270Z"
   },
   {
    "duration": 10,
    "start_time": "2022-09-24T08:17:35.303Z"
   },
   {
    "duration": 7,
    "start_time": "2022-09-24T08:17:35.315Z"
   },
   {
    "duration": 24,
    "start_time": "2022-09-24T08:17:35.323Z"
   },
   {
    "duration": 202,
    "start_time": "2022-09-24T08:17:35.348Z"
   },
   {
    "duration": 290,
    "start_time": "2022-09-24T08:17:35.551Z"
   },
   {
    "duration": 978,
    "start_time": "2022-09-24T08:17:35.843Z"
   },
   {
    "duration": 21,
    "start_time": "2022-09-24T08:17:36.822Z"
   },
   {
    "duration": 186,
    "start_time": "2022-09-24T08:17:36.847Z"
   },
   {
    "duration": 5,
    "start_time": "2022-09-24T08:17:37.035Z"
   },
   {
    "duration": 221,
    "start_time": "2022-09-24T08:17:37.042Z"
   },
   {
    "duration": 227,
    "start_time": "2022-09-24T08:17:37.265Z"
   },
   {
    "duration": 9,
    "start_time": "2022-09-24T08:17:37.494Z"
   },
   {
    "duration": 7,
    "start_time": "2022-09-24T08:17:37.504Z"
   },
   {
    "duration": 270,
    "start_time": "2022-09-24T08:17:37.513Z"
   },
   {
    "duration": 274,
    "start_time": "2022-09-24T08:17:37.784Z"
   },
   {
    "duration": 260,
    "start_time": "2022-09-24T08:17:38.059Z"
   },
   {
    "duration": 244,
    "start_time": "2022-09-24T08:17:38.321Z"
   },
   {
    "duration": 295,
    "start_time": "2022-09-24T08:17:38.566Z"
   },
   {
    "duration": 257,
    "start_time": "2022-09-24T08:17:38.862Z"
   },
   {
    "duration": 258,
    "start_time": "2022-09-24T08:17:39.121Z"
   },
   {
    "duration": 271,
    "start_time": "2022-09-24T08:17:39.381Z"
   },
   {
    "duration": 209,
    "start_time": "2022-09-24T08:17:39.653Z"
   },
   {
    "duration": 289,
    "start_time": "2022-09-24T08:17:39.864Z"
   },
   {
    "duration": 262,
    "start_time": "2022-09-24T08:17:40.155Z"
   },
   {
    "duration": 257,
    "start_time": "2022-09-24T08:17:40.419Z"
   },
   {
    "duration": 3,
    "start_time": "2022-09-24T08:17:40.678Z"
   },
   {
    "duration": 1441,
    "start_time": "2022-09-24T08:17:40.682Z"
   },
   {
    "duration": 6,
    "start_time": "2022-09-24T08:17:42.125Z"
   },
   {
    "duration": 9,
    "start_time": "2022-09-24T08:17:42.132Z"
   },
   {
    "duration": 14,
    "start_time": "2022-09-24T08:17:42.142Z"
   }
  ],
  "kernelspec": {
   "display_name": "Python 3 (ipykernel)",
   "language": "python",
   "name": "python3"
  },
  "language_info": {
   "codemirror_mode": {
    "name": "ipython",
    "version": 3
   },
   "file_extension": ".py",
   "mimetype": "text/x-python",
   "name": "python",
   "nbconvert_exporter": "python",
   "pygments_lexer": "ipython3",
   "version": "3.9.5"
  },
  "toc": {
   "base_numbering": 1,
   "nav_menu": {},
   "number_sections": true,
   "sideBar": true,
   "skip_h1_title": true,
   "title_cell": "Содержание:",
   "title_sidebar": "Contents",
   "toc_cell": true,
   "toc_position": {},
   "toc_section_display": true,
   "toc_window_display": false
  }
 },
 "nbformat": 4,
 "nbformat_minor": 2
}
