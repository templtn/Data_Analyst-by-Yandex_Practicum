{
 "cells": [
  {
   "cell_type": "markdown",
   "id": "77e1d3b0",
   "metadata": {
    "toc": true
   },
   "source": [
    "<h1>Содержание:<span class=\"tocSkip\"></span></h1>\n",
    "<div class=\"toc\"><ul class=\"toc-item\"><li><span><a href=\"#Исследование-пользовательского-поведения-в-мобильном-приложении\" data-toc-modified-id=\"Исследование-пользовательского-поведения-в-мобильном-приложении-0\">Исследование пользовательского поведения в мобильном приложении</a></span><ul class=\"toc-item\"><li><span><a href=\"#Предобработка-данных\" data-toc-modified-id=\"Предобработка-данных-0.1\">Предобработка данных</a></span></li><li><span><a href=\"#Изучение-данных\" data-toc-modified-id=\"Изучение-данных-0.2\">Изучение данных</a></span><ul class=\"toc-item\"><li><span><a href=\"#Количество-событий-в-логе,-количество-пользователей,-среднее-количество-событий-на-пользователя\" data-toc-modified-id=\"Количество-событий-в-логе,-количество-пользователей,-среднее-количество-событий-на-пользователя-0.2.1\">Количество событий в логе, количество пользователей, среднее количество событий на пользователя</a></span></li><li><span><a href=\"#Период-регистрации-данных\" data-toc-modified-id=\"Период-регистрации-данных-0.2.2\">Период регистрации данных</a></span></li><li><span><a href=\"#Выбор-актуального-периода\" data-toc-modified-id=\"Выбор-актуального-периода-0.2.3\">Выбор актуального периода</a></span></li><li><span><a href=\"#Оценка-отсеченных-данных\" data-toc-modified-id=\"Оценка-отсеченных-данных-0.2.4\">Оценка отсеченных данных</a></span></li><li><span><a href=\"#Количество-пользователей-в-группах\" data-toc-modified-id=\"Количество-пользователей-в-группах-0.2.5\">Количество пользователей в группах</a></span></li></ul></li><li><span><a href=\"#Воронка-событий\" data-toc-modified-id=\"Воронка-событий-0.3\">Воронка событий</a></span></li><li><span><a href=\"#Изучение-результатов-эксперимента\" data-toc-modified-id=\"Изучение-результатов-эксперимента-0.4\">Изучение результатов эксперимента</a></span></li></ul></li></ul></div>"
   ]
  },
  {
   "cell_type": "markdown",
   "id": "3be5e0c2",
   "metadata": {},
   "source": [
    "# Исследование пользовательского поведения в мобильном приложении"
   ]
  },
  {
   "cell_type": "markdown",
   "id": "47c724cc",
   "metadata": {},
   "source": [
    "## Предобработка данных"
   ]
  },
  {
   "cell_type": "code",
   "execution_count": 1,
   "id": "9bf47941",
   "metadata": {},
   "outputs": [],
   "source": [
    "import pandas as pd\n",
    "import matplotlib.pyplot as plt\n",
    "import seaborn as sns\n",
    "from plotly import graph_objects as go\n",
    "import numpy as np\n",
    "import math as mth\n",
    "from scipy import stats as st"
   ]
  },
  {
   "cell_type": "code",
   "execution_count": 2,
   "id": "f9ef4456",
   "metadata": {},
   "outputs": [
    {
     "data": {
      "text/html": [
       "<div>\n",
       "<style scoped>\n",
       "    .dataframe tbody tr th:only-of-type {\n",
       "        vertical-align: middle;\n",
       "    }\n",
       "\n",
       "    .dataframe tbody tr th {\n",
       "        vertical-align: top;\n",
       "    }\n",
       "\n",
       "    .dataframe thead th {\n",
       "        text-align: right;\n",
       "    }\n",
       "</style>\n",
       "<table border=\"1\" class=\"dataframe\">\n",
       "  <thead>\n",
       "    <tr style=\"text-align: right;\">\n",
       "      <th></th>\n",
       "      <th>EventName</th>\n",
       "      <th>DeviceIDHash</th>\n",
       "      <th>EventTimestamp</th>\n",
       "      <th>ExpId</th>\n",
       "    </tr>\n",
       "  </thead>\n",
       "  <tbody>\n",
       "    <tr>\n",
       "      <th>0</th>\n",
       "      <td>MainScreenAppear</td>\n",
       "      <td>4575588528974610257</td>\n",
       "      <td>1564029816</td>\n",
       "      <td>246</td>\n",
       "    </tr>\n",
       "    <tr>\n",
       "      <th>1</th>\n",
       "      <td>MainScreenAppear</td>\n",
       "      <td>7416695313311560658</td>\n",
       "      <td>1564053102</td>\n",
       "      <td>246</td>\n",
       "    </tr>\n",
       "    <tr>\n",
       "      <th>2</th>\n",
       "      <td>PaymentScreenSuccessful</td>\n",
       "      <td>3518123091307005509</td>\n",
       "      <td>1564054127</td>\n",
       "      <td>248</td>\n",
       "    </tr>\n",
       "    <tr>\n",
       "      <th>3</th>\n",
       "      <td>CartScreenAppear</td>\n",
       "      <td>3518123091307005509</td>\n",
       "      <td>1564054127</td>\n",
       "      <td>248</td>\n",
       "    </tr>\n",
       "    <tr>\n",
       "      <th>4</th>\n",
       "      <td>PaymentScreenSuccessful</td>\n",
       "      <td>6217807653094995999</td>\n",
       "      <td>1564055322</td>\n",
       "      <td>248</td>\n",
       "    </tr>\n",
       "  </tbody>\n",
       "</table>\n",
       "</div>"
      ],
      "text/plain": [
       "                 EventName         DeviceIDHash  EventTimestamp  ExpId\n",
       "0         MainScreenAppear  4575588528974610257      1564029816    246\n",
       "1         MainScreenAppear  7416695313311560658      1564053102    246\n",
       "2  PaymentScreenSuccessful  3518123091307005509      1564054127    248\n",
       "3         CartScreenAppear  3518123091307005509      1564054127    248\n",
       "4  PaymentScreenSuccessful  6217807653094995999      1564055322    248"
      ]
     },
     "execution_count": 2,
     "metadata": {},
     "output_type": "execute_result"
    }
   ],
   "source": [
    "df = pd.read_csv('/datasets/logs_exp.csv', sep='\\t')\n",
    "df.head()"
   ]
  },
  {
   "cell_type": "markdown",
   "id": "6096f4d1",
   "metadata": {},
   "source": [
    "Согласно документации к данным:\n",
    "* `EventName` — название события;\n",
    "* `DeviceIDHash` — уникальный идентификатор пользователя;  \n",
    "* `EventTimestamp` —  время события;\n",
    "* `ExpId` — номер эксперимента: 246 и 247 — контрольные группы, а 248 — экспериментальная."
   ]
  },
  {
   "cell_type": "markdown",
   "id": "878a6fbf",
   "metadata": {},
   "source": [
    "Преобразуем столбцы"
   ]
  },
  {
   "cell_type": "code",
   "execution_count": 3,
   "id": "c59ee252",
   "metadata": {},
   "outputs": [],
   "source": [
    "df.columns = (df.columns).str.lower()"
   ]
  },
  {
   "cell_type": "code",
   "execution_count": 4,
   "id": "fa626fae",
   "metadata": {},
   "outputs": [
    {
     "name": "stdout",
     "output_type": "stream",
     "text": [
      "<class 'pandas.core.frame.DataFrame'>\n",
      "RangeIndex: 244126 entries, 0 to 244125\n",
      "Data columns (total 4 columns):\n",
      " #   Column          Non-Null Count   Dtype \n",
      "---  ------          --------------   ----- \n",
      " 0   eventname       244126 non-null  object\n",
      " 1   deviceidhash    244126 non-null  int64 \n",
      " 2   eventtimestamp  244126 non-null  int64 \n",
      " 3   expid           244126 non-null  int64 \n",
      "dtypes: int64(3), object(1)\n",
      "memory usage: 7.5+ MB\n"
     ]
    }
   ],
   "source": [
    "df.info()"
   ]
  },
  {
   "cell_type": "code",
   "execution_count": 5,
   "id": "8f7fb198",
   "metadata": {},
   "outputs": [],
   "source": [
    "df.columns = ['event', 'device_id', 'event_timestamp', 'exp_id']"
   ]
  },
  {
   "cell_type": "markdown",
   "id": "1442b4e5",
   "metadata": {},
   "source": [
    "Проверим дубликаты"
   ]
  },
  {
   "cell_type": "code",
   "execution_count": 6,
   "id": "1be5169c",
   "metadata": {},
   "outputs": [
    {
     "data": {
      "text/plain": [
       "413"
      ]
     },
     "execution_count": 6,
     "metadata": {},
     "output_type": "execute_result"
    }
   ],
   "source": [
    "df.duplicated().sum()"
   ]
  },
  {
   "cell_type": "code",
   "execution_count": 7,
   "id": "7d3be61f",
   "metadata": {},
   "outputs": [],
   "source": [
    "df = df.drop_duplicates().reset_index()"
   ]
  },
  {
   "cell_type": "markdown",
   "id": "616cd2f9",
   "metadata": {},
   "source": [
    "Добавим столбец даты и времени"
   ]
  },
  {
   "cell_type": "code",
   "execution_count": 8,
   "id": "24f6ed80",
   "metadata": {},
   "outputs": [],
   "source": [
    "df['dt'] = pd.to_datetime(df['event_timestamp'], unit='s')"
   ]
  },
  {
   "cell_type": "markdown",
   "id": "1b009186",
   "metadata": {},
   "source": [
    "Добавим отдельный столбец для дат"
   ]
  },
  {
   "cell_type": "code",
   "execution_count": 9,
   "id": "8f8fa203",
   "metadata": {},
   "outputs": [],
   "source": [
    "df['date'] = df['dt'].dt.date"
   ]
  },
  {
   "cell_type": "markdown",
   "id": "d381e49b",
   "metadata": {},
   "source": [
    "**Вывод:**\n",
    "\n",
    "Симпатичные данные. Пропусков нет, от дубликатов избавились."
   ]
  },
  {
   "cell_type": "markdown",
   "id": "0316f8e0",
   "metadata": {},
   "source": [
    "## Изучение данных"
   ]
  },
  {
   "cell_type": "markdown",
   "id": "ff689328",
   "metadata": {},
   "source": [
    "### Количество событий в логе, количество пользователей, среднее количество событий на пользователя"
   ]
  },
  {
   "cell_type": "markdown",
   "id": "cc999947",
   "metadata": {},
   "source": [
    "*Сколько всего событий в логе?*"
   ]
  },
  {
   "cell_type": "code",
   "execution_count": 10,
   "id": "b430891c",
   "metadata": {},
   "outputs": [
    {
     "data": {
      "text/plain": [
       "243713"
      ]
     },
     "execution_count": 10,
     "metadata": {},
     "output_type": "execute_result"
    }
   ],
   "source": [
    "events = len(df)\n",
    "events"
   ]
  },
  {
   "cell_type": "markdown",
   "id": "da07a0ff",
   "metadata": {},
   "source": [
    "*Сколько всего пользователей в логе?*"
   ]
  },
  {
   "cell_type": "code",
   "execution_count": 11,
   "id": "a1531912",
   "metadata": {},
   "outputs": [
    {
     "data": {
      "text/plain": [
       "7551"
      ]
     },
     "execution_count": 11,
     "metadata": {},
     "output_type": "execute_result"
    }
   ],
   "source": [
    "users = len(df.groupby('device_id').agg({'device_id': 'nunique', 'event': 'nunique'}))\n",
    "users"
   ]
  },
  {
   "cell_type": "markdown",
   "id": "f8c1849b",
   "metadata": {},
   "source": [
    "*Сколько в среднем событий приходится на пользователя?*"
   ]
  },
  {
   "cell_type": "code",
   "execution_count": 12,
   "id": "d5544f59",
   "metadata": {},
   "outputs": [],
   "source": [
    "#event_per_user = df.groupby('device_id').agg({'device_id': 'nunique', 'event': 'nunique'})['event'].mean()\n",
    "#round(event_per_user,2)"
   ]
  },
  {
   "cell_type": "code",
   "execution_count": 13,
   "id": "6e1b9213",
   "metadata": {},
   "outputs": [
    {
     "data": {
      "text/plain": [
       "32.28"
      ]
     },
     "execution_count": 13,
     "metadata": {},
     "output_type": "execute_result"
    }
   ],
   "source": [
    "event_per_user = events/users\n",
    "round(event_per_user,2)"
   ]
  },
  {
   "cell_type": "markdown",
   "id": "b28cfd73",
   "metadata": {},
   "source": [
    "### Период регистрации данных"
   ]
  },
  {
   "cell_type": "markdown",
   "id": "0938230e",
   "metadata": {},
   "source": [
    "Начало регистрации данных"
   ]
  },
  {
   "cell_type": "code",
   "execution_count": 14,
   "id": "68894540",
   "metadata": {},
   "outputs": [
    {
     "name": "stdout",
     "output_type": "stream",
     "text": [
      "Начало регистрации данных: 2019-07-25 04:43:36\n"
     ]
    }
   ],
   "source": [
    "print('Начало регистрации данных:',df['dt'].min())"
   ]
  },
  {
   "cell_type": "markdown",
   "id": "62b619de",
   "metadata": {},
   "source": [
    "Конец регистрации данных"
   ]
  },
  {
   "cell_type": "code",
   "execution_count": 15,
   "id": "3ed29439",
   "metadata": {},
   "outputs": [
    {
     "name": "stdout",
     "output_type": "stream",
     "text": [
      "Конец регистрации данных: 2019-08-07 21:15:17\n"
     ]
    }
   ],
   "source": [
    "print('Конец регистрации данных:',df['dt'].max())"
   ]
  },
  {
   "cell_type": "markdown",
   "id": "b21ce1c2",
   "metadata": {},
   "source": [
    "### Выбор актуального периода"
   ]
  },
  {
   "cell_type": "markdown",
   "id": "a07f30fa",
   "metadata": {},
   "source": [
    "Посмотрим на график"
   ]
  },
  {
   "cell_type": "code",
   "execution_count": 16,
   "id": "74de60c6",
   "metadata": {},
   "outputs": [
    {
     "data": {
      "image/png": "[encoded data removed]",
      "text/plain": [
       "<Figure size 1080x720 with 1 Axes>"
      ]
     },
     "metadata": {
      "needs_background": "light"
     },
     "output_type": "display_data"
    }
   ],
   "source": [
    "distr = df.groupby('date').agg({'event': 'count'}).reset_index()\n",
    "\n",
    "plt.subplots(figsize=(15, 10))\n",
    "\n",
    "ax = sns.barplot(x=\"date\", y=\"event\", data=distr)\n",
    "\n",
    "plt.title('Распределение событий по датам', size='20')\n",
    "plt.ylabel('Количество событий')\n",
    "plt.xlabel(None);"
   ]
  },
  {
   "cell_type": "code",
   "execution_count": 17,
   "id": "23c99543",
   "metadata": {},
   "outputs": [
    {
     "data": {
      "image/png": "[encoded data removed]",
      "text/plain": [
       "<Figure size 1008x360 with 1 Axes>"
      ]
     },
     "metadata": {
      "needs_background": "light"
     },
     "output_type": "display_data"
    }
   ],
   "source": [
    "df['event_timestamp'].hist(bins=7*24, figsize=(14, 5));"
   ]
  },
  {
   "cell_type": "markdown",
   "id": "73573347",
   "metadata": {},
   "source": [
    "На графике видно, что значимая часть зарегистрированных событий приходится на период с 2019-08-01 по 2019-08-07. "
   ]
  },
  {
   "cell_type": "code",
   "execution_count": 18,
   "id": "cc854941",
   "metadata": {},
   "outputs": [],
   "source": [
    "df = df.query('dt >= \"2019-08-01\"')"
   ]
  },
  {
   "cell_type": "markdown",
   "id": "bcb22049",
   "metadata": {},
   "source": [
    "### Оценка отсеченных данных"
   ]
  },
  {
   "cell_type": "code",
   "execution_count": 19,
   "id": "e84bf4ee",
   "metadata": {},
   "outputs": [
    {
     "name": "stdout",
     "output_type": "stream",
     "text": [
      "Всего событий в логе после фильтрации: 240887\n",
      "Доля оставшихся событий: 98.84 %\n"
     ]
    }
   ],
   "source": [
    "print('Всего событий в логе после фильтрации:', len(df))\n",
    "print('Доля оставшихся событий:', round(len(df) / events * 100, 2),'%')"
   ]
  },
  {
   "cell_type": "code",
   "execution_count": 20,
   "id": "e1976509",
   "metadata": {},
   "outputs": [
    {
     "name": "stdout",
     "output_type": "stream",
     "text": [
      "Всего пользователей в логе после фильтрации: 7534\n",
      "Доля оставшихся пользователей: 99.77 %\n"
     ]
    }
   ],
   "source": [
    "users_filter = len(df.groupby('device_id').agg({'device_id': 'nunique', 'event': 'nunique'}))\n",
    "print('Всего пользователей в логе после фильтрации:',users_filter)\n",
    "print('Доля оставшихся пользователей:',round(users_filter / users * 100, 2), '%')"
   ]
  },
  {
   "cell_type": "markdown",
   "id": "838da786",
   "metadata": {},
   "source": [
    "Потеряли очень небольшой процент данных."
   ]
  },
  {
   "cell_type": "markdown",
   "id": "b286069a",
   "metadata": {},
   "source": [
    "### Количество пользователей в группах"
   ]
  },
  {
   "cell_type": "code",
   "execution_count": 21,
   "id": "1e09c5c9",
   "metadata": {},
   "outputs": [
    {
     "data": {
      "text/html": [
       "<div>\n",
       "<style scoped>\n",
       "    .dataframe tbody tr th:only-of-type {\n",
       "        vertical-align: middle;\n",
       "    }\n",
       "\n",
       "    .dataframe tbody tr th {\n",
       "        vertical-align: top;\n",
       "    }\n",
       "\n",
       "    .dataframe thead th {\n",
       "        text-align: right;\n",
       "    }\n",
       "</style>\n",
       "<table border=\"1\" class=\"dataframe\">\n",
       "  <thead>\n",
       "    <tr style=\"text-align: right;\">\n",
       "      <th></th>\n",
       "      <th>Количество пользователей</th>\n",
       "      <th>%</th>\n",
       "    </tr>\n",
       "    <tr>\n",
       "      <th>exp_id</th>\n",
       "      <th></th>\n",
       "      <th></th>\n",
       "    </tr>\n",
       "  </thead>\n",
       "  <tbody>\n",
       "    <tr>\n",
       "      <th>246</th>\n",
       "      <td>2484</td>\n",
       "      <td>33.0</td>\n",
       "    </tr>\n",
       "    <tr>\n",
       "      <th>247</th>\n",
       "      <td>2513</td>\n",
       "      <td>33.0</td>\n",
       "    </tr>\n",
       "    <tr>\n",
       "      <th>248</th>\n",
       "      <td>2537</td>\n",
       "      <td>34.0</td>\n",
       "    </tr>\n",
       "  </tbody>\n",
       "</table>\n",
       "</div>"
      ],
      "text/plain": [
       "        Количество пользователей     %\n",
       "exp_id                                \n",
       "246                         2484  33.0\n",
       "247                         2513  33.0\n",
       "248                         2537  34.0"
      ]
     },
     "execution_count": 21,
     "metadata": {},
     "output_type": "execute_result"
    }
   ],
   "source": [
    "groups = df.groupby('exp_id').agg({'device_id': 'nunique'})\n",
    "groups['part'] = round(groups['device_id'] / users_filter * 100)\n",
    "groups.columns = ['Количество пользователей','%']\n",
    "groups"
   ]
  },
  {
   "cell_type": "markdown",
   "id": "1e8d578b",
   "metadata": {},
   "source": [
    "**Вывод:**\n",
    "\n",
    "Изучив данные, можно сказать, что всего в логе произошло 243713 событий с 7551 пользователями. С помощью графика распределения мы определили, что основная часть зарегистрированных данных приходится после 2019-07-31. Отфильтровав неактуальные даты мы сохранили примерно 99% данных. Оставшиеся пользователи поделены на три примерно равнозначные группы, что говорит об оптимальном сборе данных."
   ]
  },
  {
   "cell_type": "markdown",
   "id": "5f70c658",
   "metadata": {},
   "source": [
    "## Воронка событий"
   ]
  },
  {
   "cell_type": "code",
   "execution_count": 22,
   "id": "38d3954c",
   "metadata": {},
   "outputs": [
    {
     "data": {
      "text/plain": [
       "7534"
      ]
     },
     "execution_count": 22,
     "metadata": {},
     "output_type": "execute_result"
    }
   ],
   "source": [
    "users_filter"
   ]
  },
  {
   "cell_type": "markdown",
   "id": "1ea44795",
   "metadata": {},
   "source": [
    "Создадим таблицу с названием событий, их количеством, количеством пользователей и посчитаем процент от общего числа пользователей."
   ]
  },
  {
   "cell_type": "code",
   "execution_count": 23,
   "id": "e0d07e34",
   "metadata": {
    "scrolled": true
   },
   "outputs": [
    {
     "data": {
      "text/html": [
       "<div>\n",
       "<style scoped>\n",
       "    .dataframe tbody tr th:only-of-type {\n",
       "        vertical-align: middle;\n",
       "    }\n",
       "\n",
       "    .dataframe tbody tr th {\n",
       "        vertical-align: top;\n",
       "    }\n",
       "\n",
       "    .dataframe thead th {\n",
       "        text-align: right;\n",
       "    }\n",
       "</style>\n",
       "<table border=\"1\" class=\"dataframe\">\n",
       "  <thead>\n",
       "    <tr style=\"text-align: right;\">\n",
       "      <th></th>\n",
       "      <th>Событие</th>\n",
       "      <th>Количество событий</th>\n",
       "      <th>Количество пользователей</th>\n",
       "      <th>% пользователей</th>\n",
       "    </tr>\n",
       "  </thead>\n",
       "  <tbody>\n",
       "    <tr>\n",
       "      <th>1</th>\n",
       "      <td>MainScreenAppear</td>\n",
       "      <td>117328</td>\n",
       "      <td>7419</td>\n",
       "      <td>98.47</td>\n",
       "    </tr>\n",
       "    <tr>\n",
       "      <th>2</th>\n",
       "      <td>OffersScreenAppear</td>\n",
       "      <td>46333</td>\n",
       "      <td>4593</td>\n",
       "      <td>60.96</td>\n",
       "    </tr>\n",
       "    <tr>\n",
       "      <th>0</th>\n",
       "      <td>CartScreenAppear</td>\n",
       "      <td>42303</td>\n",
       "      <td>3734</td>\n",
       "      <td>49.56</td>\n",
       "    </tr>\n",
       "    <tr>\n",
       "      <th>3</th>\n",
       "      <td>PaymentScreenSuccessful</td>\n",
       "      <td>33918</td>\n",
       "      <td>3539</td>\n",
       "      <td>46.97</td>\n",
       "    </tr>\n",
       "    <tr>\n",
       "      <th>4</th>\n",
       "      <td>Tutorial</td>\n",
       "      <td>1005</td>\n",
       "      <td>840</td>\n",
       "      <td>11.15</td>\n",
       "    </tr>\n",
       "  </tbody>\n",
       "</table>\n",
       "</div>"
      ],
      "text/plain": [
       "                   Событие  Количество событий  Количество пользователей  \\\n",
       "1         MainScreenAppear              117328                      7419   \n",
       "2       OffersScreenAppear               46333                      4593   \n",
       "0         CartScreenAppear               42303                      3734   \n",
       "3  PaymentScreenSuccessful               33918                      3539   \n",
       "4                 Tutorial                1005                       840   \n",
       "\n",
       "   % пользователей  \n",
       "1            98.47  \n",
       "2            60.96  \n",
       "0            49.56  \n",
       "3            46.97  \n",
       "4            11.15  "
      ]
     },
     "execution_count": 23,
     "metadata": {},
     "output_type": "execute_result"
    }
   ],
   "source": [
    "event_funnel = df.groupby('event').agg({'device_id': ['count', 'nunique']}).reset_index()\n",
    "event_funnel.columns = ['Событие', 'Количество событий', 'Количество пользователей']\n",
    "event_funnel['% пользователей'] = round(100*event_funnel['Количество пользователей'] / users_filter,2)\n",
    "event_funnel =event_funnel.sort_values(by='Количество пользователей', ascending=False)\n",
    "event_funnel"
   ]
  },
  {
   "cell_type": "code",
   "execution_count": 24,
   "id": "f34e5055",
   "metadata": {},
   "outputs": [],
   "source": [
    "event_funnel= event_funnel.loc[:3] # отбросим tutorial"
   ]
  },
  {
   "cell_type": "code",
   "execution_count": 25,
   "id": "e2aee3cc",
   "metadata": {},
   "outputs": [
    {
     "name": "stdout",
     "output_type": "stream",
     "text": [
      "Requirement already satisfied: kaleido in /opt/conda/lib/python3.9/site-packages (0.2.1)\r\n"
     ]
    }
   ],
   "source": [
    "!pip install -U kaleido"
   ]
  },
  {
   "cell_type": "code",
   "execution_count": 26,
   "id": "8bbfd584",
   "metadata": {},
   "outputs": [
    {
     "data": {
      "image/svg+xml": [
       "<svg class=\"main-svg\" xmlns=\"http://www.w3.org/2000/svg\" xmlns:xlink=\"http://www.w3.org/1999/xlink\" width=\"700\" height=\"500\" style=\"\" viewBox=\"0 0 700 500\"><rect x=\"0\" y=\"0\" width=\"700\" height=\"500\" style=\"fill: rgb(255, 255, 255); fill-opacity: 1;\"/><defs id=\"defs-28ed33\"><g class=\"clips\"><clipPath id=\"clip28ed33xyplot\" class=\"plotclip\"><rect width=\"464\" height=\"320\"/></clipPath><clipPath class=\"axesclip\" id=\"clip28ed33x\"><rect x=\"156\" y=\"0\" width=\"464\" height=\"500\"/></clipPath><clipPath class=\"axesclip\" id=\"clip28ed33y\"><rect x=\"0\" y=\"100\" width=\"700\" height=\"320\"/></clipPath><clipPath class=\"axesclip\" id=\"clip28ed33xy\"><rect x=\"156\" y=\"100\" width=\"464\" height=\"320\"/></clipPath></g><g class=\"gradients\"/><g class=\"patterns\"/></defs><g class=\"bglayer\"><rect class=\"bg\" x=\"156\" y=\"100\" width=\"464\" height=\"320\" style=\"fill: rgb(229, 236, 246); fill-opacity: 1; stroke-width: 0;\"/></g><g class=\"layer-below\"><g class=\"imagelayer\"/><g class=\"shapelayer\"/></g><g class=\"cartesianlayer\"><g class=\"subplot xy\"><g class=\"layer-subplot\"><g class=\"shapelayer\"/><g class=\"imagelayer\"/></g><g class=\"gridlayer\"><g class=\"x\"/><g class=\"y\"/></g><g class=\"zerolinelayer\"/><path class=\"xlines-below\"/><path class=\"ylines-below\"/><g class=\"overlines-below\"/><g class=\"xaxislayer-below\"/><g class=\"yaxislayer-below\"/><g class=\"overaxes-below\"/><g class=\"plot\" transform=\"translate(156,100)\" clip-path=\"url(#clip28ed33xyplot)\"><g class=\"funnellayer mlayer\"><g class=\"trace bars\" style=\"opacity: 1;\"><g class=\"regions\"><g class=\"region\"><path d=\"M23.2,72L102.73,88H361.27L440.8,72Z\" style=\"stroke-width: 0; fill: rgb(99, 110, 250); fill-opacity: 0.5;\"/></g><g class=\"region\"><path d=\"M102.73,152L126.91,168H337.09L361.27,152Z\" style=\"stroke-width: 0; fill: rgb(99, 110, 250); fill-opacity: 0.5;\"/></g><g class=\"region\"><path d=\"M126.91,232L132.4,248H331.6L337.09,232Z\" style=\"stroke-width: 0; fill: rgb(99, 110, 250); fill-opacity: 0.5;\"/></g><g class=\"region\"><path d=\"M0,0Z\" style=\"stroke-width: 0; fill: rgb(99, 110, 250); fill-opacity: 0.5;\"/></g></g><g class=\"points\"><g class=\"point\"><path d=\"M23.2,8V72H440.8V8Z\" style=\"vector-effect: non-scaling-stroke; fill: rgb(99, 110, 250); fill-opacity: 1; stroke: rgb(68, 68, 68); stroke-opacity: 1; stroke-width: 0px; opacity: 1;\"/><text class=\"bartext bartext-inside\" text-anchor=\"middle\" data-notex=\"1\" x=\"0\" y=\"0\" style=\"font-family: 'Open Sans', verdana, arial, sans-serif; font-size: 12px; fill: rgb(255, 255, 255); fill-opacity: 1; white-space: pre;\" transform=\"translate(231.8359375,36.1953125)\"><tspan class=\"line\" dy=\"0em\" x=\"0\" y=\"0\">7419</tspan><tspan class=\"line\" dy=\"1.3em\" x=\"0\" y=\"0\">100%</tspan></text></g><g class=\"point\"><path d=\"M102.73,88V152H361.27V88Z\" style=\"vector-effect: non-scaling-stroke; fill: rgb(99, 110, 250); fill-opacity: 1; stroke: rgb(68, 68, 68); stroke-opacity: 1; stroke-width: 0px; opacity: 1;\"/><text class=\"bartext bartext-inside\" text-anchor=\"middle\" data-notex=\"1\" x=\"0\" y=\"0\" style=\"font-family: 'Open Sans', verdana, arial, sans-serif; font-size: 12px; fill: rgb(255, 255, 255); fill-opacity: 1; white-space: pre;\" transform=\"translate(231.8359375,116.1953125)\"><tspan class=\"line\" dy=\"0em\" x=\"0\" y=\"0\">4593</tspan><tspan class=\"line\" dy=\"1.3em\" x=\"0\" y=\"0\">62%</tspan></text></g><g class=\"point\"><path d=\"M126.91,168V232H337.09V168Z\" style=\"vector-effect: non-scaling-stroke; fill: rgb(99, 110, 250); fill-opacity: 1; stroke: rgb(68, 68, 68); stroke-opacity: 1; stroke-width: 0px; opacity: 1;\"/><text class=\"bartext bartext-inside\" text-anchor=\"middle\" data-notex=\"1\" x=\"0\" y=\"0\" style=\"font-family: 'Open Sans', verdana, arial, sans-serif; font-size: 12px; fill: rgb(255, 255, 255); fill-opacity: 1; white-space: pre;\" transform=\"translate(231.8359375,196.1953125)\"><tspan class=\"line\" dy=\"0em\" x=\"0\" y=\"0\">3734</tspan><tspan class=\"line\" dy=\"1.3em\" x=\"0\" y=\"0\">50%</tspan></text></g><g class=\"point\"><path d=\"M132.4,248V312H331.6V248Z\" style=\"vector-effect: non-scaling-stroke; fill: rgb(99, 110, 250); fill-opacity: 1; stroke: rgb(68, 68, 68); stroke-opacity: 1; stroke-width: 0px; opacity: 1;\"/><text class=\"bartext bartext-inside\" text-anchor=\"middle\" data-notex=\"1\" x=\"0\" y=\"0\" style=\"font-family: 'Open Sans', verdana, arial, sans-serif; font-size: 12px; fill: rgb(255, 255, 255); fill-opacity: 1; white-space: pre;\" transform=\"translate(231.8359375,276.1953125)\"><tspan class=\"line\" dy=\"0em\" x=\"0\" y=\"0\">3539</tspan><tspan class=\"line\" dy=\"1.3em\" x=\"0\" y=\"0\">48%</tspan></text></g></g></g></g></g><g class=\"overplot\"/><path class=\"xlines-above crisp\" d=\"M0,0\" style=\"fill: none;\"/><path class=\"ylines-above crisp\" d=\"M0,0\" style=\"fill: none;\"/><g class=\"overlines-above\"/><g class=\"xaxislayer-above\"/><g class=\"yaxislayer-above\"><g class=\"ytick\"><text text-anchor=\"end\" x=\"155\" y=\"4.199999999999999\" transform=\"translate(0,380)\" style=\"font-family: 'Open Sans', verdana, arial, sans-serif; font-size: 12px; fill: rgb(42, 63, 95); fill-opacity: 1; white-space: pre; opacity: 1;\">PaymentScreenSuccessful</text></g><g class=\"ytick\"><text text-anchor=\"end\" x=\"155\" y=\"4.199999999999999\" transform=\"translate(0,300)\" style=\"font-family: 'Open Sans', verdana, arial, sans-serif; font-size: 12px; fill: rgb(42, 63, 95); fill-opacity: 1; white-space: pre; opacity: 1;\">CartScreenAppear</text></g><g class=\"ytick\"><text text-anchor=\"end\" x=\"155\" y=\"4.199999999999999\" transform=\"translate(0,220)\" style=\"font-family: 'Open Sans', verdana, arial, sans-serif; font-size: 12px; fill: rgb(42, 63, 95); fill-opacity: 1; white-space: pre; opacity: 1;\">OffersScreenAppear</text></g><g class=\"ytick\"><text text-anchor=\"end\" x=\"155\" y=\"4.199999999999999\" transform=\"translate(0,140)\" style=\"font-family: 'Open Sans', verdana, arial, sans-serif; font-size: 12px; fill: rgb(42, 63, 95); fill-opacity: 1; white-space: pre; opacity: 1;\">MainScreenAppear</text></g></g><g class=\"overaxes-above\"/></g></g><g class=\"polarlayer\"/><g class=\"smithlayer\"/><g class=\"ternarylayer\"/><g class=\"geolayer\"/><g class=\"funnelarealayer\"/><g class=\"pielayer\"/><g class=\"iciclelayer\"/><g class=\"treemaplayer\"/><g class=\"sunburstlayer\"/><g class=\"glimages\"/><defs id=\"topdefs-28ed33\"><g class=\"clips\"/></defs><g class=\"layer-above\"><g class=\"imagelayer\"/><g class=\"shapelayer\"/></g><g class=\"infolayer\"><g class=\"g-gtitle\"><text class=\"gtitle\" x=\"35\" y=\"50\" text-anchor=\"start\" dy=\"0em\" style=\"font-family: 'Open Sans', verdana, arial, sans-serif; font-size: 17px; fill: rgb(42, 63, 95); opacity: 1; font-weight: normal; white-space: pre;\">Воронка событий</text></g><g class=\"g-ytitle\"/></g></svg>"
      ]
     },
     "metadata": {},
     "output_type": "display_data"
    }
   ],
   "source": [
    "fig = go.Figure()\n",
    "\n",
    "fig.add_trace(go.Funnel(\n",
    "    y=event_funnel['Событие'],\n",
    "    x=event_funnel['Количество пользователей'],\n",
    "    textposition = \"inside\",\n",
    "    textinfo = \"value+percent initial\",\n",
    "    ))\n",
    "fig.layout.title= 'Воронка событий'\n",
    "fig.show(\"svg\")"
   ]
  },
  {
   "cell_type": "markdown",
   "id": "98da1bdc",
   "metadata": {},
   "source": [
    "**Вывод:** На главный экран приложения попадает 7419 пользователей. Вероятно 1,5% пользователей не могут совершить это действие из-за персональных проблем с подключением к интернету. Далее 4593 (61%) пользователей решаются совершить заказ и открывают окно оформления. До корзины доходят 3734 (50%) пользователей и 3539 (48%) совершают заказ. Не совсем понимаю что за шаг Tutorial, возможно это открытие инструкции как совершить то или иное действие."
   ]
  },
  {
   "cell_type": "code",
   "execution_count": 27,
   "id": "0ea2c881",
   "metadata": {},
   "outputs": [
    {
     "name": "stderr",
     "output_type": "stream",
     "text": [
      "/tmp/ipykernel_267/3183577960.py:1: SettingWithCopyWarning:\n",
      "\n",
      "\n",
      "A value is trying to be set on a copy of a slice from a DataFrame.\n",
      "Try using .loc[row_indexer,col_indexer] = value instead\n",
      "\n",
      "See the caveats in the documentation: https://pandas.pydata.org/pandas-docs/stable/user_guide/indexing.html#returning-a-view-versus-a-copy\n",
      "\n"
     ]
    },
    {
     "data": {
      "text/html": [
       "<div>\n",
       "<style scoped>\n",
       "    .dataframe tbody tr th:only-of-type {\n",
       "        vertical-align: middle;\n",
       "    }\n",
       "\n",
       "    .dataframe tbody tr th {\n",
       "        vertical-align: top;\n",
       "    }\n",
       "\n",
       "    .dataframe thead th {\n",
       "        text-align: right;\n",
       "    }\n",
       "</style>\n",
       "<table border=\"1\" class=\"dataframe\">\n",
       "  <thead>\n",
       "    <tr style=\"text-align: right;\">\n",
       "      <th></th>\n",
       "      <th>Событие</th>\n",
       "      <th>Количество событий</th>\n",
       "      <th>Количество пользователей</th>\n",
       "      <th>% пользователей</th>\n",
       "      <th>шаговый % пользователей</th>\n",
       "    </tr>\n",
       "  </thead>\n",
       "  <tbody>\n",
       "    <tr>\n",
       "      <th>1</th>\n",
       "      <td>MainScreenAppear</td>\n",
       "      <td>117328</td>\n",
       "      <td>7419</td>\n",
       "      <td>98.47</td>\n",
       "      <td>NaN</td>\n",
       "    </tr>\n",
       "    <tr>\n",
       "      <th>2</th>\n",
       "      <td>OffersScreenAppear</td>\n",
       "      <td>46333</td>\n",
       "      <td>4593</td>\n",
       "      <td>60.96</td>\n",
       "      <td>61.91</td>\n",
       "    </tr>\n",
       "    <tr>\n",
       "      <th>0</th>\n",
       "      <td>CartScreenAppear</td>\n",
       "      <td>42303</td>\n",
       "      <td>3734</td>\n",
       "      <td>49.56</td>\n",
       "      <td>81.30</td>\n",
       "    </tr>\n",
       "    <tr>\n",
       "      <th>3</th>\n",
       "      <td>PaymentScreenSuccessful</td>\n",
       "      <td>33918</td>\n",
       "      <td>3539</td>\n",
       "      <td>46.97</td>\n",
       "      <td>94.78</td>\n",
       "    </tr>\n",
       "  </tbody>\n",
       "</table>\n",
       "</div>"
      ],
      "text/plain": [
       "                   Событие  Количество событий  Количество пользователей  \\\n",
       "1         MainScreenAppear              117328                      7419   \n",
       "2       OffersScreenAppear               46333                      4593   \n",
       "0         CartScreenAppear               42303                      3734   \n",
       "3  PaymentScreenSuccessful               33918                      3539   \n",
       "\n",
       "   % пользователей  шаговый % пользователей  \n",
       "1            98.47                      NaN  \n",
       "2            60.96                    61.91  \n",
       "0            49.56                    81.30  \n",
       "3            46.97                    94.78  "
      ]
     },
     "execution_count": 27,
     "metadata": {},
     "output_type": "execute_result"
    }
   ],
   "source": [
    "event_funnel['шаговый % пользователей'] = round(100*event_funnel['Количество пользователей']/event_funnel['Количество пользователей'].shift(1),2)\n",
    "event_funnel"
   ]
  },
  {
   "cell_type": "markdown",
   "id": "25efece8",
   "metadata": {},
   "source": [
    "Рассмотрим эти действия с пошаговой конверсией "
   ]
  },
  {
   "cell_type": "code",
   "execution_count": 28,
   "id": "68a5a8f0",
   "metadata": {},
   "outputs": [
    {
     "data": {
      "image/svg+xml": [
       "<svg class=\"main-svg\" xmlns=\"http://www.w3.org/2000/svg\" xmlns:xlink=\"http://www.w3.org/1999/xlink\" width=\"700\" height=\"500\" style=\"\" viewBox=\"0 0 700 500\"><rect x=\"0\" y=\"0\" width=\"700\" height=\"500\" style=\"fill: rgb(255, 255, 255); fill-opacity: 1;\"/><defs id=\"defs-18e22d\"><g class=\"clips\"><clipPath id=\"clip18e22dxyplot\" class=\"plotclip\"><rect width=\"464\" height=\"320\"/></clipPath><clipPath class=\"axesclip\" id=\"clip18e22dx\"><rect x=\"156\" y=\"0\" width=\"464\" height=\"500\"/></clipPath><clipPath class=\"axesclip\" id=\"clip18e22dy\"><rect x=\"0\" y=\"100\" width=\"700\" height=\"320\"/></clipPath><clipPath class=\"axesclip\" id=\"clip18e22dxy\"><rect x=\"156\" y=\"100\" width=\"464\" height=\"320\"/></clipPath></g><g class=\"gradients\"/><g class=\"patterns\"/></defs><g class=\"bglayer\"><rect class=\"bg\" x=\"156\" y=\"100\" width=\"464\" height=\"320\" style=\"fill: rgb(229, 236, 246); fill-opacity: 1; stroke-width: 0;\"/></g><g class=\"layer-below\"><g class=\"imagelayer\"/><g class=\"shapelayer\"/></g><g class=\"cartesianlayer\"><g class=\"subplot xy\"><g class=\"layer-subplot\"><g class=\"shapelayer\"/><g class=\"imagelayer\"/></g><g class=\"gridlayer\"><g class=\"x\"/><g class=\"y\"/></g><g class=\"zerolinelayer\"/><path class=\"xlines-below\"/><path class=\"ylines-below\"/><g class=\"overlines-below\"/><g class=\"xaxislayer-below\"/><g class=\"yaxislayer-below\"/><g class=\"overaxes-below\"/><g class=\"plot\" transform=\"translate(156,100)\" clip-path=\"url(#clip18e22dxyplot)\"><g class=\"funnellayer mlayer\"><g class=\"trace bars\" style=\"opacity: 1;\"><g class=\"regions\"><g class=\"region\"><path d=\"M23.2,72L102.73,88H361.27L440.8,72Z\" style=\"stroke-width: 0; fill: rgb(99, 110, 250); fill-opacity: 0.5;\"/></g><g class=\"region\"><path d=\"M102.73,152L126.91,168H337.09L361.27,152Z\" style=\"stroke-width: 0; fill: rgb(99, 110, 250); fill-opacity: 0.5;\"/></g><g class=\"region\"><path d=\"M126.91,232L132.4,248H331.6L337.09,232Z\" style=\"stroke-width: 0; fill: rgb(99, 110, 250); fill-opacity: 0.5;\"/></g><g class=\"region\"><path d=\"M0,0Z\" style=\"stroke-width: 0; fill: rgb(99, 110, 250); fill-opacity: 0.5;\"/></g></g><g class=\"points\"><g class=\"point\"><path d=\"M23.2,8V72H440.8V8Z\" style=\"vector-effect: non-scaling-stroke; fill: rgb(99, 110, 250); fill-opacity: 1; stroke: rgb(68, 68, 68); stroke-opacity: 1; stroke-width: 0px; opacity: 1;\"/><text class=\"bartext bartext-inside\" text-anchor=\"middle\" data-notex=\"1\" x=\"0\" y=\"0\" style=\"font-family: 'Open Sans', verdana, arial, sans-serif; font-size: 12px; fill: rgb(255, 255, 255); fill-opacity: 1; white-space: pre;\" transform=\"translate(231.8359375,36.1953125)\"><tspan class=\"line\" dy=\"0em\" x=\"0\" y=\"0\">7419</tspan><tspan class=\"line\" dy=\"1.3em\" x=\"0\" y=\"0\">100%</tspan></text></g><g class=\"point\"><path d=\"M102.73,88V152H361.27V88Z\" style=\"vector-effect: non-scaling-stroke; fill: rgb(99, 110, 250); fill-opacity: 1; stroke: rgb(68, 68, 68); stroke-opacity: 1; stroke-width: 0px; opacity: 1;\"/><text class=\"bartext bartext-inside\" text-anchor=\"middle\" data-notex=\"1\" x=\"0\" y=\"0\" style=\"font-family: 'Open Sans', verdana, arial, sans-serif; font-size: 12px; fill: rgb(255, 255, 255); fill-opacity: 1; white-space: pre;\" transform=\"translate(231.8359375,116.1953125)\"><tspan class=\"line\" dy=\"0em\" x=\"0\" y=\"0\">4593</tspan><tspan class=\"line\" dy=\"1.3em\" x=\"0\" y=\"0\">62%</tspan></text></g><g class=\"point\"><path d=\"M126.91,168V232H337.09V168Z\" style=\"vector-effect: non-scaling-stroke; fill: rgb(99, 110, 250); fill-opacity: 1; stroke: rgb(68, 68, 68); stroke-opacity: 1; stroke-width: 0px; opacity: 1;\"/><text class=\"bartext bartext-inside\" text-anchor=\"middle\" data-notex=\"1\" x=\"0\" y=\"0\" style=\"font-family: 'Open Sans', verdana, arial, sans-serif; font-size: 12px; fill: rgb(255, 255, 255); fill-opacity: 1; white-space: pre;\" transform=\"translate(231.8359375,196.1953125)\"><tspan class=\"line\" dy=\"0em\" x=\"0\" y=\"0\">3734</tspan><tspan class=\"line\" dy=\"1.3em\" x=\"0\" y=\"0\">81%</tspan></text></g><g class=\"point\"><path d=\"M132.4,248V312H331.6V248Z\" style=\"vector-effect: non-scaling-stroke; fill: rgb(99, 110, 250); fill-opacity: 1; stroke: rgb(68, 68, 68); stroke-opacity: 1; stroke-width: 0px; opacity: 1;\"/><text class=\"bartext bartext-inside\" text-anchor=\"middle\" data-notex=\"1\" x=\"0\" y=\"0\" style=\"font-family: 'Open Sans', verdana, arial, sans-serif; font-size: 12px; fill: rgb(255, 255, 255); fill-opacity: 1; white-space: pre;\" transform=\"translate(231.8359375,276.1953125)\"><tspan class=\"line\" dy=\"0em\" x=\"0\" y=\"0\">3539</tspan><tspan class=\"line\" dy=\"1.3em\" x=\"0\" y=\"0\">95%</tspan></text></g></g></g></g></g><g class=\"overplot\"/><path class=\"xlines-above crisp\" d=\"M0,0\" style=\"fill: none;\"/><path class=\"ylines-above crisp\" d=\"M0,0\" style=\"fill: none;\"/><g class=\"overlines-above\"/><g class=\"xaxislayer-above\"/><g class=\"yaxislayer-above\"><g class=\"ytick\"><text text-anchor=\"end\" x=\"155\" y=\"4.199999999999999\" transform=\"translate(0,380)\" style=\"font-family: 'Open Sans', verdana, arial, sans-serif; font-size: 12px; fill: rgb(42, 63, 95); fill-opacity: 1; white-space: pre; opacity: 1;\">PaymentScreenSuccessful</text></g><g class=\"ytick\"><text text-anchor=\"end\" x=\"155\" y=\"4.199999999999999\" transform=\"translate(0,300)\" style=\"font-family: 'Open Sans', verdana, arial, sans-serif; font-size: 12px; fill: rgb(42, 63, 95); fill-opacity: 1; white-space: pre; opacity: 1;\">CartScreenAppear</text></g><g class=\"ytick\"><text text-anchor=\"end\" x=\"155\" y=\"4.199999999999999\" transform=\"translate(0,220)\" style=\"font-family: 'Open Sans', verdana, arial, sans-serif; font-size: 12px; fill: rgb(42, 63, 95); fill-opacity: 1; white-space: pre; opacity: 1;\">OffersScreenAppear</text></g><g class=\"ytick\"><text text-anchor=\"end\" x=\"155\" y=\"4.199999999999999\" transform=\"translate(0,140)\" style=\"font-family: 'Open Sans', verdana, arial, sans-serif; font-size: 12px; fill: rgb(42, 63, 95); fill-opacity: 1; white-space: pre; opacity: 1;\">MainScreenAppear</text></g></g><g class=\"overaxes-above\"/></g></g><g class=\"polarlayer\"/><g class=\"smithlayer\"/><g class=\"ternarylayer\"/><g class=\"geolayer\"/><g class=\"funnelarealayer\"/><g class=\"pielayer\"/><g class=\"iciclelayer\"/><g class=\"treemaplayer\"/><g class=\"sunburstlayer\"/><g class=\"glimages\"/><defs id=\"topdefs-18e22d\"><g class=\"clips\"/></defs><g class=\"layer-above\"><g class=\"imagelayer\"/><g class=\"shapelayer\"/></g><g class=\"infolayer\"><g class=\"g-gtitle\"><text class=\"gtitle\" x=\"35\" y=\"50\" text-anchor=\"start\" dy=\"0em\" style=\"font-family: 'Open Sans', verdana, arial, sans-serif; font-size: 17px; fill: rgb(42, 63, 95); opacity: 1; font-weight: normal; white-space: pre;\">Воронка событий с пошаговой конверсией</text></g><g class=\"g-ytitle\"/></g></svg>"
      ]
     },
     "metadata": {},
     "output_type": "display_data"
    }
   ],
   "source": [
    "fig = go.Figure()\n",
    "\n",
    "fig.add_trace(go.Funnel(\n",
    "    y=event_funnel['Событие'],\n",
    "    x=event_funnel['Количество пользователей'],\n",
    "    textposition = \"inside\",\n",
    "    textinfo = \"value+percent previous\",\n",
    "    ))\n",
    "fig.layout.title= 'Воронка событий с пошаговой конверсией'\n",
    "fig.show(\"svg\")"
   ]
  },
  {
   "cell_type": "markdown",
   "id": "9855ff3b",
   "metadata": {},
   "source": [
    "**Вывод:** 40 % пользователей отваливаются на шаге к оформлению заказа. Мне кажется вполне приемлимым показателем, возможно присматриваются, чтобы купить позже. 80 % от оставшихся добавляют свои товары в корзину, и 95 % из них все-таки покупают."
   ]
  },
  {
   "cell_type": "markdown",
   "id": "b85ee7ed",
   "metadata": {},
   "source": [
    "## Изучение результатов эксперимента "
   ]
  },
  {
   "cell_type": "markdown",
   "id": "362d5796",
   "metadata": {},
   "source": [
    "Определим сколько пользователей в каждой экспериментальной группе"
   ]
  },
  {
   "cell_type": "code",
   "execution_count": 29,
   "id": "9ee23a32",
   "metadata": {},
   "outputs": [
    {
     "data": {
      "text/html": [
       "<div>\n",
       "<style scoped>\n",
       "    .dataframe tbody tr th:only-of-type {\n",
       "        vertical-align: middle;\n",
       "    }\n",
       "\n",
       "    .dataframe tbody tr th {\n",
       "        vertical-align: top;\n",
       "    }\n",
       "\n",
       "    .dataframe thead th {\n",
       "        text-align: right;\n",
       "    }\n",
       "</style>\n",
       "<table border=\"1\" class=\"dataframe\">\n",
       "  <thead>\n",
       "    <tr style=\"text-align: right;\">\n",
       "      <th></th>\n",
       "      <th>event</th>\n",
       "      <th>246</th>\n",
       "      <th>247</th>\n",
       "      <th>248</th>\n",
       "      <th>246+247</th>\n",
       "    </tr>\n",
       "  </thead>\n",
       "  <tbody>\n",
       "    <tr>\n",
       "      <th>0</th>\n",
       "      <td>MainScreenAppear</td>\n",
       "      <td>2450</td>\n",
       "      <td>2476</td>\n",
       "      <td>2493</td>\n",
       "      <td>4926</td>\n",
       "    </tr>\n",
       "    <tr>\n",
       "      <th>1</th>\n",
       "      <td>OffersScreenAppear</td>\n",
       "      <td>1542</td>\n",
       "      <td>1520</td>\n",
       "      <td>1531</td>\n",
       "      <td>3062</td>\n",
       "    </tr>\n",
       "    <tr>\n",
       "      <th>2</th>\n",
       "      <td>CartScreenAppear</td>\n",
       "      <td>1266</td>\n",
       "      <td>1238</td>\n",
       "      <td>1230</td>\n",
       "      <td>2504</td>\n",
       "    </tr>\n",
       "    <tr>\n",
       "      <th>3</th>\n",
       "      <td>PaymentScreenSuccessful</td>\n",
       "      <td>1200</td>\n",
       "      <td>1158</td>\n",
       "      <td>1181</td>\n",
       "      <td>2358</td>\n",
       "    </tr>\n",
       "  </tbody>\n",
       "</table>\n",
       "</div>"
      ],
      "text/plain": [
       "                     event   246   247   248  246+247\n",
       "0         MainScreenAppear  2450  2476  2493     4926\n",
       "1       OffersScreenAppear  1542  1520  1531     3062\n",
       "2         CartScreenAppear  1266  1238  1230     2504\n",
       "3  PaymentScreenSuccessful  1200  1158  1181     2358"
      ]
     },
     "execution_count": 29,
     "metadata": {},
     "output_type": "execute_result"
    }
   ],
   "source": [
    "event_exp = df.pivot_table(index='event', columns='exp_id', values='device_id', aggfunc='nunique')\n",
    "event_exp.columns = ['246', '247', '248']\n",
    "event_exp = event_exp.sort_values(by='246', ascending=False).reset_index()\n",
    "event_exp = event_exp.loc[:3] # отбросим tutorial\n",
    "event_exp['246+247'] = event_exp['246'] + event_exp['247']\n",
    "event_exp"
   ]
  },
  {
   "cell_type": "markdown",
   "id": "e0525d95",
   "metadata": {},
   "source": [
    "Проверим наличие пользователей в разных группах"
   ]
  },
  {
   "cell_type": "code",
   "execution_count": 30,
   "id": "691756be",
   "metadata": {},
   "outputs": [
    {
     "data": {
      "text/html": [
       "<div>\n",
       "<style scoped>\n",
       "    .dataframe tbody tr th:only-of-type {\n",
       "        vertical-align: middle;\n",
       "    }\n",
       "\n",
       "    .dataframe tbody tr th {\n",
       "        vertical-align: top;\n",
       "    }\n",
       "\n",
       "    .dataframe thead th {\n",
       "        text-align: right;\n",
       "    }\n",
       "</style>\n",
       "<table border=\"1\" class=\"dataframe\">\n",
       "  <thead>\n",
       "    <tr style=\"text-align: right;\">\n",
       "      <th></th>\n",
       "      <th>device_id</th>\n",
       "      <th>exp_id</th>\n",
       "    </tr>\n",
       "  </thead>\n",
       "  <tbody>\n",
       "  </tbody>\n",
       "</table>\n",
       "</div>"
      ],
      "text/plain": [
       "Empty DataFrame\n",
       "Columns: [device_id, exp_id]\n",
       "Index: []"
      ]
     },
     "execution_count": 30,
     "metadata": {},
     "output_type": "execute_result"
    }
   ],
   "source": [
    "df.groupby('device_id')['exp_id'].nunique().reset_index().query('exp_id > 1')"
   ]
  },
  {
   "cell_type": "markdown",
   "id": "b13db03f",
   "metadata": {},
   "source": [
    "Как хорошо, что их нет"
   ]
  },
  {
   "cell_type": "markdown",
   "id": "7da4445f",
   "metadata": {},
   "source": [
    "Построим воронку событий по группам"
   ]
  },
  {
   "cell_type": "code",
   "execution_count": 31,
   "id": "40fd1e59",
   "metadata": {},
   "outputs": [
    {
     "data": {
      "image/svg+xml": [
       "<svg class=\"main-svg\" xmlns=\"http://www.w3.org/2000/svg\" xmlns:xlink=\"http://www.w3.org/1999/xlink\" width=\"700\" height=\"500\" style=\"\" viewBox=\"0 0 700 500\"><rect x=\"0\" y=\"0\" width=\"700\" height=\"500\" style=\"fill: rgb(255, 255, 255); fill-opacity: 1;\"/><defs id=\"defs-db4371\"><g class=\"clips\"><clipPath id=\"clipdb4371xyplot\" class=\"plotclip\"><rect width=\"457\" height=\"320\"/></clipPath><clipPath class=\"axesclip\" id=\"clipdb4371x\"><rect x=\"156\" y=\"0\" width=\"457\" height=\"500\"/></clipPath><clipPath class=\"axesclip\" id=\"clipdb4371y\"><rect x=\"0\" y=\"100\" width=\"700\" height=\"320\"/></clipPath><clipPath class=\"axesclip\" id=\"clipdb4371xy\"><rect x=\"156\" y=\"100\" width=\"457\" height=\"320\"/></clipPath></g><g class=\"gradients\"/><g class=\"patterns\"/></defs><g class=\"bglayer\"><rect class=\"bg\" x=\"156\" y=\"100\" width=\"457\" height=\"320\" style=\"fill: rgb(229, 236, 246); fill-opacity: 1; stroke-width: 0;\"/></g><g class=\"layer-below\"><g class=\"imagelayer\"/><g class=\"shapelayer\"/></g><g class=\"cartesianlayer\"><g class=\"subplot xy\"><g class=\"layer-subplot\"><g class=\"shapelayer\"/><g class=\"imagelayer\"/></g><g class=\"gridlayer\"><g class=\"x\"/><g class=\"y\"/></g><g class=\"zerolinelayer\"/><path class=\"xlines-below\"/><path class=\"ylines-below\"/><g class=\"overlines-below\"/><g class=\"xaxislayer-below\"/><g class=\"yaxislayer-below\"/><g class=\"overaxes-below\"/><g class=\"plot\" transform=\"translate(156,100)\" clip-path=\"url(#clipdb4371xyplot)\"><g class=\"funnellayer mlayer\"><g class=\"trace bars\" style=\"opacity: 1;\"><g class=\"regions\"><g class=\"region\"><path d=\"M22.85,72L101.18,88H186.67L158.67,72Z\" style=\"stroke-width: 0; fill: rgb(99, 110, 250); fill-opacity: 0.5;\"/></g><g class=\"region\"><path d=\"M101.18,152L125,168H195.18L186.67,152Z\" style=\"stroke-width: 0; fill: rgb(99, 110, 250); fill-opacity: 0.5;\"/></g><g class=\"region\"><path d=\"M125,232L130.4,248H196.93L195.18,232Z\" style=\"stroke-width: 0; fill: rgb(99, 110, 250); fill-opacity: 0.5;\"/></g><g class=\"region\"><path d=\"M0,0Z\" style=\"stroke-width: 0; fill: rgb(99, 110, 250); fill-opacity: 0.5;\"/></g></g><g class=\"points\"><g class=\"point\"><path d=\"M22.85,8V72H158.67V8Z\" style=\"vector-effect: non-scaling-stroke; fill: rgb(99, 110, 250); fill-opacity: 1; stroke: rgb(68, 68, 68); stroke-opacity: 1; stroke-width: 0px; opacity: 1;\"/><text class=\"bartext bartext-inside\" text-anchor=\"middle\" data-notex=\"1\" x=\"0\" y=\"0\" style=\"font-family: 'Open Sans', verdana, arial, sans-serif; font-size: 12px; fill: rgb(255, 255, 255); fill-opacity: 1; white-space: pre;\" transform=\"translate(90.59593749999999,36.1953125)\"><tspan class=\"line\" dy=\"0em\" x=\"0\" y=\"0\">2450</tspan><tspan class=\"line\" dy=\"1.3em\" x=\"0\" y=\"0\">100%</tspan></text></g><g class=\"point\"><path d=\"M101.18,88V152H186.67V88Z\" style=\"vector-effect: non-scaling-stroke; fill: rgb(99, 110, 250); fill-opacity: 1; stroke: rgb(68, 68, 68); stroke-opacity: 1; stroke-width: 0px; opacity: 1;\"/><text class=\"bartext bartext-inside\" text-anchor=\"middle\" data-notex=\"1\" x=\"0\" y=\"0\" style=\"font-family: 'Open Sans', verdana, arial, sans-serif; font-size: 12px; fill: rgb(255, 255, 255); fill-opacity: 1; white-space: pre;\" transform=\"translate(143.7609375,116.1953125)\"><tspan class=\"line\" dy=\"0em\" x=\"0\" y=\"0\">1542</tspan><tspan class=\"line\" dy=\"1.3em\" x=\"0\" y=\"0\">63%</tspan></text></g><g class=\"point\"><path d=\"M125,168V232H195.18V168Z\" style=\"vector-effect: non-scaling-stroke; fill: rgb(99, 110, 250); fill-opacity: 1; stroke: rgb(68, 68, 68); stroke-opacity: 1; stroke-width: 0px; opacity: 1;\"/><text class=\"bartext bartext-inside\" text-anchor=\"middle\" data-notex=\"1\" x=\"0\" y=\"0\" style=\"font-family: 'Open Sans', verdana, arial, sans-serif; font-size: 12px; fill: rgb(255, 255, 255); fill-opacity: 1; white-space: pre;\" transform=\"translate(159.9259375,196.1953125)\"><tspan class=\"line\" dy=\"0em\" x=\"0\" y=\"0\">1266</tspan><tspan class=\"line\" dy=\"1.3em\" x=\"0\" y=\"0\">52%</tspan></text></g><g class=\"point\"><path d=\"M130.4,248V312H196.93V248Z\" style=\"vector-effect: non-scaling-stroke; fill: rgb(99, 110, 250); fill-opacity: 1; stroke: rgb(68, 68, 68); stroke-opacity: 1; stroke-width: 0px; opacity: 1;\"/><text class=\"bartext bartext-inside\" text-anchor=\"middle\" data-notex=\"1\" x=\"0\" y=\"0\" style=\"font-family: 'Open Sans', verdana, arial, sans-serif; font-size: 12px; fill: rgb(255, 255, 255); fill-opacity: 1; white-space: pre;\" transform=\"translate(163.50093750000002,276.1953125)\"><tspan class=\"line\" dy=\"0em\" x=\"0\" y=\"0\">1200</tspan><tspan class=\"line\" dy=\"1.3em\" x=\"0\" y=\"0\">49%</tspan></text></g></g></g><g class=\"trace bars\" style=\"opacity: 1;\"><g class=\"regions\"><g class=\"region\"><path d=\"M158.67,72L186.67,88H270.94L295.94,72Z\" style=\"stroke-width: 0; fill: rgb(239, 85, 59); fill-opacity: 0.5;\"/></g><g class=\"region\"><path d=\"M186.67,152L195.18,168H263.81L270.94,152Z\" style=\"stroke-width: 0; fill: rgb(239, 85, 59); fill-opacity: 0.5;\"/></g><g class=\"region\"><path d=\"M195.18,232L196.93,248H261.13L263.81,232Z\" style=\"stroke-width: 0; fill: rgb(239, 85, 59); fill-opacity: 0.5;\"/></g><g class=\"region\"><path d=\"M0,0Z\" style=\"stroke-width: 0; fill: rgb(239, 85, 59); fill-opacity: 0.5;\"/></g></g><g class=\"points\"><g class=\"point\"><path d=\"M158.67,8V72H295.94V8Z\" style=\"vector-effect: non-scaling-stroke; fill: rgb(239, 85, 59); fill-opacity: 1; stroke: rgb(68, 68, 68); stroke-opacity: 1; stroke-width: 0px; opacity: 1;\"/><text class=\"bartext bartext-inside\" text-anchor=\"middle\" data-notex=\"1\" x=\"0\" y=\"0\" style=\"font-family: 'Open Sans', verdana, arial, sans-serif; font-size: 12px; fill: rgb(68, 68, 68); fill-opacity: 1; white-space: pre;\" transform=\"translate(227.1409375,36.1953125)\"><tspan class=\"line\" dy=\"0em\" x=\"0\" y=\"0\">2476</tspan><tspan class=\"line\" dy=\"1.3em\" x=\"0\" y=\"0\">100%</tspan></text></g><g class=\"point\"><path d=\"M186.67,88V152H270.94V88Z\" style=\"vector-effect: non-scaling-stroke; fill: rgb(239, 85, 59); fill-opacity: 1; stroke: rgb(68, 68, 68); stroke-opacity: 1; stroke-width: 0px; opacity: 1;\"/><text class=\"bartext bartext-inside\" text-anchor=\"middle\" data-notex=\"1\" x=\"0\" y=\"0\" style=\"font-family: 'Open Sans', verdana, arial, sans-serif; font-size: 12px; fill: rgb(68, 68, 68); fill-opacity: 1; white-space: pre;\" transform=\"translate(228.6409375,116.1953125)\"><tspan class=\"line\" dy=\"0em\" x=\"0\" y=\"0\">1520</tspan><tspan class=\"line\" dy=\"1.3em\" x=\"0\" y=\"0\">61%</tspan></text></g><g class=\"point\"><path d=\"M195.18,168V232H263.81V168Z\" style=\"vector-effect: non-scaling-stroke; fill: rgb(239, 85, 59); fill-opacity: 1; stroke: rgb(68, 68, 68); stroke-opacity: 1; stroke-width: 0px; opacity: 1;\"/><text class=\"bartext bartext-inside\" text-anchor=\"middle\" data-notex=\"1\" x=\"0\" y=\"0\" style=\"font-family: 'Open Sans', verdana, arial, sans-serif; font-size: 12px; fill: rgb(68, 68, 68); fill-opacity: 1; white-space: pre;\" transform=\"translate(229.3309375,196.1953125)\"><tspan class=\"line\" dy=\"0em\" x=\"0\" y=\"0\">1238</tspan><tspan class=\"line\" dy=\"1.3em\" x=\"0\" y=\"0\">50%</tspan></text></g><g class=\"point\"><path d=\"M196.93,248V312H261.13V248Z\" style=\"vector-effect: non-scaling-stroke; fill: rgb(239, 85, 59); fill-opacity: 1; stroke: rgb(68, 68, 68); stroke-opacity: 1; stroke-width: 0px; opacity: 1;\"/><text class=\"bartext bartext-inside\" text-anchor=\"middle\" data-notex=\"1\" x=\"0\" y=\"0\" style=\"font-family: 'Open Sans', verdana, arial, sans-serif; font-size: 12px; fill: rgb(68, 68, 68); fill-opacity: 1; white-space: pre;\" transform=\"translate(228.8659375,276.1953125)\"><tspan class=\"line\" dy=\"0em\" x=\"0\" y=\"0\">1158</tspan><tspan class=\"line\" dy=\"1.3em\" x=\"0\" y=\"0\">47%</tspan></text></g></g></g><g class=\"trace bars\" style=\"opacity: 1;\"><g class=\"regions\"><g class=\"region\"><path d=\"M295.94,72L270.94,88H355.82L434.15,72Z\" style=\"stroke-width: 0; fill: rgb(0, 204, 150); fill-opacity: 0.5;\"/></g><g class=\"region\"><path d=\"M270.94,152L263.81,168H332L355.82,152Z\" style=\"stroke-width: 0; fill: rgb(0, 204, 150); fill-opacity: 0.5;\"/></g><g class=\"region\"><path d=\"M263.81,232L261.13,248H326.6L332,232Z\" style=\"stroke-width: 0; fill: rgb(0, 204, 150); fill-opacity: 0.5;\"/></g><g class=\"region\"><path d=\"M0,0Z\" style=\"stroke-width: 0; fill: rgb(0, 204, 150); fill-opacity: 0.5;\"/></g></g><g class=\"points\"><g class=\"point\"><path d=\"M295.94,8V72H434.15V8Z\" style=\"vector-effect: non-scaling-stroke; fill: rgb(0, 204, 150); fill-opacity: 1; stroke: rgb(68, 68, 68); stroke-opacity: 1; stroke-width: 0px; opacity: 1;\"/><text class=\"bartext bartext-inside\" text-anchor=\"middle\" data-notex=\"1\" x=\"0\" y=\"0\" style=\"font-family: 'Open Sans', verdana, arial, sans-serif; font-size: 12px; fill: rgb(68, 68, 68); fill-opacity: 1; white-space: pre;\" transform=\"translate(364.88093749999996,36.1953125)\"><tspan class=\"line\" dy=\"0em\" x=\"0\" y=\"0\">2493</tspan><tspan class=\"line\" dy=\"1.3em\" x=\"0\" y=\"0\">100%</tspan></text></g><g class=\"point\"><path d=\"M270.94,88V152H355.82V88Z\" style=\"vector-effect: non-scaling-stroke; fill: rgb(0, 204, 150); fill-opacity: 1; stroke: rgb(68, 68, 68); stroke-opacity: 1; stroke-width: 0px; opacity: 1;\"/><text class=\"bartext bartext-inside\" text-anchor=\"middle\" data-notex=\"1\" x=\"0\" y=\"0\" style=\"font-family: 'Open Sans', verdana, arial, sans-serif; font-size: 12px; fill: rgb(68, 68, 68); fill-opacity: 1; white-space: pre;\" transform=\"translate(313.2159375,116.1953125)\"><tspan class=\"line\" dy=\"0em\" x=\"0\" y=\"0\">1531</tspan><tspan class=\"line\" dy=\"1.3em\" x=\"0\" y=\"0\">61%</tspan></text></g><g class=\"point\"><path d=\"M263.81,168V232H332V168Z\" style=\"vector-effect: non-scaling-stroke; fill: rgb(0, 204, 150); fill-opacity: 1; stroke: rgb(68, 68, 68); stroke-opacity: 1; stroke-width: 0px; opacity: 1;\"/><text class=\"bartext bartext-inside\" text-anchor=\"middle\" data-notex=\"1\" x=\"0\" y=\"0\" style=\"font-family: 'Open Sans', verdana, arial, sans-serif; font-size: 12px; fill: rgb(68, 68, 68); fill-opacity: 1; white-space: pre;\" transform=\"translate(297.7409375,196.1953125)\"><tspan class=\"line\" dy=\"0em\" x=\"0\" y=\"0\">1230</tspan><tspan class=\"line\" dy=\"1.3em\" x=\"0\" y=\"0\">49%</tspan></text></g><g class=\"point\"><path d=\"M261.13,248V312H326.6V248Z\" style=\"vector-effect: non-scaling-stroke; fill: rgb(0, 204, 150); fill-opacity: 1; stroke: rgb(68, 68, 68); stroke-opacity: 1; stroke-width: 0px; opacity: 1;\"/><text class=\"bartext bartext-inside\" text-anchor=\"middle\" data-notex=\"1\" x=\"0\" y=\"0\" style=\"font-family: 'Open Sans', verdana, arial, sans-serif; font-size: 12px; fill: rgb(68, 68, 68); fill-opacity: 1; white-space: pre;\" transform=\"translate(293.7009375,276.1953125)\"><tspan class=\"line\" dy=\"0em\" x=\"0\" y=\"0\">1181</tspan><tspan class=\"line\" dy=\"1.3em\" x=\"0\" y=\"0\">47%</tspan></text></g></g></g></g></g><g class=\"overplot\"/><path class=\"xlines-above crisp\" d=\"M0,0\" style=\"fill: none;\"/><path class=\"ylines-above crisp\" d=\"M0,0\" style=\"fill: none;\"/><g class=\"overlines-above\"/><g class=\"xaxislayer-above\"/><g class=\"yaxislayer-above\"><g class=\"ytick\"><text text-anchor=\"end\" x=\"155\" y=\"4.199999999999999\" transform=\"translate(0,380)\" style=\"font-family: 'Open Sans', verdana, arial, sans-serif; font-size: 12px; fill: rgb(42, 63, 95); fill-opacity: 1; white-space: pre; opacity: 1;\">PaymentScreenSuccessful</text></g><g class=\"ytick\"><text text-anchor=\"end\" x=\"155\" y=\"4.199999999999999\" transform=\"translate(0,300)\" style=\"font-family: 'Open Sans', verdana, arial, sans-serif; font-size: 12px; fill: rgb(42, 63, 95); fill-opacity: 1; white-space: pre; opacity: 1;\">CartScreenAppear</text></g><g class=\"ytick\"><text text-anchor=\"end\" x=\"155\" y=\"4.199999999999999\" transform=\"translate(0,220)\" style=\"font-family: 'Open Sans', verdana, arial, sans-serif; font-size: 12px; fill: rgb(42, 63, 95); fill-opacity: 1; white-space: pre; opacity: 1;\">OffersScreenAppear</text></g><g class=\"ytick\"><text text-anchor=\"end\" x=\"155\" y=\"4.199999999999999\" transform=\"translate(0,140)\" style=\"font-family: 'Open Sans', verdana, arial, sans-serif; font-size: 12px; fill: rgb(42, 63, 95); fill-opacity: 1; white-space: pre; opacity: 1;\">MainScreenAppear</text></g></g><g class=\"overaxes-above\"/></g></g><g class=\"polarlayer\"/><g class=\"smithlayer\"/><g class=\"ternarylayer\"/><g class=\"geolayer\"/><g class=\"funnelarealayer\"/><g class=\"pielayer\"/><g class=\"iciclelayer\"/><g class=\"treemaplayer\"/><g class=\"sunburstlayer\"/><g class=\"glimages\"/><defs id=\"topdefs-db4371\"><g class=\"clips\"/><clipPath id=\"legenddb4371\"><rect width=\"66\" height=\"67\" x=\"0\" y=\"0\"/></clipPath></defs><g class=\"layer-above\"><g class=\"imagelayer\"/><g class=\"shapelayer\"/></g><g class=\"infolayer\"><g class=\"legend\" pointer-events=\"all\" transform=\"translate(622.14,100)\"><rect class=\"bg\" shape-rendering=\"crispEdges\" style=\"stroke: rgb(68, 68, 68); stroke-opacity: 1; fill: rgb(255, 255, 255); fill-opacity: 1; stroke-width: 0px;\" width=\"66\" height=\"67\" x=\"0\" y=\"0\"/><g class=\"scrollbox\" transform=\"\" clip-path=\"url(#legenddb4371)\"><g class=\"groups\"><g class=\"traces\" transform=\"translate(0,14.5)\" style=\"opacity: 1;\"><text class=\"legendtext\" text-anchor=\"start\" x=\"40\" y=\"4.680000000000001\" style=\"font-family: 'Open Sans', verdana, arial, sans-serif; font-size: 12px; fill: rgb(42, 63, 95); fill-opacity: 1; white-space: pre;\">246</text><g class=\"layers\" style=\"opacity: 1;\"><g class=\"legendfill\"/><g class=\"legendlines\"/><g class=\"legendsymbols\"><g class=\"legendpoints\"><path class=\"legendfunnel\" d=\"M6,6H-6V-6H6Z\" transform=\"translate(20,0)\" style=\"stroke-width: 0px; fill: rgb(99, 110, 250); fill-opacity: 1;\"/></g></g></g><rect class=\"legendtoggle\" x=\"0\" y=\"-9.5\" width=\"60.359375\" height=\"19\" style=\"fill: rgb(0, 0, 0); fill-opacity: 0;\"/></g><g class=\"traces\" transform=\"translate(0,33.5)\" style=\"opacity: 1;\"><text class=\"legendtext\" text-anchor=\"start\" x=\"40\" y=\"4.680000000000001\" style=\"font-family: 'Open Sans', verdana, arial, sans-serif; font-size: 12px; fill: rgb(42, 63, 95); fill-opacity: 1; white-space: pre;\">247</text><g class=\"layers\" style=\"opacity: 1;\"><g class=\"legendfill\"/><g class=\"legendlines\"/><g class=\"legendsymbols\"><g class=\"legendpoints\"><path class=\"legendfunnel\" d=\"M6,6H-6V-6H6Z\" transform=\"translate(20,0)\" style=\"stroke-width: 0px; fill: rgb(239, 85, 59); fill-opacity: 1;\"/></g></g></g><rect class=\"legendtoggle\" x=\"0\" y=\"-9.5\" width=\"60.359375\" height=\"19\" style=\"fill: rgb(0, 0, 0); fill-opacity: 0;\"/></g><g class=\"traces\" transform=\"translate(0,52.5)\" style=\"opacity: 1;\"><text class=\"legendtext\" text-anchor=\"start\" x=\"40\" y=\"4.680000000000001\" style=\"font-family: 'Open Sans', verdana, arial, sans-serif; font-size: 12px; fill: rgb(42, 63, 95); fill-opacity: 1; white-space: pre;\">248</text><g class=\"layers\" style=\"opacity: 1;\"><g class=\"legendfill\"/><g class=\"legendlines\"/><g class=\"legendsymbols\"><g class=\"legendpoints\"><path class=\"legendfunnel\" d=\"M6,6H-6V-6H6Z\" transform=\"translate(20,0)\" style=\"stroke-width: 0px; fill: rgb(0, 204, 150); fill-opacity: 1;\"/></g></g></g><rect class=\"legendtoggle\" x=\"0\" y=\"-9.5\" width=\"60.359375\" height=\"19\" style=\"fill: rgb(0, 0, 0); fill-opacity: 0;\"/></g></g></g><rect class=\"scrollbar\" rx=\"20\" ry=\"3\" width=\"0\" height=\"0\" style=\"fill: rgb(128, 139, 164); fill-opacity: 1;\" x=\"0\" y=\"0\"/></g><g class=\"g-gtitle\"><text class=\"gtitle\" x=\"35\" y=\"50\" text-anchor=\"start\" dy=\"0em\" style=\"font-family: 'Open Sans', verdana, arial, sans-serif; font-size: 17px; fill: rgb(42, 63, 95); opacity: 1; font-weight: normal; white-space: pre;\">Воронка событий по группам</text></g><g class=\"g-ytitle\"/></g></svg>"
      ]
     },
     "metadata": {},
     "output_type": "display_data"
    }
   ],
   "source": [
    "fig = go.Figure()\n",
    "\n",
    "fig.add_trace(go.Funnel(\n",
    "    name = '246',\n",
    "    y = event_exp['event'],\n",
    "    x = event_exp['246'],\n",
    "    textinfo = \"value+percent initial\"))\n",
    "\n",
    "fig.add_trace(go.Funnel(\n",
    "    name = '247',\n",
    "    orientation = \"h\",\n",
    "    y = event_exp['event'],\n",
    "    x = event_exp['247'],\n",
    "    textposition = \"inside\",\n",
    "    textinfo = \"value+percent initial\"))\n",
    "\n",
    "fig.add_trace(go.Funnel(\n",
    "    name = '248',\n",
    "    orientation = \"h\",\n",
    "    y = event_exp['event'],\n",
    "    x = event_exp['248'],\n",
    "    textposition = \"inside\",\n",
    "    textinfo = \"value+percent initial\"))\n",
    "fig.layout.title= 'Воронка событий по группам'\n",
    "fig.show(\"svg\")"
   ]
  },
  {
   "cell_type": "markdown",
   "id": "1a772316",
   "metadata": {},
   "source": [
    "В целом воронка равномерна. Посмотрим на результаты z-теста на проверку статистической значимости разницы."
   ]
  },
  {
   "cell_type": "markdown",
   "id": "b44faccc",
   "metadata": {},
   "source": [
    "**A/A - тест**"
   ]
  },
  {
   "cell_type": "markdown",
   "id": "41e181e7",
   "metadata": {},
   "source": [
    "Выбираем метод z-теста, так как нам необходимо проверить гипотезы для долей."
   ]
  },
  {
   "cell_type": "markdown",
   "id": "c63e09a0",
   "metadata": {},
   "source": [
    "H0: доли уникальных посетителей, побывавших на этапе воронки, одинаковы.\n",
    "\n",
    "Н1: между долями уникальных посетителей, побывавших на этапе воронки, есть значимая разница.\n",
    "\n",
    "alpha = 0.05"
   ]
  },
  {
   "cell_type": "code",
   "execution_count": 32,
   "id": "88e308bf",
   "metadata": {},
   "outputs": [],
   "source": [
    "#функциядля проверки гипотезы\n",
    "def hypothesis(pur1, pur2, lead1, lead2, alp):\n",
    "    alpha = alp  # критический уровень статистической значимости\n",
    "\n",
    "    purchases = np.array([pur1, pur2])\n",
    "    leads = np.array([lead1, lead2])\n",
    "\n",
    "# пропорция успехов в первой группе:\n",
    "    p1 = purchases[0]/leads[0]\n",
    "\n",
    "# пропорция успехов во второй группе:\n",
    "    p2 = purchases[1]/leads[1]\n",
    "    \n",
    "\n",
    "# пропорция успехов в комбинированном датасете:\n",
    "    p_combined = (purchases[0] + purchases[1]) / (leads[0] + leads[1])\n",
    "\n",
    "# разница пропорций в датасетах\n",
    "    difference = p1 - p2 \n",
    "\n",
    "    z_value = difference / mth.sqrt(\n",
    "        p_combined * (1 - p_combined) * (1 / leads[0] + 1 / leads[1])\n",
    "    )\n",
    "    distr = st.norm(0, 1)\n",
    "\n",
    "    \n",
    "    p_value = (1 - distr.cdf(abs(z_value))) * 2\n",
    "\n",
    "   \n",
    "    print('p-значение: ', p_value)\n",
    "  \n",
    "    \n",
    "    if p_value < alpha:# ваш код\n",
    "        print('Отвергаем нулевую гипотезу: между долями есть значимая разница')\n",
    "    else:\n",
    "        print(\n",
    "            'Не получилось отвергнуть нулевую гипотезу, нет оснований считать доли разными'\n",
    "        )\n",
    "    print()    "
   ]
  },
  {
   "cell_type": "code",
   "execution_count": 33,
   "id": "b7e969af",
   "metadata": {},
   "outputs": [
    {
     "data": {
      "text/html": [
       "<div>\n",
       "<style scoped>\n",
       "    .dataframe tbody tr th:only-of-type {\n",
       "        vertical-align: middle;\n",
       "    }\n",
       "\n",
       "    .dataframe tbody tr th {\n",
       "        vertical-align: top;\n",
       "    }\n",
       "\n",
       "    .dataframe thead th {\n",
       "        text-align: right;\n",
       "    }\n",
       "</style>\n",
       "<table border=\"1\" class=\"dataframe\">\n",
       "  <thead>\n",
       "    <tr style=\"text-align: right;\">\n",
       "      <th></th>\n",
       "      <th>246</th>\n",
       "      <th>247</th>\n",
       "      <th>248</th>\n",
       "      <th>246+247</th>\n",
       "    </tr>\n",
       "  </thead>\n",
       "  <tbody>\n",
       "    <tr>\n",
       "      <th>Количество пользователей</th>\n",
       "      <td>2484.0</td>\n",
       "      <td>2513.0</td>\n",
       "      <td>2537.0</td>\n",
       "      <td>4997.0</td>\n",
       "    </tr>\n",
       "    <tr>\n",
       "      <th>%</th>\n",
       "      <td>33.0</td>\n",
       "      <td>33.0</td>\n",
       "      <td>34.0</td>\n",
       "      <td>66.0</td>\n",
       "    </tr>\n",
       "  </tbody>\n",
       "</table>\n",
       "</div>"
      ],
      "text/plain": [
       "                             246     247     248  246+247\n",
       "Количество пользователей  2484.0  2513.0  2537.0   4997.0\n",
       "%                           33.0    33.0    34.0     66.0"
      ]
     },
     "execution_count": 33,
     "metadata": {},
     "output_type": "execute_result"
    }
   ],
   "source": [
    "groups = groups.T \n",
    "\n",
    "groups.columns = ['246', '247', '248']\n",
    "groups['246+247'] = groups['246'] + groups['247']\n",
    "groups"
   ]
  },
  {
   "cell_type": "code",
   "execution_count": 34,
   "id": "c1e1a0da",
   "metadata": {},
   "outputs": [],
   "source": [
    "def check_hyp(data, col1, col2, alp):\n",
    "    for i in range(0, 3):\n",
    "        print('Результат z-теста: Группы', col1, 'и', col2, ', Cобытие:', data.loc[i+1, 'event'])\n",
    "        print()\n",
    "        \n",
    "        hypothesis(data.loc[i+1, col1], data.loc[i+1, col2], groups.loc['Количество пользователей', col1], groups.loc['Количество пользователей', col2], alp)"
   ]
  },
  {
   "cell_type": "code",
   "execution_count": 35,
   "id": "de873f09",
   "metadata": {},
   "outputs": [
    {
     "name": "stdout",
     "output_type": "stream",
     "text": [
      "Результат z-теста: Группы 246 и 247 , Cобытие: OffersScreenAppear\n",
      "\n",
      "p-значение:  0.2480954578522181\n",
      "Не получилось отвергнуть нулевую гипотезу, нет оснований считать доли разными\n",
      "\n",
      "Результат z-теста: Группы 246 и 247 , Cобытие: CartScreenAppear\n",
      "\n",
      "p-значение:  0.22883372237997213\n",
      "Не получилось отвергнуть нулевую гипотезу, нет оснований считать доли разными\n",
      "\n",
      "Результат z-теста: Группы 246 и 247 , Cобытие: PaymentScreenSuccessful\n",
      "\n",
      "p-значение:  0.11456679313141849\n",
      "Не получилось отвергнуть нулевую гипотезу, нет оснований считать доли разными\n",
      "\n"
     ]
    }
   ],
   "source": [
    "check_hyp(event_exp, '246', '247', 0.05)"
   ]
  },
  {
   "cell_type": "markdown",
   "id": "7c92b481",
   "metadata": {},
   "source": [
    "**Вывод:** тест проведен корректно, между группами нет статистически значимых различий."
   ]
  },
  {
   "cell_type": "markdown",
   "id": "f50df045",
   "metadata": {},
   "source": [
    "**A/B - тест**"
   ]
  },
  {
   "cell_type": "markdown",
   "id": "0fc237df",
   "metadata": {},
   "source": [
    "Сформулируем нулевую и алетернативные гипотезы:\n",
    "\n",
    "H0: между группами нет статистической значимой разницы\n",
    "\n",
    "Н1: между группами есть статистическая значимая разница\n",
    "\n",
    "alpha = 0.05"
   ]
  },
  {
   "cell_type": "markdown",
   "id": "f56d0ab4",
   "metadata": {},
   "source": [
    "**246 и 248**"
   ]
  },
  {
   "cell_type": "code",
   "execution_count": 36,
   "id": "fb454503",
   "metadata": {},
   "outputs": [
    {
     "name": "stdout",
     "output_type": "stream",
     "text": [
      "Результат z-теста: Группы 246 и 248 , Cобытие: OffersScreenAppear\n",
      "\n",
      "p-значение:  0.20836205402738917\n",
      "Не получилось отвергнуть нулевую гипотезу, нет оснований считать доли разными\n",
      "\n",
      "Результат z-теста: Группы 246 и 248 , Cобытие: CartScreenAppear\n",
      "\n",
      "p-значение:  0.07842923237520116\n",
      "Не получилось отвергнуть нулевую гипотезу, нет оснований считать доли разными\n",
      "\n",
      "Результат z-теста: Группы 246 и 248 , Cобытие: PaymentScreenSuccessful\n",
      "\n",
      "p-значение:  0.2122553275697796\n",
      "Не получилось отвергнуть нулевую гипотезу, нет оснований считать доли разными\n",
      "\n"
     ]
    }
   ],
   "source": [
    "check_hyp(event_exp, '246', '248', 0.05)"
   ]
  },
  {
   "cell_type": "markdown",
   "id": "d7522b5a",
   "metadata": {},
   "source": [
    "**247 и 248**"
   ]
  },
  {
   "cell_type": "code",
   "execution_count": 37,
   "id": "09bd545f",
   "metadata": {},
   "outputs": [
    {
     "name": "stdout",
     "output_type": "stream",
     "text": [
      "Результат z-теста: Группы 247 и 248 , Cобытие: OffersScreenAppear\n",
      "\n",
      "p-значение:  0.9197817830592261\n",
      "Не получилось отвергнуть нулевую гипотезу, нет оснований считать доли разными\n",
      "\n",
      "Результат z-теста: Группы 247 и 248 , Cобытие: CartScreenAppear\n",
      "\n",
      "p-значение:  0.5786197879539783\n",
      "Не получилось отвергнуть нулевую гипотезу, нет оснований считать доли разными\n",
      "\n",
      "Результат z-теста: Группы 247 и 248 , Cобытие: PaymentScreenSuccessful\n",
      "\n",
      "p-значение:  0.7373415053803964\n",
      "Не получилось отвергнуть нулевую гипотезу, нет оснований считать доли разными\n",
      "\n"
     ]
    }
   ],
   "source": [
    "check_hyp(event_exp, '247', '248', 0.05)"
   ]
  },
  {
   "cell_type": "markdown",
   "id": "331508ea",
   "metadata": {},
   "source": [
    "**246+247 и 248**"
   ]
  },
  {
   "cell_type": "code",
   "execution_count": 38,
   "id": "d527a4ec",
   "metadata": {},
   "outputs": [
    {
     "name": "stdout",
     "output_type": "stream",
     "text": [
      "Результат z-теста: Группы 248 и 246+247 , Cобытие: OffersScreenAppear\n",
      "\n",
      "p-значение:  0.43425549655188256\n",
      "Не получилось отвергнуть нулевую гипотезу, нет оснований считать доли разными\n",
      "\n",
      "Результат z-теста: Группы 248 и 246+247 , Cобытие: CartScreenAppear\n",
      "\n",
      "p-значение:  0.18175875284404386\n",
      "Не получилось отвергнуть нулевую гипотезу, нет оснований считать доли разными\n",
      "\n",
      "Результат z-теста: Группы 248 и 246+247 , Cобытие: PaymentScreenSuccessful\n",
      "\n",
      "p-значение:  0.6004294282308704\n",
      "Не получилось отвергнуть нулевую гипотезу, нет оснований считать доли разными\n",
      "\n"
     ]
    }
   ],
   "source": [
    "check_hyp(event_exp, '248', '246+247', 0.05)"
   ]
  },
  {
   "cell_type": "markdown",
   "id": "77d77abf",
   "metadata": {},
   "source": [
    "**Между группами нет статистической значимой разницы. Вывод о различии сделать нельзя.**"
   ]
  },
  {
   "cell_type": "markdown",
   "id": "cbc985a0",
   "metadata": {},
   "source": [
    "Проведем тест с поправкой Бонферрони"
   ]
  },
  {
   "cell_type": "code",
   "execution_count": 39,
   "id": "e50d30dc",
   "metadata": {},
   "outputs": [],
   "source": [
    "bon = 0.05 / 12"
   ]
  },
  {
   "cell_type": "code",
   "execution_count": 40,
   "id": "6d849023",
   "metadata": {},
   "outputs": [
    {
     "name": "stdout",
     "output_type": "stream",
     "text": [
      "Результат z-теста: Группы 246 и 247 , Cобытие: OffersScreenAppear\n",
      "\n",
      "p-значение:  0.2480954578522181\n",
      "Не получилось отвергнуть нулевую гипотезу, нет оснований считать доли разными\n",
      "\n",
      "Результат z-теста: Группы 246 и 247 , Cобытие: CartScreenAppear\n",
      "\n",
      "p-значение:  0.22883372237997213\n",
      "Не получилось отвергнуть нулевую гипотезу, нет оснований считать доли разными\n",
      "\n",
      "Результат z-теста: Группы 246 и 247 , Cобытие: PaymentScreenSuccessful\n",
      "\n",
      "p-значение:  0.11456679313141849\n",
      "Не получилось отвергнуть нулевую гипотезу, нет оснований считать доли разными\n",
      "\n"
     ]
    }
   ],
   "source": [
    "check_hyp(event_exp, '246', '247', bon)"
   ]
  },
  {
   "cell_type": "markdown",
   "id": "25c58941",
   "metadata": {},
   "source": [
    "check_hyp(event_exp, '246', '248', bon)"
   ]
  },
  {
   "cell_type": "code",
   "execution_count": 41,
   "id": "d586feec",
   "metadata": {},
   "outputs": [
    {
     "name": "stdout",
     "output_type": "stream",
     "text": [
      "Результат z-теста: Группы 247 и 248 , Cобытие: OffersScreenAppear\n",
      "\n",
      "p-значение:  0.9197817830592261\n",
      "Не получилось отвергнуть нулевую гипотезу, нет оснований считать доли разными\n",
      "\n",
      "Результат z-теста: Группы 247 и 248 , Cобытие: CartScreenAppear\n",
      "\n",
      "p-значение:  0.5786197879539783\n",
      "Не получилось отвергнуть нулевую гипотезу, нет оснований считать доли разными\n",
      "\n",
      "Результат z-теста: Группы 247 и 248 , Cобытие: PaymentScreenSuccessful\n",
      "\n",
      "p-значение:  0.7373415053803964\n",
      "Не получилось отвергнуть нулевую гипотезу, нет оснований считать доли разными\n",
      "\n"
     ]
    }
   ],
   "source": [
    "check_hyp(event_exp, '247', '248', bon)"
   ]
  },
  {
   "cell_type": "code",
   "execution_count": 42,
   "id": "14d1f8c6",
   "metadata": {},
   "outputs": [
    {
     "name": "stdout",
     "output_type": "stream",
     "text": [
      "Результат z-теста: Группы 248 и 246+247 , Cобытие: OffersScreenAppear\n",
      "\n",
      "p-значение:  0.43425549655188256\n",
      "Не получилось отвергнуть нулевую гипотезу, нет оснований считать доли разными\n",
      "\n",
      "Результат z-теста: Группы 248 и 246+247 , Cобытие: CartScreenAppear\n",
      "\n",
      "p-значение:  0.18175875284404386\n",
      "Не получилось отвергнуть нулевую гипотезу, нет оснований считать доли разными\n",
      "\n",
      "Результат z-теста: Группы 248 и 246+247 , Cобытие: PaymentScreenSuccessful\n",
      "\n",
      "p-значение:  0.6004294282308704\n",
      "Не получилось отвергнуть нулевую гипотезу, нет оснований считать доли разными\n",
      "\n"
     ]
    }
   ],
   "source": [
    "check_hyp(event_exp, '248', '246+247', bon)"
   ]
  },
  {
   "cell_type": "markdown",
   "id": "463f9f9e",
   "metadata": {},
   "source": [
    "Даже с поправкой Бонферрони тест говорит, что между группами нет значительных различий."
   ]
  },
  {
   "cell_type": "markdown",
   "id": "9784f89d",
   "metadata": {},
   "source": [
    "**Вывод:**"
   ]
  },
  {
   "cell_type": "markdown",
   "id": "2759c64c",
   "metadata": {},
   "source": [
    "На этапе подготовки А/B теста был проведен A/A тест, где выяснилось, что статистически значимых различий между двумя А группами нет значит, что пользователи относятся к той или иной группе случайно,следовательно А/А тест проведен корректно. \n",
    "\n",
    "По результатам А/B теста статистически значимых различий между А и В группами (в том числе с объединенной группой) также не обнаружили - это значит, что наша гипотеза о том, что изменение шрифта на главной странице как-то повлияет на наши метрики не верна.\n",
    "\n",
    "По результатам эксперимента можно сделать вывод, что изменение шрифта положительно не повлияло на поведение пользователей"
   ]
  }
 ],
 "metadata": {
  "ExecuteTimeLog": [
   {
    "duration": 47,
    "start_time": "2022-07-17T11:00:43.912Z"
   },
   {
    "duration": 395,
    "start_time": "2022-07-17T11:01:23.102Z"
   },
   {
    "duration": 569,
    "start_time": "2022-07-17T11:01:24.080Z"
   },
   {
    "duration": 270,
    "start_time": "2022-07-17T11:01:28.884Z"
   },
   {
    "duration": 169,
    "start_time": "2022-07-17T11:08:53.693Z"
   },
   {
    "duration": 3,
    "start_time": "2022-07-17T11:36:50.864Z"
   },
   {
    "duration": 172,
    "start_time": "2022-07-17T11:37:03.277Z"
   },
   {
    "duration": 20,
    "start_time": "2022-07-17T11:38:44.085Z"
   },
   {
    "duration": 430,
    "start_time": "2022-07-17T21:02:29.173Z"
   },
   {
    "duration": 151,
    "start_time": "2022-07-17T21:02:29.606Z"
   },
   {
    "duration": 3,
    "start_time": "2022-07-17T21:02:29.759Z"
   },
   {
    "duration": 23,
    "start_time": "2022-07-17T21:02:29.763Z"
   },
   {
    "duration": 918,
    "start_time": "2022-07-17T21:03:24.323Z"
   },
   {
    "duration": 3,
    "start_time": "2022-07-17T21:06:46.486Z"
   },
   {
    "duration": 33,
    "start_time": "2022-07-17T21:07:14.877Z"
   },
   {
    "duration": 33,
    "start_time": "2022-07-17T21:07:45.907Z"
   },
   {
    "duration": 17,
    "start_time": "2022-07-17T21:08:23.492Z"
   },
   {
    "duration": 60,
    "start_time": "2022-07-17T21:08:41.938Z"
   },
   {
    "duration": 74,
    "start_time": "2022-07-17T21:08:55.826Z"
   },
   {
    "duration": 48,
    "start_time": "2022-07-17T21:21:00.468Z"
   },
   {
    "duration": 20,
    "start_time": "2022-07-17T21:21:11.131Z"
   },
   {
    "duration": 376,
    "start_time": "2022-07-17T21:21:41.733Z"
   },
   {
    "duration": 149,
    "start_time": "2022-07-17T21:21:42.111Z"
   },
   {
    "duration": 3,
    "start_time": "2022-07-17T21:21:42.262Z"
   },
   {
    "duration": 32,
    "start_time": "2022-07-17T21:21:42.267Z"
   },
   {
    "duration": 4,
    "start_time": "2022-07-17T21:21:42.300Z"
   },
   {
    "duration": 72,
    "start_time": "2022-07-17T21:21:42.305Z"
   },
   {
    "duration": 72,
    "start_time": "2022-07-17T21:21:42.379Z"
   },
   {
    "duration": 56,
    "start_time": "2022-07-17T21:21:42.452Z"
   },
   {
    "duration": 16,
    "start_time": "2022-07-17T21:22:07.668Z"
   },
   {
    "duration": 7,
    "start_time": "2022-07-17T21:22:15.988Z"
   },
   {
    "duration": 60,
    "start_time": "2022-07-17T21:24:54.977Z"
   },
   {
    "duration": 406,
    "start_time": "2022-07-17T21:25:15.026Z"
   },
   {
    "duration": 181,
    "start_time": "2022-07-17T21:25:15.434Z"
   },
   {
    "duration": 3,
    "start_time": "2022-07-17T21:25:15.617Z"
   },
   {
    "duration": 23,
    "start_time": "2022-07-17T21:25:15.623Z"
   },
   {
    "duration": 3,
    "start_time": "2022-07-17T21:25:15.647Z"
   },
   {
    "duration": 76,
    "start_time": "2022-07-17T21:25:15.652Z"
   },
   {
    "duration": 74,
    "start_time": "2022-07-17T21:25:15.730Z"
   },
   {
    "duration": 8,
    "start_time": "2022-07-17T21:25:15.806Z"
   },
   {
    "duration": 62,
    "start_time": "2022-07-17T21:25:15.815Z"
   },
   {
    "duration": 2,
    "start_time": "2022-07-17T21:33:44.773Z"
   },
   {
    "duration": 3,
    "start_time": "2022-07-17T21:33:52.773Z"
   },
   {
    "duration": 74,
    "start_time": "2022-07-17T21:34:57.258Z"
   },
   {
    "duration": 13,
    "start_time": "2022-07-17T21:35:18.569Z"
   },
   {
    "duration": 78,
    "start_time": "2022-07-17T21:35:26.813Z"
   },
   {
    "duration": 4,
    "start_time": "2022-07-17T21:36:08.900Z"
   },
   {
    "duration": 86,
    "start_time": "2022-07-17T21:37:49.456Z"
   },
   {
    "duration": 79,
    "start_time": "2022-07-17T21:37:57.840Z"
   },
   {
    "duration": 86,
    "start_time": "2022-07-17T21:38:12.601Z"
   },
   {
    "duration": 35,
    "start_time": "2022-07-17T21:40:12.958Z"
   },
   {
    "duration": 671,
    "start_time": "2022-07-17T21:40:41.103Z"
   },
   {
    "duration": 151,
    "start_time": "2022-07-17T21:40:41.776Z"
   },
   {
    "duration": 4,
    "start_time": "2022-07-17T21:40:41.928Z"
   },
   {
    "duration": 34,
    "start_time": "2022-07-17T21:40:41.935Z"
   },
   {
    "duration": 3,
    "start_time": "2022-07-17T21:40:41.970Z"
   },
   {
    "duration": 79,
    "start_time": "2022-07-17T21:40:41.975Z"
   },
   {
    "duration": 75,
    "start_time": "2022-07-17T21:40:42.056Z"
   },
   {
    "duration": 7,
    "start_time": "2022-07-17T21:40:42.132Z"
   },
   {
    "duration": 78,
    "start_time": "2022-07-17T21:40:42.140Z"
   },
   {
    "duration": 6,
    "start_time": "2022-07-17T21:40:42.222Z"
   },
   {
    "duration": 94,
    "start_time": "2022-07-17T21:40:42.230Z"
   },
   {
    "duration": 94,
    "start_time": "2022-07-17T21:40:42.326Z"
   },
   {
    "duration": 242,
    "start_time": "2022-07-17T21:40:42.422Z"
   },
   {
    "duration": 511,
    "start_time": "2022-07-17T21:41:22.074Z"
   },
   {
    "duration": 1058,
    "start_time": "2022-07-17T21:41:29.021Z"
   },
   {
    "duration": 161,
    "start_time": "2022-07-17T21:41:30.081Z"
   },
   {
    "duration": 3,
    "start_time": "2022-07-17T21:41:30.244Z"
   },
   {
    "duration": 27,
    "start_time": "2022-07-17T21:41:30.249Z"
   },
   {
    "duration": 3,
    "start_time": "2022-07-17T21:41:30.278Z"
   },
   {
    "duration": 71,
    "start_time": "2022-07-17T21:41:30.282Z"
   },
   {
    "duration": 75,
    "start_time": "2022-07-17T21:41:30.355Z"
   },
   {
    "duration": 6,
    "start_time": "2022-07-17T21:41:30.432Z"
   },
   {
    "duration": 81,
    "start_time": "2022-07-17T21:41:30.440Z"
   },
   {
    "duration": 13,
    "start_time": "2022-07-17T21:41:30.524Z"
   },
   {
    "duration": 96,
    "start_time": "2022-07-17T21:41:30.538Z"
   },
   {
    "duration": 87,
    "start_time": "2022-07-17T21:41:30.636Z"
   },
   {
    "duration": 264,
    "start_time": "2022-07-17T21:41:30.724Z"
   },
   {
    "duration": 284,
    "start_time": "2022-07-17T21:42:24.965Z"
   },
   {
    "duration": 260,
    "start_time": "2022-07-17T21:43:23.485Z"
   },
   {
    "duration": 293,
    "start_time": "2022-07-17T21:43:45.284Z"
   },
   {
    "duration": 254,
    "start_time": "2022-07-17T21:44:43.987Z"
   },
   {
    "duration": 238,
    "start_time": "2022-07-17T21:44:52.203Z"
   },
   {
    "duration": 237,
    "start_time": "2022-07-17T21:45:40.706Z"
   },
   {
    "duration": 233,
    "start_time": "2022-07-17T22:00:31.931Z"
   },
   {
    "duration": 318,
    "start_time": "2022-07-17T22:01:40.162Z"
   },
   {
    "duration": 242,
    "start_time": "2022-07-17T22:02:06.113Z"
   },
   {
    "duration": 203,
    "start_time": "2022-07-17T22:02:29.880Z"
   },
   {
    "duration": 294,
    "start_time": "2022-07-17T22:02:37.872Z"
   },
   {
    "duration": 235,
    "start_time": "2022-07-17T22:02:57.727Z"
   },
   {
    "duration": 255,
    "start_time": "2022-07-17T22:04:28.294Z"
   },
   {
    "duration": 239,
    "start_time": "2022-07-17T22:04:52.110Z"
   },
   {
    "duration": 6,
    "start_time": "2022-07-17T22:08:18.956Z"
   },
   {
    "duration": 5,
    "start_time": "2022-07-17T22:08:55.753Z"
   },
   {
    "duration": 5,
    "start_time": "2022-07-17T22:10:05.800Z"
   },
   {
    "duration": 5,
    "start_time": "2022-07-17T22:10:18.240Z"
   },
   {
    "duration": 238,
    "start_time": "2022-07-17T22:13:24.061Z"
   },
   {
    "duration": 29,
    "start_time": "2022-07-17T22:20:48.965Z"
   },
   {
    "duration": 3,
    "start_time": "2022-07-17T22:25:17.273Z"
   },
   {
    "duration": 87,
    "start_time": "2022-07-17T22:26:36.008Z"
   },
   {
    "duration": 4,
    "start_time": "2022-07-17T22:27:00.695Z"
   },
   {
    "duration": 4,
    "start_time": "2022-07-17T22:27:37.790Z"
   },
   {
    "duration": 13,
    "start_time": "2022-07-17T22:31:27.666Z"
   },
   {
    "duration": 12,
    "start_time": "2022-07-17T22:31:36.257Z"
   },
   {
    "duration": 73,
    "start_time": "2022-07-17T22:31:41.770Z"
   },
   {
    "duration": 77,
    "start_time": "2022-07-17T22:33:41.168Z"
   },
   {
    "duration": 74,
    "start_time": "2022-07-17T22:33:50.896Z"
   },
   {
    "duration": 33,
    "start_time": "2022-07-17T22:39:16.161Z"
   },
   {
    "duration": 267,
    "start_time": "2022-07-17T22:41:39.391Z"
   },
   {
    "duration": 33,
    "start_time": "2022-07-17T22:42:05.623Z"
   },
   {
    "duration": 33,
    "start_time": "2022-07-17T22:42:43.726Z"
   },
   {
    "duration": 1333,
    "start_time": "2022-07-18T06:40:24.483Z"
   },
   {
    "duration": 593,
    "start_time": "2022-07-18T06:40:25.818Z"
   },
   {
    "duration": 4,
    "start_time": "2022-07-18T06:40:26.414Z"
   },
   {
    "duration": 42,
    "start_time": "2022-07-18T06:40:26.421Z"
   },
   {
    "duration": 3,
    "start_time": "2022-07-18T06:40:26.464Z"
   },
   {
    "duration": 79,
    "start_time": "2022-07-18T06:40:26.469Z"
   },
   {
    "duration": 86,
    "start_time": "2022-07-18T06:40:26.550Z"
   },
   {
    "duration": 9,
    "start_time": "2022-07-18T06:40:26.638Z"
   },
   {
    "duration": 113,
    "start_time": "2022-07-18T06:40:26.649Z"
   },
   {
    "duration": 4,
    "start_time": "2022-07-18T06:40:26.765Z"
   },
   {
    "duration": 98,
    "start_time": "2022-07-18T06:40:26.771Z"
   },
   {
    "duration": 138,
    "start_time": "2022-07-18T06:40:26.871Z"
   },
   {
    "duration": 21,
    "start_time": "2022-07-18T06:40:27.011Z"
   },
   {
    "duration": 10,
    "start_time": "2022-07-18T06:40:27.042Z"
   },
   {
    "duration": 432,
    "start_time": "2022-07-18T06:40:27.055Z"
   },
   {
    "duration": 38,
    "start_time": "2022-07-18T06:40:27.489Z"
   },
   {
    "duration": 34,
    "start_time": "2022-07-18T06:40:27.531Z"
   },
   {
    "duration": 126,
    "start_time": "2022-07-18T06:40:27.572Z"
   },
   {
    "duration": 55,
    "start_time": "2022-07-18T06:40:27.699Z"
   },
   {
    "duration": 70,
    "start_time": "2022-07-18T06:40:27.757Z"
   },
   {
    "duration": 60,
    "start_time": "2022-07-18T06:40:36.969Z"
   },
   {
    "duration": 543,
    "start_time": "2022-07-18T06:41:18.361Z"
   },
   {
    "duration": 41,
    "start_time": "2022-07-18T06:41:29.153Z"
   },
   {
    "duration": 59,
    "start_time": "2022-07-18T06:41:50.656Z"
   },
   {
    "duration": 116,
    "start_time": "2022-07-18T06:42:03.368Z"
   },
   {
    "duration": 91,
    "start_time": "2022-07-18T06:43:07.662Z"
   },
   {
    "duration": 55,
    "start_time": "2022-07-18T06:43:39.287Z"
   },
   {
    "duration": 65,
    "start_time": "2022-07-18T06:44:55.813Z"
   },
   {
    "duration": 72,
    "start_time": "2022-07-18T06:45:31.005Z"
   },
   {
    "duration": 64,
    "start_time": "2022-07-18T06:45:46.573Z"
   },
   {
    "duration": 1228,
    "start_time": "2022-07-18T06:45:55.015Z"
   },
   {
    "duration": 186,
    "start_time": "2022-07-18T06:45:56.245Z"
   },
   {
    "duration": 9,
    "start_time": "2022-07-18T06:45:56.434Z"
   },
   {
    "duration": 23,
    "start_time": "2022-07-18T06:45:56.445Z"
   },
   {
    "duration": 4,
    "start_time": "2022-07-18T06:45:56.470Z"
   },
   {
    "duration": 100,
    "start_time": "2022-07-18T06:45:56.476Z"
   },
   {
    "duration": 96,
    "start_time": "2022-07-18T06:45:56.578Z"
   },
   {
    "duration": 8,
    "start_time": "2022-07-18T06:45:56.675Z"
   },
   {
    "duration": 87,
    "start_time": "2022-07-18T06:45:56.685Z"
   },
   {
    "duration": 5,
    "start_time": "2022-07-18T06:45:56.775Z"
   },
   {
    "duration": 102,
    "start_time": "2022-07-18T06:45:56.781Z"
   },
   {
    "duration": 98,
    "start_time": "2022-07-18T06:45:56.885Z"
   },
   {
    "duration": 5,
    "start_time": "2022-07-18T06:45:56.985Z"
   },
   {
    "duration": 13,
    "start_time": "2022-07-18T06:45:56.992Z"
   },
   {
    "duration": 399,
    "start_time": "2022-07-18T06:45:57.008Z"
   },
   {
    "duration": 44,
    "start_time": "2022-07-18T06:45:57.409Z"
   },
   {
    "duration": 4,
    "start_time": "2022-07-18T06:45:57.455Z"
   },
   {
    "duration": 110,
    "start_time": "2022-07-18T06:45:57.461Z"
   },
   {
    "duration": 35,
    "start_time": "2022-07-18T06:45:57.572Z"
   },
   {
    "duration": 116,
    "start_time": "2022-07-18T06:45:57.609Z"
   },
   {
    "duration": 60,
    "start_time": "2022-07-18T06:46:49.948Z"
   },
   {
    "duration": 56,
    "start_time": "2022-07-18T06:47:27.956Z"
   },
   {
    "duration": 1197,
    "start_time": "2022-07-18T06:47:41.920Z"
   },
   {
    "duration": 180,
    "start_time": "2022-07-18T06:47:43.119Z"
   },
   {
    "duration": 3,
    "start_time": "2022-07-18T06:47:43.301Z"
   },
   {
    "duration": 42,
    "start_time": "2022-07-18T06:47:43.306Z"
   },
   {
    "duration": 3,
    "start_time": "2022-07-18T06:47:43.350Z"
   },
   {
    "duration": 69,
    "start_time": "2022-07-18T06:47:43.355Z"
   },
   {
    "duration": 73,
    "start_time": "2022-07-18T06:47:43.432Z"
   },
   {
    "duration": 7,
    "start_time": "2022-07-18T06:47:43.507Z"
   },
   {
    "duration": 84,
    "start_time": "2022-07-18T06:47:43.516Z"
   },
   {
    "duration": 4,
    "start_time": "2022-07-18T06:47:43.603Z"
   },
   {
    "duration": 99,
    "start_time": "2022-07-18T06:47:43.631Z"
   },
   {
    "duration": 100,
    "start_time": "2022-07-18T06:47:43.732Z"
   },
   {
    "duration": 9,
    "start_time": "2022-07-18T06:47:43.834Z"
   },
   {
    "duration": 6,
    "start_time": "2022-07-18T06:47:43.845Z"
   },
   {
    "duration": 301,
    "start_time": "2022-07-18T06:47:43.853Z"
   },
   {
    "duration": 29,
    "start_time": "2022-07-18T06:47:44.157Z"
   },
   {
    "duration": 4,
    "start_time": "2022-07-18T06:47:44.188Z"
   },
   {
    "duration": 112,
    "start_time": "2022-07-18T06:47:44.194Z"
   },
   {
    "duration": 56,
    "start_time": "2022-07-18T06:47:44.308Z"
   },
   {
    "duration": 115,
    "start_time": "2022-07-18T06:47:44.366Z"
   },
   {
    "duration": 57,
    "start_time": "2022-07-18T06:50:50.356Z"
   },
   {
    "duration": 57,
    "start_time": "2022-07-18T06:51:47.546Z"
   },
   {
    "duration": 115,
    "start_time": "2022-07-18T06:55:46.940Z"
   },
   {
    "duration": 1282,
    "start_time": "2022-07-18T06:56:26.206Z"
   },
   {
    "duration": 190,
    "start_time": "2022-07-18T06:56:27.491Z"
   },
   {
    "duration": 3,
    "start_time": "2022-07-18T06:56:27.683Z"
   },
   {
    "duration": 26,
    "start_time": "2022-07-18T06:56:27.688Z"
   },
   {
    "duration": 14,
    "start_time": "2022-07-18T06:56:27.715Z"
   },
   {
    "duration": 82,
    "start_time": "2022-07-18T06:56:27.731Z"
   },
   {
    "duration": 86,
    "start_time": "2022-07-18T06:56:27.815Z"
   },
   {
    "duration": 7,
    "start_time": "2022-07-18T06:56:27.903Z"
   },
   {
    "duration": 86,
    "start_time": "2022-07-18T06:56:27.911Z"
   },
   {
    "duration": 4,
    "start_time": "2022-07-18T06:56:27.999Z"
   },
   {
    "duration": 98,
    "start_time": "2022-07-18T06:56:28.005Z"
   },
   {
    "duration": 103,
    "start_time": "2022-07-18T06:56:28.105Z"
   },
   {
    "duration": 5,
    "start_time": "2022-07-18T06:56:28.209Z"
   },
   {
    "duration": 12,
    "start_time": "2022-07-18T06:56:28.228Z"
   },
   {
    "duration": 306,
    "start_time": "2022-07-18T06:56:28.241Z"
   },
   {
    "duration": 30,
    "start_time": "2022-07-18T06:56:28.549Z"
   },
   {
    "duration": 4,
    "start_time": "2022-07-18T06:56:28.581Z"
   },
   {
    "duration": 106,
    "start_time": "2022-07-18T06:56:28.587Z"
   },
   {
    "duration": 59,
    "start_time": "2022-07-18T06:56:28.694Z"
   },
   {
    "duration": 111,
    "start_time": "2022-07-18T06:56:28.755Z"
   },
   {
    "duration": 1282,
    "start_time": "2022-07-18T06:56:28.868Z"
   },
   {
    "duration": 99,
    "start_time": "2022-07-18T06:56:49.350Z"
   },
   {
    "duration": 121,
    "start_time": "2022-07-18T07:02:56.551Z"
   },
   {
    "duration": 27,
    "start_time": "2022-07-18T07:03:05.519Z"
   },
   {
    "duration": 17,
    "start_time": "2022-07-18T07:06:17.534Z"
   },
   {
    "duration": 3,
    "start_time": "2022-07-18T07:06:24.698Z"
   },
   {
    "duration": 15,
    "start_time": "2022-07-18T07:06:25.450Z"
   },
   {
    "duration": 1102,
    "start_time": "2022-07-18T07:06:33.461Z"
   },
   {
    "duration": 173,
    "start_time": "2022-07-18T07:06:34.567Z"
   },
   {
    "duration": 3,
    "start_time": "2022-07-18T07:06:34.742Z"
   },
   {
    "duration": 26,
    "start_time": "2022-07-18T07:06:34.747Z"
   },
   {
    "duration": 3,
    "start_time": "2022-07-18T07:06:34.775Z"
   },
   {
    "duration": 85,
    "start_time": "2022-07-18T07:06:34.779Z"
   },
   {
    "duration": 93,
    "start_time": "2022-07-18T07:06:34.865Z"
   },
   {
    "duration": 7,
    "start_time": "2022-07-18T07:06:34.959Z"
   },
   {
    "duration": 81,
    "start_time": "2022-07-18T07:06:34.968Z"
   },
   {
    "duration": 10,
    "start_time": "2022-07-18T07:06:35.052Z"
   },
   {
    "duration": 94,
    "start_time": "2022-07-18T07:06:35.063Z"
   },
   {
    "duration": 100,
    "start_time": "2022-07-18T07:06:35.159Z"
   },
   {
    "duration": 4,
    "start_time": "2022-07-18T07:06:35.261Z"
   },
   {
    "duration": 11,
    "start_time": "2022-07-18T07:06:35.266Z"
   },
   {
    "duration": 290,
    "start_time": "2022-07-18T07:06:35.279Z"
   },
   {
    "duration": 28,
    "start_time": "2022-07-18T07:06:35.571Z"
   },
   {
    "duration": 4,
    "start_time": "2022-07-18T07:06:35.600Z"
   },
   {
    "duration": 105,
    "start_time": "2022-07-18T07:06:35.606Z"
   },
   {
    "duration": 43,
    "start_time": "2022-07-18T07:06:35.729Z"
   },
   {
    "duration": 123,
    "start_time": "2022-07-18T07:06:35.773Z"
   },
   {
    "duration": 3,
    "start_time": "2022-07-18T07:06:35.898Z"
   },
   {
    "duration": 206,
    "start_time": "2022-07-18T07:06:35.902Z"
   },
   {
    "duration": 7454,
    "start_time": "2022-07-18T07:13:18.922Z"
   },
   {
    "duration": 22,
    "start_time": "2022-07-18T07:13:26.378Z"
   },
   {
    "duration": 16,
    "start_time": "2022-07-18T07:13:30.083Z"
   },
   {
    "duration": 1241,
    "start_time": "2022-07-18T07:13:46.144Z"
   },
   {
    "duration": 210,
    "start_time": "2022-07-18T07:13:47.388Z"
   },
   {
    "duration": 3,
    "start_time": "2022-07-18T07:13:47.600Z"
   },
   {
    "duration": 35,
    "start_time": "2022-07-18T07:13:47.605Z"
   },
   {
    "duration": 3,
    "start_time": "2022-07-18T07:13:47.642Z"
   },
   {
    "duration": 71,
    "start_time": "2022-07-18T07:13:47.646Z"
   },
   {
    "duration": 88,
    "start_time": "2022-07-18T07:13:47.718Z"
   },
   {
    "duration": 28,
    "start_time": "2022-07-18T07:13:47.808Z"
   },
   {
    "duration": 63,
    "start_time": "2022-07-18T07:13:47.838Z"
   },
   {
    "duration": 6,
    "start_time": "2022-07-18T07:13:47.904Z"
   },
   {
    "duration": 96,
    "start_time": "2022-07-18T07:13:47.912Z"
   },
   {
    "duration": 106,
    "start_time": "2022-07-18T07:13:48.009Z"
   },
   {
    "duration": 13,
    "start_time": "2022-07-18T07:13:48.117Z"
   },
   {
    "duration": 7,
    "start_time": "2022-07-18T07:13:48.137Z"
   },
   {
    "duration": 301,
    "start_time": "2022-07-18T07:13:48.146Z"
   },
   {
    "duration": 30,
    "start_time": "2022-07-18T07:13:48.449Z"
   },
   {
    "duration": 4,
    "start_time": "2022-07-18T07:13:48.481Z"
   },
   {
    "duration": 107,
    "start_time": "2022-07-18T07:13:48.487Z"
   },
   {
    "duration": 58,
    "start_time": "2022-07-18T07:13:48.596Z"
   },
   {
    "duration": 107,
    "start_time": "2022-07-18T07:13:48.656Z"
   },
   {
    "duration": 2421,
    "start_time": "2022-07-18T07:13:48.765Z"
   },
   {
    "duration": 989,
    "start_time": "2022-07-18T07:13:51.189Z"
   },
   {
    "duration": 115,
    "start_time": "2022-07-18T07:39:11.341Z"
   },
   {
    "duration": 60,
    "start_time": "2022-07-18T07:39:28.349Z"
   },
   {
    "duration": 47,
    "start_time": "2022-07-18T07:49:27.661Z"
   },
   {
    "duration": 20,
    "start_time": "2022-07-18T07:52:10.779Z"
   },
   {
    "duration": 81,
    "start_time": "2022-07-18T07:52:20.947Z"
   },
   {
    "duration": 81,
    "start_time": "2022-07-18T07:52:44.010Z"
   },
   {
    "duration": 77,
    "start_time": "2022-07-18T07:53:10.578Z"
   },
   {
    "duration": 75,
    "start_time": "2022-07-18T07:53:42.434Z"
   },
   {
    "duration": 85,
    "start_time": "2022-07-18T07:55:37.848Z"
   },
   {
    "duration": 9,
    "start_time": "2022-07-18T08:11:42.105Z"
   },
   {
    "duration": 40,
    "start_time": "2022-07-18T08:12:40.223Z"
   },
   {
    "duration": 57,
    "start_time": "2022-07-18T08:14:01.229Z"
   },
   {
    "duration": 77,
    "start_time": "2022-07-18T08:15:42.461Z"
   },
   {
    "duration": 1099,
    "start_time": "2022-07-18T08:15:50.620Z"
   },
   {
    "duration": 946,
    "start_time": "2022-07-18T08:15:55.083Z"
   },
   {
    "duration": 81,
    "start_time": "2022-07-18T08:16:19.699Z"
   },
   {
    "duration": 1553,
    "start_time": "2022-07-18T08:16:29.452Z"
   },
   {
    "duration": 84,
    "start_time": "2022-07-18T08:16:57.442Z"
   },
   {
    "duration": 12,
    "start_time": "2022-07-18T08:35:03.335Z"
   },
   {
    "duration": 31,
    "start_time": "2022-07-18T08:35:17.655Z"
   },
   {
    "duration": 36,
    "start_time": "2022-07-18T08:35:55.302Z"
   },
   {
    "duration": 35,
    "start_time": "2022-07-18T08:36:06.878Z"
   },
   {
    "duration": 5,
    "start_time": "2022-07-18T08:46:55.588Z"
   },
   {
    "duration": 1165,
    "start_time": "2022-07-18T08:47:30.218Z"
   },
   {
    "duration": 1126,
    "start_time": "2022-07-18T08:47:47.593Z"
   },
   {
    "duration": 184,
    "start_time": "2022-07-18T08:47:48.721Z"
   },
   {
    "duration": 3,
    "start_time": "2022-07-18T08:47:48.906Z"
   },
   {
    "duration": 41,
    "start_time": "2022-07-18T08:47:48.911Z"
   },
   {
    "duration": 3,
    "start_time": "2022-07-18T08:47:48.954Z"
   },
   {
    "duration": 84,
    "start_time": "2022-07-18T08:47:48.958Z"
   },
   {
    "duration": 94,
    "start_time": "2022-07-18T08:47:49.044Z"
   },
   {
    "duration": 9,
    "start_time": "2022-07-18T08:47:49.140Z"
   },
   {
    "duration": 88,
    "start_time": "2022-07-18T08:47:49.151Z"
   },
   {
    "duration": 4,
    "start_time": "2022-07-18T08:47:49.243Z"
   },
   {
    "duration": 99,
    "start_time": "2022-07-18T08:47:49.249Z"
   },
   {
    "duration": 93,
    "start_time": "2022-07-18T08:47:49.349Z"
   },
   {
    "duration": 4,
    "start_time": "2022-07-18T08:47:49.444Z"
   },
   {
    "duration": 10,
    "start_time": "2022-07-18T08:47:49.450Z"
   },
   {
    "duration": 297,
    "start_time": "2022-07-18T08:47:49.462Z"
   },
   {
    "duration": 28,
    "start_time": "2022-07-18T08:47:49.761Z"
   },
   {
    "duration": 3,
    "start_time": "2022-07-18T08:47:49.791Z"
   },
   {
    "duration": 106,
    "start_time": "2022-07-18T08:47:49.796Z"
   },
   {
    "duration": 53,
    "start_time": "2022-07-18T08:47:49.903Z"
   },
   {
    "duration": 116,
    "start_time": "2022-07-18T08:47:49.958Z"
   },
   {
    "duration": 2315,
    "start_time": "2022-07-18T08:47:50.075Z"
   },
   {
    "duration": 872,
    "start_time": "2022-07-18T08:47:52.393Z"
   },
   {
    "duration": 40,
    "start_time": "2022-07-18T08:47:53.267Z"
   },
   {
    "duration": 88,
    "start_time": "2022-07-18T08:47:53.324Z"
   },
   {
    "duration": 41,
    "start_time": "2022-07-18T08:47:53.424Z"
   },
   {
    "duration": 67,
    "start_time": "2022-07-18T08:47:53.466Z"
   },
   {
    "duration": 101,
    "start_time": "2022-07-18T08:47:53.540Z"
   },
   {
    "duration": 5,
    "start_time": "2022-07-18T08:47:53.645Z"
   },
   {
    "duration": 1117,
    "start_time": "2022-07-18T08:47:53.652Z"
   },
   {
    "duration": 971,
    "start_time": "2022-07-18T08:48:42.090Z"
   },
   {
    "duration": 6,
    "start_time": "2022-07-18T08:50:03.161Z"
   },
   {
    "duration": 1175,
    "start_time": "2022-07-18T08:50:05.617Z"
   },
   {
    "duration": 852,
    "start_time": "2022-07-18T08:50:20.921Z"
   },
   {
    "duration": 1188,
    "start_time": "2022-07-18T08:54:33.718Z"
   },
   {
    "duration": 182,
    "start_time": "2022-07-18T08:54:34.909Z"
   },
   {
    "duration": 4,
    "start_time": "2022-07-18T08:54:35.092Z"
   },
   {
    "duration": 29,
    "start_time": "2022-07-18T08:54:35.098Z"
   },
   {
    "duration": 2,
    "start_time": "2022-07-18T08:54:35.129Z"
   },
   {
    "duration": 83,
    "start_time": "2022-07-18T08:54:35.133Z"
   },
   {
    "duration": 81,
    "start_time": "2022-07-18T08:54:35.219Z"
   },
   {
    "duration": 6,
    "start_time": "2022-07-18T08:54:35.301Z"
   },
   {
    "duration": 86,
    "start_time": "2022-07-18T08:54:35.309Z"
   },
   {
    "duration": 6,
    "start_time": "2022-07-18T08:54:35.398Z"
   },
   {
    "duration": 99,
    "start_time": "2022-07-18T08:54:35.405Z"
   },
   {
    "duration": 103,
    "start_time": "2022-07-18T08:54:35.506Z"
   },
   {
    "duration": 4,
    "start_time": "2022-07-18T08:54:35.611Z"
   },
   {
    "duration": 12,
    "start_time": "2022-07-18T08:54:35.626Z"
   },
   {
    "duration": 274,
    "start_time": "2022-07-18T08:54:35.640Z"
   },
   {
    "duration": 37,
    "start_time": "2022-07-18T08:54:35.915Z"
   },
   {
    "duration": 4,
    "start_time": "2022-07-18T08:54:35.954Z"
   },
   {
    "duration": 100,
    "start_time": "2022-07-18T08:54:35.959Z"
   },
   {
    "duration": 35,
    "start_time": "2022-07-18T08:54:36.061Z"
   },
   {
    "duration": 126,
    "start_time": "2022-07-18T08:54:36.098Z"
   },
   {
    "duration": 2437,
    "start_time": "2022-07-18T08:54:36.225Z"
   },
   {
    "duration": 925,
    "start_time": "2022-07-18T08:54:38.665Z"
   },
   {
    "duration": 66,
    "start_time": "2022-07-18T08:54:39.592Z"
   },
   {
    "duration": 108,
    "start_time": "2022-07-18T08:54:39.659Z"
   },
   {
    "duration": 35,
    "start_time": "2022-07-18T08:54:39.769Z"
   },
   {
    "duration": 64,
    "start_time": "2022-07-18T08:54:39.806Z"
   },
   {
    "duration": 99,
    "start_time": "2022-07-18T08:54:39.872Z"
   },
   {
    "duration": 5,
    "start_time": "2022-07-18T08:54:39.975Z"
   },
   {
    "duration": 1130,
    "start_time": "2022-07-18T08:54:39.981Z"
   },
   {
    "duration": 956,
    "start_time": "2022-07-18T08:54:59.195Z"
   },
   {
    "duration": 5,
    "start_time": "2022-07-18T08:56:23.506Z"
   },
   {
    "duration": 11,
    "start_time": "2022-07-18T08:56:52.169Z"
   },
   {
    "duration": 3,
    "start_time": "2022-07-18T08:57:12.940Z"
   },
   {
    "duration": 1224,
    "start_time": "2022-07-18T08:57:24.000Z"
   },
   {
    "duration": 4,
    "start_time": "2022-07-18T08:58:42.415Z"
   },
   {
    "duration": 17,
    "start_time": "2022-07-18T08:58:52.672Z"
   },
   {
    "duration": 3,
    "start_time": "2022-07-18T08:59:13.462Z"
   },
   {
    "duration": 1163,
    "start_time": "2022-07-18T08:59:21.694Z"
   },
   {
    "duration": 167,
    "start_time": "2022-07-18T08:59:22.860Z"
   },
   {
    "duration": 3,
    "start_time": "2022-07-18T08:59:23.029Z"
   },
   {
    "duration": 25,
    "start_time": "2022-07-18T08:59:23.034Z"
   },
   {
    "duration": 3,
    "start_time": "2022-07-18T08:59:23.061Z"
   },
   {
    "duration": 89,
    "start_time": "2022-07-18T08:59:23.065Z"
   },
   {
    "duration": 84,
    "start_time": "2022-07-18T08:59:23.156Z"
   },
   {
    "duration": 7,
    "start_time": "2022-07-18T08:59:23.242Z"
   },
   {
    "duration": 78,
    "start_time": "2022-07-18T08:59:23.251Z"
   },
   {
    "duration": 4,
    "start_time": "2022-07-18T08:59:23.332Z"
   },
   {
    "duration": 97,
    "start_time": "2022-07-18T08:59:23.337Z"
   },
   {
    "duration": 93,
    "start_time": "2022-07-18T08:59:23.435Z"
   },
   {
    "duration": 5,
    "start_time": "2022-07-18T08:59:23.529Z"
   },
   {
    "duration": 8,
    "start_time": "2022-07-18T08:59:23.535Z"
   },
   {
    "duration": 286,
    "start_time": "2022-07-18T08:59:23.545Z"
   },
   {
    "duration": 31,
    "start_time": "2022-07-18T08:59:23.833Z"
   },
   {
    "duration": 6,
    "start_time": "2022-07-18T08:59:23.865Z"
   },
   {
    "duration": 106,
    "start_time": "2022-07-18T08:59:23.872Z"
   },
   {
    "duration": 46,
    "start_time": "2022-07-18T08:59:23.980Z"
   },
   {
    "duration": 114,
    "start_time": "2022-07-18T08:59:24.028Z"
   },
   {
    "duration": 2302,
    "start_time": "2022-07-18T08:59:24.143Z"
   },
   {
    "duration": 982,
    "start_time": "2022-07-18T08:59:26.447Z"
   },
   {
    "duration": 58,
    "start_time": "2022-07-18T08:59:27.432Z"
   },
   {
    "duration": 115,
    "start_time": "2022-07-18T08:59:27.491Z"
   },
   {
    "duration": 50,
    "start_time": "2022-07-18T08:59:27.608Z"
   },
   {
    "duration": 41,
    "start_time": "2022-07-18T08:59:27.660Z"
   },
   {
    "duration": 122,
    "start_time": "2022-07-18T08:59:27.703Z"
   },
   {
    "duration": 5,
    "start_time": "2022-07-18T08:59:27.829Z"
   },
   {
    "duration": 17,
    "start_time": "2022-07-18T08:59:27.836Z"
   },
   {
    "duration": 5,
    "start_time": "2022-07-18T08:59:27.855Z"
   },
   {
    "duration": 140,
    "start_time": "2022-07-18T08:59:27.862Z"
   },
   {
    "duration": 1074,
    "start_time": "2022-07-18T08:59:55.174Z"
   },
   {
    "duration": 188,
    "start_time": "2022-07-18T08:59:56.250Z"
   },
   {
    "duration": 4,
    "start_time": "2022-07-18T08:59:56.439Z"
   },
   {
    "duration": 27,
    "start_time": "2022-07-18T08:59:56.445Z"
   },
   {
    "duration": 3,
    "start_time": "2022-07-18T08:59:56.474Z"
   },
   {
    "duration": 88,
    "start_time": "2022-07-18T08:59:56.479Z"
   },
   {
    "duration": 93,
    "start_time": "2022-07-18T08:59:56.569Z"
   },
   {
    "duration": 9,
    "start_time": "2022-07-18T08:59:56.664Z"
   },
   {
    "duration": 82,
    "start_time": "2022-07-18T08:59:56.676Z"
   },
   {
    "duration": 5,
    "start_time": "2022-07-18T08:59:56.762Z"
   },
   {
    "duration": 122,
    "start_time": "2022-07-18T08:59:56.768Z"
   },
   {
    "duration": 99,
    "start_time": "2022-07-18T08:59:56.892Z"
   },
   {
    "duration": 5,
    "start_time": "2022-07-18T08:59:56.993Z"
   },
   {
    "duration": 11,
    "start_time": "2022-07-18T08:59:57.000Z"
   },
   {
    "duration": 406,
    "start_time": "2022-07-18T08:59:57.013Z"
   },
   {
    "duration": 35,
    "start_time": "2022-07-18T08:59:57.421Z"
   },
   {
    "duration": 5,
    "start_time": "2022-07-18T08:59:57.457Z"
   },
   {
    "duration": 100,
    "start_time": "2022-07-18T08:59:57.464Z"
   },
   {
    "duration": 43,
    "start_time": "2022-07-18T08:59:57.566Z"
   },
   {
    "duration": 122,
    "start_time": "2022-07-18T08:59:57.611Z"
   },
   {
    "duration": 2367,
    "start_time": "2022-07-18T08:59:57.735Z"
   },
   {
    "duration": 954,
    "start_time": "2022-07-18T09:00:00.104Z"
   },
   {
    "duration": 64,
    "start_time": "2022-07-18T09:00:01.061Z"
   },
   {
    "duration": 105,
    "start_time": "2022-07-18T09:00:01.127Z"
   },
   {
    "duration": 36,
    "start_time": "2022-07-18T09:00:01.234Z"
   },
   {
    "duration": 63,
    "start_time": "2022-07-18T09:00:01.272Z"
   },
   {
    "duration": 189,
    "start_time": "2022-07-18T09:00:01.337Z"
   },
   {
    "duration": 55,
    "start_time": "2022-07-18T09:00:01.529Z"
   },
   {
    "duration": 118,
    "start_time": "2022-07-18T09:00:01.586Z"
   },
   {
    "duration": 280,
    "start_time": "2022-07-18T09:00:01.706Z"
   },
   {
    "duration": 233,
    "start_time": "2022-07-18T09:00:01.988Z"
   },
   {
    "duration": 1343,
    "start_time": "2022-07-18T09:00:26.029Z"
   },
   {
    "duration": 169,
    "start_time": "2022-07-18T09:00:27.374Z"
   },
   {
    "duration": 3,
    "start_time": "2022-07-18T09:00:27.545Z"
   },
   {
    "duration": 24,
    "start_time": "2022-07-18T09:00:27.550Z"
   },
   {
    "duration": 3,
    "start_time": "2022-07-18T09:00:27.575Z"
   },
   {
    "duration": 104,
    "start_time": "2022-07-18T09:00:27.580Z"
   },
   {
    "duration": 87,
    "start_time": "2022-07-18T09:00:27.686Z"
   },
   {
    "duration": 7,
    "start_time": "2022-07-18T09:00:27.775Z"
   },
   {
    "duration": 76,
    "start_time": "2022-07-18T09:00:27.783Z"
   },
   {
    "duration": 4,
    "start_time": "2022-07-18T09:00:27.861Z"
   },
   {
    "duration": 101,
    "start_time": "2022-07-18T09:00:27.867Z"
   },
   {
    "duration": 103,
    "start_time": "2022-07-18T09:00:27.970Z"
   },
   {
    "duration": 4,
    "start_time": "2022-07-18T09:00:28.074Z"
   },
   {
    "duration": 6,
    "start_time": "2022-07-18T09:00:28.080Z"
   },
   {
    "duration": 291,
    "start_time": "2022-07-18T09:00:28.087Z"
   },
   {
    "duration": 31,
    "start_time": "2022-07-18T09:00:28.380Z"
   },
   {
    "duration": 11,
    "start_time": "2022-07-18T09:00:28.413Z"
   },
   {
    "duration": 81,
    "start_time": "2022-07-18T09:00:28.426Z"
   },
   {
    "duration": 47,
    "start_time": "2022-07-18T09:00:28.509Z"
   },
   {
    "duration": 120,
    "start_time": "2022-07-18T09:00:28.557Z"
   },
   {
    "duration": 2350,
    "start_time": "2022-07-18T09:00:28.678Z"
   },
   {
    "duration": 867,
    "start_time": "2022-07-18T09:00:31.031Z"
   },
   {
    "duration": 65,
    "start_time": "2022-07-18T09:00:31.900Z"
   },
   {
    "duration": 103,
    "start_time": "2022-07-18T09:00:31.967Z"
   },
   {
    "duration": 37,
    "start_time": "2022-07-18T09:00:32.071Z"
   },
   {
    "duration": 48,
    "start_time": "2022-07-18T09:00:32.124Z"
   },
   {
    "duration": 97,
    "start_time": "2022-07-18T09:00:32.174Z"
   },
   {
    "duration": 5,
    "start_time": "2022-07-18T09:00:32.275Z"
   },
   {
    "duration": 80,
    "start_time": "2022-07-18T09:00:32.283Z"
   },
   {
    "duration": 44,
    "start_time": "2022-07-18T09:00:32.365Z"
   },
   {
    "duration": 41,
    "start_time": "2022-07-18T09:00:32.411Z"
   },
   {
    "duration": 9,
    "start_time": "2022-07-18T09:00:46.325Z"
   },
   {
    "duration": 10,
    "start_time": "2022-07-18T09:00:49.909Z"
   },
   {
    "duration": 1276,
    "start_time": "2022-07-18T09:08:35.639Z"
   },
   {
    "duration": 180,
    "start_time": "2022-07-18T09:08:36.917Z"
   },
   {
    "duration": 4,
    "start_time": "2022-07-18T09:08:37.099Z"
   },
   {
    "duration": 49,
    "start_time": "2022-07-18T09:08:37.105Z"
   },
   {
    "duration": 10,
    "start_time": "2022-07-18T09:08:37.157Z"
   },
   {
    "duration": 117,
    "start_time": "2022-07-18T09:08:37.169Z"
   },
   {
    "duration": 99,
    "start_time": "2022-07-18T09:08:37.289Z"
   },
   {
    "duration": 9,
    "start_time": "2022-07-18T09:08:37.390Z"
   },
   {
    "duration": 106,
    "start_time": "2022-07-18T09:08:37.401Z"
   },
   {
    "duration": 25,
    "start_time": "2022-07-18T09:08:37.511Z"
   },
   {
    "duration": 102,
    "start_time": "2022-07-18T09:08:37.545Z"
   },
   {
    "duration": 91,
    "start_time": "2022-07-18T09:08:37.649Z"
   },
   {
    "duration": 4,
    "start_time": "2022-07-18T09:08:37.742Z"
   },
   {
    "duration": 10,
    "start_time": "2022-07-18T09:08:37.749Z"
   },
   {
    "duration": 318,
    "start_time": "2022-07-18T09:08:37.761Z"
   },
   {
    "duration": 46,
    "start_time": "2022-07-18T09:08:38.081Z"
   },
   {
    "duration": 9,
    "start_time": "2022-07-18T09:08:38.129Z"
   },
   {
    "duration": 100,
    "start_time": "2022-07-18T09:08:38.143Z"
   },
   {
    "duration": 37,
    "start_time": "2022-07-18T09:08:38.248Z"
   },
   {
    "duration": 129,
    "start_time": "2022-07-18T09:08:38.287Z"
   },
   {
    "duration": 2562,
    "start_time": "2022-07-18T09:08:38.417Z"
   },
   {
    "duration": 989,
    "start_time": "2022-07-18T09:08:40.981Z"
   },
   {
    "duration": 72,
    "start_time": "2022-07-18T09:08:41.972Z"
   },
   {
    "duration": 110,
    "start_time": "2022-07-18T09:08:42.047Z"
   },
   {
    "duration": 38,
    "start_time": "2022-07-18T09:08:42.159Z"
   },
   {
    "duration": 130,
    "start_time": "2022-07-18T09:08:42.199Z"
   },
   {
    "duration": 8,
    "start_time": "2022-07-18T09:08:42.339Z"
   },
   {
    "duration": 16,
    "start_time": "2022-07-18T09:08:42.351Z"
   },
   {
    "duration": 12,
    "start_time": "2022-07-18T09:08:42.368Z"
   },
   {
    "duration": 18,
    "start_time": "2022-07-18T09:08:42.382Z"
   },
   {
    "duration": 13,
    "start_time": "2022-07-18T09:11:45.243Z"
   },
   {
    "duration": 121,
    "start_time": "2022-07-18T09:12:44.700Z"
   },
   {
    "duration": 13,
    "start_time": "2022-07-18T09:12:58.073Z"
   },
   {
    "duration": 1163,
    "start_time": "2022-07-18T09:13:52.849Z"
   },
   {
    "duration": 2118,
    "start_time": "2022-07-18T09:14:17.585Z"
   },
   {
    "duration": 1194,
    "start_time": "2022-07-18T09:14:56.425Z"
   },
   {
    "duration": 1221,
    "start_time": "2022-07-18T09:15:12.006Z"
   },
   {
    "duration": 190,
    "start_time": "2022-07-18T09:15:13.229Z"
   },
   {
    "duration": 9,
    "start_time": "2022-07-18T09:15:13.420Z"
   },
   {
    "duration": 30,
    "start_time": "2022-07-18T09:15:13.435Z"
   },
   {
    "duration": 3,
    "start_time": "2022-07-18T09:15:13.467Z"
   },
   {
    "duration": 75,
    "start_time": "2022-07-18T09:15:13.471Z"
   },
   {
    "duration": 88,
    "start_time": "2022-07-18T09:15:13.548Z"
   },
   {
    "duration": 9,
    "start_time": "2022-07-18T09:15:13.638Z"
   },
   {
    "duration": 89,
    "start_time": "2022-07-18T09:15:13.649Z"
   },
   {
    "duration": 4,
    "start_time": "2022-07-18T09:15:13.742Z"
   },
   {
    "duration": 119,
    "start_time": "2022-07-18T09:15:13.748Z"
   },
   {
    "duration": 106,
    "start_time": "2022-07-18T09:15:13.869Z"
   },
   {
    "duration": 4,
    "start_time": "2022-07-18T09:15:13.977Z"
   },
   {
    "duration": 9,
    "start_time": "2022-07-18T09:15:13.983Z"
   },
   {
    "duration": 313,
    "start_time": "2022-07-18T09:15:13.994Z"
   },
   {
    "duration": 41,
    "start_time": "2022-07-18T09:15:14.309Z"
   },
   {
    "duration": 4,
    "start_time": "2022-07-18T09:15:14.352Z"
   },
   {
    "duration": 125,
    "start_time": "2022-07-18T09:15:14.358Z"
   },
   {
    "duration": 56,
    "start_time": "2022-07-18T09:15:14.485Z"
   },
   {
    "duration": 127,
    "start_time": "2022-07-18T09:15:14.542Z"
   },
   {
    "duration": 2475,
    "start_time": "2022-07-18T09:15:14.672Z"
   },
   {
    "duration": 1011,
    "start_time": "2022-07-18T09:15:17.149Z"
   },
   {
    "duration": 75,
    "start_time": "2022-07-18T09:15:18.164Z"
   },
   {
    "duration": 117,
    "start_time": "2022-07-18T09:15:18.242Z"
   },
   {
    "duration": 40,
    "start_time": "2022-07-18T09:15:18.360Z"
   },
   {
    "duration": 143,
    "start_time": "2022-07-18T09:15:18.402Z"
   },
   {
    "duration": 6,
    "start_time": "2022-07-18T09:15:18.547Z"
   },
   {
    "duration": 20,
    "start_time": "2022-07-18T09:15:18.556Z"
   },
   {
    "duration": 8,
    "start_time": "2022-07-18T09:15:18.578Z"
   },
   {
    "duration": 16,
    "start_time": "2022-07-18T09:15:18.587Z"
   },
   {
    "duration": 36,
    "start_time": "2022-07-18T09:15:18.604Z"
   },
   {
    "duration": 21,
    "start_time": "2022-07-18T09:15:18.643Z"
   },
   {
    "duration": 1182,
    "start_time": "2022-07-18T09:15:18.666Z"
   },
   {
    "duration": 1277,
    "start_time": "2022-07-18T09:16:22.512Z"
   },
   {
    "duration": 414,
    "start_time": "2022-07-18T09:16:41.461Z"
   },
   {
    "duration": 1152,
    "start_time": "2022-07-18T09:16:51.366Z"
   },
   {
    "duration": 172,
    "start_time": "2022-07-18T09:16:52.525Z"
   },
   {
    "duration": 4,
    "start_time": "2022-07-18T09:16:52.698Z"
   },
   {
    "duration": 47,
    "start_time": "2022-07-18T09:16:52.705Z"
   },
   {
    "duration": 3,
    "start_time": "2022-07-18T09:16:52.755Z"
   },
   {
    "duration": 83,
    "start_time": "2022-07-18T09:16:52.760Z"
   },
   {
    "duration": 91,
    "start_time": "2022-07-18T09:16:52.844Z"
   },
   {
    "duration": 8,
    "start_time": "2022-07-18T09:16:52.938Z"
   },
   {
    "duration": 80,
    "start_time": "2022-07-18T09:16:52.948Z"
   },
   {
    "duration": 9,
    "start_time": "2022-07-18T09:16:53.031Z"
   },
   {
    "duration": 94,
    "start_time": "2022-07-18T09:16:53.043Z"
   },
   {
    "duration": 100,
    "start_time": "2022-07-18T09:16:53.140Z"
   },
   {
    "duration": 4,
    "start_time": "2022-07-18T09:16:53.242Z"
   },
   {
    "duration": 8,
    "start_time": "2022-07-18T09:16:53.248Z"
   },
   {
    "duration": 282,
    "start_time": "2022-07-18T09:16:53.258Z"
   },
   {
    "duration": 33,
    "start_time": "2022-07-18T09:16:53.542Z"
   },
   {
    "duration": 4,
    "start_time": "2022-07-18T09:16:53.577Z"
   },
   {
    "duration": 103,
    "start_time": "2022-07-18T09:16:53.583Z"
   },
   {
    "duration": 53,
    "start_time": "2022-07-18T09:16:53.688Z"
   },
   {
    "duration": 106,
    "start_time": "2022-07-18T09:16:53.743Z"
   },
   {
    "duration": 2468,
    "start_time": "2022-07-18T09:16:53.851Z"
   },
   {
    "duration": 961,
    "start_time": "2022-07-18T09:16:56.321Z"
   },
   {
    "duration": 69,
    "start_time": "2022-07-18T09:16:57.285Z"
   },
   {
    "duration": 134,
    "start_time": "2022-07-18T09:16:57.356Z"
   },
   {
    "duration": 57,
    "start_time": "2022-07-18T09:16:57.493Z"
   },
   {
    "duration": 105,
    "start_time": "2022-07-18T09:16:57.552Z"
   },
   {
    "duration": 5,
    "start_time": "2022-07-18T09:16:57.659Z"
   },
   {
    "duration": 20,
    "start_time": "2022-07-18T09:16:57.667Z"
   },
   {
    "duration": 36,
    "start_time": "2022-07-18T09:16:57.689Z"
   },
   {
    "duration": 12,
    "start_time": "2022-07-18T09:16:57.731Z"
   },
   {
    "duration": 10,
    "start_time": "2022-07-18T09:16:57.745Z"
   },
   {
    "duration": 11,
    "start_time": "2022-07-18T09:16:57.756Z"
   },
   {
    "duration": 1271,
    "start_time": "2022-07-18T09:16:57.768Z"
   },
   {
    "duration": 15,
    "start_time": "2022-07-18T09:17:31.917Z"
   },
   {
    "duration": 2,
    "start_time": "2022-07-18T09:22:19.914Z"
   },
   {
    "duration": 9,
    "start_time": "2022-07-18T09:22:28.880Z"
   },
   {
    "duration": 9,
    "start_time": "2022-07-18T09:23:02.864Z"
   },
   {
    "duration": 12,
    "start_time": "2022-07-18T09:23:12.897Z"
   },
   {
    "duration": 954,
    "start_time": "2022-07-18T09:23:22.623Z"
   },
   {
    "duration": 8,
    "start_time": "2022-07-18T09:23:29.599Z"
   },
   {
    "duration": 1073,
    "start_time": "2022-07-18T09:40:39.838Z"
   },
   {
    "duration": 161,
    "start_time": "2022-07-18T09:40:40.913Z"
   },
   {
    "duration": 4,
    "start_time": "2022-07-18T09:40:41.075Z"
   },
   {
    "duration": 38,
    "start_time": "2022-07-18T09:40:41.081Z"
   },
   {
    "duration": 3,
    "start_time": "2022-07-18T09:40:41.121Z"
   },
   {
    "duration": 77,
    "start_time": "2022-07-18T09:40:41.125Z"
   },
   {
    "duration": 71,
    "start_time": "2022-07-18T09:40:41.204Z"
   },
   {
    "duration": 7,
    "start_time": "2022-07-18T09:40:41.276Z"
   },
   {
    "duration": 79,
    "start_time": "2022-07-18T09:40:41.285Z"
   },
   {
    "duration": 11,
    "start_time": "2022-07-18T09:40:41.367Z"
   },
   {
    "duration": 97,
    "start_time": "2022-07-18T09:40:41.380Z"
   },
   {
    "duration": 89,
    "start_time": "2022-07-18T09:40:41.479Z"
   },
   {
    "duration": 4,
    "start_time": "2022-07-18T09:40:41.570Z"
   },
   {
    "duration": 34,
    "start_time": "2022-07-18T09:40:41.576Z"
   },
   {
    "duration": 294,
    "start_time": "2022-07-18T09:40:41.611Z"
   },
   {
    "duration": 38,
    "start_time": "2022-07-18T09:40:41.906Z"
   },
   {
    "duration": 4,
    "start_time": "2022-07-18T09:40:41.946Z"
   },
   {
    "duration": 100,
    "start_time": "2022-07-18T09:40:41.951Z"
   },
   {
    "duration": 36,
    "start_time": "2022-07-18T09:40:42.052Z"
   },
   {
    "duration": 109,
    "start_time": "2022-07-18T09:40:42.090Z"
   },
   {
    "duration": 2206,
    "start_time": "2022-07-18T09:40:42.201Z"
   },
   {
    "duration": 863,
    "start_time": "2022-07-18T09:40:44.410Z"
   },
   {
    "duration": 61,
    "start_time": "2022-07-18T09:40:45.275Z"
   },
   {
    "duration": 93,
    "start_time": "2022-07-18T09:40:45.338Z"
   },
   {
    "duration": 40,
    "start_time": "2022-07-18T09:40:45.433Z"
   },
   {
    "duration": 105,
    "start_time": "2022-07-18T09:40:45.475Z"
   },
   {
    "duration": 5,
    "start_time": "2022-07-18T09:40:45.582Z"
   },
   {
    "duration": 43,
    "start_time": "2022-07-18T09:40:45.590Z"
   },
   {
    "duration": 6,
    "start_time": "2022-07-18T09:40:45.634Z"
   },
   {
    "duration": 17,
    "start_time": "2022-07-18T09:40:45.641Z"
   },
   {
    "duration": 10,
    "start_time": "2022-07-18T09:40:45.660Z"
   },
   {
    "duration": 11,
    "start_time": "2022-07-18T09:40:45.671Z"
   },
   {
    "duration": 13,
    "start_time": "2022-07-18T09:40:45.684Z"
   },
   {
    "duration": 3,
    "start_time": "2022-07-18T09:40:45.723Z"
   },
   {
    "duration": 15,
    "start_time": "2022-07-18T09:40:45.727Z"
   },
   {
    "duration": 31,
    "start_time": "2022-07-18T09:40:45.743Z"
   },
   {
    "duration": 14,
    "start_time": "2022-07-18T09:40:45.775Z"
   },
   {
    "duration": 1302,
    "start_time": "2022-07-18T14:54:13.740Z"
   },
   {
    "duration": 522,
    "start_time": "2022-07-18T14:54:15.044Z"
   },
   {
    "duration": 3,
    "start_time": "2022-07-18T14:54:15.568Z"
   },
   {
    "duration": 25,
    "start_time": "2022-07-18T14:54:15.574Z"
   },
   {
    "duration": 3,
    "start_time": "2022-07-18T14:54:15.601Z"
   },
   {
    "duration": 79,
    "start_time": "2022-07-18T14:54:15.605Z"
   },
   {
    "duration": 84,
    "start_time": "2022-07-18T14:54:15.686Z"
   },
   {
    "duration": 8,
    "start_time": "2022-07-18T14:54:15.772Z"
   },
   {
    "duration": 83,
    "start_time": "2022-07-18T14:54:15.781Z"
   },
   {
    "duration": 4,
    "start_time": "2022-07-18T14:54:15.867Z"
   },
   {
    "duration": 108,
    "start_time": "2022-07-18T14:54:15.873Z"
   },
   {
    "duration": 106,
    "start_time": "2022-07-18T14:54:15.982Z"
   },
   {
    "duration": 5,
    "start_time": "2022-07-18T14:54:16.090Z"
   },
   {
    "duration": 11,
    "start_time": "2022-07-18T14:54:16.096Z"
   },
   {
    "duration": 304,
    "start_time": "2022-07-18T14:54:16.108Z"
   },
   {
    "duration": 30,
    "start_time": "2022-07-18T14:54:16.414Z"
   },
   {
    "duration": 4,
    "start_time": "2022-07-18T14:54:16.446Z"
   },
   {
    "duration": 109,
    "start_time": "2022-07-18T14:54:16.451Z"
   },
   {
    "duration": 37,
    "start_time": "2022-07-18T14:54:16.562Z"
   },
   {
    "duration": 116,
    "start_time": "2022-07-18T14:54:16.601Z"
   },
   {
    "duration": 7154,
    "start_time": "2022-07-18T14:54:16.719Z"
   },
   {
    "duration": 982,
    "start_time": "2022-07-18T14:54:23.875Z"
   },
   {
    "duration": 65,
    "start_time": "2022-07-18T14:54:24.859Z"
   },
   {
    "duration": 103,
    "start_time": "2022-07-18T14:54:24.926Z"
   },
   {
    "duration": 55,
    "start_time": "2022-07-18T14:54:25.032Z"
   },
   {
    "duration": 137,
    "start_time": "2022-07-18T14:54:25.089Z"
   },
   {
    "duration": 5,
    "start_time": "2022-07-18T14:54:25.227Z"
   },
   {
    "duration": 16,
    "start_time": "2022-07-18T14:54:25.235Z"
   },
   {
    "duration": 9,
    "start_time": "2022-07-18T14:54:25.253Z"
   },
   {
    "duration": 13,
    "start_time": "2022-07-18T14:54:25.264Z"
   },
   {
    "duration": 10,
    "start_time": "2022-07-18T14:54:25.278Z"
   },
   {
    "duration": 48,
    "start_time": "2022-07-18T14:54:25.289Z"
   },
   {
    "duration": 22,
    "start_time": "2022-07-18T14:54:25.339Z"
   },
   {
    "duration": 3,
    "start_time": "2022-07-18T14:54:25.363Z"
   },
   {
    "duration": 26,
    "start_time": "2022-07-18T14:54:25.367Z"
   },
   {
    "duration": 28,
    "start_time": "2022-07-18T14:54:25.395Z"
   },
   {
    "duration": 9,
    "start_time": "2022-07-18T14:54:25.425Z"
   },
   {
    "duration": 14,
    "start_time": "2022-07-18T15:06:55.347Z"
   },
   {
    "duration": 352,
    "start_time": "2022-07-18T15:07:01.722Z"
   },
   {
    "duration": 46,
    "start_time": "2022-07-18T15:22:09.145Z"
   },
   {
    "duration": 1244,
    "start_time": "2022-07-18T15:22:15.627Z"
   },
   {
    "duration": 489,
    "start_time": "2022-07-18T15:22:16.873Z"
   },
   {
    "duration": 3,
    "start_time": "2022-07-18T15:22:17.363Z"
   },
   {
    "duration": 42,
    "start_time": "2022-07-18T15:22:17.368Z"
   },
   {
    "duration": 5,
    "start_time": "2022-07-18T15:22:17.411Z"
   },
   {
    "duration": 80,
    "start_time": "2022-07-18T15:22:17.418Z"
   },
   {
    "duration": 67,
    "start_time": "2022-07-18T15:22:17.500Z"
   },
   {
    "duration": 6,
    "start_time": "2022-07-18T15:22:17.569Z"
   },
   {
    "duration": 83,
    "start_time": "2022-07-18T15:22:17.577Z"
   },
   {
    "duration": 28,
    "start_time": "2022-07-18T15:22:17.662Z"
   },
   {
    "duration": 104,
    "start_time": "2022-07-18T15:22:17.692Z"
   },
   {
    "duration": 75,
    "start_time": "2022-07-18T15:22:17.798Z"
   },
   {
    "duration": 5,
    "start_time": "2022-07-18T15:22:17.874Z"
   },
   {
    "duration": 20,
    "start_time": "2022-07-18T15:22:17.880Z"
   },
   {
    "duration": 283,
    "start_time": "2022-07-18T15:22:17.901Z"
   },
   {
    "duration": 363,
    "start_time": "2022-07-18T15:22:18.186Z"
   },
   {
    "duration": 37,
    "start_time": "2022-07-18T15:22:18.551Z"
   },
   {
    "duration": 14,
    "start_time": "2022-07-18T15:22:18.589Z"
   },
   {
    "duration": 100,
    "start_time": "2022-07-18T15:22:18.605Z"
   },
   {
    "duration": 35,
    "start_time": "2022-07-18T15:22:18.707Z"
   },
   {
    "duration": 108,
    "start_time": "2022-07-18T15:22:18.743Z"
   },
   {
    "duration": 6636,
    "start_time": "2022-07-18T15:22:18.853Z"
   },
   {
    "duration": 800,
    "start_time": "2022-07-18T15:22:25.491Z"
   },
   {
    "duration": 42,
    "start_time": "2022-07-18T15:22:26.300Z"
   },
   {
    "duration": 100,
    "start_time": "2022-07-18T15:22:26.343Z"
   },
   {
    "duration": 36,
    "start_time": "2022-07-18T15:22:26.445Z"
   },
   {
    "duration": 123,
    "start_time": "2022-07-18T15:22:26.483Z"
   },
   {
    "duration": 6,
    "start_time": "2022-07-18T15:22:26.610Z"
   },
   {
    "duration": 23,
    "start_time": "2022-07-18T15:22:26.617Z"
   },
   {
    "duration": 12,
    "start_time": "2022-07-18T15:22:26.641Z"
   },
   {
    "duration": 13,
    "start_time": "2022-07-18T15:22:26.654Z"
   },
   {
    "duration": 9,
    "start_time": "2022-07-18T15:22:26.669Z"
   },
   {
    "duration": 29,
    "start_time": "2022-07-18T15:22:26.679Z"
   },
   {
    "duration": 18,
    "start_time": "2022-07-18T15:22:26.710Z"
   },
   {
    "duration": 6,
    "start_time": "2022-07-18T15:22:26.729Z"
   },
   {
    "duration": 20,
    "start_time": "2022-07-18T15:22:26.736Z"
   },
   {
    "duration": 10,
    "start_time": "2022-07-18T15:22:26.758Z"
   },
   {
    "duration": 31,
    "start_time": "2022-07-18T15:22:26.770Z"
   },
   {
    "duration": 2,
    "start_time": "2022-07-18T15:25:49.667Z"
   },
   {
    "duration": 4,
    "start_time": "2022-07-18T15:25:56.745Z"
   },
   {
    "duration": 3,
    "start_time": "2022-07-18T15:26:06.677Z"
   },
   {
    "duration": 5,
    "start_time": "2022-07-18T15:28:31.376Z"
   },
   {
    "duration": 5,
    "start_time": "2022-07-18T15:29:24.720Z"
   },
   {
    "duration": 1173,
    "start_time": "2022-07-18T15:29:33.699Z"
   },
   {
    "duration": 153,
    "start_time": "2022-07-18T15:29:34.874Z"
   },
   {
    "duration": 3,
    "start_time": "2022-07-18T15:29:35.028Z"
   },
   {
    "duration": 28,
    "start_time": "2022-07-18T15:29:35.033Z"
   },
   {
    "duration": 2,
    "start_time": "2022-07-18T15:29:35.063Z"
   },
   {
    "duration": 71,
    "start_time": "2022-07-18T15:29:35.067Z"
   },
   {
    "duration": 89,
    "start_time": "2022-07-18T15:29:35.140Z"
   },
   {
    "duration": 8,
    "start_time": "2022-07-18T15:29:35.231Z"
   },
   {
    "duration": 92,
    "start_time": "2022-07-18T15:29:35.241Z"
   },
   {
    "duration": 11,
    "start_time": "2022-07-18T15:29:35.337Z"
   },
   {
    "duration": 95,
    "start_time": "2022-07-18T15:29:35.350Z"
   },
   {
    "duration": 2,
    "start_time": "2022-07-18T15:29:35.446Z"
   },
   {
    "duration": 17,
    "start_time": "2022-07-18T15:29:35.450Z"
   },
   {
    "duration": 23,
    "start_time": "2022-07-18T15:29:35.469Z"
   },
   {
    "duration": 16,
    "start_time": "2022-07-18T15:29:35.493Z"
   },
   {
    "duration": 268,
    "start_time": "2022-07-18T15:29:35.511Z"
   },
   {
    "duration": 314,
    "start_time": "2022-07-18T15:29:35.780Z"
   },
   {
    "duration": 38,
    "start_time": "2022-07-18T15:29:36.096Z"
   },
   {
    "duration": 4,
    "start_time": "2022-07-18T15:29:36.136Z"
   },
   {
    "duration": 94,
    "start_time": "2022-07-18T15:29:36.142Z"
   },
   {
    "duration": 32,
    "start_time": "2022-07-18T15:29:36.238Z"
   },
   {
    "duration": 104,
    "start_time": "2022-07-18T15:29:36.272Z"
   },
   {
    "duration": 2063,
    "start_time": "2022-07-18T15:29:36.378Z"
   },
   {
    "duration": 769,
    "start_time": "2022-07-18T15:29:38.443Z"
   },
   {
    "duration": 48,
    "start_time": "2022-07-18T15:29:39.214Z"
   },
   {
    "duration": 115,
    "start_time": "2022-07-18T15:29:39.263Z"
   },
   {
    "duration": 46,
    "start_time": "2022-07-18T15:29:39.380Z"
   },
   {
    "duration": 91,
    "start_time": "2022-07-18T15:29:39.429Z"
   },
   {
    "duration": 5,
    "start_time": "2022-07-18T15:29:39.522Z"
   },
   {
    "duration": 31,
    "start_time": "2022-07-18T15:29:39.529Z"
   },
   {
    "duration": 32,
    "start_time": "2022-07-18T15:29:39.562Z"
   },
   {
    "duration": 18,
    "start_time": "2022-07-18T15:29:39.597Z"
   },
   {
    "duration": 13,
    "start_time": "2022-07-18T15:29:39.617Z"
   },
   {
    "duration": 15,
    "start_time": "2022-07-18T15:29:39.632Z"
   },
   {
    "duration": 10,
    "start_time": "2022-07-18T15:29:39.648Z"
   },
   {
    "duration": 3,
    "start_time": "2022-07-18T15:29:39.660Z"
   },
   {
    "duration": 16,
    "start_time": "2022-07-18T15:29:39.665Z"
   },
   {
    "duration": 19,
    "start_time": "2022-07-18T15:29:39.683Z"
   },
   {
    "duration": 9,
    "start_time": "2022-07-18T15:29:39.703Z"
   },
   {
    "duration": 4,
    "start_time": "2022-07-18T15:30:14.629Z"
   },
   {
    "duration": 5,
    "start_time": "2022-07-18T15:30:20.892Z"
   },
   {
    "duration": 4,
    "start_time": "2022-07-18T15:30:43.044Z"
   },
   {
    "duration": 74,
    "start_time": "2022-07-18T15:30:53.163Z"
   },
   {
    "duration": 3,
    "start_time": "2022-07-18T15:36:34.092Z"
   },
   {
    "duration": 1306,
    "start_time": "2022-07-18T15:36:43.695Z"
   },
   {
    "duration": 158,
    "start_time": "2022-07-18T15:36:45.003Z"
   },
   {
    "duration": 4,
    "start_time": "2022-07-18T15:36:45.164Z"
   },
   {
    "duration": 39,
    "start_time": "2022-07-18T15:36:45.170Z"
   },
   {
    "duration": 15,
    "start_time": "2022-07-18T15:36:45.211Z"
   },
   {
    "duration": 87,
    "start_time": "2022-07-18T15:36:45.229Z"
   },
   {
    "duration": 88,
    "start_time": "2022-07-18T15:36:45.319Z"
   },
   {
    "duration": 7,
    "start_time": "2022-07-18T15:36:45.408Z"
   },
   {
    "duration": 73,
    "start_time": "2022-07-18T15:36:45.416Z"
   },
   {
    "duration": 21,
    "start_time": "2022-07-18T15:36:45.502Z"
   },
   {
    "duration": 101,
    "start_time": "2022-07-18T15:36:45.525Z"
   },
   {
    "duration": 2,
    "start_time": "2022-07-18T15:36:45.628Z"
   },
   {
    "duration": 31,
    "start_time": "2022-07-18T15:36:45.632Z"
   },
   {
    "duration": 13,
    "start_time": "2022-07-18T15:36:45.665Z"
   },
   {
    "duration": 33,
    "start_time": "2022-07-18T15:36:45.680Z"
   },
   {
    "duration": 272,
    "start_time": "2022-07-18T15:36:45.715Z"
   },
   {
    "duration": 359,
    "start_time": "2022-07-18T15:36:45.989Z"
   },
   {
    "duration": 38,
    "start_time": "2022-07-18T15:36:46.350Z"
   },
   {
    "duration": 13,
    "start_time": "2022-07-18T15:36:46.390Z"
   },
   {
    "duration": 87,
    "start_time": "2022-07-18T15:36:46.405Z"
   },
   {
    "duration": 34,
    "start_time": "2022-07-18T15:36:46.501Z"
   },
   {
    "duration": 107,
    "start_time": "2022-07-18T15:36:46.536Z"
   },
   {
    "duration": 3,
    "start_time": "2022-07-18T15:36:46.645Z"
   },
   {
    "duration": 2319,
    "start_time": "2022-07-18T15:36:46.650Z"
   },
   {
    "duration": 800,
    "start_time": "2022-07-18T15:36:48.970Z"
   },
   {
    "duration": 54,
    "start_time": "2022-07-18T15:36:49.772Z"
   },
   {
    "duration": 97,
    "start_time": "2022-07-18T15:36:49.827Z"
   },
   {
    "duration": 35,
    "start_time": "2022-07-18T15:36:49.928Z"
   },
   {
    "duration": 94,
    "start_time": "2022-07-18T15:36:49.965Z"
   },
   {
    "duration": 5,
    "start_time": "2022-07-18T15:36:50.061Z"
   },
   {
    "duration": 36,
    "start_time": "2022-07-18T15:36:50.068Z"
   },
   {
    "duration": 25,
    "start_time": "2022-07-18T15:36:50.106Z"
   },
   {
    "duration": 44,
    "start_time": "2022-07-18T15:36:50.132Z"
   },
   {
    "duration": 33,
    "start_time": "2022-07-18T15:36:50.178Z"
   },
   {
    "duration": 40,
    "start_time": "2022-07-18T15:36:50.212Z"
   },
   {
    "duration": 24,
    "start_time": "2022-07-18T15:36:50.254Z"
   },
   {
    "duration": 16,
    "start_time": "2022-07-18T15:36:50.279Z"
   },
   {
    "duration": 50,
    "start_time": "2022-07-18T15:36:50.297Z"
   },
   {
    "duration": 41,
    "start_time": "2022-07-18T15:36:50.349Z"
   },
   {
    "duration": 29,
    "start_time": "2022-07-18T15:36:50.392Z"
   },
   {
    "duration": 3612,
    "start_time": "2022-07-18T15:45:36.549Z"
   },
   {
    "duration": 4,
    "start_time": "2022-07-18T15:53:31.791Z"
   },
   {
    "duration": 10,
    "start_time": "2022-07-18T15:56:44.935Z"
   },
   {
    "duration": 64,
    "start_time": "2022-07-18T17:04:04.847Z"
   },
   {
    "duration": 71,
    "start_time": "2022-07-18T17:04:19.244Z"
   },
   {
    "duration": 11,
    "start_time": "2022-07-18T17:05:01.837Z"
   },
   {
    "duration": 54,
    "start_time": "2022-07-18T17:05:09.836Z"
   },
   {
    "duration": 53,
    "start_time": "2022-07-18T17:05:15.972Z"
   },
   {
    "duration": 11,
    "start_time": "2022-07-18T17:05:40.245Z"
   },
   {
    "duration": 10,
    "start_time": "2022-07-18T17:05:44.540Z"
   },
   {
    "duration": 1107,
    "start_time": "2022-07-18T17:05:48.985Z"
   },
   {
    "duration": 158,
    "start_time": "2022-07-18T17:05:50.094Z"
   },
   {
    "duration": 3,
    "start_time": "2022-07-18T17:05:50.254Z"
   },
   {
    "duration": 20,
    "start_time": "2022-07-18T17:05:50.259Z"
   },
   {
    "duration": 2,
    "start_time": "2022-07-18T17:05:50.281Z"
   },
   {
    "duration": 72,
    "start_time": "2022-07-18T17:05:50.285Z"
   },
   {
    "duration": 89,
    "start_time": "2022-07-18T17:05:50.358Z"
   },
   {
    "duration": 7,
    "start_time": "2022-07-18T17:05:50.449Z"
   },
   {
    "duration": 87,
    "start_time": "2022-07-18T17:05:50.457Z"
   },
   {
    "duration": 12,
    "start_time": "2022-07-18T17:05:50.546Z"
   },
   {
    "duration": 89,
    "start_time": "2022-07-18T17:05:50.560Z"
   },
   {
    "duration": 2,
    "start_time": "2022-07-18T17:05:50.651Z"
   },
   {
    "duration": 14,
    "start_time": "2022-07-18T17:05:50.655Z"
   },
   {
    "duration": 10,
    "start_time": "2022-07-18T17:05:50.670Z"
   },
   {
    "duration": 8,
    "start_time": "2022-07-18T17:05:50.682Z"
   },
   {
    "duration": 280,
    "start_time": "2022-07-18T17:05:50.692Z"
   },
   {
    "duration": 353,
    "start_time": "2022-07-18T17:05:50.973Z"
   },
   {
    "duration": 40,
    "start_time": "2022-07-18T17:05:51.328Z"
   },
   {
    "duration": 4,
    "start_time": "2022-07-18T17:05:51.370Z"
   },
   {
    "duration": 98,
    "start_time": "2022-07-18T17:05:51.376Z"
   },
   {
    "duration": 51,
    "start_time": "2022-07-18T17:05:51.476Z"
   },
   {
    "duration": 4,
    "start_time": "2022-07-18T17:05:51.528Z"
   },
   {
    "duration": 115,
    "start_time": "2022-07-18T17:05:51.534Z"
   },
   {
    "duration": 3,
    "start_time": "2022-07-18T17:05:51.650Z"
   },
   {
    "duration": 2167,
    "start_time": "2022-07-18T17:05:51.655Z"
   },
   {
    "duration": 887,
    "start_time": "2022-07-18T17:05:53.825Z"
   },
   {
    "duration": 14,
    "start_time": "2022-07-18T17:05:54.715Z"
   },
   {
    "duration": 70,
    "start_time": "2022-07-18T17:05:54.732Z"
   },
   {
    "duration": 82,
    "start_time": "2022-07-18T17:05:54.804Z"
   },
   {
    "duration": 40,
    "start_time": "2022-07-18T17:05:54.901Z"
   },
   {
    "duration": 98,
    "start_time": "2022-07-18T17:05:54.943Z"
   },
   {
    "duration": 6,
    "start_time": "2022-07-18T17:05:55.043Z"
   },
   {
    "duration": 27,
    "start_time": "2022-07-18T17:05:55.050Z"
   },
   {
    "duration": 11,
    "start_time": "2022-07-18T17:05:55.078Z"
   },
   {
    "duration": 14,
    "start_time": "2022-07-18T17:05:55.101Z"
   },
   {
    "duration": 11,
    "start_time": "2022-07-18T17:05:55.116Z"
   },
   {
    "duration": 11,
    "start_time": "2022-07-18T17:05:55.128Z"
   },
   {
    "duration": 19,
    "start_time": "2022-07-18T17:05:55.141Z"
   },
   {
    "duration": 4,
    "start_time": "2022-07-18T17:05:55.166Z"
   },
   {
    "duration": 38,
    "start_time": "2022-07-18T17:05:55.171Z"
   },
   {
    "duration": 34,
    "start_time": "2022-07-18T17:05:55.211Z"
   },
   {
    "duration": 14,
    "start_time": "2022-07-18T17:05:55.247Z"
   },
   {
    "duration": 62,
    "start_time": "2022-07-18T17:06:53.613Z"
   },
   {
    "duration": 58,
    "start_time": "2022-07-18T17:07:17.178Z"
   },
   {
    "duration": 1210,
    "start_time": "2022-07-18T17:07:24.673Z"
   },
   {
    "duration": 159,
    "start_time": "2022-07-18T17:07:25.885Z"
   },
   {
    "duration": 4,
    "start_time": "2022-07-18T17:07:26.046Z"
   },
   {
    "duration": 46,
    "start_time": "2022-07-18T17:07:26.052Z"
   },
   {
    "duration": 3,
    "start_time": "2022-07-18T17:07:26.100Z"
   },
   {
    "duration": 94,
    "start_time": "2022-07-18T17:07:26.104Z"
   },
   {
    "duration": 84,
    "start_time": "2022-07-18T17:07:26.200Z"
   },
   {
    "duration": 19,
    "start_time": "2022-07-18T17:07:26.286Z"
   },
   {
    "duration": 76,
    "start_time": "2022-07-18T17:07:26.307Z"
   },
   {
    "duration": 25,
    "start_time": "2022-07-18T17:07:26.386Z"
   },
   {
    "duration": 118,
    "start_time": "2022-07-18T17:07:26.414Z"
   },
   {
    "duration": 2,
    "start_time": "2022-07-18T17:07:26.535Z"
   },
   {
    "duration": 23,
    "start_time": "2022-07-18T17:07:26.539Z"
   },
   {
    "duration": 24,
    "start_time": "2022-07-18T17:07:26.565Z"
   },
   {
    "duration": 28,
    "start_time": "2022-07-18T17:07:26.591Z"
   },
   {
    "duration": 301,
    "start_time": "2022-07-18T17:07:26.620Z"
   },
   {
    "duration": 337,
    "start_time": "2022-07-18T17:07:26.922Z"
   },
   {
    "duration": 43,
    "start_time": "2022-07-18T17:07:27.261Z"
   },
   {
    "duration": 4,
    "start_time": "2022-07-18T17:07:27.306Z"
   },
   {
    "duration": 90,
    "start_time": "2022-07-18T17:07:27.311Z"
   },
   {
    "duration": 36,
    "start_time": "2022-07-18T17:07:27.403Z"
   },
   {
    "duration": 4,
    "start_time": "2022-07-18T17:07:27.441Z"
   },
   {
    "duration": 134,
    "start_time": "2022-07-18T17:07:27.446Z"
   },
   {
    "duration": 3,
    "start_time": "2022-07-18T17:07:27.581Z"
   },
   {
    "duration": 2123,
    "start_time": "2022-07-18T17:07:27.586Z"
   },
   {
    "duration": 852,
    "start_time": "2022-07-18T17:07:29.711Z"
   },
   {
    "duration": 14,
    "start_time": "2022-07-18T17:07:30.565Z"
   },
   {
    "duration": 39,
    "start_time": "2022-07-18T17:07:30.602Z"
   },
   {
    "duration": 105,
    "start_time": "2022-07-18T17:07:30.643Z"
   },
   {
    "duration": 52,
    "start_time": "2022-07-18T17:07:30.750Z"
   },
   {
    "duration": 75,
    "start_time": "2022-07-18T17:07:30.804Z"
   },
   {
    "duration": 6,
    "start_time": "2022-07-18T17:07:30.900Z"
   },
   {
    "duration": 27,
    "start_time": "2022-07-18T17:07:30.907Z"
   },
   {
    "duration": 20,
    "start_time": "2022-07-18T17:07:30.936Z"
   },
   {
    "duration": 26,
    "start_time": "2022-07-18T17:07:30.958Z"
   },
   {
    "duration": 10,
    "start_time": "2022-07-18T17:07:30.986Z"
   },
   {
    "duration": 27,
    "start_time": "2022-07-18T17:07:30.998Z"
   },
   {
    "duration": 19,
    "start_time": "2022-07-18T17:07:31.027Z"
   },
   {
    "duration": 4,
    "start_time": "2022-07-18T17:07:31.048Z"
   },
   {
    "duration": 81,
    "start_time": "2022-07-18T17:07:31.053Z"
   },
   {
    "duration": 22,
    "start_time": "2022-07-18T17:07:31.136Z"
   },
   {
    "duration": 15,
    "start_time": "2022-07-18T17:07:31.160Z"
   },
   {
    "duration": 65,
    "start_time": "2022-07-18T17:08:01.791Z"
   },
   {
    "duration": 58,
    "start_time": "2022-07-18T17:08:14.174Z"
   },
   {
    "duration": 11,
    "start_time": "2022-07-18T17:08:20.173Z"
   },
   {
    "duration": 46,
    "start_time": "2022-07-18T17:26:31.761Z"
   },
   {
    "duration": 117,
    "start_time": "2022-07-18T17:27:19.970Z"
   },
   {
    "duration": 16,
    "start_time": "2022-07-18T17:27:41.420Z"
   },
   {
    "duration": 19,
    "start_time": "2022-07-18T17:28:01.163Z"
   },
   {
    "duration": 73,
    "start_time": "2022-07-18T17:28:11.138Z"
   },
   {
    "duration": 69,
    "start_time": "2022-07-18T17:28:31.426Z"
   },
   {
    "duration": 91,
    "start_time": "2022-07-18T17:28:41.626Z"
   },
   {
    "duration": 8,
    "start_time": "2022-07-18T17:28:56.848Z"
   },
   {
    "duration": 1190,
    "start_time": "2022-07-18T17:33:24.366Z"
   },
   {
    "duration": 157,
    "start_time": "2022-07-18T17:33:25.558Z"
   },
   {
    "duration": 3,
    "start_time": "2022-07-18T17:33:25.716Z"
   },
   {
    "duration": 27,
    "start_time": "2022-07-18T17:33:25.721Z"
   },
   {
    "duration": 20,
    "start_time": "2022-07-18T17:33:25.749Z"
   },
   {
    "duration": 71,
    "start_time": "2022-07-18T17:33:25.770Z"
   },
   {
    "duration": 94,
    "start_time": "2022-07-18T17:33:25.843Z"
   },
   {
    "duration": 10,
    "start_time": "2022-07-18T17:33:25.939Z"
   },
   {
    "duration": 77,
    "start_time": "2022-07-18T17:33:25.951Z"
   },
   {
    "duration": 4,
    "start_time": "2022-07-18T17:33:26.030Z"
   },
   {
    "duration": 102,
    "start_time": "2022-07-18T17:33:26.035Z"
   },
   {
    "duration": 2,
    "start_time": "2022-07-18T17:33:26.139Z"
   },
   {
    "duration": 19,
    "start_time": "2022-07-18T17:33:26.143Z"
   },
   {
    "duration": 9,
    "start_time": "2022-07-18T17:33:26.164Z"
   },
   {
    "duration": 30,
    "start_time": "2022-07-18T17:33:26.174Z"
   },
   {
    "duration": 305,
    "start_time": "2022-07-18T17:33:26.206Z"
   },
   {
    "duration": 330,
    "start_time": "2022-07-18T17:33:26.513Z"
   },
   {
    "duration": 40,
    "start_time": "2022-07-18T17:33:26.845Z"
   },
   {
    "duration": 4,
    "start_time": "2022-07-18T17:33:26.886Z"
   },
   {
    "duration": 80,
    "start_time": "2022-07-18T17:33:26.901Z"
   },
   {
    "duration": 51,
    "start_time": "2022-07-18T17:33:26.983Z"
   },
   {
    "duration": 4,
    "start_time": "2022-07-18T17:33:27.036Z"
   },
   {
    "duration": 91,
    "start_time": "2022-07-18T17:33:27.042Z"
   },
   {
    "duration": 3,
    "start_time": "2022-07-18T17:33:27.134Z"
   },
   {
    "duration": 2219,
    "start_time": "2022-07-18T17:33:27.138Z"
   },
   {
    "duration": 891,
    "start_time": "2022-07-18T17:33:29.360Z"
   },
   {
    "duration": 14,
    "start_time": "2022-07-18T17:33:30.253Z"
   },
   {
    "duration": 65,
    "start_time": "2022-07-18T17:33:30.272Z"
   },
   {
    "duration": 111,
    "start_time": "2022-07-18T17:33:30.339Z"
   },
   {
    "duration": 51,
    "start_time": "2022-07-18T17:33:30.451Z"
   },
   {
    "duration": 102,
    "start_time": "2022-07-18T17:33:30.503Z"
   },
   {
    "duration": 7,
    "start_time": "2022-07-18T17:33:30.607Z"
   },
   {
    "duration": 106,
    "start_time": "2022-07-18T17:33:30.615Z"
   },
   {
    "duration": 5,
    "start_time": "2022-07-18T17:33:30.723Z"
   },
   {
    "duration": 36,
    "start_time": "2022-07-18T17:33:30.729Z"
   },
   {
    "duration": 15,
    "start_time": "2022-07-18T17:33:30.767Z"
   },
   {
    "duration": 19,
    "start_time": "2022-07-18T17:33:30.784Z"
   },
   {
    "duration": 13,
    "start_time": "2022-07-18T17:33:30.805Z"
   },
   {
    "duration": 31,
    "start_time": "2022-07-18T17:33:30.820Z"
   },
   {
    "duration": 37,
    "start_time": "2022-07-18T17:33:30.853Z"
   },
   {
    "duration": 14,
    "start_time": "2022-07-18T17:33:30.891Z"
   },
   {
    "duration": 40,
    "start_time": "2022-07-18T17:33:30.907Z"
   },
   {
    "duration": 48,
    "start_time": "2022-07-18T17:33:30.949Z"
   },
   {
    "duration": 23,
    "start_time": "2022-07-18T17:33:30.999Z"
   },
   {
    "duration": 1226,
    "start_time": "2022-07-18T17:34:28.881Z"
   },
   {
    "duration": 157,
    "start_time": "2022-07-18T17:34:30.109Z"
   },
   {
    "duration": 3,
    "start_time": "2022-07-18T17:34:30.268Z"
   },
   {
    "duration": 53,
    "start_time": "2022-07-18T17:34:30.273Z"
   },
   {
    "duration": 33,
    "start_time": "2022-07-18T17:34:30.328Z"
   },
   {
    "duration": 110,
    "start_time": "2022-07-18T17:34:30.363Z"
   },
   {
    "duration": 116,
    "start_time": "2022-07-18T17:34:30.476Z"
   },
   {
    "duration": 9,
    "start_time": "2022-07-18T17:34:30.595Z"
   },
   {
    "duration": 77,
    "start_time": "2022-07-18T17:34:30.606Z"
   },
   {
    "duration": 4,
    "start_time": "2022-07-18T17:34:30.686Z"
   },
   {
    "duration": 109,
    "start_time": "2022-07-18T17:34:30.692Z"
   },
   {
    "duration": 3,
    "start_time": "2022-07-18T17:34:30.803Z"
   },
   {
    "duration": 9,
    "start_time": "2022-07-18T17:34:30.808Z"
   },
   {
    "duration": 19,
    "start_time": "2022-07-18T17:34:30.819Z"
   },
   {
    "duration": 46,
    "start_time": "2022-07-18T17:34:30.839Z"
   },
   {
    "duration": 291,
    "start_time": "2022-07-18T17:34:30.886Z"
   },
   {
    "duration": 364,
    "start_time": "2022-07-18T17:34:31.178Z"
   },
   {
    "duration": 42,
    "start_time": "2022-07-18T17:34:31.544Z"
   },
   {
    "duration": 15,
    "start_time": "2022-07-18T17:34:31.588Z"
   },
   {
    "duration": 91,
    "start_time": "2022-07-18T17:34:31.605Z"
   },
   {
    "duration": 37,
    "start_time": "2022-07-18T17:34:31.701Z"
   },
   {
    "duration": 4,
    "start_time": "2022-07-18T17:34:31.740Z"
   },
   {
    "duration": 89,
    "start_time": "2022-07-18T17:34:31.745Z"
   },
   {
    "duration": 3,
    "start_time": "2022-07-18T17:34:31.836Z"
   },
   {
    "duration": 2120,
    "start_time": "2022-07-18T17:34:31.841Z"
   },
   {
    "duration": 918,
    "start_time": "2022-07-18T17:34:33.963Z"
   },
   {
    "duration": 28,
    "start_time": "2022-07-18T17:34:34.884Z"
   },
   {
    "duration": 47,
    "start_time": "2022-07-18T17:34:34.916Z"
   },
   {
    "duration": 110,
    "start_time": "2022-07-18T17:34:34.965Z"
   },
   {
    "duration": 49,
    "start_time": "2022-07-18T17:34:35.077Z"
   },
   {
    "duration": 108,
    "start_time": "2022-07-18T17:34:35.128Z"
   },
   {
    "duration": 8,
    "start_time": "2022-07-18T17:34:35.238Z"
   },
   {
    "duration": 35,
    "start_time": "2022-07-18T17:34:35.248Z"
   },
   {
    "duration": 6,
    "start_time": "2022-07-18T17:34:35.301Z"
   },
   {
    "duration": 35,
    "start_time": "2022-07-18T17:34:35.309Z"
   },
   {
    "duration": 23,
    "start_time": "2022-07-18T17:34:35.346Z"
   },
   {
    "duration": 16,
    "start_time": "2022-07-18T17:34:35.371Z"
   },
   {
    "duration": 17,
    "start_time": "2022-07-18T17:34:35.389Z"
   },
   {
    "duration": 3,
    "start_time": "2022-07-18T17:34:35.408Z"
   },
   {
    "duration": 11,
    "start_time": "2022-07-18T17:34:35.413Z"
   },
   {
    "duration": 14,
    "start_time": "2022-07-18T17:34:35.425Z"
   },
   {
    "duration": 12,
    "start_time": "2022-07-18T17:34:35.441Z"
   },
   {
    "duration": 1252,
    "start_time": "2022-07-18T18:00:04.377Z"
   },
   {
    "duration": 166,
    "start_time": "2022-07-18T18:00:05.631Z"
   },
   {
    "duration": 3,
    "start_time": "2022-07-18T18:00:05.800Z"
   },
   {
    "duration": 27,
    "start_time": "2022-07-18T18:00:05.808Z"
   },
   {
    "duration": 13,
    "start_time": "2022-07-18T18:00:05.836Z"
   },
   {
    "duration": 84,
    "start_time": "2022-07-18T18:00:05.851Z"
   },
   {
    "duration": 87,
    "start_time": "2022-07-18T18:00:05.936Z"
   },
   {
    "duration": 7,
    "start_time": "2022-07-18T18:00:06.025Z"
   },
   {
    "duration": 98,
    "start_time": "2022-07-18T18:00:06.033Z"
   },
   {
    "duration": 24,
    "start_time": "2022-07-18T18:00:06.136Z"
   },
   {
    "duration": 112,
    "start_time": "2022-07-18T18:00:06.162Z"
   },
   {
    "duration": 2,
    "start_time": "2022-07-18T18:00:06.276Z"
   },
   {
    "duration": 36,
    "start_time": "2022-07-18T18:00:06.280Z"
   },
   {
    "duration": 31,
    "start_time": "2022-07-18T18:00:06.318Z"
   },
   {
    "duration": 32,
    "start_time": "2022-07-18T18:00:06.350Z"
   },
   {
    "duration": 303,
    "start_time": "2022-07-18T18:00:06.384Z"
   },
   {
    "duration": 354,
    "start_time": "2022-07-18T18:00:06.688Z"
   },
   {
    "duration": 63,
    "start_time": "2022-07-18T18:00:07.044Z"
   },
   {
    "duration": 5,
    "start_time": "2022-07-18T18:00:07.115Z"
   },
   {
    "duration": 118,
    "start_time": "2022-07-18T18:00:07.121Z"
   },
   {
    "duration": 38,
    "start_time": "2022-07-18T18:00:07.241Z"
   },
   {
    "duration": 3,
    "start_time": "2022-07-18T18:00:07.281Z"
   },
   {
    "duration": 108,
    "start_time": "2022-07-18T18:00:07.286Z"
   },
   {
    "duration": 3,
    "start_time": "2022-07-18T18:00:07.396Z"
   },
   {
    "duration": 2250,
    "start_time": "2022-07-18T18:00:07.404Z"
   },
   {
    "duration": 869,
    "start_time": "2022-07-18T18:00:09.656Z"
   },
   {
    "duration": 14,
    "start_time": "2022-07-18T18:00:10.527Z"
   },
   {
    "duration": 64,
    "start_time": "2022-07-18T18:00:10.544Z"
   },
   {
    "duration": 79,
    "start_time": "2022-07-18T18:00:10.612Z"
   },
   {
    "duration": 48,
    "start_time": "2022-07-18T18:00:10.693Z"
   },
   {
    "duration": 101,
    "start_time": "2022-07-18T18:00:10.743Z"
   },
   {
    "duration": 5,
    "start_time": "2022-07-18T18:00:10.846Z"
   },
   {
    "duration": 20,
    "start_time": "2022-07-18T18:00:10.853Z"
   },
   {
    "duration": 26,
    "start_time": "2022-07-18T18:00:10.875Z"
   },
   {
    "duration": 15,
    "start_time": "2022-07-18T18:00:10.903Z"
   },
   {
    "duration": 13,
    "start_time": "2022-07-18T18:00:10.920Z"
   },
   {
    "duration": 10,
    "start_time": "2022-07-18T18:00:10.935Z"
   },
   {
    "duration": 27,
    "start_time": "2022-07-18T18:00:10.947Z"
   },
   {
    "duration": 5,
    "start_time": "2022-07-18T18:00:10.976Z"
   },
   {
    "duration": 28,
    "start_time": "2022-07-18T18:00:10.982Z"
   },
   {
    "duration": 15,
    "start_time": "2022-07-18T18:00:11.013Z"
   },
   {
    "duration": 21,
    "start_time": "2022-07-18T18:00:11.030Z"
   },
   {
    "duration": 1485,
    "start_time": "2022-07-19T10:07:19.009Z"
   },
   {
    "duration": 576,
    "start_time": "2022-07-19T10:07:20.496Z"
   },
   {
    "duration": 4,
    "start_time": "2022-07-19T10:07:21.074Z"
   },
   {
    "duration": 48,
    "start_time": "2022-07-19T10:07:21.080Z"
   },
   {
    "duration": 4,
    "start_time": "2022-07-19T10:07:21.131Z"
   },
   {
    "duration": 107,
    "start_time": "2022-07-19T10:07:21.136Z"
   },
   {
    "duration": 102,
    "start_time": "2022-07-19T10:07:21.245Z"
   },
   {
    "duration": 9,
    "start_time": "2022-07-19T10:07:21.349Z"
   },
   {
    "duration": 90,
    "start_time": "2022-07-19T10:07:21.359Z"
   },
   {
    "duration": 28,
    "start_time": "2022-07-19T10:07:21.453Z"
   },
   {
    "duration": 108,
    "start_time": "2022-07-19T10:07:21.483Z"
   },
   {
    "duration": 3,
    "start_time": "2022-07-19T10:07:21.593Z"
   },
   {
    "duration": 22,
    "start_time": "2022-07-19T10:07:21.598Z"
   },
   {
    "duration": 51,
    "start_time": "2022-07-19T10:07:21.622Z"
   },
   {
    "duration": 15,
    "start_time": "2022-07-19T10:07:21.675Z"
   },
   {
    "duration": 327,
    "start_time": "2022-07-19T10:07:21.693Z"
   },
   {
    "duration": 383,
    "start_time": "2022-07-19T10:07:22.022Z"
   },
   {
    "duration": 50,
    "start_time": "2022-07-19T10:07:22.407Z"
   },
   {
    "duration": 4,
    "start_time": "2022-07-19T10:07:22.459Z"
   },
   {
    "duration": 105,
    "start_time": "2022-07-19T10:07:22.465Z"
   },
   {
    "duration": 52,
    "start_time": "2022-07-19T10:07:22.572Z"
   },
   {
    "duration": 4,
    "start_time": "2022-07-19T10:07:22.626Z"
   },
   {
    "duration": 101,
    "start_time": "2022-07-19T10:07:22.633Z"
   },
   {
    "duration": 3,
    "start_time": "2022-07-19T10:07:22.736Z"
   },
   {
    "duration": 11537,
    "start_time": "2022-07-19T10:07:22.740Z"
   },
   {
    "duration": 1178,
    "start_time": "2022-07-19T10:07:34.279Z"
   },
   {
    "duration": 18,
    "start_time": "2022-07-19T10:07:35.459Z"
   },
   {
    "duration": 72,
    "start_time": "2022-07-19T10:07:35.482Z"
   },
   {
    "duration": 120,
    "start_time": "2022-07-19T10:07:35.556Z"
   },
   {
    "duration": 67,
    "start_time": "2022-07-19T10:07:35.678Z"
   },
   {
    "duration": 108,
    "start_time": "2022-07-19T10:07:35.747Z"
   },
   {
    "duration": 6,
    "start_time": "2022-07-19T10:07:35.857Z"
   },
   {
    "duration": 22,
    "start_time": "2022-07-19T10:07:35.866Z"
   },
   {
    "duration": 9,
    "start_time": "2022-07-19T10:07:35.889Z"
   },
   {
    "duration": 13,
    "start_time": "2022-07-19T10:07:35.923Z"
   },
   {
    "duration": 14,
    "start_time": "2022-07-19T10:07:35.938Z"
   },
   {
    "duration": 29,
    "start_time": "2022-07-19T10:07:35.953Z"
   },
   {
    "duration": 21,
    "start_time": "2022-07-19T10:07:35.984Z"
   },
   {
    "duration": 8,
    "start_time": "2022-07-19T10:07:36.022Z"
   },
   {
    "duration": 14,
    "start_time": "2022-07-19T10:07:36.032Z"
   },
   {
    "duration": 27,
    "start_time": "2022-07-19T10:07:36.048Z"
   },
   {
    "duration": 19,
    "start_time": "2022-07-19T10:07:36.077Z"
   },
   {
    "duration": 47,
    "start_time": "2022-08-25T10:24:08.612Z"
   },
   {
    "duration": 1250,
    "start_time": "2022-08-25T10:24:16.775Z"
   },
   {
    "duration": 657,
    "start_time": "2022-08-25T10:24:18.027Z"
   },
   {
    "duration": 3,
    "start_time": "2022-08-25T10:24:18.686Z"
   },
   {
    "duration": 22,
    "start_time": "2022-08-25T10:24:18.690Z"
   },
   {
    "duration": 2,
    "start_time": "2022-08-25T10:24:18.713Z"
   },
   {
    "duration": 59,
    "start_time": "2022-08-25T10:24:18.716Z"
   },
   {
    "duration": 82,
    "start_time": "2022-08-25T10:24:18.776Z"
   },
   {
    "duration": 7,
    "start_time": "2022-08-25T10:24:18.861Z"
   },
   {
    "duration": 69,
    "start_time": "2022-08-25T10:24:18.870Z"
   },
   {
    "duration": 4,
    "start_time": "2022-08-25T10:24:18.942Z"
   },
   {
    "duration": 92,
    "start_time": "2022-08-25T10:24:18.947Z"
   },
   {
    "duration": 3,
    "start_time": "2022-08-25T10:24:19.041Z"
   },
   {
    "duration": 8,
    "start_time": "2022-08-25T10:24:19.045Z"
   },
   {
    "duration": 7,
    "start_time": "2022-08-25T10:24:19.054Z"
   },
   {
    "duration": 5,
    "start_time": "2022-08-25T10:24:19.062Z"
   },
   {
    "duration": 273,
    "start_time": "2022-08-25T10:24:19.068Z"
   },
   {
    "duration": 316,
    "start_time": "2022-08-25T10:24:19.342Z"
   },
   {
    "duration": 47,
    "start_time": "2022-08-25T10:24:19.660Z"
   },
   {
    "duration": 4,
    "start_time": "2022-08-25T10:24:19.709Z"
   },
   {
    "duration": 123,
    "start_time": "2022-08-25T10:24:19.716Z"
   },
   {
    "duration": 47,
    "start_time": "2022-08-25T10:24:19.841Z"
   },
   {
    "duration": 17,
    "start_time": "2022-08-25T10:24:19.890Z"
   },
   {
    "duration": 70,
    "start_time": "2022-08-25T10:24:19.909Z"
   },
   {
    "duration": 3,
    "start_time": "2022-08-25T10:24:19.981Z"
   },
   {
    "duration": 7431,
    "start_time": "2022-08-25T10:24:19.986Z"
   },
   {
    "duration": 859,
    "start_time": "2022-08-25T10:24:27.419Z"
   },
   {
    "duration": 28,
    "start_time": "2022-08-25T10:24:28.280Z"
   },
   {
    "duration": 39,
    "start_time": "2022-08-25T10:24:28.312Z"
   },
   {
    "duration": 98,
    "start_time": "2022-08-25T10:24:28.353Z"
   },
   {
    "duration": 33,
    "start_time": "2022-08-25T10:24:28.453Z"
   },
   {
    "duration": 103,
    "start_time": "2022-08-25T10:24:28.505Z"
   },
   {
    "duration": 5,
    "start_time": "2022-08-25T10:24:28.609Z"
   },
   {
    "duration": 20,
    "start_time": "2022-08-25T10:24:28.615Z"
   },
   {
    "duration": 7,
    "start_time": "2022-08-25T10:24:28.637Z"
   },
   {
    "duration": 16,
    "start_time": "2022-08-25T10:24:28.646Z"
   },
   {
    "duration": 10,
    "start_time": "2022-08-25T10:24:28.664Z"
   },
   {
    "duration": 39,
    "start_time": "2022-08-25T10:24:28.676Z"
   },
   {
    "duration": 13,
    "start_time": "2022-08-25T10:24:28.717Z"
   },
   {
    "duration": 3,
    "start_time": "2022-08-25T10:24:28.732Z"
   },
   {
    "duration": 24,
    "start_time": "2022-08-25T10:24:28.737Z"
   },
   {
    "duration": 12,
    "start_time": "2022-08-25T10:24:28.764Z"
   },
   {
    "duration": 11,
    "start_time": "2022-08-25T10:24:28.805Z"
   },
   {
    "duration": 69,
    "start_time": "2022-09-27T16:23:12.976Z"
   },
   {
    "duration": 1305,
    "start_time": "2022-09-27T16:23:26.373Z"
   },
   {
    "duration": 682,
    "start_time": "2022-09-27T16:23:27.680Z"
   },
   {
    "duration": 3,
    "start_time": "2022-09-27T16:23:28.364Z"
   },
   {
    "duration": 46,
    "start_time": "2022-09-27T16:23:28.370Z"
   },
   {
    "duration": 7,
    "start_time": "2022-09-27T16:23:28.418Z"
   },
   {
    "duration": 74,
    "start_time": "2022-09-27T16:23:28.427Z"
   },
   {
    "duration": 89,
    "start_time": "2022-09-27T16:23:28.503Z"
   },
   {
    "duration": 8,
    "start_time": "2022-09-27T16:23:28.593Z"
   },
   {
    "duration": 74,
    "start_time": "2022-09-27T16:23:28.602Z"
   },
   {
    "duration": 8,
    "start_time": "2022-09-27T16:23:28.680Z"
   },
   {
    "duration": 137,
    "start_time": "2022-09-27T16:23:28.690Z"
   },
   {
    "duration": 3,
    "start_time": "2022-09-27T16:23:28.829Z"
   },
   {
    "duration": 22,
    "start_time": "2022-09-27T16:23:28.834Z"
   },
   {
    "duration": 20,
    "start_time": "2022-09-27T16:23:28.858Z"
   },
   {
    "duration": 25,
    "start_time": "2022-09-27T16:23:28.880Z"
   },
   {
    "duration": 263,
    "start_time": "2022-09-27T16:23:28.907Z"
   },
   {
    "duration": 419,
    "start_time": "2022-09-27T16:23:29.172Z"
   },
   {
    "duration": 48,
    "start_time": "2022-09-27T16:23:29.593Z"
   },
   {
    "duration": 4,
    "start_time": "2022-09-27T16:23:29.643Z"
   },
   {
    "duration": 97,
    "start_time": "2022-09-27T16:23:29.649Z"
   },
   {
    "duration": 49,
    "start_time": "2022-09-27T16:23:29.748Z"
   },
   {
    "duration": 5,
    "start_time": "2022-09-27T16:23:29.798Z"
   },
   {
    "duration": 100,
    "start_time": "2022-09-27T16:23:29.822Z"
   },
   {
    "duration": 3,
    "start_time": "2022-09-27T16:23:29.924Z"
   },
   {
    "duration": 7685,
    "start_time": "2022-09-27T16:23:29.929Z"
   },
   {
    "duration": 979,
    "start_time": "2022-09-27T16:23:37.617Z"
   },
   {
    "duration": 30,
    "start_time": "2022-09-27T16:23:38.598Z"
   },
   {
    "duration": 69,
    "start_time": "2022-09-27T16:23:38.633Z"
   },
   {
    "duration": 141,
    "start_time": "2022-09-27T16:23:38.704Z"
   },
   {
    "duration": 42,
    "start_time": "2022-09-27T16:23:38.848Z"
   },
   {
    "duration": 90,
    "start_time": "2022-09-27T16:23:38.891Z"
   },
   {
    "duration": 6,
    "start_time": "2022-09-27T16:23:38.982Z"
   },
   {
    "duration": 38,
    "start_time": "2022-09-27T16:23:38.990Z"
   },
   {
    "duration": 24,
    "start_time": "2022-09-27T16:23:39.030Z"
   },
   {
    "duration": 20,
    "start_time": "2022-09-27T16:23:39.056Z"
   },
   {
    "duration": 31,
    "start_time": "2022-09-27T16:23:39.078Z"
   },
   {
    "duration": 36,
    "start_time": "2022-09-27T16:23:39.111Z"
   },
   {
    "duration": 19,
    "start_time": "2022-09-27T16:23:39.149Z"
   },
   {
    "duration": 18,
    "start_time": "2022-09-27T16:23:39.171Z"
   },
   {
    "duration": 17,
    "start_time": "2022-09-27T16:23:39.191Z"
   },
   {
    "duration": 18,
    "start_time": "2022-09-27T16:23:39.210Z"
   },
   {
    "duration": 14,
    "start_time": "2022-09-27T16:23:39.230Z"
   },
   {
    "duration": 1145,
    "start_time": "2022-09-27T16:24:51.607Z"
   },
   {
    "duration": 148,
    "start_time": "2022-09-27T16:24:52.754Z"
   },
   {
    "duration": 3,
    "start_time": "2022-09-27T16:24:52.904Z"
   },
   {
    "duration": 25,
    "start_time": "2022-09-27T16:24:52.910Z"
   },
   {
    "duration": 3,
    "start_time": "2022-09-27T16:24:52.937Z"
   },
   {
    "duration": 60,
    "start_time": "2022-09-27T16:24:52.942Z"
   },
   {
    "duration": 83,
    "start_time": "2022-09-27T16:24:53.004Z"
   },
   {
    "duration": 7,
    "start_time": "2022-09-27T16:24:53.088Z"
   },
   {
    "duration": 73,
    "start_time": "2022-09-27T16:24:53.096Z"
   },
   {
    "duration": 5,
    "start_time": "2022-09-27T16:24:53.171Z"
   },
   {
    "duration": 107,
    "start_time": "2022-09-27T16:24:53.177Z"
   },
   {
    "duration": 3,
    "start_time": "2022-09-27T16:24:53.286Z"
   },
   {
    "duration": 16,
    "start_time": "2022-09-27T16:24:53.290Z"
   },
   {
    "duration": 18,
    "start_time": "2022-09-27T16:24:53.308Z"
   },
   {
    "duration": 21,
    "start_time": "2022-09-27T16:24:53.328Z"
   },
   {
    "duration": 284,
    "start_time": "2022-09-27T16:24:53.351Z"
   },
   {
    "duration": 324,
    "start_time": "2022-09-27T16:24:53.637Z"
   },
   {
    "duration": 35,
    "start_time": "2022-09-27T16:24:53.963Z"
   },
   {
    "duration": 4,
    "start_time": "2022-09-27T16:24:53.999Z"
   },
   {
    "duration": 92,
    "start_time": "2022-09-27T16:24:54.005Z"
   },
   {
    "duration": 44,
    "start_time": "2022-09-27T16:24:54.099Z"
   },
   {
    "duration": 3,
    "start_time": "2022-09-27T16:24:54.144Z"
   },
   {
    "duration": 94,
    "start_time": "2022-09-27T16:24:54.148Z"
   },
   {
    "duration": 3,
    "start_time": "2022-09-27T16:24:54.243Z"
   },
   {
    "duration": 2212,
    "start_time": "2022-09-27T16:24:54.247Z"
   },
   {
    "duration": 831,
    "start_time": "2022-09-27T16:24:56.461Z"
   },
   {
    "duration": 31,
    "start_time": "2022-09-27T16:24:57.295Z"
   },
   {
    "duration": 63,
    "start_time": "2022-09-27T16:24:57.330Z"
   },
   {
    "duration": 86,
    "start_time": "2022-09-27T16:24:57.395Z"
   },
   {
    "duration": 41,
    "start_time": "2022-09-27T16:24:57.483Z"
   },
   {
    "duration": 68,
    "start_time": "2022-09-27T16:24:57.526Z"
   },
   {
    "duration": 5,
    "start_time": "2022-09-27T16:24:57.622Z"
   },
   {
    "duration": 38,
    "start_time": "2022-09-27T16:24:57.629Z"
   },
   {
    "duration": 33,
    "start_time": "2022-09-27T16:24:57.669Z"
   },
   {
    "duration": 29,
    "start_time": "2022-09-27T16:24:57.704Z"
   },
   {
    "duration": 19,
    "start_time": "2022-09-27T16:24:57.735Z"
   },
   {
    "duration": 35,
    "start_time": "2022-09-27T16:24:57.756Z"
   },
   {
    "duration": 34,
    "start_time": "2022-09-27T16:24:57.793Z"
   },
   {
    "duration": 18,
    "start_time": "2022-09-27T16:24:57.829Z"
   },
   {
    "duration": 46,
    "start_time": "2022-09-27T16:24:57.849Z"
   },
   {
    "duration": 42,
    "start_time": "2022-09-27T16:24:57.897Z"
   },
   {
    "duration": 41,
    "start_time": "2022-09-27T16:24:57.940Z"
   },
   {
    "duration": 1328,
    "start_time": "2022-09-27T16:27:35.502Z"
   },
   {
    "duration": 228,
    "start_time": "2022-09-27T16:27:36.833Z"
   },
   {
    "duration": 6,
    "start_time": "2022-09-27T16:27:37.063Z"
   },
   {
    "duration": 28,
    "start_time": "2022-09-27T16:27:37.072Z"
   },
   {
    "duration": 22,
    "start_time": "2022-09-27T16:27:37.102Z"
   },
   {
    "duration": 90,
    "start_time": "2022-09-27T16:27:37.126Z"
   },
   {
    "duration": 85,
    "start_time": "2022-09-27T16:27:37.218Z"
   },
   {
    "duration": 19,
    "start_time": "2022-09-27T16:27:37.305Z"
   },
   {
    "duration": 85,
    "start_time": "2022-09-27T16:27:37.326Z"
   },
   {
    "duration": 10,
    "start_time": "2022-09-27T16:27:37.425Z"
   },
   {
    "duration": 134,
    "start_time": "2022-09-27T16:27:37.438Z"
   },
   {
    "duration": 3,
    "start_time": "2022-09-27T16:27:37.574Z"
   },
   {
    "duration": 18,
    "start_time": "2022-09-27T16:27:37.579Z"
   },
   {
    "duration": 16,
    "start_time": "2022-09-27T16:27:37.599Z"
   },
   {
    "duration": 6,
    "start_time": "2022-09-27T16:27:37.621Z"
   },
   {
    "duration": 331,
    "start_time": "2022-09-27T16:27:37.629Z"
   },
   {
    "duration": 441,
    "start_time": "2022-09-27T16:27:37.962Z"
   },
   {
    "duration": 52,
    "start_time": "2022-09-27T16:27:38.405Z"
   },
   {
    "duration": 4,
    "start_time": "2022-09-27T16:27:38.459Z"
   },
   {
    "duration": 128,
    "start_time": "2022-09-27T16:27:38.465Z"
   },
   {
    "duration": 64,
    "start_time": "2022-09-27T16:27:38.595Z"
   },
   {
    "duration": 7,
    "start_time": "2022-09-27T16:27:38.661Z"
   },
   {
    "duration": 93,
    "start_time": "2022-09-27T16:27:38.670Z"
   },
   {
    "duration": 4,
    "start_time": "2022-09-27T16:27:38.764Z"
   },
   {
    "duration": 2471,
    "start_time": "2022-09-27T16:27:38.769Z"
   },
   {
    "duration": 921,
    "start_time": "2022-09-27T16:27:41.242Z"
   },
   {
    "duration": 19,
    "start_time": "2022-09-27T16:27:42.166Z"
   },
   {
    "duration": 73,
    "start_time": "2022-09-27T16:27:42.189Z"
   },
   {
    "duration": 114,
    "start_time": "2022-09-27T16:27:42.264Z"
   },
   {
    "duration": 49,
    "start_time": "2022-09-27T16:27:42.380Z"
   },
   {
    "duration": 116,
    "start_time": "2022-09-27T16:27:42.431Z"
   },
   {
    "duration": 6,
    "start_time": "2022-09-27T16:27:42.549Z"
   },
   {
    "duration": 21,
    "start_time": "2022-09-27T16:27:42.557Z"
   },
   {
    "duration": 7,
    "start_time": "2022-09-27T16:27:42.579Z"
   },
   {
    "duration": 41,
    "start_time": "2022-09-27T16:27:42.587Z"
   },
   {
    "duration": 11,
    "start_time": "2022-09-27T16:27:42.630Z"
   },
   {
    "duration": 12,
    "start_time": "2022-09-27T16:27:42.643Z"
   },
   {
    "duration": 9,
    "start_time": "2022-09-27T16:27:42.656Z"
   },
   {
    "duration": 4,
    "start_time": "2022-09-27T16:27:42.667Z"
   },
   {
    "duration": 60,
    "start_time": "2022-09-27T16:27:42.673Z"
   },
   {
    "duration": 10,
    "start_time": "2022-09-27T16:27:42.735Z"
   },
   {
    "duration": 12,
    "start_time": "2022-09-27T16:27:42.747Z"
   }
  ],
  "kernelspec": {
   "display_name": "Python 3 (ipykernel)",
   "language": "python",
   "name": "python3"
  },
  "language_info": {
   "codemirror_mode": {
    "name": "ipython",
    "version": 3
   },
   "file_extension": ".py",
   "mimetype": "text/x-python",
   "name": "python",
   "nbconvert_exporter": "python",
   "pygments_lexer": "ipython3",
   "version": "3.9.5"
  },
  "toc": {
   "base_numbering": "",
   "nav_menu": {},
   "number_sections": false,
   "sideBar": true,
   "skip_h1_title": false,
   "title_cell": "Содержание:",
   "title_sidebar": "Contents",
   "toc_cell": true,
   "toc_position": {},
   "toc_section_display": true,
   "toc_window_display": true
  }
 },
 "nbformat": 4,
 "nbformat_minor": 5
}
